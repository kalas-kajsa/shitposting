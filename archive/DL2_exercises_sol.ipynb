{
 "cells": [
  {
   "cell_type": "code",
   "execution_count": 1,
   "metadata": {
    "id": "LAdqL4oUfsWm"
   },
   "outputs": [],
   "source": [
    "import numpy as np\n",
    "import tensorflow.keras as nn # we are calling keras nn now\n",
    "import matplotlib.pyplot as plt\n",
    "import time\n",
    "import pandas as pd\n",
    "def legend_out(): # Helper function for putting legend outside the plot\n",
    "  plt.legend(bbox_to_anchor=(1.05, 1), loc='upper left')\n",
    "from tensorflow.keras.backend import clear_session\n",
    "\n",
    "def plot_history(history): ## Helper function for plotting validation and training loss\n",
    "  loss = history.history['loss']  \n",
    "  val_loss = history.history['val_loss']  \n",
    "  plt.plot(loss,label='training loss')\n",
    "  plt.plot(val_loss,label='validation loss')\n",
    "  legend_out()"
   ]
  },
  {
   "cell_type": "code",
   "execution_count": null,
   "metadata": {
    "id": "4ybS8bayk7TX"
   },
   "outputs": [],
   "source": []
  },
  {
   "cell_type": "markdown",
   "metadata": {
    "id": "lcT5C1qCk-OJ"
   },
   "source": [
    "### Multi-class prediction\n",
    "When setting up the training neural nets you need to decide a loss function. In the most standard cases (regression, binary classification, multiclass, and multilabel classification), but keras can naturally extended for multitask learning with multiple combined losses.\n",
    "\n",
    "| Task       | Regression | Binary Classification | Multiclass classification  | Multilabel classificcation |\n",
    "|------------|------------|-----------------------|----------------------------|----------------------------|\n",
    "| Keras Loss | 'mse'      | 'binary crossentropy' | 'categorical crossentropy' | 'binary crossentropy'      |\n",
    "\n",
    "\n",
    "In the previous exercise set you classified mnist digits 0 and 8. \n",
    "Now we use all of the MNIST data (i.e. all numbers from 0-9) in our classification. In the following, you should use the functional API. \n",
    "\n",
    "We have prepared the data for you below. Notice how the labels are transformed using Keras' `to_categorical` function. This tranformation is also called one-hot encoding. When predicting labels in the multiclass setting, we will predict a probability for each of the 10 labels rather than preciting a single value between 0 and 8 as we did in the binary (2-class) case. If you wanted, you could also have represented the binary labels as categorical labels earlier."
   ]
  },
  {
   "cell_type": "code",
   "execution_count": null,
   "metadata": {
    "colab": {
     "base_uri": "https://localhost:8080/"
    },
    "id": "PEXsiT2ok9Yz",
    "outputId": "28ba3616-4a97-4cdf-b072-2935a4831f38"
   },
   "outputs": [
    {
     "name": "stdout",
     "output_type": "stream",
     "text": [
      "Downloading data from https://storage.googleapis.com/tensorflow/tf-keras-datasets/mnist.npz\n",
      "11493376/11490434 [==============================] - 0s 0us/step\n",
      "First 10 labels BEFORE making them explicitly categorical: \n",
      " [5 0 4 1 9]\n",
      "First 10 labels AFTER making them explicitly categorical: \n",
      " [[0. 0. 0. 0. 0. 1. 0. 0. 0. 0.]\n",
      " [1. 0. 0. 0. 0. 0. 0. 0. 0. 0.]\n",
      " [0. 0. 0. 0. 1. 0. 0. 0. 0. 0.]\n",
      " [0. 1. 0. 0. 0. 0. 0. 0. 0. 0.]\n",
      " [0. 0. 0. 0. 0. 0. 0. 0. 0. 1.]]\n"
     ]
    }
   ],
   "source": [
    "# Prepare data\n",
    "\n",
    "(x_train, y_train), (x_test, y_test) = nn.datasets.mnist.load_data()\n",
    "# Scale images to the [0, 1] range\n",
    "x_train = x_train.astype(\"float32\") / 255\n",
    "x_test = x_test.astype(\"float32\") / 255\n",
    "\n",
    "x_train_multi = x_train.reshape((-1, 784)) # flattening the matrices in X and otherwise using all the original data\n",
    "x_test_multi = x_test.reshape((-1, 784))\n",
    "\n",
    "y_train_multi =  nn.utils.to_categorical(y_train , num_classes=10)\n",
    "y_test_multi = nn.utils.to_categorical(y_test , num_classes=10)\n",
    "print(\"First 10 labels BEFORE making them explicitly categorical: \\n\",y_train[:5])\n",
    "print(\"First 10 labels AFTER making them explicitly categorical: \\n\",y_train_multi[:5])"
   ]
  },
  {
   "cell_type": "markdown",
   "metadata": {
    "id": "7teBKVMmojMr"
   },
   "source": [
    "**3.1**: Make a function that trains and evaluates a model. We have made a skeleton for you below in which you should fill in the blanks by following these steps:\n",
    "- We want the function to work for data with multiple classes and therefore we can neither use the loss function \"binary cross-entropy\" nor the evaluation metric \"binary_accuracy\" in `compile` as we have done previously. Search the Keras documentation (https://keras.io/guides/) to find the *categorical* counterpart to the cross-entropy loss function and the accuracy metric. You can add more evaluation metrics if you find something in the documentation you think could be useful. If you use more than one metric, pass them to the argument in a list, i.e. `metrics=[\"metric1\", \"metric2\"]`.\n",
    "\n",
    "- We want to be able to change the learning rate (a parameter for the `optimizer`) instead of using the default value. Define you optimizer outside of `compile` to be able to explicitly set the learning rate, in the same way as they do in the very top example of this page: https://keras.io/api/optimizers/. So far we have used the SGD optimizer. You can use this again or you can use any of the other seven optimizers currently available in Keras.\n",
    "\n",
    "- Instead of giving validation data to `fit`, use the parameter validation_split and set it such that 50% of the training data is used for validation. Also in `fit`, define the parameters `epochs` and `batch_size` such that you can change the value when calling your `train_test` function.\n",
    "\n",
    "- Your function should make a plot of loss and validation accuracy over the chosen number of epochs. Lastly, it should also return the predictions over X_test_multi.\n",
    "\n"
   ]
  },
  {
   "cell_type": "code",
   "execution_count": null,
   "metadata": {
    "id": "qqyssIyZoibL"
   },
   "outputs": [],
   "source": [
    "def train_test(modelname, lr=0.001, epochs=10, batch_size=64):\n",
    "    model = modelname\n",
    "\n",
    "    #define optimizer with learning_rate=lr\n",
    "    opt = ...\n",
    "\n",
    "    # compile\n",
    "    model.compile(...)\n",
    "    \n",
    "    # fit\n",
    "    history = ...\n",
    "\n",
    "    # predict\n",
    "    ...\n",
    "\n",
    "    # evaluate\n",
    "    loss_and_eval_scores = ...\n",
    "\n",
    "    # plot loss and validation accuracy\n",
    "    ...\n",
    "\n",
    "\n",
    "    return predictions, loss_and_eval_scores"
   ]
  },
  {
   "cell_type": "code",
   "execution_count": null,
   "metadata": {
    "id": "eaX3vVEOor8j"
   },
   "outputs": [],
   "source": [
    "# solution\n",
    "def train_test(modelname, lr=0.001, epochs=10, batch_size=64):\n",
    "    model = modelname\n",
    "\n",
    "    opt = nn.optimizers.SGD(learning_rate=lr)\n",
    "    #You can change the optimizer if you want. There are many to choose from. Adam is a popular choice:\n",
    "    #opt = keras.optimizers.Adam(learning_rate=lr) \n",
    "\n",
    "    model.compile(optimizer=opt, loss='categorical_crossentropy', metrics=[\"AUC\", \"categorical_accuracy\"])\n",
    "    \n",
    "    history = model.fit(x_train_multi, y_train_multi, epochs=epochs, validation_split=0.5, batch_size=batch_size)\n",
    "\n",
    "    predictions = model.predict(x_test_multi)\n",
    "\n",
    "    loss_and_eval_scores = model.evaluate(x_test_multi,y_test_multi)\n",
    "\n",
    "    plt.plot(history.history['loss'], label=\"loss\")\n",
    "    plt.plot(history.history['val_categorical_accuracy'], label=\"accuracy\")\n",
    "    plt.legend()\n",
    "    \n",
    "    return predictions, loss_and_eval_scores"
   ]
  },
  {
   "cell_type": "markdown",
   "metadata": {
    "id": "fvXMpt9wowRr"
   },
   "source": [
    "**3.2**: Now you just need to define a simple model to use in your train_test function. You can copy paste one of the earlier models or write a new one, but there are at least two things you need to change from the earlier models: \n",
    "- 1. Your activation function: The Sigmoid activation function that we used before outputs one value between between 0 and 1 for each image, however, what we want now is a value (a probability) for each of the 10 possible classes such that the class with the highest probability is the one we will say the image belongs to. The `Softmax` activation function does this for us. \n",
    "- 2. The number of units in the last layer (the output layer): The number of output units should match the number of classes of which we want a probability for.\n",
    "\n",
    "(For an overview of how activation functions and loss functions fit together, see https://www.dlology.com/blog/how-to-choose-last-layer-activation-and-loss-function/ and if you want to know a bit more about the usage of Sigmoid and Softmax in particular, you can go here: https://glassboxmedicine.com/2019/05/26/classification-sigmoid-vs-softmax/)"
   ]
  },
  {
   "cell_type": "code",
   "execution_count": null,
   "metadata": {
    "colab": {
     "base_uri": "https://localhost:8080/",
     "height": 366
    },
    "id": "HdQWbUBXpf6S",
    "outputId": "4edabea6-f01c-4866-93a8-d8adb7779429"
   },
   "outputs": [
    {
     "name": "stdout",
     "output_type": "stream",
     "text": [
      "  % Total    % Received % Xferd  Average Speed   Time    Time     Time  Current\n",
      "                                 Dload  Upload   Total   Spent    Left  Speed\n",
      "100  6961    0  6961    0     0  16773      0 --:--:-- --:--:-- --:--:-- 16773\n"
     ]
    },
    {
     "data": {
      "text/html": [
       "<div>\n",
       "<style scoped>\n",
       "    .dataframe tbody tr th:only-of-type {\n",
       "        vertical-align: middle;\n",
       "    }\n",
       "\n",
       "    .dataframe tbody tr th {\n",
       "        vertical-align: top;\n",
       "    }\n",
       "\n",
       "    .dataframe thead th {\n",
       "        text-align: right;\n",
       "    }\n",
       "</style>\n",
       "<table border=\"1\" class=\"dataframe\">\n",
       "  <thead>\n",
       "    <tr style=\"text-align: right;\">\n",
       "      <th></th>\n",
       "      <th>Problem type</th>\n",
       "      <th>Last-layer activation</th>\n",
       "      <th>Loss function</th>\n",
       "      <th>Example</th>\n",
       "    </tr>\n",
       "  </thead>\n",
       "  <tbody>\n",
       "    <tr>\n",
       "      <th>0</th>\n",
       "      <td>Binary classification</td>\n",
       "      <td>sigmoid</td>\n",
       "      <td>binary_crossentropy</td>\n",
       "      <td>Dog vs cat, Sentiemnt analysis(pos/neg)</td>\n",
       "    </tr>\n",
       "    <tr>\n",
       "      <th>1</th>\n",
       "      <td>Multi-class, single-label classification</td>\n",
       "      <td>softmax</td>\n",
       "      <td>categorical_crossentropy</td>\n",
       "      <td>MNIST has 10 classes single label (one predict...</td>\n",
       "    </tr>\n",
       "    <tr>\n",
       "      <th>2</th>\n",
       "      <td>Multi-class, multi-label classification</td>\n",
       "      <td>sigmoid</td>\n",
       "      <td>binary_crossentropy</td>\n",
       "      <td>News tags classification, one blog can have mu...</td>\n",
       "    </tr>\n",
       "    <tr>\n",
       "      <th>3</th>\n",
       "      <td>Regression to arbitrary values</td>\n",
       "      <td>None</td>\n",
       "      <td>mse</td>\n",
       "      <td>Predict house price(an integer/float point)</td>\n",
       "    </tr>\n",
       "    <tr>\n",
       "      <th>4</th>\n",
       "      <td>Regression to values between 0 and 1</td>\n",
       "      <td>sigmoid</td>\n",
       "      <td>mse or binary_crossentropy</td>\n",
       "      <td>Engine health assessment where 0 is broken, 1 ...</td>\n",
       "    </tr>\n",
       "  </tbody>\n",
       "</table>\n",
       "</div>"
      ],
      "text/plain": [
       "                               Problem type  ...                                            Example\n",
       "0                     Binary classification  ...            Dog vs cat, Sentiemnt analysis(pos/neg)\n",
       "1  Multi-class, single-label classification  ...  MNIST has 10 classes single label (one predict...\n",
       "2   Multi-class, multi-label classification  ...  News tags classification, one blog can have mu...\n",
       "3            Regression to arbitrary values  ...        Predict house price(an integer/float point)\n",
       "4      Regression to values between 0 and 1  ...  Engine health assessment where 0 is broken, 1 ...\n",
       "\n",
       "[5 rows x 4 columns]"
      ]
     },
     "execution_count": 52,
     "metadata": {
      "tags": []
     },
     "output_type": "execute_result"
    }
   ],
   "source": [
    "! curl 'https://www.dlology.com/blog/how-to-choose-last-layer-activation-and-loss-function/' -H 'User-Agent: Mozilla/5.0 (Windows NT 10.0; Win64; x64; rv:88.0) Gecko/20100101 Firefox/88.0' -H 'Accept: text/html,application/xhtml+xml,application/xml;q=0.9,image/webp,*/*;q=0.8' -H 'Accept-Language: da,en-US;q=0.7,en;q=0.3' --compressed -H 'Referer: https://colab.research.google.com/' -H 'Connection: keep-alive' -H 'Cookie: csrftoken=96Sv2AfPZUjxM1WBabBGjtULiUxTsjW94kCNEz17NHUcPuh2jzl1RG71fJH60Soh; _ga=GA1.2.935524512.1620756879; _gid=GA1.2.1006464316.1620756879' -H 'Upgrade-Insecure-Requests: 1' -H 'Cache-Control: max-age=0' -H 'TE: Trailers' > loss.html\n",
    "import pandas as pd\n",
    "pd.read_html('loss.html')[0]"
   ]
  },
  {
   "cell_type": "code",
   "execution_count": null,
   "metadata": {
    "id": "GBErb0rOpIZ9"
   },
   "outputs": [],
   "source": [
    "# your code here"
   ]
  },
  {
   "cell_type": "code",
   "execution_count": null,
   "metadata": {
    "id": "L1o_ALcUot5_"
   },
   "outputs": [],
   "source": [
    "# solution\n",
    "inputs = nn.Input(shape=(784,))\n",
    "x = nn.layers.Dense(64, activation=\"relu\")(inputs)\n",
    "outputs =  nn.layers.Dense(10, activation=\"softmax\")(x)\n",
    "model4 = nn.Model(inputs=inputs, outputs=outputs)"
   ]
  },
  {
   "cell_type": "markdown",
   "metadata": {
    "id": "t2kfMEfDkmj0"
   },
   "source": [
    "# Fitting neural nets \n",
    "This exercise set focus on building good practices around fitting neural networks, this includes using efficient optimizers, monitoring training, adjusting learning rates and batch sizes appropriatly.\n",
    "\n",
    "In standard crossvalidation, we often only split our data into *test* and *train*. However a critical component in neural nets is a third split, into the **validation** data, that is used as a sanity check through out training. \n",
    "\n",
    "Monitoring the performance as the network is trained, allows you to adjust learning strategies, avoid training data overfitting (Early stopping), as well as ensuring that the model is not underfitting. We shall incorporate callbacks and plotting of training logs into our deep learning practice. "
   ]
  },
  {
   "cell_type": "markdown",
   "metadata": {
    "id": "YSQK-_-wkyaf"
   },
   "source": [
    "## Efficient training of neural nets\n",
    "As with any machine learning problem, but in particular with Deep Learning, models should not be evaluated without careful hyperparameter tuning. In deep learning the hyperparameters are many in relation to optimization.\n",
    "\n",
    "In this exercise we shall test out a few strategies for optimization. We shall look for tradeoff between performance and training time. \n",
    "\n",
    "- Testing different variations over gradient descent optimizers.\n",
    "\n",
    "\n",
    "#Exercise: Testing parameters\n",
    "NB: THIS IS NOT A SCIENTIFIC SIMULATION DESIGN\n",
    "- Use the three simulated datasets and perform a search for the best hyperparameters.\n",
    "-  First how many neurons? Test ranges between 1-20.\n",
    "\n",
    "- What optimizer is fastest? \n",
    "  - Use the best parameter for each dataset and test the optimizers.\n",
    "  - Optimizers can be found within the keras.optimizers submodule, and are set during compilation of the model. ```model.compile(optimizer=keras.optimizers.Adam()```)\n",
    "\n",
    "\n",
    "\n",
    "Now you have tried testing number of neurons and optimizers. If you have time try to experiment with:\n",
    "- The batchsize (number of examples pr. update)\n",
    "- The learning rate.\n",
    "- Callbacks (early stopping, adjust learning rates)\n",
    "- Using GPUs (In Colab you can switch runtime to a server with GPU)\n",
    "\n"
   ]
  },
  {
   "cell_type": "code",
   "execution_count": 2,
   "metadata": {
    "colab": {
     "base_uri": "https://localhost:8080/",
     "height": 319
    },
    "id": "6U894k2hqeTK",
    "outputId": "37bafaad-6b86-47bd-a463-c7a82dee8975"
   },
   "outputs": [
    {
     "name": "stderr",
     "output_type": "stream",
     "text": [
      "/usr/local/lib/python3.7/dist-packages/ipykernel_launcher.py:38: DeprecationWarning: scipy.sin is deprecated and will be removed in SciPy 2.0.0, use numpy.sin instead\n"
     ]
    },
    {
     "data": {
      "image/png": "[encoded data removed]",
      "text/plain": [
       "<Figure size 864x288 with 3 Axes>"
      ]
     },
     "metadata": {
      "needs_background": "light",
      "tags": []
     },
     "output_type": "display_data"
    }
   ],
   "source": [
    "\n",
    "#Here we generate 3 datasets, using three functions.\n",
    "#  - linear\n",
    "#  - quadratic\n",
    "#  - A combined function\n",
    "def simulate_data(func,params,n=3000):\n",
    "  \n",
    "  x = np.random.uniform(-2,2,size=n//2)\n",
    "  x2 = np.random.normal(0,3,size=n//2)\n",
    "  x = np.concatenate([x,x2])\n",
    "  y = func(x,**params) \n",
    " \n",
    "  std = y.std()/5\n",
    "\n",
    "  noise = np.random.normal(0,abs(std),size=n) \n",
    "  y = y+noise\n",
    "  #y =+ noise\n",
    "  x_train,y_train,x_val,y_val,x_test,y_test = split_val(x,y)\n",
    "  return x_train,y_train,x_val,y_val,x_test,y_test\n",
    "def linear_func(x,a,b):\n",
    "  return x*a +b\n",
    "def quadratic(x,a,b,c):\n",
    "  return a*x +b*(x**2) +c\n",
    "def get_rmse(y_test,y_pred):\n",
    "  return np.sqrt(sum((y_test-y_pred)**2))\n",
    "\n",
    "def split_val(x,y,shuffle=True):\n",
    "  if shuffle:\n",
    "    idx = np.random.permutation(np.arange(len(x)))\n",
    "    x,y = x[idx],y[idx]\n",
    "  n = len(x)//3\n",
    "  c = []\n",
    "  for i in range(3):\n",
    "    c.append((x[n*i:n*(i+1)],y[n*i:n*(i+1)]))\n",
    "  return c[0][0],c[0][1],c[1][0],c[1][1],c[2][0],c[2][1]\n",
    "import math,scipy\n",
    "def combined(x):\n",
    "  return scipy.sin(-x**2+2*x)\n",
    "\n",
    "\n",
    "def get_default_args(func):\n",
    "    signature = inspect.signature(func)\n",
    "    return {\n",
    "        k: v.default\n",
    "        for k, v in signature.parameters.items()\n",
    "        if v.default is not inspect.Parameter.empty\n",
    "    }\n",
    "\n",
    "def generate_params(func,size=False,dist=np.random.normal,dist_params={'loc':0,'scale':3}):\n",
    "  args =  func.__code__.co_varnames\n",
    "  default = get_default_args(func)\n",
    "  params = {}\n",
    "  for arg in args:\n",
    "    if arg=='x':\n",
    "      continue\n",
    "    if arg in default:\n",
    "      if arg=='x':\n",
    "        continue\n",
    "      v = default[arg]\n",
    "      if type(v)==type(np.array([])):\n",
    "        if size==False:\n",
    "          size = 3\n",
    "        val = np.random.normal(size=size,**dist_params)\n",
    "    else:\n",
    "      val = np.random.normal(**dist_params)\n",
    "    params[arg] = val\n",
    "  return params\n",
    "import inspect\n",
    "\n",
    "funcs = [linear_func,quadratic,combined]\n",
    "datasets = {}\n",
    "n = 3000\n",
    "for func in funcs:\n",
    "  params = generate_params(func)\n",
    "  name = func.__name__\n",
    "  datasets[name] = simulate_data(func,params=params,n=n)\n",
    "fig,axes = plt.subplots(1,3)\n",
    "for num,(name,data) in enumerate(datasets.items()):\n",
    "  ax = axes[num]\n",
    "  x_train,y_train,x_val,y_val,x_test,y_test = data\n",
    "  ax.scatter(x_train,y_train)\n",
    "  ax.set_title(name)\n",
    "#fig.tight_layout()\n",
    "fig.set_size_inches(12,4)"
   ]
  },
  {
   "cell_type": "code",
   "execution_count": null,
   "metadata": {
    "id": "RUgGYiqf9N7s"
   },
   "outputs": [],
   "source": [
    "\n",
    "## First you need to figure out how many neurons you need for each task.\n",
    "def build_1layer(n_units=5,loss='mse'):\n",
    "  \"Model builds and compiles a 1 layer network with n_units\"\n",
    "  # initialize model\n",
    "  \n",
    "  # add layer with n_units\n",
    "  \n",
    "  #compile model with loss\n",
    "  \n",
    "  return model\n",
    "\n",
    "# Here is the earlystopping callback we will use making sure the test is efficient.\n",
    "cb = [nn.callbacks.EarlyStopping(patience=1000)]\n",
    "\n",
    "def get_early_stopping_acc(history,patience=10):\n",
    "  val_loss = history.history['val_loss']\n",
    "  val_loss-val_loss\n",
    "\n",
    "def run_model(data,model,max_epochs=100):\n",
    "  \"Fits models using early stopping callback.\"\n",
    "  t = time.time() # for timing \n",
    "  x_train,y_train,x_val,y_val,x_test,y_test = data # unzip data\n",
    "  # early stop for logging\n",
    "  early_stopping = nn.callbacks.EarlyStopping(patience=5) \n",
    "  history = model.fit(x_train,y_train,validation_data=(x_val,y_val),epochs=max_epochs,callbacks=[early_stopping],verbose=0)\n",
    "  dt = time.time()-t\n",
    "  loss = model.evaluate(x_test,y_test,verbose=0)\n",
    "  return {'t':dt,'loss':loss,'history':history},early_stopping\n",
    "\n",
    "res = []\n",
    "import tqdm\n",
    "for n_units in tqdm.tqdm(range(1,20)):\n",
    "  for name,data in datasets.items():\n",
    "    model = build_1layer(n_units)\n",
    "    d,early_stopping = run_model(data,model)\n",
    "    d['best_val'] = early_stopping.best\n",
    "    d['dataset'] = name\n",
    "    d['n_units'] = n_units\n",
    "    d['epochs'] = len(d['history'].history['loss'])\n",
    "    res.append(d)\n",
    "\n"
   ]
  },
  {
   "cell_type": "code",
   "execution_count": null,
   "metadata": {
    "id": "AAHeJfAj9ytg"
   },
   "outputs": [],
   "source": [
    "# Analyze the results\n",
    "# Initialize dataframe from the res list.\n",
    "# Find the n_units with lowest loss for each dataset (using the groupby and sort function)\n",
    "# Save the best in a dictionary dat2nunits"
   ]
  },
  {
   "cell_type": "code",
   "execution_count": 3,
   "metadata": {
    "colab": {
     "base_uri": "https://localhost:8080/"
    },
    "id": "JBffFn1gqnx_",
    "outputId": "4f5b8b1b-7722-428c-df88-78a7f7a3da9b"
   },
   "outputs": [
    {
     "name": "stderr",
     "output_type": "stream",
     "text": [
      "100%|██████████| 19/19 [04:14<00:00, 13.38s/it]\n"
     ]
    }
   ],
   "source": [
    "## Solution\n",
    "## First you need to figure out how many neurons you need for each task.\n",
    "def build_1layer(n_units=5,loss='mse'):\n",
    "  \"Model builds and compiles a 1 layer network with n_units\"\n",
    "  model = nn.models.Sequential()\n",
    "  model.add(nn.layers.Dense(n_units,activation='relu'))\n",
    "  model.compile(loss=loss)\n",
    "  return model\n",
    "\n",
    "\n",
    "cb = [nn.callbacks.EarlyStopping(patience=1000)]\n",
    "def get_early_stopping_acc(history,patience=10):\n",
    "  val_loss = history.history['val_loss']\n",
    "  val_loss-val_loss\n",
    "\n",
    "\n",
    "def run_model(data,model,max_epochs=100):\n",
    "  \"Fits models using early stopping callback.\"\n",
    "  t = time.time()\n",
    "  x_train,y_train,x_val,y_val,x_test,y_test = data\n",
    "  # early stop for logging\n",
    "  early_stopping = nn.callbacks.EarlyStopping(patience=5)\n",
    "  history = model.fit(x_train,y_train,validation_data=(x_val,y_val),epochs=max_epochs,callbacks=[early_stopping],verbose=0)\n",
    "  dt = time.time()-t\n",
    "  loss = model.evaluate(x_test,y_test,verbose=0)\n",
    "  return {'t':dt,'loss':loss,'history':history},early_stopping\n",
    "\n",
    "\n",
    "res = []\n",
    "import tqdm\n",
    "for n_units in tqdm.tqdm(range(1,20)):\n",
    "  for name,data in datasets.items():\n",
    "    model = build_1layer(n_units)\n",
    "    d,early_stopping = run_model(data,model)\n",
    "    d['best_val'] = early_stopping.best\n",
    "    d['dataset'] = name\n",
    "    d['n_units'] = n_units\n",
    "    d['epochs'] = len(d['history'].history['loss'])\n",
    "    res.append(d)\n",
    "\n"
   ]
  },
  {
   "cell_type": "code",
   "execution_count": 6,
   "metadata": {
    "colab": {
     "base_uri": "https://localhost:8080/",
     "height": 175
    },
    "id": "g_GiHQuUxNGl",
    "outputId": "e9f76128-ca7d-431c-af40-e721b4d4030a"
   },
   "outputs": [
    {
     "data": {
      "text/html": [
       "<div>\n",
       "<style scoped>\n",
       "    .dataframe tbody tr th:only-of-type {\n",
       "        vertical-align: middle;\n",
       "    }\n",
       "\n",
       "    .dataframe tbody tr th {\n",
       "        vertical-align: top;\n",
       "    }\n",
       "\n",
       "    .dataframe thead th {\n",
       "        text-align: right;\n",
       "    }\n",
       "</style>\n",
       "<table border=\"1\" class=\"dataframe\">\n",
       "  <thead>\n",
       "    <tr style=\"text-align: right;\">\n",
       "      <th></th>\n",
       "      <th></th>\n",
       "      <th>t</th>\n",
       "      <th>loss</th>\n",
       "      <th>best_val</th>\n",
       "      <th>dataset</th>\n",
       "      <th>n_units</th>\n",
       "      <th>epochs</th>\n",
       "    </tr>\n",
       "    <tr>\n",
       "      <th>dataset</th>\n",
       "      <th></th>\n",
       "      <th></th>\n",
       "      <th></th>\n",
       "      <th></th>\n",
       "      <th></th>\n",
       "      <th></th>\n",
       "      <th></th>\n",
       "    </tr>\n",
       "  </thead>\n",
       "  <tbody>\n",
       "    <tr>\n",
       "      <th>combined</th>\n",
       "      <th>17</th>\n",
       "      <td>3.380299</td>\n",
       "      <td>0.472496</td>\n",
       "      <td>0.472646</td>\n",
       "      <td>combined</td>\n",
       "      <td>6</td>\n",
       "      <td>41</td>\n",
       "    </tr>\n",
       "    <tr>\n",
       "      <th>linear_func</th>\n",
       "      <th>12</th>\n",
       "      <td>6.559902</td>\n",
       "      <td>4.797547</td>\n",
       "      <td>4.517422</td>\n",
       "      <td>linear_func</td>\n",
       "      <td>5</td>\n",
       "      <td>81</td>\n",
       "    </tr>\n",
       "    <tr>\n",
       "      <th>quadratic</th>\n",
       "      <th>34</th>\n",
       "      <td>2.999655</td>\n",
       "      <td>538.244629</td>\n",
       "      <td>718.216675</td>\n",
       "      <td>quadratic</td>\n",
       "      <td>12</td>\n",
       "      <td>33</td>\n",
       "    </tr>\n",
       "  </tbody>\n",
       "</table>\n",
       "</div>"
      ],
      "text/plain": [
       "                       t        loss    best_val      dataset  n_units  epochs\n",
       "dataset                                                                       \n",
       "combined    17  3.380299    0.472496    0.472646     combined        6      41\n",
       "linear_func 12  6.559902    4.797547    4.517422  linear_func        5      81\n",
       "quadratic   34  2.999655  538.244629  718.216675    quadratic       12      33"
      ]
     },
     "execution_count": 6,
     "metadata": {
      "tags": []
     },
     "output_type": "execute_result"
    }
   ],
   "source": [
    "## Solution\n",
    "df_res = pd.DataFrame(res).sort_values('loss').drop('history',axis=1)\n",
    "\n",
    "dat2nunits = dict(df_res.groupby('dataset').apply(lambda x:x.sort_values('loss').head(1))[['dataset','n_units']].values)\n",
    "df_res.groupby('dataset').apply(lambda x:x.sort_values('loss').head(1))\n",
    "\n"
   ]
  },
  {
   "cell_type": "code",
   "execution_count": null,
   "metadata": {
    "id": "kMVlcIU_4W-p"
   },
   "outputs": [],
   "source": [
    "def build_1layer(n_units=5,loss='mse',opt=nn.optimizers.Adam):\n",
    "  \"Model builds and compiles a 1 layer network with n_units and a specified optimizer\"\n",
    "  \n",
    "  # initizalize model\n",
    "  # add layer nunits\n",
    "  # compile model with optimizer opt.\n",
    "  return model"
   ]
  },
  {
   "cell_type": "code",
   "execution_count": 7,
   "metadata": {
    "id": "cr5iJ-vl-2FU"
   },
   "outputs": [],
   "source": [
    "# Solution\n",
    "def build_1layer(n_units=5,loss='mse',opt=nn.optimizers.Adam):\n",
    "  \"Model builds and compiles a 1 layer network with n_units and a specified optimizer\"\n",
    "  \n",
    "  model = nn.models.Sequential() # initizalize model\n",
    "  model.add(nn.layers.Dense(n_units,activation='relu')) # add layer nunits\n",
    "  model.compile(loss=loss,optimizer=opt()) # compile model with optimizer opt.\n",
    "  return model"
   ]
  },
  {
   "cell_type": "code",
   "execution_count": 8,
   "metadata": {
    "colab": {
     "base_uri": "https://localhost:8080/"
    },
    "id": "dv7L2L9I1sXm",
    "outputId": "6fb80558-4c89-4d61-a895-954618b79637"
   },
   "outputs": [
    {
     "name": "stderr",
     "output_type": "stream",
     "text": [
      "\r",
      "  0%|          | 0/8 [00:00<?, ?it/s]"
     ]
    },
    {
     "name": "stdout",
     "output_type": "stream",
     "text": [
      "Adadelta\n"
     ]
    },
    {
     "name": "stderr",
     "output_type": "stream",
     "text": [
      "\r",
      " 12%|█▎        | 1/8 [00:23<02:44, 23.50s/it]"
     ]
    },
    {
     "name": "stdout",
     "output_type": "stream",
     "text": [
      "Adagrad\n"
     ]
    },
    {
     "name": "stderr",
     "output_type": "stream",
     "text": [
      "\r",
      " 25%|██▌       | 2/8 [00:47<02:21, 23.57s/it]"
     ]
    },
    {
     "name": "stdout",
     "output_type": "stream",
     "text": [
      "Adam\n"
     ]
    },
    {
     "name": "stderr",
     "output_type": "stream",
     "text": [
      "\r",
      " 38%|███▊      | 3/8 [01:04<01:48, 21.71s/it]"
     ]
    },
    {
     "name": "stdout",
     "output_type": "stream",
     "text": [
      "Adamax\n"
     ]
    },
    {
     "name": "stderr",
     "output_type": "stream",
     "text": [
      "\r",
      " 50%|█████     | 4/8 [01:28<01:29, 22.44s/it]"
     ]
    },
    {
     "name": "stdout",
     "output_type": "stream",
     "text": [
      "Ftrl\n"
     ]
    },
    {
     "name": "stderr",
     "output_type": "stream",
     "text": [
      "\r",
      " 62%|██████▎   | 5/8 [01:52<01:08, 22.88s/it]"
     ]
    },
    {
     "name": "stdout",
     "output_type": "stream",
     "text": [
      "SGD\n"
     ]
    },
    {
     "name": "stderr",
     "output_type": "stream",
     "text": [
      "\r",
      " 75%|███████▌  | 6/8 [02:04<00:39, 19.58s/it]"
     ]
    },
    {
     "name": "stdout",
     "output_type": "stream",
     "text": [
      "Nadam\n"
     ]
    },
    {
     "name": "stderr",
     "output_type": "stream",
     "text": [
      "\r",
      " 88%|████████▊ | 7/8 [02:24<00:19, 19.70s/it]"
     ]
    },
    {
     "name": "stdout",
     "output_type": "stream",
     "text": [
      "RMSprop\n"
     ]
    },
    {
     "name": "stderr",
     "output_type": "stream",
     "text": [
      "100%|██████████| 8/8 [02:37<00:00, 19.64s/it]\n"
     ]
    }
   ],
   "source": [
    "\n",
    "# Compile dictionary of optimizers\n",
    "optimizers = {}\n",
    "for name, val in nn.optimizers.__dict__.items(): # iterate through every module's attributes\n",
    "  if callable(val):\t\t\t\t\t  # check if callable (normally functions)\n",
    "    if not name[0].isupper():\n",
    "      continue\n",
    "    if 'Optimizer' == name:\t\n",
    "      continue\n",
    "\n",
    "    optimizers[name] = val\n",
    "\n",
    "res_opt = []\n",
    "for opt_name,opt in tqdm.tqdm(optimizers.items()):\n",
    "  print(opt_name)\n",
    "  for name,data in datasets.items():\n",
    "    n_units = dat2nunits[name]\n",
    "    model = build_1layer(n_units,opt=opt)\n",
    "    d,early_stopping = run_model(data,model)\n",
    "    d['best_val'] = early_stopping.best\n",
    "    d['dataset'] = name\n",
    "    d['n_units'] = n_units\n",
    "    d['opt'] = opt_name\n",
    "    d['epochs'] = len(d['history'].history['loss'])\n",
    "    res_opt.append(d)\n"
   ]
  },
  {
   "cell_type": "code",
   "execution_count": null,
   "metadata": {
    "colab": {
     "base_uri": "https://localhost:8080/",
     "height": 834
    },
    "id": "YoxinLzp6eyu",
    "outputId": "1e10a6dd-bc2a-4b24-b39f-462886c2fab7"
   },
   "outputs": [
    {
     "data": {
      "text/html": [
       "<div>\n",
       "<style scoped>\n",
       "    .dataframe tbody tr th:only-of-type {\n",
       "        vertical-align: middle;\n",
       "    }\n",
       "\n",
       "    .dataframe tbody tr th {\n",
       "        vertical-align: top;\n",
       "    }\n",
       "\n",
       "    .dataframe thead th {\n",
       "        text-align: right;\n",
       "    }\n",
       "</style>\n",
       "<table border=\"1\" class=\"dataframe\">\n",
       "  <thead>\n",
       "    <tr style=\"text-align: right;\">\n",
       "      <th></th>\n",
       "      <th></th>\n",
       "      <th></th>\n",
       "      <th>t</th>\n",
       "      <th>loss</th>\n",
       "    </tr>\n",
       "    <tr>\n",
       "      <th>dataset</th>\n",
       "      <th>opt</th>\n",
       "      <th></th>\n",
       "      <th></th>\n",
       "      <th></th>\n",
       "    </tr>\n",
       "  </thead>\n",
       "  <tbody>\n",
       "    <tr>\n",
       "      <th rowspan=\"8\" valign=\"top\">combined</th>\n",
       "      <th>Adadelta</th>\n",
       "      <th>2</th>\n",
       "      <td>9.261296</td>\n",
       "      <td>0.955653</td>\n",
       "    </tr>\n",
       "    <tr>\n",
       "      <th>Adagrad</th>\n",
       "      <th>5</th>\n",
       "      <td>9.319892</td>\n",
       "      <td>0.756099</td>\n",
       "    </tr>\n",
       "    <tr>\n",
       "      <th>Adam</th>\n",
       "      <th>8</th>\n",
       "      <td>4.684518</td>\n",
       "      <td>0.455121</td>\n",
       "    </tr>\n",
       "    <tr>\n",
       "      <th>Adamax</th>\n",
       "      <th>11</th>\n",
       "      <td>9.373123</td>\n",
       "      <td>0.467913</td>\n",
       "    </tr>\n",
       "    <tr>\n",
       "      <th>Ftrl</th>\n",
       "      <th>14</th>\n",
       "      <td>9.176316</td>\n",
       "      <td>0.464234</td>\n",
       "    </tr>\n",
       "    <tr>\n",
       "      <th>Nadam</th>\n",
       "      <th>20</th>\n",
       "      <td>6.927424</td>\n",
       "      <td>0.458335</td>\n",
       "    </tr>\n",
       "    <tr>\n",
       "      <th>RMSprop</th>\n",
       "      <th>23</th>\n",
       "      <td>2.642314</td>\n",
       "      <td>0.454394</td>\n",
       "    </tr>\n",
       "    <tr>\n",
       "      <th>SGD</th>\n",
       "      <th>17</th>\n",
       "      <td>4.084139</td>\n",
       "      <td>0.457917</td>\n",
       "    </tr>\n",
       "    <tr>\n",
       "      <th rowspan=\"8\" valign=\"top\">linear_func</th>\n",
       "      <th>Adadelta</th>\n",
       "      <th>0</th>\n",
       "      <td>9.245481</td>\n",
       "      <td>51.848541</td>\n",
       "    </tr>\n",
       "    <tr>\n",
       "      <th>Adagrad</th>\n",
       "      <th>3</th>\n",
       "      <td>9.077489</td>\n",
       "      <td>71.184921</td>\n",
       "    </tr>\n",
       "    <tr>\n",
       "      <th>Adam</th>\n",
       "      <th>6</th>\n",
       "      <td>1.290711</td>\n",
       "      <td>63.117748</td>\n",
       "    </tr>\n",
       "    <tr>\n",
       "      <th>Adamax</th>\n",
       "      <th>9</th>\n",
       "      <td>9.152010</td>\n",
       "      <td>49.053856</td>\n",
       "    </tr>\n",
       "    <tr>\n",
       "      <th>Ftrl</th>\n",
       "      <th>12</th>\n",
       "      <td>9.251745</td>\n",
       "      <td>57.400791</td>\n",
       "    </tr>\n",
       "    <tr>\n",
       "      <th>Nadam</th>\n",
       "      <th>18</th>\n",
       "      <td>8.552227</td>\n",
       "      <td>63.164375</td>\n",
       "    </tr>\n",
       "    <tr>\n",
       "      <th>RMSprop</th>\n",
       "      <th>21</th>\n",
       "      <td>6.451689</td>\n",
       "      <td>63.172039</td>\n",
       "    </tr>\n",
       "    <tr>\n",
       "      <th>SGD</th>\n",
       "      <th>15</th>\n",
       "      <td>4.283856</td>\n",
       "      <td>41.993038</td>\n",
       "    </tr>\n",
       "    <tr>\n",
       "      <th rowspan=\"8\" valign=\"top\">quadratic</th>\n",
       "      <th>Adadelta</th>\n",
       "      <th>1</th>\n",
       "      <td>9.370794</td>\n",
       "      <td>1833.365112</td>\n",
       "    </tr>\n",
       "    <tr>\n",
       "      <th>Adagrad</th>\n",
       "      <th>4</th>\n",
       "      <td>9.285884</td>\n",
       "      <td>1817.421265</td>\n",
       "    </tr>\n",
       "    <tr>\n",
       "      <th>Adam</th>\n",
       "      <th>7</th>\n",
       "      <td>3.996547</td>\n",
       "      <td>1787.194092</td>\n",
       "    </tr>\n",
       "    <tr>\n",
       "      <th>Adamax</th>\n",
       "      <th>10</th>\n",
       "      <td>9.318647</td>\n",
       "      <td>1787.197144</td>\n",
       "    </tr>\n",
       "    <tr>\n",
       "      <th>Ftrl</th>\n",
       "      <th>13</th>\n",
       "      <td>9.318226</td>\n",
       "      <td>1819.789551</td>\n",
       "    </tr>\n",
       "    <tr>\n",
       "      <th>Nadam</th>\n",
       "      <th>19</th>\n",
       "      <td>4.611076</td>\n",
       "      <td>1787.194092</td>\n",
       "    </tr>\n",
       "    <tr>\n",
       "      <th>RMSprop</th>\n",
       "      <th>22</th>\n",
       "      <td>3.423604</td>\n",
       "      <td>1787.194092</td>\n",
       "    </tr>\n",
       "    <tr>\n",
       "      <th>SGD</th>\n",
       "      <th>16</th>\n",
       "      <td>0.978320</td>\n",
       "      <td>1787.194092</td>\n",
       "    </tr>\n",
       "  </tbody>\n",
       "</table>\n",
       "</div>"
      ],
      "text/plain": [
       "                                t         loss\n",
       "dataset     opt                               \n",
       "combined    Adadelta 2   9.261296     0.955653\n",
       "            Adagrad  5   9.319892     0.756099\n",
       "            Adam     8   4.684518     0.455121\n",
       "            Adamax   11  9.373123     0.467913\n",
       "            Ftrl     14  9.176316     0.464234\n",
       "            Nadam    20  6.927424     0.458335\n",
       "            RMSprop  23  2.642314     0.454394\n",
       "            SGD      17  4.084139     0.457917\n",
       "linear_func Adadelta 0   9.245481    51.848541\n",
       "            Adagrad  3   9.077489    71.184921\n",
       "            Adam     6   1.290711    63.117748\n",
       "            Adamax   9   9.152010    49.053856\n",
       "            Ftrl     12  9.251745    57.400791\n",
       "            Nadam    18  8.552227    63.164375\n",
       "            RMSprop  21  6.451689    63.172039\n",
       "            SGD      15  4.283856    41.993038\n",
       "quadratic   Adadelta 1   9.370794  1833.365112\n",
       "            Adagrad  4   9.285884  1817.421265\n",
       "            Adam     7   3.996547  1787.194092\n",
       "            Adamax   10  9.318647  1787.197144\n",
       "            Ftrl     13  9.318226  1819.789551\n",
       "            Nadam    19  4.611076  1787.194092\n",
       "            RMSprop  22  3.423604  1787.194092\n",
       "            SGD      16  0.978320  1787.194092"
      ]
     },
     "execution_count": 105,
     "metadata": {
      "tags": []
     },
     "output_type": "execute_result"
    }
   ],
   "source": [
    "pd.DataFrame(res_opt).groupby(['dataset','opt']).apply(lambda x:x.sort_values('loss').head(1))[['t','loss']]"
   ]
  },
  {
   "cell_type": "markdown",
   "metadata": {
    "id": "cuUqCYrZ74Tb"
   },
   "source": [
    "## ANS\n",
    "In terms of efficiency Adam seems to perform best accross tasks. Also good in terms of performance besides the linear_function dataset."
   ]
  },
  {
   "cell_type": "markdown",
   "metadata": {
    "id": "ftv6H1Mpev6S"
   },
   "source": [
    "### Overfitting and regularization"
   ]
  },
  {
   "cell_type": "markdown",
   "metadata": {
    "id": "Za3aECggev6S"
   },
   "source": [
    "When a model *overfits* it means that it memorizes the outcomes for each training data point rather than general patterns.\n",
    "Thus an overfitted model will score extremely well on the training data but poorly on new unseen data. \n",
    "In general, the more flexible a model is the easier it will overfit, and for this reason neural networks are notorious overfitters.\n",
    "Broadly speaking, the way to combat this is to *regularize* the network."
   ]
  },
  {
   "cell_type": "markdown",
   "metadata": {
    "id": "uAWuM0F4ev6S"
   },
   "source": [
    "> **Ex. 4.2.1** To understand overfitting, we overfit some data! Let's fit a neural network to data that has no inherent patterns: *noise*."
   ]
  },
  {
   "cell_type": "code",
   "execution_count": null,
   "metadata": {
    "ExecuteTime": {
     "end_time": "2020-02-26T07:21:54.469516Z",
     "start_time": "2020-02-26T07:21:54.287847Z"
    },
    "colab": {
     "base_uri": "https://localhost:8080/",
     "height": 284
    },
    "id": "l8nsfAQqev6T",
    "outputId": "0525dcd8-31cc-40e9-f7cd-62320a5e17bb"
   },
   "outputs": [
    {
     "data": {
      "text/plain": [
       "<matplotlib.collections.PathCollection at 0x7ff56a9664d0>"
      ]
     },
     "execution_count": 73,
     "metadata": {
      "tags": []
     },
     "output_type": "execute_result"
    },
    {
     "data": {
      "image/png": "[encoded data removed]",
      "text/plain": [
       "<Figure size 432x288 with 1 Axes>"
      ]
     },
     "metadata": {
      "needs_background": "light",
      "tags": []
     },
     "output_type": "display_data"
    }
   ],
   "source": [
    "# Generate some data-points\n",
    "x = np.random.random(size=(50, 2))\n",
    "x_val = np.random.random(size=(50, 2))\n",
    "# And some random outcomes\n",
    "y = np.random.randint(0, 2, size=(50, ))\n",
    "y_val = np.random.randint(0, 2, size=(50, ))\n",
    "# Plot it\n",
    "plt.scatter(x[:, 0], x[:, 1], c=y)"
   ]
  },
  {
   "cell_type": "markdown",
   "metadata": {
    "ExecuteTime": {
     "end_time": "2019-09-23T20:41:33.645158Z",
     "start_time": "2019-09-23T20:41:33.333649Z"
    },
    "id": "ZVaXgt_0ev6T"
   },
   "source": [
    "> Now, create a network that attains an accuracy score over 80% in predicting which points are class 0 and which are class 1.\n",
    ">\n",
    "> *Hint*: The bigger the network, the bigger the overfitting.\n",
    "\n",
    "Plot the training loss and validation loss curve. What does that tell you?"
   ]
  },
  {
   "cell_type": "markdown",
   "metadata": {
    "id": "S6dIRtLpev6T"
   },
   "source": [
    "**ANS**"
   ]
  },
  {
   "cell_type": "code",
   "execution_count": null,
   "metadata": {
    "ExecuteTime": {
     "end_time": "2020-02-26T07:43:31.037604Z",
     "start_time": "2020-02-26T07:43:22.434300Z"
    },
    "id": "IK1UonAQev6U"
   },
   "outputs": [],
   "source": [
    "# Define model\n",
    "model = nn.models.Sequential()\n",
    "model.add(nn.layers.Dense(100,input_dim=2, activation='relu'))\n",
    "model.add(nn.layers.Dense(100, activation='relu'))\n",
    "model.add(nn.layers.Dense(1, activation='sigmoid'))\n",
    "model.compile(optimizer='adam', loss='mse', metrics=['accuracy'])\n",
    "history = model.fit(x, y, validation_data = (x_val,y_val), epochs=1000, verbose=0)\n"
   ]
  },
  {
   "cell_type": "code",
   "execution_count": null,
   "metadata": {
    "ExecuteTime": {
     "end_time": "2020-02-26T07:43:32.689461Z",
     "start_time": "2020-02-26T07:43:32.628872Z"
    },
    "id": "yJua31icev6U"
   },
   "outputs": [],
   "source": [
    "plot_history(history)\n",
    "model.evaluate(x, y)"
   ]
  },
  {
   "cell_type": "markdown",
   "metadata": {
    "id": "U8-OAhus04ZV"
   },
   "source": [
    "The training loss and validation loss diverge, strongly suggesting that what the model learns is not generalizable, but idiosyncatic and noisy patterns in the training data."
   ]
  },
  {
   "cell_type": "markdown",
   "metadata": {
    "ExecuteTime": {
     "end_time": "2019-09-23T20:51:40.569270Z",
     "start_time": "2019-09-23T20:51:40.535007Z"
    },
    "id": "hvSYrfYyev6V"
   },
   "source": [
    "> **Ex 4.2.2** Norm regularization:\n",
    "> 1. Apply L2 regularization to your network so that it, across the same number of batches, cannot overfit.\n",
    "> 2. What does L2 regularization do? Compare the absolute size of weights in the unregularized and regularized model.\n",
    ">\n",
    "> *Hint:* `model.weights` will give you a list of weights and bias arrays for each layer. They are in a Tensorflow format but you can call `.numpy()` on them to get them out as numpy arrays."
   ]
  },
  {
   "cell_type": "markdown",
   "metadata": {
    "id": "EBMs7FCgev6V"
   },
   "source": [
    "**ANS 1**"
   ]
  },
  {
   "cell_type": "code",
   "execution_count": null,
   "metadata": {
    "ExecuteTime": {
     "end_time": "2020-02-26T07:44:05.611203Z",
     "start_time": "2020-02-26T07:43:57.213741Z"
    },
    "colab": {
     "base_uri": "https://localhost:8080/",
     "height": 302
    },
    "id": "NeQbsvfUev6V",
    "outputId": "35101852-c616-4b12-c174-806689d40119"
   },
   "outputs": [
    {
     "name": "stdout",
     "output_type": "stream",
     "text": [
      "2/2 [==============================] - 0s 6ms/step - loss: 0.2637 - accuracy: 0.4800\n"
     ]
    },
    {
     "data": {
      "text/plain": [
       "[0.2637157440185547, 0.47999998927116394]"
      ]
     },
     "execution_count": 25,
     "metadata": {
      "tags": []
     },
     "output_type": "execute_result"
    },
    {
     "data": {
      "image/png": "[encoded data removed]",
      "text/plain": [
       "<Figure size 432x288 with 1 Axes>"
      ]
     },
     "metadata": {
      "needs_background": "light",
      "tags": []
     },
     "output_type": "display_data"
    }
   ],
   "source": [
    "# Define model\n",
    "model_regul = nn.models.Sequential()\n",
    "model_regul.add(nn.layers.Dense(100,input_dim=2, activation='relu',kernel_regularizer='l1'))\n",
    "model_regul.add(nn.layers.Dense(100, activation='relu',kernel_regularizer='l1'))\n",
    "model_regul.add(nn.layers.Dense(1, activation='sigmoid'))\n",
    "model_regul.compile(optimizer='adam', loss='mse', metrics=['accuracy'])\n",
    "history = model_regul.fit(x, y, validation_data = (x_val,y_val), epochs=1000, verbose=0)\n",
    "plot_history(history)\n",
    "model_regul.evaluate(x_val, y_val)"
   ]
  },
  {
   "cell_type": "markdown",
   "metadata": {
    "id": "bLQL_Nq-ev6W"
   },
   "source": [
    "**ANS 2**"
   ]
  },
  {
   "cell_type": "code",
   "execution_count": null,
   "metadata": {
    "ExecuteTime": {
     "end_time": "2020-02-26T07:44:07.257661Z",
     "start_time": "2020-02-26T07:44:07.251439Z"
    },
    "colab": {
     "base_uri": "https://localhost:8080/"
    },
    "id": "s3247tuZev6X",
    "outputId": "b2e8ab8d-8ad2-4f11-b1c1-83b26306f0db"
   },
   "outputs": [
    {
     "data": {
      "text/plain": [
       "[0.17701665, 0.030441498, 0.13653517, 0.043388672, 0.39319333, 0.022170903]"
      ]
     },
     "execution_count": 19,
     "metadata": {
      "tags": []
     },
     "output_type": "execute_result"
    }
   ],
   "source": [
    "# Unregularized absolute weight means\n",
    "[np.mean(abs(w.numpy())) for w in model.weights]"
   ]
  },
  {
   "cell_type": "code",
   "execution_count": null,
   "metadata": {
    "ExecuteTime": {
     "end_time": "2020-02-26T07:44:07.753429Z",
     "start_time": "2020-02-26T07:44:07.746679Z"
    },
    "colab": {
     "base_uri": "https://localhost:8080/"
    },
    "id": "GRV-AgZAev6X",
    "outputId": "8fe061e0-bc30-494a-aa3a-12036c55c25b"
   },
   "outputs": [
    {
     "data": {
      "text/plain": [
       "[0.00012724902,\n",
       " 0.016450515,\n",
       " 0.00012399108,\n",
       " 0.014152553,\n",
       " 0.12672372,\n",
       " 0.014123884]"
      ]
     },
     "execution_count": 20,
     "metadata": {
      "tags": []
     },
     "output_type": "execute_result"
    }
   ],
   "source": [
    "# Regularized absolute weight means\n",
    "[np.mean(abs(w.numpy())) for w in model_regul.weights]"
   ]
  },
  {
   "cell_type": "markdown",
   "metadata": {
    "id": "ILq4odyXev6X"
   },
   "source": [
    "Weights of regularized model are much closer to zero"
   ]
  },
  {
   "cell_type": "markdown",
   "metadata": {
    "id": "DBzjOofnev6Y"
   },
   "source": [
    "> **Ex 4.2.3** Early stopping: Often we like to monitor the model's performance on a test set also while we train the model.\n",
    "This allows us to do something called \"early stopping\" which is a way of regularizing by stopping the training process before the network overfits (we know it overfits when the performance on the training set starts getting much better than on the test set).\n",
    "Implement early stopping when training on the random data above. What accuracy do you get?\n",
    ">\n",
    "> *Hint*: There's an example [here](https://keras.io/getting-started/faq/#how-can-i-interrupt-training-when-the-validation-loss-isnt-decreasing-anymore)."
   ]
  },
  {
   "cell_type": "code",
   "execution_count": null,
   "metadata": {
    "ExecuteTime": {
     "end_time": "2020-02-26T07:46:09.273206Z",
     "start_time": "2020-02-26T07:46:08.741861Z"
    },
    "colab": {
     "base_uri": "https://localhost:8080/",
     "height": 265
    },
    "id": "3xApPcDWev6Y",
    "outputId": "2e829406-020d-4127-ceb5-b7f6bc440915"
   },
   "outputs": [
    {
     "data": {
      "image/png": "[encoded data removed]",
      "text/plain": [
       "<Figure size 432x288 with 1 Axes>"
      ]
     },
     "metadata": {
      "needs_background": "light",
      "tags": []
     },
     "output_type": "display_data"
    }
   ],
   "source": [
    "early_stopping = nn.callbacks.EarlyStopping(monitor='val_loss', patience=5)\n",
    "\n",
    "model = nn.models.Sequential()\n",
    "model.add(nn.layers.Dense(100,input_dim=2, activation='relu'))\n",
    "model.add(nn.layers.Dense(100, activation='relu'))\n",
    "model.add(nn.layers.Dense(1, activation='sigmoid'))\n",
    "model.compile(optimizer='adam', loss='mse', metrics=['accuracy'])\n",
    "history = model.fit(x, y, validation_data = (x_val,y_val), epochs=1000, verbose=0,callbacks=[early_stopping])\n",
    "plot_history(history)"
   ]
  },
  {
   "cell_type": "markdown",
   "metadata": {
    "id": "7FNWlJmGev6Z"
   },
   "source": [
    "It pretty much just stops right away!"
   ]
  },
  {
   "cell_type": "markdown",
   "metadata": {
    "id": "Xzso7SMPev6Z"
   },
   "source": [
    "> **Ex 4.2.4** Dropout: Another clever way to regularize a network, is to randomly \"drop out\" some fraction of neurons during each training batch, so the network cannot store memory in specific neurons. The method is called Dropout. Go ahead and take your overfitting model and apply dropout in one or more of the layers and comment on the performance.\n",
    ">\n",
    "> *Hint*: Check out the reference [here](https://keras.io/api/layers/regularization_layers/)."
   ]
  },
  {
   "cell_type": "code",
   "execution_count": null,
   "metadata": {
    "ExecuteTime": {
     "end_time": "2020-02-26T07:47:30.342099Z",
     "start_time": "2020-02-26T07:47:21.573603Z"
    },
    "colab": {
     "base_uri": "https://localhost:8080/",
     "height": 265
    },
    "id": "-8bDRKpyev6Z",
    "outputId": "adeee73f-2667-498b-a038-b288ee773d93"
   },
   "outputs": [
    {
     "data": {
      "image/png": "[encoded data removed]",
      "text/plain": [
       "<Figure size 432x288 with 1 Axes>"
      ]
     },
     "metadata": {
      "needs_background": "light",
      "tags": []
     },
     "output_type": "display_data"
    }
   ],
   "source": [
    "early_stopping = nn.callbacks.EarlyStopping(monitor='val_loss', patience=5)\n",
    "\n",
    "\n",
    "model = nn.models.Sequential()\n",
    "model.add(nn.layers.Dense(100,input_dim=2, activation='relu'))\n",
    "model.add(nn.layers.Dropout(0.5, noise_shape=None, seed=None))\n",
    "model.add(nn.layers.Dense(100, activation='relu'))\n",
    "model.add(nn.layers.Dropout(0.5, noise_shape=None, seed=None))\n",
    "model.add(nn.layers.Dense(1, activation='sigmoid'))\n",
    "model.compile(optimizer='adam', loss='mse', metrics=['accuracy'])\n",
    "\n",
    "history = model.fit(x, y, validation_data = (x_val,y_val), epochs=1000, verbose=0,callbacks=[early_stopping])\n",
    "plot_history(history)"
   ]
  },
  {
   "cell_type": "markdown",
   "metadata": {
    "id": "8GsZpvwrev6a"
   },
   "source": [
    "Putting dropout in one of the middle layers also made it impossible for the model to overfit!"
   ]
  }
 ],
 "metadata": {
  "colab": {
   "collapsed_sections": [],
   "name": "DL2_exercises_sol.ipynb",
   "provenance": []
  },
  "kernelspec": {
   "display_name": "Python 3",
   "language": "python",
   "name": "python3"
  },
  "language_info": {
   "codemirror_mode": {
    "name": "ipython",
    "version": 3
   },
   "file_extension": ".py",
   "mimetype": "text/x-python",
   "name": "python",
   "nbconvert_exporter": "python",
   "pygments_lexer": "ipython3",
   "version": "3.8.3"
  },
  "toc": {
   "base_numbering": 1,
   "nav_menu": {},
   "number_sections": false,
   "sideBar": true,
   "skip_h1_title": false,
   "title_cell": "Table of Contents",
   "title_sidebar": "Contents",
   "toc_cell": false,
   "toc_position": {},
   "toc_section_display": true,
   "toc_window_display": true
  },
  "varInspector": {
   "cols": {
    "lenName": 16,
    "lenType": 16,
    "lenVar": 40
   },
   "kernels_config": {
    "python": {
     "delete_cmd_postfix": "",
     "delete_cmd_prefix": "del ",
     "library": "var_list.py",
     "varRefreshCmd": "print(var_dic_list())"
    },
    "r": {
     "delete_cmd_postfix": ") ",
     "delete_cmd_prefix": "rm(",
     "library": "var_list.r",
     "varRefreshCmd": "cat(var_dic_list()) "
    }
   },
   "types_to_exclude": [
    "module",
    "function",
    "builtin_function_or_method",
    "instance",
    "_Feature"
   ],
   "window_display": false
  }
 },
 "nbformat": 4,
 "nbformat_minor": 1
}
