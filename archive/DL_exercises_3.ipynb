{
  "nbformat": 4,
  "nbformat_minor": 0,
  "metadata": {
    "colab": {
      "name": "DL_exercises_3.ipynb",
      "provenance": [],
      "collapsed_sections": [],
      "toc_visible": true
    },
    "kernelspec": {
      "name": "python3",
      "display_name": "Python 3"
    },
    "language_info": {
      "name": "python"
    }
  },
  "cells": [
    {
      "cell_type": "code",
      "metadata": {
        "id": "IoCJY7lLt5Gj"
      },
      "source": [
        "import numpy as np\n",
        "import tensorflow.keras as nn\n",
        "import matplotlib.pyplot as plt\n",
        "import time\n",
        "import pandas as pd\n",
        "import time # to log time. Get current time with time.time()\n",
        "from sklearn.model_selection import  train_test_split\n",
        "\n",
        "def legend_out(): # Helper function for putting legend outside the plot\n",
        "  plt.legend(bbox_to_anchor=(1.05, 1), loc='upper left')\n",
        "\n",
        "from tensorflow.keras.backend import clear_session\n",
        "\n",
        "# helper plotting function\n",
        "def plot_history_dt(history, dt=False):\n",
        "    loss = history.history['loss']  \n",
        "    val_loss = history.history['val_loss']\n",
        "    epochs = len(loss)\n",
        "    #times = history.history['times']\n",
        "    #times = [sum(times[:i]) for i in range(1,len(times)+1)]\n",
        "    if dt!=False:\n",
        "        times = [dt/len(loss)]*len(loss)\n",
        "        times = [sum(times[:i]) for i in range(1,len(times)+1)]\n",
        "        plt.plot(times, loss, label=\"train loss\")\n",
        "        plt.plot(times, val_loss, label=\"val loss\")\n",
        "    else:\n",
        "        plt.plot(loss, label=\"train loss\")\n",
        "        plt.plot(val_loss, label=\"val loss\")\n",
        "    legend_out()\n",
        "    plt.show()\n"
      ],
      "execution_count": null,
      "outputs": []
    },
    {
      "cell_type": "markdown",
      "metadata": {
        "id": "DtkLwSI6qYYQ"
      },
      "source": [
        "## Testing Dropout and Batchnormalization.\n",
        "\n",
        "\n",
        "**Define** a model with the following structure:\n",
        "A Feedforward Network (Dense layers) with three hidden layers.\n",
        "\n",
        "Layer size = [100,100,100]+[output_size]\n",
        "\n",
        "Then:\n",
        "1. Define the same model but with Dropout applied to every layer but the last. Example with the functional model:\n",
        "\n",
        "\n",
        "```\n",
        "layer1 = nn.layers.Dense(100, activation=\"relu\")\n",
        "dropout = nn.layers.Dropout(0.2)(layer1) # dropout rate is 20%, i.e. 20% of the output of layer1 is set to 0.\n",
        "...\n",
        "```\n",
        "\n",
        "\n",
        "\n",
        "2. Define the same model but with BatchNormalization. Example:\n",
        "\n",
        "\n",
        "\n",
        "```\n",
        "layer1 = nn.layers.Dense(100, activation=\"relu\")\n",
        "norm = nn.layers.BatchNormalization()(layer1) # we use all default parameters for the batch normalization.\n",
        "...\n",
        "```\n",
        "\n",
        "\n",
        "\n",
        "**Compile** the models with appropriate loss functions and desired metrics (e.g. accuracy). We will use the dataset called Fasion MNIST, which has 10 classes. If you use, for example, `sparse_categorical_crossentropy` as loss then you do not have to make your labels categorical before training (because of the \"sparse\" marker)! :)\n",
        "\n",
        "**Train** the models using the following setup:\n",
        "  - Log the time, using the `time` package in a variable `dt`(delta time). \n",
        "  - Use Adam optimizer with learning rate set to 0.002\n",
        "  - Use 20% of the training data as validation data with the validation_split argument.\n",
        "  - Add the following Callbacks that monitor validation loss:\n",
        "    - Early stopping `nn.callbacks.EarlyStopping(monitor=\"val_loss\", patience=?)`\n",
        "    - ReduceLROnPlataeu `nn.callbacks.ReduceLROnPlateau(monitor='val_loss', patience=?)`\n",
        "    - For both callbacks, set `patience` appropriately considering the two questions: Should ReduceLearning rate have more or less patience? How long do you wait before stopping training?\n",
        "\n",
        "Plot the training and validation loss of the three models in relation to time of training. Hint: epochs can be tranformed to seconds trained if you use divide `dt` with number of epochs.\n",
        "\n",
        "Comment on which model is best in terms of speed and performance.\n",
        "\n",
        "Put this training procedure (the the best model) into a reusable function `def train_model(x_train,y_train, monitor_patience=[]))`. "
      ]
    },
    {
      "cell_type": "code",
      "metadata": {
        "colab": {
          "base_uri": "https://localhost:8080/",
          "height": 363
        },
        "id": "JejYuDwBWJk3",
        "outputId": "e1a50da1-3fd2-45e4-b310-29d51a82a5bc"
      },
      "source": [
        "## Load data\n",
        "(x_train,y_train),(x_test,y_test) = nn.datasets.fashion_mnist.load_data()\n",
        "x_train = x_train.reshape(x_train.shape[0],28*28) # flattening the images here :)\n",
        "x_train = x_train/255\n",
        "x_test = x_test.reshape(len(x_test),28*28)\n",
        "x_test = x_test/255\n",
        "fashion_des =pd.read_html('https://keras.io/api/datasets/fashion_mnist/')[0]\n",
        "fashion_des\n"
      ],
      "execution_count": null,
      "outputs": [
        {
          "output_type": "execute_result",
          "data": {
            "text/html": [
              "<div>\n",
              "<style scoped>\n",
              "    .dataframe tbody tr th:only-of-type {\n",
              "        vertical-align: middle;\n",
              "    }\n",
              "\n",
              "    .dataframe tbody tr th {\n",
              "        vertical-align: top;\n",
              "    }\n",
              "\n",
              "    .dataframe thead th {\n",
              "        text-align: right;\n",
              "    }\n",
              "</style>\n",
              "<table border=\"1\" class=\"dataframe\">\n",
              "  <thead>\n",
              "    <tr style=\"text-align: right;\">\n",
              "      <th></th>\n",
              "      <th>Label</th>\n",
              "      <th>Description</th>\n",
              "    </tr>\n",
              "  </thead>\n",
              "  <tbody>\n",
              "    <tr>\n",
              "      <th>0</th>\n",
              "      <td>0</td>\n",
              "      <td>T-shirt/top</td>\n",
              "    </tr>\n",
              "    <tr>\n",
              "      <th>1</th>\n",
              "      <td>1</td>\n",
              "      <td>Trouser</td>\n",
              "    </tr>\n",
              "    <tr>\n",
              "      <th>2</th>\n",
              "      <td>2</td>\n",
              "      <td>Pullover</td>\n",
              "    </tr>\n",
              "    <tr>\n",
              "      <th>3</th>\n",
              "      <td>3</td>\n",
              "      <td>Dress</td>\n",
              "    </tr>\n",
              "    <tr>\n",
              "      <th>4</th>\n",
              "      <td>4</td>\n",
              "      <td>Coat</td>\n",
              "    </tr>\n",
              "    <tr>\n",
              "      <th>5</th>\n",
              "      <td>5</td>\n",
              "      <td>Sandal</td>\n",
              "    </tr>\n",
              "    <tr>\n",
              "      <th>6</th>\n",
              "      <td>6</td>\n",
              "      <td>Shirt</td>\n",
              "    </tr>\n",
              "    <tr>\n",
              "      <th>7</th>\n",
              "      <td>7</td>\n",
              "      <td>Sneaker</td>\n",
              "    </tr>\n",
              "    <tr>\n",
              "      <th>8</th>\n",
              "      <td>8</td>\n",
              "      <td>Bag</td>\n",
              "    </tr>\n",
              "    <tr>\n",
              "      <th>9</th>\n",
              "      <td>9</td>\n",
              "      <td>Ankle boot</td>\n",
              "    </tr>\n",
              "  </tbody>\n",
              "</table>\n",
              "</div>"
            ],
            "text/plain": [
              "   Label  Description\n",
              "0      0  T-shirt/top\n",
              "1      1      Trouser\n",
              "2      2     Pullover\n",
              "3      3        Dress\n",
              "4      4         Coat\n",
              "5      5       Sandal\n",
              "6      6        Shirt\n",
              "7      7      Sneaker\n",
              "8      8          Bag\n",
              "9      9   Ankle boot"
            ]
          },
          "metadata": {
            "tags": []
          },
          "execution_count": 45
        }
      ]
    },
    {
      "cell_type": "code",
      "metadata": {
        "colab": {
          "base_uri": "https://localhost:8080/",
          "height": 262
        },
        "id": "VJUlt8eeWaYe",
        "outputId": "831bae3a-5092-4c79-ec6b-a9a65df2a283"
      },
      "source": [
        "# look at the data\n",
        "import random\n",
        "i = random.choice(range(len(x_train))) # take a random image\n",
        "fig,axes = plt.subplots(1,2)\n",
        "ax = axes[0]\n",
        "ax.imshow(x_train[i].reshape(28,28),cmap=plt.cm.gray) # reshaping the single image back to (28,28) to visualise it.\n",
        "ax = axes[1] \n",
        "ax.imshow(x_train[i].reshape(28,28),cmap=plt.cm.Spectral)\n",
        "fig.suptitle('%d: %s'%(y_train[i],fashion_des.Description.values[y_train[i]]));"
      ],
      "execution_count": null,
      "outputs": [
        {
          "output_type": "display_data",
          "data": {
            "image/png": "[encoded data removed]",
            "text/plain": [
              "<Figure size 432x288 with 2 Axes>"
            ]
          },
          "metadata": {
            "tags": [],
            "needs_background": "light"
          }
        }
      ]
    },
    {
      "cell_type": "code",
      "metadata": {
        "id": "p9YgyJmOqXpb"
      },
      "source": [
        "# define and train the first model here (without dropout or batch normalization)\n"
      ],
      "execution_count": null,
      "outputs": []
    },
    {
      "cell_type": "code",
      "metadata": {
        "id": "1a8l1hAhvVJo"
      },
      "source": [
        "# define and train model with dropout here\n"
      ],
      "execution_count": null,
      "outputs": []
    },
    {
      "cell_type": "code",
      "metadata": {
        "id": "IKs0J3evvZZs"
      },
      "source": [
        "# define and train model with batch normalization here\n"
      ],
      "execution_count": null,
      "outputs": []
    },
    {
      "cell_type": "markdown",
      "metadata": {
        "id": "saxs8Rg8yMS_"
      },
      "source": [
        "## Special layers for text data: Embeddings and RNNs\n",
        "In previous exercises we have only used the simple feedforward layer, connecting to every node in the previous layer. In the following we try out more specialized layers, layers especially for sequential and categorical data, in particular text data.\n",
        "\n",
        "# Embeddings\n",
        "Embedding is a simple mapping from a categorical item (e.g. a word), to a weight vector. Basically you allow the model to learn a unique set of weights for each word. \n",
        "If you think of the Dense feedforward layer as an input duplicator, just with different filters (i.e. unique weighing of each input parameter) one for each node defined in the layer. This means that the number of parameters/weights in a dense layer is n_units * n_inputs. \n",
        "Embeddings do not duplicate the input, but give each word an n-dimensional representation a set of weight it can use to encode information. This means that the shape of the resulting ouput is (number of words in the input, embedding_size). This means that it has two dimensions, instead of one from the simple feedforward layer computing a weighed sum for each node. \n",
        "A standard feedforward layer expects a one-dimensional input, so to feed a twodimensional input forward in the network one have to either flatten the matrix or pool (e.g. take the average or maximum value accross embedding dimensions) the input matrix (here you can use the Flatten or the AveragePool pr MaxPool layer). When average or maxpooling you throw out a lot of information (both the order and the individual variance). Flattening keeps the order but has many dimensions, so the model has to learn very precise ordered interactions, (i.e. a filter weighing dimensions from the 1 words and the 52 word. A more interesting idea is to use a specialized layer for processing sequences. The RNN goes through a list of weight vectors and produce an output for each, while keeping a hidden state that that each vector (word representation) can interact through - i.e. by changing the state, and being transformed by the current state. In theory this allows word_0 to interact with word_52 in the sequence, however in practice it is hard to learn such longterm dependencies. But lets try it out.\n",
        "\n",
        "\n",
        "### Train a Bidirectional LSTM Model.\n",
        "1. Define a network with the following 4 layers / blocks (as LSTM is more a block consisting of multiple layers): Embedding layer, Bidrectional LSTM, Dense, Dense output layer.\n",
        "\n",
        "The input_length to the embedding layer should equal 64 (the length of each sequence after running the `expand_data` funciton below), Embedding size should be 64, and LSTM should have 128 units, Dense should also have 128, and the final Dense layer should be chosen in relation to the number of classes in the prediction task. \n",
        "  - Embeddings take input the number of unique words, and the number of parameters for each word.\n",
        "  - Hint: You need to flatten the LSTM output before you feed it forward.\n",
        "2. Compile model. \n",
        "3. Train model.\n",
        "4. Evaluate model.\n",
        "5. Do the whole process but add dropout (both recurrent_dropout specific to the LSTM block ) and between the LSTM and the final layer. Evaluate model.\n",
        "\n",
        "\n"
      ]
    },
    {
      "cell_type": "code",
      "metadata": {
        "colab": {
          "base_uri": "https://localhost:8080/"
        },
        "id": "9RCezxrVJT8f",
        "outputId": "5a38aaeb-91b3-4da9-be57-f84283164405"
      },
      "source": [
        "\n",
        "### \n",
        "## Download data\n",
        "## Import IMDB data\n",
        "(x_train,y_train),(x_test,y_test) = nn.datasets.imdb.load_data()\n",
        "\n",
        "\"\"\" \n",
        "Data description:\n",
        "This is a dataset of 25,000 movies reviews from IMDB, labeled by sentiment \n",
        "(positive/negative). Reviews have been preprocessed, and each review is encoded \n",
        "as a list of word indexes (integers). For convenience, words are indexed by \n",
        "overall frequency in the dataset, so that for instance the integer \"3\" encodes \n",
        "the 3rd most frequent word in the data. This allows for quick filtering operations \n",
        "such as: \"only consider the top 10,000 most common words, but eliminate the top 20 \n",
        "most common words\".\n",
        "\n",
        "\"\"\"\n",
        "\n",
        "## Function for making splitting documents into length 64.\n",
        "def expand_data(x,y,max_size=64):\n",
        "  new_x,new_y = [],[]\n",
        "  for xi,yi in zip(x,y):\n",
        "    for i in range(len(xi)//max_size):\n",
        "      temp = xi[i*max_size:(i+1)*max_size]\n",
        "      new_y.append(yi)\n",
        "      new_x.append(temp)\n",
        "  return np.array(new_x),np.array(new_y)\n",
        "\n",
        "\n",
        "x_train,y_train = expand_data(x_train,y_train)\n",
        "x_train,y_train = x_train,y_train\n",
        "x_test,y_test = expand_data(x_test,y_test)\n",
        "x_test,y_test = x_test,y_test\n",
        "print(len(x_train),len(x_test))\n",
        "w2id = nn.datasets.imdb.get_word_index()\n",
        "\n",
        "x_train,x_val,y_train,y_val = train_test_split(x_train,y_train,test_size=0.1)\n",
        "print(x_train[0])"
      ],
      "execution_count": null,
      "outputs": [
        {
          "output_type": "stream",
          "text": [
            "<string>:6: VisibleDeprecationWarning: Creating an ndarray from ragged nested sequences (which is a list-or-tuple of lists-or-tuples-or ndarrays with different lengths or shapes) is deprecated. If you meant to do this, you must specify 'dtype=object' when creating the ndarray\n",
            "/usr/local/lib/python3.7/dist-packages/tensorflow/python/keras/datasets/imdb.py:159: VisibleDeprecationWarning: Creating an ndarray from ragged nested sequences (which is a list-or-tuple of lists-or-tuples-or ndarrays with different lengths or shapes) is deprecated. If you meant to do this, you must specify 'dtype=object' when creating the ndarray\n",
            "  x_train, y_train = np.array(xs[:idx]), np.array(labels[:idx])\n",
            "/usr/local/lib/python3.7/dist-packages/tensorflow/python/keras/datasets/imdb.py:160: VisibleDeprecationWarning: Creating an ndarray from ragged nested sequences (which is a list-or-tuple of lists-or-tuples-or ndarrays with different lengths or shapes) is deprecated. If you meant to do this, you must specify 'dtype=object' when creating the ndarray\n",
            "  x_test, y_test = np.array(xs[idx:]), np.array(labels[idx:])\n"
          ],
          "name": "stderr"
        },
        {
          "output_type": "stream",
          "text": [
            "80859 77724\n",
            "[    7    15     8   140   187    12     9   444     6    55   737   829\n",
            "   585    10    10     4   105    26    53    40  5249   133    19    64\n",
            "    68  2857  6901     8  5390    23  1092  4826  3114  4021    42  2563\n",
            "   186     8    30    32    15 17870   134    84   261    12    70    30\n",
            " 11725    15    15  5981  3718    11 10225  2465     4   979     7     4\n",
            "    65     4  2467   863]\n"
          ],
          "name": "stdout"
        }
      ]
    },
    {
      "cell_type": "code",
      "metadata": {
        "colab": {
          "base_uri": "https://localhost:8080/"
        },
        "id": "0ISoBhVOVou2",
        "outputId": "e1b15854-b72b-41ca-93cc-cfeb3d13bb39"
      },
      "source": [
        "\"\"\" To view the original text, you can use this code to get the words from the indices\"\"\"\n",
        "\n",
        "# Reverse the word index to obtain a dict mapping indices to words\n",
        "inverted_word_index = dict((i, word) for (word, i) in w2id.items())\n",
        "\n",
        "# Decode the first sequence in the dataset\n",
        "decoded_sequence = \" \".join(inverted_word_index[i] for i in x_train[0])\n",
        "print(decoded_sequence)"
      ],
      "execution_count": null,
      "outputs": [
        {
          "output_type": "stream",
          "text": [
            "br for in through however that it loved is time talk leads murder i i of films he up just ross scene film see were chilling flock in dose are d sincere suffered blowing it's performed horror in at an for expelled while great believe that well at attachment for for obtain drunken this scan highlight of christmas br of their of peace surprise\n"
          ],
          "name": "stdout"
        }
      ]
    },
    {
      "cell_type": "code",
      "metadata": {
        "colab": {
          "base_uri": "https://localhost:8080/"
        },
        "id": "Sh0gWLvKZchv",
        "outputId": "4faafed6-d7bb-4685-ca07-00c48cf0027c"
      },
      "source": [
        "# HELPER\n",
        "# As the vocab_size len(w2id) seems to be too small.\n",
        "# Instead use the maximum index of the input data, max(c)+1\n",
        "\n",
        "from collections import Counter\n",
        "c = Counter()\n",
        "for doc in list(x_train)+list(x_val)+list(x_test):\n",
        "  c.update(Counter(doc))\n",
        "len(c),len(w2id),max(w2id.values()),max(c)"
      ],
      "execution_count": null,
      "outputs": [
        {
          "output_type": "execute_result",
          "data": {
            "text/plain": [
              "(84440, 88584, 88584, 88586)"
            ]
          },
          "metadata": {
            "tags": []
          },
          "execution_count": 63
        }
      ]
    },
    {
      "cell_type": "code",
      "metadata": {
        "id": "8uGMqD3FyLg1"
      },
      "source": [
        "# Solution goes here.\n"
      ],
      "execution_count": null,
      "outputs": []
    },
    {
      "cell_type": "markdown",
      "metadata": {
        "id": "HVVtCVWo_goK"
      },
      "source": [
        "## Transfer learning using pretrained embeddings\n",
        "In data setups with very few labeled examples transfer learning can be useful, also in the context of this rather simple model. Instead of learning the word embeddings from the task, we shall use pretrained embeddings. This exercise is designed for you to interact a little more with the model obejct, while simple transfer learning on text data. This means interacting with the weights to manually change them, and also adjusting which layers have trainable parameters in a simple transfer learning scheme. We will download the \"Glove\" embeddings from Gensim and match the Word embedding index from glove to the wordindex from Keras (`w2id`).\n",
        "\n",
        "1. Build the same model as before (but with a larger embedding to match with pretrained Glove embeddings).\n",
        "2. Build the embedding matrix with weights from Glove.\n",
        "  - Hint: first define a matrix with random values between 0 and 1, and with shape `(vocab_size,emb_size)`, where vocab_size=max(c)+1. Then iterate through the w2id index and set the row of the embedding matrix with the glove representation:  `emb_model.get_vector(word)`. Use try-except to only update the matrix if the word in w2id also exists in `emb_model.get_vector(word)`.\n",
        "\n",
        "The key to transfer learning is to avoid what is known as Catastrophic Forgetting, where the pretrained parts of the model are just forgotten during training. This is particularly a problem in the beginnig of training where gradients are large, as the model has yet to learn anything. Also a transfer learning model is often much to large relative to the amount of traning data -  no. parameters to no. labels examples. As we know this will lead to overfitting. To avoid this we limit the number of *trainable* parameters by \"freezing\" certain layers. That is the model can still be very large, but the parameters that learn are small. Once gradients have stabilized (due to much lower loss), one can finetune the pretrained parts also. \n",
        "### Transfor Learning Scheme: Freezing and Unfreezing\n",
        "3. Freeze the embedding layer, by setting the `.trainable` attribute of that layer (`model.layers`) to `False`. (Hint: \"Setting\" just means a standard python assignment using the `=` sign.)\n",
        "4. Train model for 3 epochs. \n",
        "5. Plot history and evaluate.\n",
        "6. Unfreeze embedding layer and finetune for one epoch.\n",
        "7. Evaluate."
      ]
    },
    {
      "cell_type": "code",
      "metadata": {
        "colab": {
          "base_uri": "https://localhost:8080/"
        },
        "id": "whvkEOWSEMzJ",
        "outputId": "51926395-c9aa-4ca3-d65e-6ab231ca6d0b"
      },
      "source": [
        "## Download embeddings.\n",
        "import gensim.downloader as api\n",
        "info = api.info()  # return dict with info about available models/datasets\n",
        "print(info['models']['glove-wiki-gigaword-300'])\n",
        "emb_model = api.load('glove-wiki-gigaword-300')"
      ],
      "execution_count": null,
      "outputs": [
        {
          "output_type": "stream",
          "text": [
            "{'num_records': 400000, 'file_size': 394362229, 'base_dataset': 'Wikipedia 2014 + Gigaword 5 (6B tokens, uncased)', 'reader_code': 'https://github.com/RaRe-Technologies/gensim-data/releases/download/glove-wiki-gigaword-300/__init__.py', 'license': 'http://opendatacommons.org/licenses/pddl/', 'parameters': {'dimension': 300}, 'description': 'Pre-trained vectors based on Wikipedia 2014 + Gigaword, 5.6B tokens, 400K vocab, uncased (https://nlp.stanford.edu/projects/glove/).', 'preprocessing': 'Converted to w2v format with `python -m gensim.scripts.glove2word2vec -i <fname> -o glove-wiki-gigaword-300.txt`.', 'read_more': ['https://nlp.stanford.edu/projects/glove/', 'https://nlp.stanford.edu/pubs/glove.pdf'], 'checksum': '29e9329ac2241937d55b852e8284e89b', 'file_name': 'glove-wiki-gigaword-300.gz', 'parts': 1}\n",
            "[==================================================] 100.0% 376.1/376.1MB downloaded\n"
          ],
          "name": "stdout"
        }
      ]
    },
    {
      "cell_type": "code",
      "metadata": {
        "id": "EEEoBNkskxXP"
      },
      "source": [
        "#your code here"
      ],
      "execution_count": null,
      "outputs": []
    }
  ]
}