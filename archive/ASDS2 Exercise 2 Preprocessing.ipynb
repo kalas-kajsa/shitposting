{
 "cells": [
  {
   "cell_type": "code",
   "execution_count": 216,
   "metadata": {},
   "outputs": [
    {
     "name": "stderr",
     "output_type": "stream",
     "text": [
      "[nltk_data] Downloading package wordnet to\n",
      "[nltk_data]     /Users/kajsarosenblad/nltk_data...\n",
      "[nltk_data]   Package wordnet is already up-to-date!\n"
     ]
    },
    {
     "data": {
      "text/plain": [
       "True"
      ]
     },
     "execution_count": 216,
     "metadata": {},
     "output_type": "execute_result"
    }
   ],
   "source": [
    "# Import relevant packages \n",
    "import pandas as pd\n",
    "import re\n",
    "import string\n",
    "from sklearn.linear_model import LinearRegression\n",
    "from sklearn.feature_extraction.text import CountVectorizer\n",
    "import numpy as np\n",
    "from datetime import datetime\n",
    "\n",
    "import statsmodels.formula.api as smf\n",
    "\n",
    "from nltk.corpus import stopwords\n",
    "from nltk.stem import PorterStemmer, WordNetLemmatizer\n",
    "\n",
    "\n",
    "import nltk\n",
    "nltk.download('wordnet')\n"
   ]
  },
  {
   "cell_type": "markdown",
   "metadata": {},
   "source": [
    "# Advanced Social Data Science 2 (ASDS2) Exercises\n",
    "\n",
    "\n",
    "## April 21: Preprocessing\n",
    "\n",
    "### 1: Importing data without preprocessing\n",
    "\n",
    "1. Download the data set available here, which contains the nearly 6,000 times Donald Trump insulted someone on Twitter: https://www.kaggle.com/ayushggarg/all-trumps-twitter-insults-20152021 \n",
    "2. Load the csv as a data frame using pandas.\n",
    "3. The variable ‘target’ has an indicator for the target of the insult. The data reveals that Trump’s most frequent insult target is ‘the media’ (‘the-media’ in the data). Create a binary indicator for whether Trump targets the media. Fit a linear regression with this binary indicator as the dependent variable and the date of the tweet as the independent variable. Does Trump become more or less likely to insult the media over time? Why might this be? \n",
    "4. Using the CountVectorizer from sklearn, convert the tweets to a document-feature matrix. What are the dimensions of the matrix?\n"
   ]
  },
  {
   "cell_type": "code",
   "execution_count": 217,
   "metadata": {},
   "outputs": [],
   "source": [
    "#create df\n",
    "df = pd.read_csv('trump_insult_tweets_2014_to_2021.csv')"
   ]
  },
  {
   "cell_type": "code",
   "execution_count": 218,
   "metadata": {
    "scrolled": false
   },
   "outputs": [
    {
     "data": {
      "text/html": [
       "<div>\n",
       "<style scoped>\n",
       "    .dataframe tbody tr th:only-of-type {\n",
       "        vertical-align: middle;\n",
       "    }\n",
       "\n",
       "    .dataframe tbody tr th {\n",
       "        vertical-align: top;\n",
       "    }\n",
       "\n",
       "    .dataframe thead th {\n",
       "        text-align: right;\n",
       "    }\n",
       "</style>\n",
       "<table border=\"1\" class=\"dataframe\">\n",
       "  <thead>\n",
       "    <tr style=\"text-align: right;\">\n",
       "      <th></th>\n",
       "      <th>Unnamed: 0</th>\n",
       "      <th>date</th>\n",
       "      <th>target</th>\n",
       "      <th>insult</th>\n",
       "      <th>tweet</th>\n",
       "    </tr>\n",
       "  </thead>\n",
       "  <tbody>\n",
       "    <tr>\n",
       "      <th>0</th>\n",
       "      <td>1</td>\n",
       "      <td>2014-10-09</td>\n",
       "      <td>thomas-frieden</td>\n",
       "      <td>fool</td>\n",
       "      <td>Can you believe this fool, Dr. Thomas Frieden ...</td>\n",
       "    </tr>\n",
       "    <tr>\n",
       "      <th>1</th>\n",
       "      <td>2</td>\n",
       "      <td>2014-10-09</td>\n",
       "      <td>thomas-frieden</td>\n",
       "      <td>DOPE</td>\n",
       "      <td>Can you believe this fool, Dr. Thomas Frieden ...</td>\n",
       "    </tr>\n",
       "    <tr>\n",
       "      <th>2</th>\n",
       "      <td>3</td>\n",
       "      <td>2015-06-16</td>\n",
       "      <td>politicians</td>\n",
       "      <td>all talk and no action</td>\n",
       "      <td>Big time in U.S. today - MAKE AMERICA GREAT AG...</td>\n",
       "    </tr>\n",
       "    <tr>\n",
       "      <th>3</th>\n",
       "      <td>4</td>\n",
       "      <td>2015-06-24</td>\n",
       "      <td>ben-cardin</td>\n",
       "      <td>It's politicians like Cardin that have destroy...</td>\n",
       "      <td>Politician @SenatorCardin didn't like that I s...</td>\n",
       "    </tr>\n",
       "    <tr>\n",
       "      <th>4</th>\n",
       "      <td>5</td>\n",
       "      <td>2015-06-24</td>\n",
       "      <td>neil-young</td>\n",
       "      <td>total hypocrite</td>\n",
       "      <td>For the nonbeliever, here is a photo of @Neily...</td>\n",
       "    </tr>\n",
       "  </tbody>\n",
       "</table>\n",
       "</div>"
      ],
      "text/plain": [
       "   Unnamed: 0        date          target  \\\n",
       "0           1  2014-10-09  thomas-frieden   \n",
       "1           2  2014-10-09  thomas-frieden   \n",
       "2           3  2015-06-16     politicians   \n",
       "3           4  2015-06-24      ben-cardin   \n",
       "4           5  2015-06-24      neil-young   \n",
       "\n",
       "                                              insult  \\\n",
       "0                                               fool   \n",
       "1                                               DOPE   \n",
       "2                             all talk and no action   \n",
       "3  It's politicians like Cardin that have destroy...   \n",
       "4                                    total hypocrite   \n",
       "\n",
       "                                               tweet  \n",
       "0  Can you believe this fool, Dr. Thomas Frieden ...  \n",
       "1  Can you believe this fool, Dr. Thomas Frieden ...  \n",
       "2  Big time in U.S. today - MAKE AMERICA GREAT AG...  \n",
       "3  Politician @SenatorCardin didn't like that I s...  \n",
       "4  For the nonbeliever, here is a photo of @Neily...  "
      ]
     },
     "execution_count": 218,
     "metadata": {},
     "output_type": "execute_result"
    }
   ],
   "source": [
    "df.head()"
   ]
  },
  {
   "cell_type": "code",
   "execution_count": 219,
   "metadata": {},
   "outputs": [],
   "source": [
    "#datetime conversion\n",
    "df.date = [datetime.strptime(item, '%Y-%m-%d') for item in df.date]\n"
   ]
  },
  {
   "cell_type": "code",
   "execution_count": 220,
   "metadata": {},
   "outputs": [],
   "source": [
    "#datetime conversion\n",
    "df.date = df.date.map(datetime.toordinal)"
   ]
  },
  {
   "cell_type": "code",
   "execution_count": 221,
   "metadata": {},
   "outputs": [],
   "source": [
    "#binary variable media targeting \n",
    "df['media'] = np.where(df['target'] == 'the-media', 1, 0)\n"
   ]
  },
  {
   "cell_type": "code",
   "execution_count": 222,
   "metadata": {
    "scrolled": true
   },
   "outputs": [
    {
     "data": {
      "text/html": [
       "<table class=\"simpletable\">\n",
       "<caption>OLS Regression Results</caption>\n",
       "<tr>\n",
       "  <th>Dep. Variable:</th>          <td>media</td>      <th>  R-squared:         </th> <td>   0.006</td>\n",
       "</tr>\n",
       "<tr>\n",
       "  <th>Model:</th>                   <td>OLS</td>       <th>  Adj. R-squared:    </th> <td>   0.006</td>\n",
       "</tr>\n",
       "<tr>\n",
       "  <th>Method:</th>             <td>Least Squares</td>  <th>  F-statistic:       </th> <td>   93.48</td>\n",
       "</tr>\n",
       "<tr>\n",
       "  <th>Date:</th>             <td>Wed, 21 Apr 2021</td> <th>  Prob (F-statistic):</th> <td>5.08e-22</td>\n",
       "</tr>\n",
       "<tr>\n",
       "  <th>Time:</th>                 <td>12:20:38</td>     <th>  Log-Likelihood:    </th> <td> -3178.1</td>\n",
       "</tr>\n",
       "<tr>\n",
       "  <th>No. Observations:</th>      <td> 10360</td>      <th>  AIC:               </th> <td>   6360.</td>\n",
       "</tr>\n",
       "<tr>\n",
       "  <th>Df Residuals:</th>          <td> 10358</td>      <th>  BIC:               </th> <td>   6375.</td>\n",
       "</tr>\n",
       "<tr>\n",
       "  <th>Df Model:</th>              <td>     1</td>      <th>                     </th>     <td> </td>   \n",
       "</tr>\n",
       "<tr>\n",
       "  <th>Covariance Type:</th>         <td>HC0</td>       <th>                     </th>     <td> </td>   \n",
       "</tr>\n",
       "</table>\n",
       "<table class=\"simpletable\">\n",
       "<tr>\n",
       "      <td></td>         <th>coef</th>     <th>std err</th>      <th>z</th>      <th>P>|z|</th>  <th>[0.025</th>    <th>0.975]</th>  \n",
       "</tr>\n",
       "<tr>\n",
       "  <th>Intercept</th> <td>  -31.6371</td> <td>    3.284</td> <td>   -9.633</td> <td> 0.000</td> <td>  -38.074</td> <td>  -25.200</td>\n",
       "</tr>\n",
       "<tr>\n",
       "  <th>date</th>      <td>  4.31e-05</td> <td> 4.46e-06</td> <td>    9.669</td> <td> 0.000</td> <td> 3.44e-05</td> <td> 5.18e-05</td>\n",
       "</tr>\n",
       "</table>\n",
       "<table class=\"simpletable\">\n",
       "<tr>\n",
       "  <th>Omnibus:</th>       <td>4262.419</td> <th>  Durbin-Watson:     </th> <td>   0.944</td> \n",
       "</tr>\n",
       "<tr>\n",
       "  <th>Prob(Omnibus):</th>  <td> 0.000</td>  <th>  Jarque-Bera (JB):  </th> <td>13040.939</td>\n",
       "</tr>\n",
       "<tr>\n",
       "  <th>Skew:</th>           <td> 2.255</td>  <th>  Prob(JB):          </th> <td>    0.00</td> \n",
       "</tr>\n",
       "<tr>\n",
       "  <th>Kurtosis:</th>       <td> 6.141</td>  <th>  Cond. No.          </th> <td>9.13e+08</td> \n",
       "</tr>\n",
       "</table><br/><br/>Warnings:<br/>[1] Standard Errors are heteroscedasticity robust (HC0)<br/>[2] The condition number is large, 9.13e+08. This might indicate that there are<br/>strong multicollinearity or other numerical problems."
      ],
      "text/plain": [
       "<class 'statsmodels.iolib.summary.Summary'>\n",
       "\"\"\"\n",
       "                            OLS Regression Results                            \n",
       "==============================================================================\n",
       "Dep. Variable:                  media   R-squared:                       0.006\n",
       "Model:                            OLS   Adj. R-squared:                  0.006\n",
       "Method:                 Least Squares   F-statistic:                     93.48\n",
       "Date:                Wed, 21 Apr 2021   Prob (F-statistic):           5.08e-22\n",
       "Time:                        12:20:38   Log-Likelihood:                -3178.1\n",
       "No. Observations:               10360   AIC:                             6360.\n",
       "Df Residuals:                   10358   BIC:                             6375.\n",
       "Df Model:                           1                                         \n",
       "Covariance Type:                  HC0                                         \n",
       "==============================================================================\n",
       "                 coef    std err          z      P>|z|      [0.025      0.975]\n",
       "------------------------------------------------------------------------------\n",
       "Intercept    -31.6371      3.284     -9.633      0.000     -38.074     -25.200\n",
       "date         4.31e-05   4.46e-06      9.669      0.000    3.44e-05    5.18e-05\n",
       "==============================================================================\n",
       "Omnibus:                     4262.419   Durbin-Watson:                   0.944\n",
       "Prob(Omnibus):                  0.000   Jarque-Bera (JB):            13040.939\n",
       "Skew:                           2.255   Prob(JB):                         0.00\n",
       "Kurtosis:                       6.141   Cond. No.                     9.13e+08\n",
       "==============================================================================\n",
       "\n",
       "Warnings:\n",
       "[1] Standard Errors are heteroscedasticity robust (HC0)\n",
       "[2] The condition number is large, 9.13e+08. This might indicate that there are\n",
       "strong multicollinearity or other numerical problems.\n",
       "\"\"\""
      ]
     },
     "execution_count": 222,
     "metadata": {},
     "output_type": "execute_result"
    }
   ],
   "source": [
    "#linear regression\n",
    "model = smf.ols(formula = 'media ~ date', data = df)\n",
    "results = model.fit(cov_type = 'HC0')\n",
    "results.summary()"
   ]
  },
  {
   "cell_type": "code",
   "execution_count": 223,
   "metadata": {},
   "outputs": [
    {
     "name": "stdout",
     "output_type": "stream",
     "text": [
      "(10360, 10057)\n"
     ]
    }
   ],
   "source": [
    "#countvectoriser\n",
    "vectorizer = CountVectorizer()\n",
    "vectorizer.fit_transform(df.tweet)\n",
    "\n",
    "# encode document\n",
    "vector = vectorizer.transform(df.tweet)\n",
    "# summarize encoded vector\n",
    "print(vector.shape)"
   ]
  },
  {
   "cell_type": "code",
   "execution_count": null,
   "metadata": {},
   "outputs": [],
   "source": []
  },
  {
   "cell_type": "markdown",
   "metadata": {},
   "source": [
    "### 2: Preprocessing steps\n",
    "\n",
    "1. Remove all tagged users, i.e. words starting with the ‘@’ character.\n",
    "2. Lowercase all tweet text.\n",
    "3. Remove numbers.\n",
    "4. Remove punctuation. \n",
    "5. Remove extra whitespaces.\n",
    "6. Remove default stopwords.\n",
    "7. Stem words.\n",
    "8. Lemmatize words.\n"
   ]
  },
  {
   "cell_type": "code",
   "execution_count": 224,
   "metadata": {},
   "outputs": [],
   "source": [
    "#1.\n",
    "df.tweet = df.tweet.str.replace(r'(\\s)\\@\\w+','')"
   ]
  },
  {
   "cell_type": "code",
   "execution_count": 225,
   "metadata": {},
   "outputs": [],
   "source": [
    "#2. \n",
    "df.tweet = [item.lower() for item in df.tweet]"
   ]
  },
  {
   "cell_type": "code",
   "execution_count": 226,
   "metadata": {},
   "outputs": [],
   "source": [
    "#3.\n",
    "df.tweet = df.tweet.str.replace('[0-9]', '')"
   ]
  },
  {
   "cell_type": "code",
   "execution_count": 227,
   "metadata": {},
   "outputs": [],
   "source": [
    "#4.\n",
    "\n",
    "df.tweet = [item.translate(str.maketrans('', '', string.punctuation)) for item in df.tweet]"
   ]
  },
  {
   "cell_type": "code",
   "execution_count": 228,
   "metadata": {},
   "outputs": [],
   "source": [
    "#5. \n",
    "df.tweet = df.tweet.str.replace(' +', ' ')"
   ]
  },
  {
   "cell_type": "code",
   "execution_count": 229,
   "metadata": {},
   "outputs": [],
   "source": [
    "#6.\n",
    "\n",
    "df.tweet = df.tweet.str.split()\n",
    "stop = stopwords.words('english')\n",
    "\n",
    "\n",
    "df.tweet = df.tweet.apply(lambda x: [item for item in x if item not in stop])\n"
   ]
  },
  {
   "cell_type": "code",
   "execution_count": 234,
   "metadata": {
    "scrolled": true
   },
   "outputs": [],
   "source": [
    "#7.\n",
    "ps = PorterStemmer()\n",
    "df['stem'] = df.tweet.apply(lambda x: ' '.join([ps.stem(item) for item in x]))"
   ]
  },
  {
   "cell_type": "code",
   "execution_count": 236,
   "metadata": {},
   "outputs": [],
   "source": [
    "#8. \n",
    "lemmatizer = WordNetLemmatizer()\n",
    "df['lemm'] = df.tweet.apply(lambda x: ' '.join([lemmatizer.lemmatize(item) for item in x]))"
   ]
  },
  {
   "cell_type": "markdown",
   "metadata": {},
   "source": [
    "### 3: Consequences of preprocessing\n",
    "\n",
    "Create a new document-feature matrix with the preprocessed tweets. How do the dimensions of this matrix compare with those of the matrix you created in 1.3?\n"
   ]
  },
  {
   "cell_type": "code",
   "execution_count": 240,
   "metadata": {},
   "outputs": [
    {
     "name": "stdout",
     "output_type": "stream",
     "text": [
      "(10360, 7789)\n",
      "(10360, 9289)\n"
     ]
    }
   ],
   "source": [
    "vect_stem = vectorizer.fit_transform(df.stem)\n",
    "\n",
    "# encode document\n",
    "\n",
    "# summarize encoded vector\n",
    "print(vect_stem.shape)\n",
    "\n",
    "vect_lemm = vectorizer.fit_transform(df.lemm)\n",
    "\n",
    "print (vect_lemm.shape)"
   ]
  }
 ],
 "metadata": {
  "kernelspec": {
   "display_name": "Python 3",
   "language": "python",
   "name": "python3"
  },
  "language_info": {
   "codemirror_mode": {
    "name": "ipython",
    "version": 3
   },
   "file_extension": ".py",
   "mimetype": "text/x-python",
   "name": "python",
   "nbconvert_exporter": "python",
   "pygments_lexer": "ipython3",
   "version": "3.8.3"
  }
 },
 "nbformat": 4,
 "nbformat_minor": 4
}
