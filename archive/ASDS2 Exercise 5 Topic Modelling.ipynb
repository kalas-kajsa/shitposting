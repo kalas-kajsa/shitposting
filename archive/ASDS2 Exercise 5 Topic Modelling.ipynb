{
 "cells": [
  {
   "cell_type": "code",
   "execution_count": 1,
   "metadata": {},
   "outputs": [
    {
     "name": "stderr",
     "output_type": "stream",
     "text": [
      "/Users/kajsarosenblad/opt/anaconda3/lib/python3.8/site-packages/gensim/similarities/__init__.py:15: UserWarning: The gensim.similarities.levenshtein submodule is disabled, because the optional Levenshtein package <https://pypi.org/project/python-Levenshtein/> is unavailable. Install Levenhstein (e.g. `pip install python-Levenshtein`) to suppress this warning.\n",
      "  warnings.warn(msg)\n"
     ]
    }
   ],
   "source": [
    "#Importing relevant packages \n",
    "import numpy as np\n",
    "import pandas as pd\n",
    "\n",
    "import logging #This is to provide logging of information when running the LDA\n",
    "import sys #This is to disable logging when it's no longer needed\n",
    "import pickle #To store and open previously saved machine learning models \n",
    "\n",
    "#Importing NLTK\n",
    "import nltk\n",
    "\n",
    "#Importing packages for data visualization \n",
    "import matplotlib.pyplot as plt\n",
    "import seaborn as sns\n",
    "\n",
    "#Importing packages for LDA\n",
    "from gensim.corpora.dictionary import Dictionary\n",
    "from gensim.models.ldamulticore import LdaMulticore\n"
   ]
  },
  {
   "cell_type": "markdown",
   "metadata": {},
   "source": [
    "# TOPIC MODELLING \n",
    "\n",
    "In this lab, we will apply a 50-topic LDA model to tweets from US Members of Congress to examine discussions about COVID-19 by Democrats and Republicans over time. Who was quicker to set the agenda around COVID-19, Democrats or Republicans? Make a guess if you know something about US politics.\n",
    "\n",
    "The dataset is similar to last week's scaling lab and has been preprocessed similarly, with the main exception being that this time tweets are subsetted from 2019 and later, because we are mainly interested in tweets that (may) capture the COVID-19 crisis. The preprocessed dataset is called 'MOCTweets_preprocessed.csv'. "
   ]
  },
  {
   "cell_type": "markdown",
   "metadata": {},
   "source": [
    "#### If you wish to replicate the preprocessing, these are the steps taken for this dataset:\n",
    "\n",
    "1. Changing 'date' from str type object to datetime type \n",
    "2. Subsetting to 2019 and later \n",
    "3. Removing unneeded columns (all except 'date', 'text', 'affiliation', and 'nominate_name')\n",
    "2. Removing duplicated tweets \n",
    "7. Turning independents into Democrats or Republicans. In essence, finding the independents (\"SANDERS, Bernard\" and \"KING, Angus Stanley, Jr.\") and turning these to \"Democrat\". \n",
    "7. Removing instances of \"&amp\"\n",
    "8. Replacing all remaining \"&\" with \"and\"\n",
    "8. Removing odd special characters that show up in topic model (\"┻\",\"┃\",\"━\",\"┳\",\"┓\",\"┏\",\"┛\")\n",
    "9. There are some annoying cases in these data where a character that looks like a space is not a space. Here, we just replace that character with an actual space. Replacing \"\\u202F\", \"\\u2069\", \"\\u200d\", and \"\\u2066\" with \" \".\n",
    "6. Removing \"RT\" and \"via\"\n",
    "11. Removing mentions (@someone)\n",
    "10. Removing numbers, removing punctuation (except hyphens and #), removing separators, removing urls, lowercasing, removing stopwords, lemmatizing, and stemming.\n"
   ]
  },
  {
   "cell_type": "markdown",
   "metadata": {},
   "source": [
    "### 1: Preparing the data for topic modelling\n",
    "\n",
    "The preprocessed data includes columns for date, affiliation, nominate name, tweet text, and two columns of preprocessed tweet text: one stemmed and one lemmatized. We will be using the stemmed text today. \n",
    "\n",
    "1. Import the dataframe\n",
    "2. Convert 'date' from str type object to datetime type \n",
    "3. Similar to last week, replace NaN values with an empty string in the stemmed text. Then use `groupby` and `agg` to group the data by *date* and *affiliation*, and aggregate the stemmed tweet text within each of these categories into one long string. You do not need to save the nominate names. \n",
    "4. For each row, tokenize the stemmed text data into unigrams. Consider using NLTK's `TweetTokenizer`, which is made to handle e.g. hashtags and emojis.\n",
    "5. For each row, use `nltk.bigrams` to create bigrams from the unigrams. This function will return a list of tuples. Connect the two words in each bigram tuple with an underscore to get a list of bigram tokens. E.g.: [(great, news), (news, presid), (presid, signatur)] --> ['great_news', 'news_presid', 'presid_signatur']\n",
    "6. For each row, combine the unigrams and bigrams in one cell to create a list of all unigram and bigram tokens in that row.\n"
   ]
  },
  {
   "cell_type": "code",
   "execution_count": 2,
   "metadata": {},
   "outputs": [],
   "source": [
    "#Importing the data\n",
    "tweets = pd.read_csv('MOCTweets_preprocessed.csv.bz2', compression = 'bz2')"
   ]
  },
  {
   "cell_type": "code",
   "execution_count": 3,
   "metadata": {},
   "outputs": [
    {
     "data": {
      "text/html": [
       "<div>\n",
       "<style scoped>\n",
       "    .dataframe tbody tr th:only-of-type {\n",
       "        vertical-align: middle;\n",
       "    }\n",
       "\n",
       "    .dataframe tbody tr th {\n",
       "        vertical-align: top;\n",
       "    }\n",
       "\n",
       "    .dataframe thead th {\n",
       "        text-align: right;\n",
       "    }\n",
       "</style>\n",
       "<table border=\"1\" class=\"dataframe\">\n",
       "  <thead>\n",
       "    <tr style=\"text-align: right;\">\n",
       "      <th></th>\n",
       "      <th>Unnamed: 0</th>\n",
       "      <th>date</th>\n",
       "      <th>text</th>\n",
       "      <th>affiliation</th>\n",
       "      <th>nominate_name</th>\n",
       "      <th>text_lemma</th>\n",
       "      <th>text_stemmed</th>\n",
       "    </tr>\n",
       "  </thead>\n",
       "  <tbody>\n",
       "    <tr>\n",
       "      <th>0</th>\n",
       "      <td>0</td>\n",
       "      <td>2019-03-19</td>\n",
       "      <td>Federal government employees are dedicated pub...</td>\n",
       "      <td>Republican</td>\n",
       "      <td>BOOZMAN, John</td>\n",
       "      <td>federal government employee dedicate public se...</td>\n",
       "      <td>feder govern employe dedic public servant prov...</td>\n",
       "    </tr>\n",
       "    <tr>\n",
       "      <th>1</th>\n",
       "      <td>7</td>\n",
       "      <td>2019-09-13</td>\n",
       "      <td>.@DeptVetAffairs recently rolled out a new dig...</td>\n",
       "      <td>Republican</td>\n",
       "      <td>BOOZMAN, John</td>\n",
       "      <td>recently roll new digital memorial platform mi...</td>\n",
       "      <td>recent roll new digit memori platform million ...</td>\n",
       "    </tr>\n",
       "    <tr>\n",
       "      <th>2</th>\n",
       "      <td>10</td>\n",
       "      <td>2019-09-12</td>\n",
       "      <td>I know the importance of empowering women in t...</td>\n",
       "      <td>Republican</td>\n",
       "      <td>BOOZMAN, John</td>\n",
       "      <td>know importance empower woman global economy s...</td>\n",
       "      <td>know import empow women global economi sponsor...</td>\n",
       "    </tr>\n",
       "    <tr>\n",
       "      <th>3</th>\n",
       "      <td>17</td>\n",
       "      <td>2019-03-22</td>\n",
       "      <td>It was great to spend some time with leaders i...</td>\n",
       "      <td>Republican</td>\n",
       "      <td>BOOZMAN, John</td>\n",
       "      <td>great spend time leader van buren county talk ...</td>\n",
       "      <td>great spend time leader van buren counti talk ...</td>\n",
       "    </tr>\n",
       "    <tr>\n",
       "      <th>4</th>\n",
       "      <td>18</td>\n",
       "      <td>2019-09-18</td>\n",
       "      <td>For 72 years, @usairforce has been blazing the...</td>\n",
       "      <td>Republican</td>\n",
       "      <td>BOOZMAN, John</td>\n",
       "      <td>year blaze trail dominance air space cyberspac...</td>\n",
       "      <td>year blaze trail domin air space cyberspac dad...</td>\n",
       "    </tr>\n",
       "  </tbody>\n",
       "</table>\n",
       "</div>"
      ],
      "text/plain": [
       "   Unnamed: 0        date                                               text  \\\n",
       "0           0  2019-03-19  Federal government employees are dedicated pub...   \n",
       "1           7  2019-09-13  .@DeptVetAffairs recently rolled out a new dig...   \n",
       "2          10  2019-09-12  I know the importance of empowering women in t...   \n",
       "3          17  2019-03-22  It was great to spend some time with leaders i...   \n",
       "4          18  2019-09-18  For 72 years, @usairforce has been blazing the...   \n",
       "\n",
       "  affiliation  nominate_name  \\\n",
       "0  Republican  BOOZMAN, John   \n",
       "1  Republican  BOOZMAN, John   \n",
       "2  Republican  BOOZMAN, John   \n",
       "3  Republican  BOOZMAN, John   \n",
       "4  Republican  BOOZMAN, John   \n",
       "\n",
       "                                          text_lemma  \\\n",
       "0  federal government employee dedicate public se...   \n",
       "1  recently roll new digital memorial platform mi...   \n",
       "2  know importance empower woman global economy s...   \n",
       "3  great spend time leader van buren county talk ...   \n",
       "4  year blaze trail dominance air space cyberspac...   \n",
       "\n",
       "                                        text_stemmed  \n",
       "0  feder govern employe dedic public servant prov...  \n",
       "1  recent roll new digit memori platform million ...  \n",
       "2  know import empow women global economi sponsor...  \n",
       "3  great spend time leader van buren counti talk ...  \n",
       "4  year blaze trail domin air space cyberspac dad...  "
      ]
     },
     "execution_count": 3,
     "metadata": {},
     "output_type": "execute_result"
    }
   ],
   "source": [
    "tweets.head()"
   ]
  },
  {
   "cell_type": "code",
   "execution_count": 4,
   "metadata": {},
   "outputs": [],
   "source": [
    "#convert to datetime\n",
    "tweets['date'] = pd.to_datetime(tweets['date'], format = '%Y-%m-%d', errors = 'ignore')"
   ]
  },
  {
   "cell_type": "code",
   "execution_count": 5,
   "metadata": {},
   "outputs": [],
   "source": [
    "#remove Nan\n",
    "tweets['text_stemmed'] = tweets['text_stemmed'].replace(np.nan, '', regex=True)"
   ]
  },
  {
   "cell_type": "code",
   "execution_count": 6,
   "metadata": {},
   "outputs": [],
   "source": [
    "#aggregate data on date and affiliation\n",
    "tweets_agg = tweets.groupby(['date','affiliation'])['text_stemmed'].agg(','.join).reset_index()"
   ]
  },
  {
   "cell_type": "code",
   "execution_count": 7,
   "metadata": {},
   "outputs": [],
   "source": [
    "#tokenize text\n",
    "tk = nltk.TweetTokenizer()\n",
    "\n",
    "tweets_agg['text_stemmed'] = [tk.tokenize(item) for item in tweets_agg['text_stemmed']]"
   ]
  },
  {
   "cell_type": "code",
   "execution_count": 8,
   "metadata": {},
   "outputs": [],
   "source": [
    "def bigrams(column):\n",
    "\n",
    "    combined = []\n",
    "    \n",
    "    for i,j in list(nltk.bigrams(column)):\n",
    "        bigram = i + '_' + j\n",
    "        combined.append(bigram)\n",
    "    return combined"
   ]
  },
  {
   "cell_type": "code",
   "execution_count": 9,
   "metadata": {},
   "outputs": [],
   "source": [
    "#create bigrams\n",
    "tweets_agg['bigrams'] = [bigrams(item) for item in tweets_agg['text_stemmed']]"
   ]
  },
  {
   "cell_type": "code",
   "execution_count": 11,
   "metadata": {},
   "outputs": [],
   "source": [
    "tweets_agg['combined'] = tweets_agg['text_stemmed'] + tweets_agg['bigrams']"
   ]
  },
  {
   "cell_type": "code",
   "execution_count": null,
   "metadata": {},
   "outputs": [],
   "source": []
  },
  {
   "cell_type": "markdown",
   "metadata": {},
   "source": [
    "### 2: Creating a corpus object\n",
    "\n",
    "We will be using the `gensim` module to create a corpus object and filter very frequent and in-frequent words. Read the documentation here: https://radimrehurek.com/gensim/corpora/dictionary.html \n",
    "\n",
    "1. Create a dictionary mapping between words and their ids. This code is provided for you. This can take a couple of seconds.  \n",
    "2. Use `filter_extremes` to remove very frequent (those that appear in more than 99.9% of the documents) and very infrequent words (those that appear in less than 10 documents).\n",
    "3. You can inspect the vocabulary using either `id2token` or `token2id`. \n",
    "4. Create a corpus object. Essentially, use `doc2bow` in a list comprehension to create a list containing a bag of words for each document (aka for each row in the dataframe). Each bag of words should be a list containing tuples with 1) an index indicating the word and 2) the frequency of that word. The code will look like: `corpus = [id2word.doc2bow(doc) for doc in df['tokens']]`.\n"
   ]
  },
  {
   "cell_type": "code",
   "execution_count": 27,
   "metadata": {
    "scrolled": false
   },
   "outputs": [
    {
     "name": "stdout",
     "output_type": "stream",
     "text": [
      "2800894\n"
     ]
    }
   ],
   "source": [
    "#Create a id2word dictionary\n",
    "\n",
    "#Insert the column where you saved unigram and bigram tokens between the parentheses\n",
    "id2word = Dictionary(tweets_agg['combined']) \n",
    "\n",
    "#Viewing how many words are in our vocabulary\n",
    "print(len(id2word))"
   ]
  },
  {
   "cell_type": "code",
   "execution_count": 28,
   "metadata": {},
   "outputs": [
    {
     "name": "stdout",
     "output_type": "stream",
     "text": [
      "127208\n"
     ]
    }
   ],
   "source": [
    "#filter extremes\n",
    "id2word.filter_extremes(no_below=10, no_above=0.999, keep_n = None)\n",
    "print(len(id2word))"
   ]
  },
  {
   "cell_type": "code",
   "execution_count": 29,
   "metadata": {},
   "outputs": [],
   "source": [
    "#create corpus\n",
    "corpus = [id2word.doc2bow(doc) for doc in tweets_agg['combined']]"
   ]
  },
  {
   "cell_type": "markdown",
   "metadata": {},
   "source": [
    "### 3: Topic modelling\n",
    "\n",
    "We will run topic modelling using an LDA implementation from the `gensim` module. You can find the documentation here: https://radimrehurek.com/gensim/models/ldamulticore.html \n",
    "\n",
    "We will investigate the results of a model with 50 topics. However, like last week, this takes several hours to run. Therefore, first try the LDA algorithm with approx. 10 topics and then download the pre-trained model to investigate the 50-topic results.\n",
    "\n",
    "1. Run the LDA algorithm with the provided code\n",
    "2. The typical way to get a sense of what each topic actually is means looking at the tokens that are most predictive for each topic. Use `print_topics` to see the 10 (or more) most predictive tokens for each topic. Optional: When using `print_topics`, the model weights are included. If you want to clean this, you can use regex to filter out everything but the words.\n",
    "\n",
    "\n",
    "**A note on setting parameters:**\n",
    "\n",
    "- Passes and iterations: As this is just a test run, passes and iterations are set quite low. If you want to use topic modelling in your project, you should make sure to set passes and iterations high enough for the model to converge. In the pre-trained model, passes = 100 and iterations = 1000. \n",
    "- Minimum_probability: This filters out all probabilities less than the given number. In the pre-trained model, minimum_probability = 0.000001\n",
    "\n",
    "\n",
    "**A note on choosing the number of topics:**\n",
    "Choosing the number of topics is not straightforward. Both Barberá (2019) and Munger (2019) use 10-fold cross-validation for the log-likelihood and perplexity. If you want to implement these models in your own work and want to learn how to do this, read about hyperparameter tuning [here](https://towardsdatascience.com/twitter-topic-modeling-e0e3315b12e2) or contact Greg who can guide you in R. \n",
    "\n",
    "At the same time, there is no statistic that can tell you how many topics you want: \"There is often a negative relationship between the best-fitting model and the substantive information provided\" (Grimmer and Stewart 2013). So in the end it is a judgment call on the side of the researcher, which can be guided by statistics.\n",
    "\n",
    "If topics repeat themselves, this may suggest that we chose too many topics for the dataset. \n"
   ]
  },
  {
   "cell_type": "code",
   "execution_count": 30,
   "metadata": {},
   "outputs": [],
   "source": [
    "#Instantiating a logger to get information on the progress of the LDA\n",
    "logging.basicConfig(format='%(asctime)s : %(levelname)s : %(message)s', level=logging.INFO)\n",
    "\n",
    "#Running the LDA with 10 topics \n",
    "lda_model = LdaMulticore(corpus=corpus, num_topics=10, id2word=id2word, passes = 1, iterations = 50)\n"
   ]
  },
  {
   "cell_type": "code",
   "execution_count": 23,
   "metadata": {},
   "outputs": [],
   "source": [
    "#Disabling logging again\n",
    "logging.disable(sys.maxsize)"
   ]
  },
  {
   "cell_type": "code",
   "execution_count": 32,
   "metadata": {},
   "outputs": [
    {
     "data": {
      "text/plain": [
       "[(0,\n",
       "  '0.004*\"presid\" + 0.004*\"peopl\" + 0.004*\"trump\" + 0.004*\"hous\" + 0.003*\"act\" + 0.003*\"protect\" + 0.003*\"im\" + 0.003*\"need\" + 0.003*\"bill\" + 0.003*\"famili\"'),\n",
       " (1,\n",
       "  '0.004*\"presid\" + 0.003*\"need\" + 0.003*\"trump\" + 0.003*\"protect\" + 0.003*\"act\" + 0.003*\"hous\" + 0.003*\"im\" + 0.003*\"support\" + 0.003*\"famili\" + 0.003*\"nation\"'),\n",
       " (2,\n",
       "  '0.003*\"act\" + 0.003*\"presid\" + 0.003*\"need\" + 0.003*\"peopl\" + 0.003*\"trump\" + 0.003*\"famili\" + 0.003*\"im\" + 0.002*\"pass\" + 0.002*\"right\" + 0.002*\"new\"'),\n",
       " (3,\n",
       "  '0.004*\"hous\" + 0.003*\"presid\" + 0.003*\"commun\" + 0.003*\"nation\" + 0.003*\"trump\" + 0.003*\"famili\" + 0.003*\"-\" + 0.003*\"act\" + 0.002*\"congress\" + 0.002*\"countri\"'),\n",
       " (4,\n",
       "  '0.004*\"trump\" + 0.004*\"presid\" + 0.003*\"hous\" + 0.003*\"famili\" + 0.003*\"support\" + 0.003*\"act\" + 0.003*\"need\" + 0.003*\"nation\" + 0.003*\"bill\" + 0.003*\"day\"'),\n",
       " (5,\n",
       "  '0.004*\"trump\" + 0.003*\"peopl\" + 0.003*\"congress\" + 0.003*\"presid\" + 0.003*\"famili\" + 0.003*\"join\" + 0.003*\"nation\" + 0.003*\"health\" + 0.003*\"senat\" + 0.003*\"must\"'),\n",
       " (6,\n",
       "  '0.004*\"trump\" + 0.003*\"bill\" + 0.003*\"hous\" + 0.003*\"pass\" + 0.003*\"famili\" + 0.003*\"peopl\" + 0.003*\"-\" + 0.003*\"presid\" + 0.003*\"nation\" + 0.003*\"new\"'),\n",
       " (7,\n",
       "  '0.003*\"act\" + 0.003*\"commun\" + 0.003*\"presid\" + 0.003*\"trump\" + 0.003*\"peopl\" + 0.003*\"hous\" + 0.003*\"health\" + 0.003*\"need\" + 0.002*\"nation\" + 0.002*\"bill\"'),\n",
       " (8,\n",
       "  '0.004*\"commun\" + 0.004*\"presid\" + 0.003*\"nation\" + 0.003*\"hous\" + 0.003*\"trump\" + 0.003*\"protect\" + 0.003*\"peopl\" + 0.003*\"need\" + 0.003*\"bill\" + 0.002*\"act\"'),\n",
       " (9,\n",
       "  '0.003*\"act\" + 0.003*\"need\" + 0.003*\"trump\" + 0.003*\"hous\" + 0.003*\"presid\" + 0.003*\"peopl\" + 0.003*\"commun\" + 0.003*\"im\" + 0.003*\"nation\" + 0.002*\"support\"')]"
      ]
     },
     "execution_count": 32,
     "metadata": {},
     "output_type": "execute_result"
    }
   ],
   "source": [
    "lda_model.print_topics()"
   ]
  },
  {
   "cell_type": "markdown",
   "metadata": {},
   "source": [
    "### 4.1: Investigating results: beta parameters\n",
    "\n",
    "To investigate the results, load the pre-trained models with the provided code. \n",
    "\n",
    "Retrieve the estimated **beta parameters** from the model. There is a beta per token per topic. A beta indicates how predictive a token is of a document being assigned to a specific topic. \n",
    "\n",
    "1. Beta values can be accessed using either `get_topic_terms` (where you input the topic and number of most predictive tokens you want returned) or `get_topics` (which returns the full matrix of beta values). \n",
    "2. Pick two or three topics (in the solution code the topics 1, 8, 16, 27, 28, 29, 31, 41, 47, 48 were chosen for visualization). Get the 10 highest beta values and plot these in a horizontal barchart with `sns.barplot`, where x is the beta probability and y is the token. \n",
    "\n",
    "**Hint**: Create a dataframe from the matrix generated by `get_topics` with token names as the column names. Tokens can be retrieved with the `id2word.token2id`. Once you have the dataframe, `nlargest` can be used on a specific row to get the columns with the *n* largest values in that row. \n",
    "\n",
    "**Intended take-away**: The \"top terms\" for each topic are just the tokens that have the largest beta. \n",
    "\n",
    "**A note on the results**: You may notice that some topics have an even distributions of probabilities for all terms. This may be because the `minimum_probability` parameter is not low enough, because we do not have enough `passes` and `iterations` and the algorithm has thus not converged properly, or because we have set the number of topics too high for the data. For your own projects, experiment with the parameters."
   ]
  },
  {
   "cell_type": "code",
   "execution_count": 42,
   "metadata": {},
   "outputs": [],
   "source": [
    "#Importing the pre-trained models\n",
    "\n",
    "path ='/Users/kajsarosenblad/Documents/SODAS/Advanced Data Science 2/week 3/Topic_model/'\n",
    "\n",
    "lda_model=pickle.load(open(path+'ldamodel_50t100p1000i000001minprob.sav', 'rb'))\n",
    "corpus=pickle.load(open(path+'corpus_50t100p1000i000001minprob.sav', 'rb'))\n",
    "id2word=pickle.load(open(path+'id2word_50t100p1000i000001minprob.sav', 'rb'))\n"
   ]
  },
  {
   "cell_type": "code",
   "execution_count": 69,
   "metadata": {},
   "outputs": [],
   "source": [
    "#make df with probabilities and words\n",
    "df = pd.DataFrame(lda_model.get_topics(), columns = list(id2word.token2id.keys()))"
   ]
  },
  {
   "cell_type": "code",
   "execution_count": 72,
   "metadata": {
    "scrolled": false
   },
   "outputs": [
    {
     "data": {
      "text/html": [
       "<div>\n",
       "<style scoped>\n",
       "    .dataframe tbody tr th:only-of-type {\n",
       "        vertical-align: middle;\n",
       "    }\n",
       "\n",
       "    .dataframe tbody tr th {\n",
       "        vertical-align: top;\n",
       "    }\n",
       "\n",
       "    .dataframe thead th {\n",
       "        text-align: right;\n",
       "    }\n",
       "</style>\n",
       "<table border=\"1\" class=\"dataframe\">\n",
       "  <thead>\n",
       "    <tr style=\"text-align: right;\">\n",
       "      <th></th>\n",
       "      <th>#</th>\n",
       "      <th>#_prioriti</th>\n",
       "      <th>#actonclim</th>\n",
       "      <th>#articlesofimpeach</th>\n",
       "      <th>#ashantialert</th>\n",
       "      <th>#az</th>\n",
       "      <th>#ca</th>\n",
       "      <th>#climatechang</th>\n",
       "      <th>#congress</th>\n",
       "      <th>#enoughisenough</th>\n",
       "      <th>...</th>\n",
       "      <th>#covidー</th>\n",
       "      <th>coronaviru_fund</th>\n",
       "      <th>spread_#covid</th>\n",
       "      <th>#coronaviru_fund</th>\n",
       "      <th>#covid_-</th>\n",
       "      <th>coronaviru_covid</th>\n",
       "      <th>emerg_#coronaviru</th>\n",
       "      <th>often_soap</th>\n",
       "      <th>#coronaviru_#covid</th>\n",
       "      <th>avoid_touch</th>\n",
       "    </tr>\n",
       "  </thead>\n",
       "  <tbody>\n",
       "    <tr>\n",
       "      <th>0</th>\n",
       "      <td>0.0000079177</td>\n",
       "      <td>0.0000079177</td>\n",
       "      <td>0.0000079177</td>\n",
       "      <td>0.0000079177</td>\n",
       "      <td>0.0000079177</td>\n",
       "      <td>0.0000079177</td>\n",
       "      <td>0.0000079177</td>\n",
       "      <td>0.0000079177</td>\n",
       "      <td>0.0000079177</td>\n",
       "      <td>0.0000079177</td>\n",
       "      <td>...</td>\n",
       "      <td>0.0000079177</td>\n",
       "      <td>0.0000079177</td>\n",
       "      <td>0.0000079177</td>\n",
       "      <td>0.0000079177</td>\n",
       "      <td>0.0000079177</td>\n",
       "      <td>0.0000079177</td>\n",
       "      <td>0.0000079177</td>\n",
       "      <td>0.0000079177</td>\n",
       "      <td>0.0000079177</td>\n",
       "      <td>0.0000079177</td>\n",
       "    </tr>\n",
       "    <tr>\n",
       "      <th>1</th>\n",
       "      <td>0.0000807007</td>\n",
       "      <td>0.0000003125</td>\n",
       "      <td>0.0000198639</td>\n",
       "      <td>0.0000003125</td>\n",
       "      <td>0.0000003125</td>\n",
       "      <td>0.0000306145</td>\n",
       "      <td>0.0000003125</td>\n",
       "      <td>0.0001091940</td>\n",
       "      <td>0.0000003125</td>\n",
       "      <td>0.0000003125</td>\n",
       "      <td>...</td>\n",
       "      <td>0.0000003125</td>\n",
       "      <td>0.0000003125</td>\n",
       "      <td>0.0000003125</td>\n",
       "      <td>0.0000003125</td>\n",
       "      <td>0.0000003125</td>\n",
       "      <td>0.0000003125</td>\n",
       "      <td>0.0000003125</td>\n",
       "      <td>0.0000003125</td>\n",
       "      <td>0.0000003125</td>\n",
       "      <td>0.0000003125</td>\n",
       "    </tr>\n",
       "    <tr>\n",
       "      <th>2</th>\n",
       "      <td>0.0000079177</td>\n",
       "      <td>0.0000079177</td>\n",
       "      <td>0.0000079177</td>\n",
       "      <td>0.0000079177</td>\n",
       "      <td>0.0000079177</td>\n",
       "      <td>0.0000079177</td>\n",
       "      <td>0.0000079177</td>\n",
       "      <td>0.0000079177</td>\n",
       "      <td>0.0000079177</td>\n",
       "      <td>0.0000079177</td>\n",
       "      <td>...</td>\n",
       "      <td>0.0000079177</td>\n",
       "      <td>0.0000079177</td>\n",
       "      <td>0.0000079177</td>\n",
       "      <td>0.0000079177</td>\n",
       "      <td>0.0000079177</td>\n",
       "      <td>0.0000079177</td>\n",
       "      <td>0.0000079177</td>\n",
       "      <td>0.0000079177</td>\n",
       "      <td>0.0000079177</td>\n",
       "      <td>0.0000079177</td>\n",
       "    </tr>\n",
       "    <tr>\n",
       "      <th>3</th>\n",
       "      <td>0.0003221107</td>\n",
       "      <td>0.0000000599</td>\n",
       "      <td>0.0000000599</td>\n",
       "      <td>0.0000000599</td>\n",
       "      <td>0.0000000599</td>\n",
       "      <td>0.0002198963</td>\n",
       "      <td>0.0000144571</td>\n",
       "      <td>0.0000000599</td>\n",
       "      <td>0.0000923247</td>\n",
       "      <td>0.0000000599</td>\n",
       "      <td>...</td>\n",
       "      <td>0.0000000599</td>\n",
       "      <td>0.0000000599</td>\n",
       "      <td>0.0000000599</td>\n",
       "      <td>0.0000000599</td>\n",
       "      <td>0.0000000599</td>\n",
       "      <td>0.0000000599</td>\n",
       "      <td>0.0000000599</td>\n",
       "      <td>0.0000000599</td>\n",
       "      <td>0.0000000599</td>\n",
       "      <td>0.0000000599</td>\n",
       "    </tr>\n",
       "    <tr>\n",
       "      <th>4</th>\n",
       "      <td>0.0000079177</td>\n",
       "      <td>0.0000079177</td>\n",
       "      <td>0.0000079177</td>\n",
       "      <td>0.0000079177</td>\n",
       "      <td>0.0000079177</td>\n",
       "      <td>0.0000079177</td>\n",
       "      <td>0.0000079177</td>\n",
       "      <td>0.0000079177</td>\n",
       "      <td>0.0000079177</td>\n",
       "      <td>0.0000079177</td>\n",
       "      <td>...</td>\n",
       "      <td>0.0000079177</td>\n",
       "      <td>0.0000079177</td>\n",
       "      <td>0.0000079177</td>\n",
       "      <td>0.0000079177</td>\n",
       "      <td>0.0000079177</td>\n",
       "      <td>0.0000079177</td>\n",
       "      <td>0.0000079177</td>\n",
       "      <td>0.0000079177</td>\n",
       "      <td>0.0000079177</td>\n",
       "      <td>0.0000079177</td>\n",
       "    </tr>\n",
       "  </tbody>\n",
       "</table>\n",
       "<p>5 rows × 126300 columns</p>\n",
       "</div>"
      ],
      "text/plain": [
       "                     #           #_prioriti           #actonclim  \\\n",
       "0         0.0000079177         0.0000079177         0.0000079177   \n",
       "1         0.0000807007         0.0000003125         0.0000198639   \n",
       "2         0.0000079177         0.0000079177         0.0000079177   \n",
       "3         0.0003221107         0.0000000599         0.0000000599   \n",
       "4         0.0000079177         0.0000079177         0.0000079177   \n",
       "\n",
       "    #articlesofimpeach        #ashantialert                  #az  \\\n",
       "0         0.0000079177         0.0000079177         0.0000079177   \n",
       "1         0.0000003125         0.0000003125         0.0000306145   \n",
       "2         0.0000079177         0.0000079177         0.0000079177   \n",
       "3         0.0000000599         0.0000000599         0.0002198963   \n",
       "4         0.0000079177         0.0000079177         0.0000079177   \n",
       "\n",
       "                   #ca        #climatechang            #congress  \\\n",
       "0         0.0000079177         0.0000079177         0.0000079177   \n",
       "1         0.0000003125         0.0001091940         0.0000003125   \n",
       "2         0.0000079177         0.0000079177         0.0000079177   \n",
       "3         0.0000144571         0.0000000599         0.0000923247   \n",
       "4         0.0000079177         0.0000079177         0.0000079177   \n",
       "\n",
       "       #enoughisenough  ...              #covidー      coronaviru_fund  \\\n",
       "0         0.0000079177  ...         0.0000079177         0.0000079177   \n",
       "1         0.0000003125  ...         0.0000003125         0.0000003125   \n",
       "2         0.0000079177  ...         0.0000079177         0.0000079177   \n",
       "3         0.0000000599  ...         0.0000000599         0.0000000599   \n",
       "4         0.0000079177  ...         0.0000079177         0.0000079177   \n",
       "\n",
       "         spread_#covid     #coronaviru_fund             #covid_-  \\\n",
       "0         0.0000079177         0.0000079177         0.0000079177   \n",
       "1         0.0000003125         0.0000003125         0.0000003125   \n",
       "2         0.0000079177         0.0000079177         0.0000079177   \n",
       "3         0.0000000599         0.0000000599         0.0000000599   \n",
       "4         0.0000079177         0.0000079177         0.0000079177   \n",
       "\n",
       "      coronaviru_covid    emerg_#coronaviru           often_soap  \\\n",
       "0         0.0000079177         0.0000079177         0.0000079177   \n",
       "1         0.0000003125         0.0000003125         0.0000003125   \n",
       "2         0.0000079177         0.0000079177         0.0000079177   \n",
       "3         0.0000000599         0.0000000599         0.0000000599   \n",
       "4         0.0000079177         0.0000079177         0.0000079177   \n",
       "\n",
       "    #coronaviru_#covid          avoid_touch  \n",
       "0         0.0000079177         0.0000079177  \n",
       "1         0.0000003125         0.0000003125  \n",
       "2         0.0000079177         0.0000079177  \n",
       "3         0.0000000599         0.0000000599  \n",
       "4         0.0000079177         0.0000079177  \n",
       "\n",
       "[5 rows x 126300 columns]"
      ]
     },
     "execution_count": 72,
     "metadata": {},
     "output_type": "execute_result"
    }
   ],
   "source": [
    "pd.options.display.float_format = '{:20,.10f}'.format\n",
    "\n",
    "df.head()"
   ]
  },
  {
   "cell_type": "code",
   "execution_count": 112,
   "metadata": {},
   "outputs": [],
   "source": [
    "#first topic\n",
    "first = df.iloc[1].nlargest(10)\n",
    "\n",
    "x = first.values\n",
    "y = first.index"
   ]
  },
  {
   "cell_type": "code",
   "execution_count": 113,
   "metadata": {},
   "outputs": [
    {
     "data": {
      "text/plain": [
       "<matplotlib.axes._subplots.AxesSubplot at 0x7fd1d195d7f0>"
      ]
     },
     "execution_count": 113,
     "metadata": {},
     "output_type": "execute_result"
    },
    {
     "data": {
      "image/png": "[encoded data removed]",
      "text/plain": [
       "<Figure size 432x288 with 1 Axes>"
      ]
     },
     "metadata": {
      "needs_background": "light"
     },
     "output_type": "display_data"
    }
   ],
   "source": [
    "sns.barplot(x,y)"
   ]
  },
  {
   "cell_type": "markdown",
   "metadata": {},
   "source": [
    "### 4.2: Investigating results: gamma parameters\n",
    "\n",
    "Retrieve the estimated **gamma parameters** from the model. For each document, you will get a list of topics with an associated gamma. The gammas indicate the probability (or amount) that a document is about a specific topic.\n",
    "\n",
    "1. Use `get_document_topics` with the full corpus to get lists of probabilities for each document. Set `minimum_probability = 0.0`. The code will be: `lda_model.get_document_topics(corpus, minimum_probability = 0.0)`. Make this a list. \n",
    "2. Save the probabilities in the original dataframe. You can find inspiration for how to do this in the pseudo-code:\n",
    "\n",
    "**Pseudo-code to save the probabilities in the original dataframe:**\n",
    "\n",
    "Use list comprehension to create a list of 50 topic names (e.g. topic_1, topic_2 etc.)\n",
    "\n",
    "Create a dataframe filled with zeros of the shape (number of documents - 864, number of topics - 50) and with columns = the list of 50 topic names. \n",
    "\n",
    "For each index, document in the list of gamma probabilities: <br>\n",
    "<font color=white>0000</font>for each topic-probability pair in the document: <br>\n",
    "<font color=white>00000000</font>locate index and column with that topic name and save the probability\n",
    "\n",
    "Concatenate this dataframe with the original dataframe over axis 1.\n",
    "\n"
   ]
  },
  {
   "cell_type": "code",
   "execution_count": 201,
   "metadata": {},
   "outputs": [],
   "source": [
    "gamma = list(lda_model.get_document_topics(corpus, minimum_probability = 0.0))"
   ]
  },
  {
   "cell_type": "code",
   "execution_count": 253,
   "metadata": {},
   "outputs": [],
   "source": [
    "document_topics = list(lda_model.get_document_topics(corpus))"
   ]
  },
  {
   "cell_type": "code",
   "execution_count": 254,
   "metadata": {},
   "outputs": [],
   "source": [
    "#Creating a list of names for all 50 topics\n",
    "topics = ['topic_{}'.format(t) for t in range(0,50)]\n",
    "\n",
    "#Creating a dataframe of gamma probabilities \n",
    "gamma_probs = pd.DataFrame(np.zeros((len(document_topics),50)), columns = topics)\n",
    "\n",
    "for i, doc in enumerate(document_topics): \n",
    "    for pair in doc: \n",
    "        gamma_probs.loc[i,'topic_{}'.format(pair[0])] = pair[1]"
   ]
  },
  {
   "cell_type": "code",
   "execution_count": 255,
   "metadata": {},
   "outputs": [
    {
     "data": {
      "text/html": [
       "<div>\n",
       "<style scoped>\n",
       "    .dataframe tbody tr th:only-of-type {\n",
       "        vertical-align: middle;\n",
       "    }\n",
       "\n",
       "    .dataframe tbody tr th {\n",
       "        vertical-align: top;\n",
       "    }\n",
       "\n",
       "    .dataframe thead th {\n",
       "        text-align: right;\n",
       "    }\n",
       "</style>\n",
       "<table border=\"1\" class=\"dataframe\">\n",
       "  <thead>\n",
       "    <tr style=\"text-align: right;\">\n",
       "      <th></th>\n",
       "      <th>date</th>\n",
       "      <th>affiliation</th>\n",
       "      <th>text_stemmed</th>\n",
       "      <th>bigrams</th>\n",
       "      <th>combined</th>\n",
       "      <th>topic_0</th>\n",
       "      <th>topic_1</th>\n",
       "      <th>topic_2</th>\n",
       "      <th>topic_3</th>\n",
       "      <th>topic_4</th>\n",
       "      <th>...</th>\n",
       "      <th>topic_40</th>\n",
       "      <th>topic_41</th>\n",
       "      <th>topic_42</th>\n",
       "      <th>topic_43</th>\n",
       "      <th>topic_44</th>\n",
       "      <th>topic_45</th>\n",
       "      <th>topic_46</th>\n",
       "      <th>topic_47</th>\n",
       "      <th>topic_48</th>\n",
       "      <th>topic_49</th>\n",
       "    </tr>\n",
       "  </thead>\n",
       "  <tbody>\n",
       "    <tr>\n",
       "      <th>0</th>\n",
       "      <td>2019-01-01</td>\n",
       "      <td>Democrat</td>\n",
       "      <td>[tragedi, great, news, presid, signatur, tonig...</td>\n",
       "      <td>[tragedi_great, great_news, news_presid, presi...</td>\n",
       "      <td>[tragedi, great, news, presid, signatur, tonig...</td>\n",
       "      <td>0.0000040036</td>\n",
       "      <td>0.0000040036</td>\n",
       "      <td>0.0000040036</td>\n",
       "      <td>0.0000040036</td>\n",
       "      <td>0.0000040036</td>\n",
       "      <td>...</td>\n",
       "      <td>0.0000040036</td>\n",
       "      <td>0.0000040036</td>\n",
       "      <td>0.0000040036</td>\n",
       "      <td>0.0000040036</td>\n",
       "      <td>0.1166141406</td>\n",
       "      <td>0.0000040036</td>\n",
       "      <td>0.0000040036</td>\n",
       "      <td>0.0000040036</td>\n",
       "      <td>0.0000040036</td>\n",
       "      <td>0.0000040036</td>\n",
       "    </tr>\n",
       "    <tr>\n",
       "      <th>1</th>\n",
       "      <td>2019-01-01</td>\n",
       "      <td>Republican</td>\n",
       "      <td>[happi, healthi, prosper, #happynewyear, #, k,...</td>\n",
       "      <td>[happi_healthi, healthi_prosper, prosper_#happ...</td>\n",
       "      <td>[happi, healthi, prosper, #happynewyear, #, k,...</td>\n",
       "      <td>0.0000098014</td>\n",
       "      <td>0.0000098014</td>\n",
       "      <td>0.0000098014</td>\n",
       "      <td>0.1109791324</td>\n",
       "      <td>0.0000098014</td>\n",
       "      <td>...</td>\n",
       "      <td>0.0000098014</td>\n",
       "      <td>0.0000098014</td>\n",
       "      <td>0.0000098014</td>\n",
       "      <td>0.0000098014</td>\n",
       "      <td>0.2077576369</td>\n",
       "      <td>0.0000098014</td>\n",
       "      <td>0.0000098014</td>\n",
       "      <td>0.0000098014</td>\n",
       "      <td>0.0000098014</td>\n",
       "      <td>0.0000098014</td>\n",
       "    </tr>\n",
       "    <tr>\n",
       "      <th>2</th>\n",
       "      <td>2019-01-02</td>\n",
       "      <td>Democrat</td>\n",
       "      <td>[amen, ,, supervisor, told, wont, get, paid, b...</td>\n",
       "      <td>[amen_,, ,_supervisor, supervisor_told, told_w...</td>\n",
       "      <td>[amen, ,, supervisor, told, wont, get, paid, b...</td>\n",
       "      <td>0.0000022513</td>\n",
       "      <td>0.0000022513</td>\n",
       "      <td>0.0000022513</td>\n",
       "      <td>0.0000022513</td>\n",
       "      <td>0.0000022513</td>\n",
       "      <td>...</td>\n",
       "      <td>0.0000022513</td>\n",
       "      <td>0.0000022513</td>\n",
       "      <td>0.0000022513</td>\n",
       "      <td>0.0000022513</td>\n",
       "      <td>0.0019891364</td>\n",
       "      <td>0.0000022513</td>\n",
       "      <td>0.0000022513</td>\n",
       "      <td>0.0000022513</td>\n",
       "      <td>0.0000022513</td>\n",
       "      <td>0.0000022513</td>\n",
       "    </tr>\n",
       "    <tr>\n",
       "      <th>3</th>\n",
       "      <td>2019-01-02</td>\n",
       "      <td>Republican</td>\n",
       "      <td>[see, mr, alright, alright, alright, sidelin, ...</td>\n",
       "      <td>[see_mr, mr_alright, alright_alright, alright_...</td>\n",
       "      <td>[see, mr, alright, alright, alright, sidelin, ...</td>\n",
       "      <td>0.0000052214</td>\n",
       "      <td>0.0000052214</td>\n",
       "      <td>0.0000052214</td>\n",
       "      <td>0.2008715570</td>\n",
       "      <td>0.0000052214</td>\n",
       "      <td>...</td>\n",
       "      <td>0.0000052214</td>\n",
       "      <td>0.0000052214</td>\n",
       "      <td>0.0000052214</td>\n",
       "      <td>0.0000052214</td>\n",
       "      <td>0.0034422667</td>\n",
       "      <td>0.0000052214</td>\n",
       "      <td>0.0000052214</td>\n",
       "      <td>0.0000052214</td>\n",
       "      <td>0.0000052214</td>\n",
       "      <td>0.5588358641</td>\n",
       "    </tr>\n",
       "    <tr>\n",
       "      <th>4</th>\n",
       "      <td>2019-01-03</td>\n",
       "      <td>Democrat</td>\n",
       "      <td>[shutdown, pay, freez, feder, govern, suffer, ...</td>\n",
       "      <td>[shutdown_pay, pay_freez, freez_feder, feder_g...</td>\n",
       "      <td>[shutdown, pay, freez, feder, govern, suffer, ...</td>\n",
       "      <td>0.0000009560</td>\n",
       "      <td>0.0000009560</td>\n",
       "      <td>0.0000009560</td>\n",
       "      <td>0.0000009560</td>\n",
       "      <td>0.0000009560</td>\n",
       "      <td>...</td>\n",
       "      <td>0.1620800346</td>\n",
       "      <td>0.0000009560</td>\n",
       "      <td>0.0000009560</td>\n",
       "      <td>0.0000009560</td>\n",
       "      <td>0.0008875149</td>\n",
       "      <td>0.0000009560</td>\n",
       "      <td>0.0000009560</td>\n",
       "      <td>0.0000009560</td>\n",
       "      <td>0.0000009560</td>\n",
       "      <td>0.0000009560</td>\n",
       "    </tr>\n",
       "  </tbody>\n",
       "</table>\n",
       "<p>5 rows × 55 columns</p>\n",
       "</div>"
      ],
      "text/plain": [
       "        date affiliation                                       text_stemmed  \\\n",
       "0 2019-01-01    Democrat  [tragedi, great, news, presid, signatur, tonig...   \n",
       "1 2019-01-01  Republican  [happi, healthi, prosper, #happynewyear, #, k,...   \n",
       "2 2019-01-02    Democrat  [amen, ,, supervisor, told, wont, get, paid, b...   \n",
       "3 2019-01-02  Republican  [see, mr, alright, alright, alright, sidelin, ...   \n",
       "4 2019-01-03    Democrat  [shutdown, pay, freez, feder, govern, suffer, ...   \n",
       "\n",
       "                                             bigrams  \\\n",
       "0  [tragedi_great, great_news, news_presid, presi...   \n",
       "1  [happi_healthi, healthi_prosper, prosper_#happ...   \n",
       "2  [amen_,, ,_supervisor, supervisor_told, told_w...   \n",
       "3  [see_mr, mr_alright, alright_alright, alright_...   \n",
       "4  [shutdown_pay, pay_freez, freez_feder, feder_g...   \n",
       "\n",
       "                                            combined              topic_0  \\\n",
       "0  [tragedi, great, news, presid, signatur, tonig...         0.0000040036   \n",
       "1  [happi, healthi, prosper, #happynewyear, #, k,...         0.0000098014   \n",
       "2  [amen, ,, supervisor, told, wont, get, paid, b...         0.0000022513   \n",
       "3  [see, mr, alright, alright, alright, sidelin, ...         0.0000052214   \n",
       "4  [shutdown, pay, freez, feder, govern, suffer, ...         0.0000009560   \n",
       "\n",
       "               topic_1              topic_2              topic_3  \\\n",
       "0         0.0000040036         0.0000040036         0.0000040036   \n",
       "1         0.0000098014         0.0000098014         0.1109791324   \n",
       "2         0.0000022513         0.0000022513         0.0000022513   \n",
       "3         0.0000052214         0.0000052214         0.2008715570   \n",
       "4         0.0000009560         0.0000009560         0.0000009560   \n",
       "\n",
       "               topic_4  ...             topic_40             topic_41  \\\n",
       "0         0.0000040036  ...         0.0000040036         0.0000040036   \n",
       "1         0.0000098014  ...         0.0000098014         0.0000098014   \n",
       "2         0.0000022513  ...         0.0000022513         0.0000022513   \n",
       "3         0.0000052214  ...         0.0000052214         0.0000052214   \n",
       "4         0.0000009560  ...         0.1620800346         0.0000009560   \n",
       "\n",
       "              topic_42             topic_43             topic_44  \\\n",
       "0         0.0000040036         0.0000040036         0.1166141406   \n",
       "1         0.0000098014         0.0000098014         0.2077576369   \n",
       "2         0.0000022513         0.0000022513         0.0019891364   \n",
       "3         0.0000052214         0.0000052214         0.0034422667   \n",
       "4         0.0000009560         0.0000009560         0.0008875149   \n",
       "\n",
       "              topic_45             topic_46             topic_47  \\\n",
       "0         0.0000040036         0.0000040036         0.0000040036   \n",
       "1         0.0000098014         0.0000098014         0.0000098014   \n",
       "2         0.0000022513         0.0000022513         0.0000022513   \n",
       "3         0.0000052214         0.0000052214         0.0000052214   \n",
       "4         0.0000009560         0.0000009560         0.0000009560   \n",
       "\n",
       "              topic_48             topic_49  \n",
       "0         0.0000040036         0.0000040036  \n",
       "1         0.0000098014         0.0000098014  \n",
       "2         0.0000022513         0.0000022513  \n",
       "3         0.0000052214         0.5588358641  \n",
       "4         0.0000009560         0.0000009560  \n",
       "\n",
       "[5 rows x 55 columns]"
      ]
     },
     "execution_count": 255,
     "metadata": {},
     "output_type": "execute_result"
    }
   ],
   "source": [
    "#Merging with the original dataframe \n",
    "gamma_df = pd.concat((tweets_agg,gamma_probs), axis = 1)\n",
    "\n",
    "#Viewing the concatenated dataframe\n",
    "gamma_df.head()"
   ]
  },
  {
   "cell_type": "code",
   "execution_count": null,
   "metadata": {},
   "outputs": [],
   "source": []
  },
  {
   "cell_type": "markdown",
   "metadata": {},
   "source": [
    "### 5: Visualizing the development of the coronavirus related topic \n",
    "\n",
    "Getting back to the original question: How has the topic of coronavirus progressed on Twitter among Members of Congress over time? \n",
    "\n",
    "1. Use `print_topics` to look through the 10 most relevant words of each topic and identify the topic related to coronavirus. \n",
    "2. If it is not already, convert the date column from string type to datetime type\n",
    "3. Graph the development of the coronavirus topic over time. Create a plot where x = date, y = the covid topic, and hue = affiliation. \n",
    "4. Do the same with a subset of the dataset only including 2020. \n",
    "\n",
    "Can you see which party was quicker to set the agenda around COVID-19? \n"
   ]
  },
  {
   "cell_type": "code",
   "execution_count": 259,
   "metadata": {
    "scrolled": true
   },
   "outputs": [
    {
     "data": {
      "text/plain": [
       "<matplotlib.axes._subplots.AxesSubplot at 0x7fd1eb495f70>"
      ]
     },
     "execution_count": 259,
     "metadata": {},
     "output_type": "execute_result"
    },
    {
     "data": {
      "image/png": "[encoded data removed]",
      "text/plain": [
       "<Figure size 1008x576 with 1 Axes>"
      ]
     },
     "metadata": {
      "needs_background": "light"
     },
     "output_type": "display_data"
    }
   ],
   "source": [
    "plt.figure(figsize = (14,8))\n",
    "sns.lineplot(x = 'date', y = 'topic_41', hue = 'affiliation', data = gamma_df, palette = ['blue', 'red'])"
   ]
  }
 ],
 "metadata": {
  "kernelspec": {
   "display_name": "Python 3",
   "language": "python",
   "name": "python3"
  },
  "language_info": {
   "codemirror_mode": {
    "name": "ipython",
    "version": 3
   },
   "file_extension": ".py",
   "mimetype": "text/x-python",
   "name": "python",
   "nbconvert_exporter": "python",
   "pygments_lexer": "ipython3",
   "version": "3.8.3"
  }
 },
 "nbformat": 4,
 "nbformat_minor": 4
}
