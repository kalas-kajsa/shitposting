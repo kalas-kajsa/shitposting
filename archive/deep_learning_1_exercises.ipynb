{
  "nbformat": 4,
  "nbformat_minor": 0,
  "metadata": {
    "colab": {
      "name": "deep_learning_1_exercises.ipynb",
      "provenance": [],
      "collapsed_sections": []
    },
    "kernelspec": {
      "display_name": "Python 3",
      "language": "python",
      "name": "python3"
    },
    "language_info": {
      "codemirror_mode": {
        "name": "ipython",
        "version": 3
      },
      "file_extension": ".py",
      "mimetype": "text/x-python",
      "name": "python",
      "nbconvert_exporter": "python",
      "pygments_lexer": "ipython3",
      "version": "3.6.7"
    }
  },
  "cells": [
    {
      "cell_type": "code",
      "metadata": {
        "collapsed": true,
        "id": "e5Fova14eWxP"
      },
      "source": [
        "import numpy as np\n",
        "import matplotlib.pyplot as plt\n",
        "import networkx as nx\n",
        "import tensorflow.keras as nn"
      ],
      "execution_count": null,
      "outputs": []
    },
    {
      "cell_type": "markdown",
      "metadata": {
        "id": "zdSTPkw9eWxW"
      },
      "source": [
        "# DEEP LEARNING 1 Exercises\n",
        "Today we will practice the basics. First some Linear Algebra using numpy. Remember that working with vectors and matrices is a central skill in data science, and in particular in relation to not only deep learning but high dimensional data sources (networks, text and images). So grab the chance to brush up.\n",
        "\n",
        "Secondly we shall practice our understanding of what actually goes on inside the neural network, here we shall practice reading network represenations of what can be called the computational graph that a neural network is. We will practice on small and simple networks, but understanding these basic mechanics is crucial before we can move towards more abstract representations of larger and more complex neural network architectures (Convulational neural networks, Recurrent Neural Networks, Transformers,  AutoEncoder), that we will look more into in the next lecture. \n",
        "\n",
        "Thirdly we will start practicing the mechanics of building and fitting a neural network model using the ```keras``` deep learning framework."
      ]
    },
    {
      "cell_type": "markdown",
      "metadata": {
        "id": "91MFa4-7eWxY"
      },
      "source": [
        "# 1 Linear Algebra\n",
        "The purpose of these exercises is to practice linear algebra - vector and matrix (and tensor) operations - and to get acquinted with the ```\n",
        "numpy``` library for doing vector and matrix operations.\n",
        "\n",
        "Vector and matrix operations are central to among other things deep learning. Operations such as Dot product, and Matrix Inversion can be thought of as ```for``` loops describing simple operations of addition and multiplication, in a specific order related to the rows and columns.\n",
        "\n",
        "Here we practice the mechanics both by implementing them as ```for```-loops and using the ```numpy``` python package.\n",
        "\n",
        "## Intro (SKIP if superflous)\n",
        "### Vectors and Matrices\n",
        "In ```\n",
        "numpy```, we use the ```\n",
        "numpy.array``` to represent both vectors and matrices. Arrays are like lists, they are just indexed containers for any object, however they have a fixed size. \n",
        "If an array contain only numbers (scalars), it is a vector.\n",
        "```python\n",
        "a = np.array([4,3,2,1])# a is a vector\n",
        "```\n",
        "Vectors values can be accesed using standard list notation:\n",
        "```python\n",
        "a[0]\n",
        "> 4\n",
        "a[-1]\n",
        "> 1\n",
        "```\n",
        "\n",
        "### Matrices\n",
        "If an array contains a list of vectors of equal size (same length) it is a matrix. In this regard we can think of matrices simply as lists of lists.\n",
        "```python\n",
        "M = np.array([[1,2,3,4],\n",
        "              [3,4,5,6],\n",
        "              [2,3,1,0]])# M is a Matrix\n",
        "```\n",
        "Because the vectors have the same length, the matrix is rectangular, and therefore values can be accessed using row and column indices. You can use standard python list syntax ```[]```, as well as a more convenient numpy style.\n",
        "\n",
        "```python\n",
        "## Python list of lists syntax\n",
        "M[0][0]# index 0 in first list, index 0 in list of list.\n",
        "> 1\n",
        "## numpy array syntax \n",
        "a[0,3] # row index 0 and column index 3\n",
        "> 4\n",
        "```\n",
        "You can slice, again using standard list syntax, as well as more convenient numpy syntax:\n",
        "\n",
        "```python\n",
        "## Python list of lists syntax\n",
        "M[1:3][0:2]# two second lists, two first elements of lists.\n",
        ">  np.array([[3,4],\n",
        "              [2,3]])\n",
        "## numpy array syntax \n",
        "a[1:3,0:2] # row index 1 and 2 and column index 0 and 1\n",
        ">  np.array([[3,4],\n",
        "              [2,3]])\n",
        "\n",
        "```\n"
      ]
    },
    {
      "cell_type": "markdown",
      "metadata": {
        "id": "ZDb9gxGHeWxZ"
      },
      "source": [
        "### Vector dot product\n",
        "The *vector-to-vector* dotproduct is essentially a weighed sum between two vectors (vectors are just lists of scalar numbers). Where values are paired by index. Weighing means that paired values (i.e. same index) are multiplied. \n",
        "\n",
        "The dot product between vectors a and b: $a\\cdot b = \\sum_{i}^{n}a_i b_i = a_1b_1+a_2b_2 ... a_nb_n$\n",
        "\n",
        "The dot product between the vector ```a = [1,2,3,4]``` and ```b = [4,3,2,1]``` is 20. \n",
        "\n",
        "\n",
        "\n",
        "**Exercise 1.1**: Write a function that computes the dot product (i.e. weighed sum) between two lists. Arguments to the function should be called x (inputs) and w (weights). \n",
        "- Write a function ```w_sum``` that multiplies index paired values and ```return``` the ```sum```. \n",
        "  1. Define a **for** loop that iterates through the indices of the two lists (hint: use the ```range()``` function, multiply the two values, and increment the resulting value to a variable *output*.\n",
        "  2. Return the *output* value.\n",
        "- Verify that it works by computing the w_sum of vector a and b (defined above).\n",
        "- Now cast vector a and b as a ```numpy``` array - ```np.array()``` - and compute the ```.dot``` product. using the built in ```.dot``` method of the array object.\n",
        "- Generate two random vectors of size 1000 using the ```np.random.random``` function, and compare the effiency (i.e. the time it takes to compute) of the  ```w_sum``` and the numpy ```.dot``` product. \n",
        "  - This can either be done using the ```time``` module, or the ```%timeit ``` notebook functionality."
      ]
    },
    {
      "cell_type": "code",
      "metadata": {
        "collapsed": true,
        "id": "aj6vQf11eWxZ"
      },
      "source": [
        "# your code here"
      ],
      "execution_count": null,
      "outputs": []
    },
    {
      "cell_type": "markdown",
      "metadata": {
        "id": "e3PjsLy4eWxa"
      },
      "source": [
        "## Matrix operations: Transposing and slicing.\n",
        "Here we practice generating matrices, transposing and slicing them. \n",
        "\n",
        "**Exercise 1.2**\n",
        "Construct a 10 times 10 matrix like so:\n",
        "```\n",
        "M = np.ones((5,5))\n",
        "M = M * np.random.choice(np.arange(5),(5,5))\n",
        "```\n",
        "- Practice the builtin functions of the numpy array: ```.sum(),.mean(),.max()```\n",
        "  1. Take the sum of the matrix.\n",
        "  2. Take the sum along ```axis=1```, use the ```axis``` argument of the sum function. Is this the row or the column sum?\n",
        "  3. Take the mean of each row using the ```.mean()``` builtin function (use the right axis). \n",
        "  4. Define the transposed matrix ```M_t``` using the ```.T``` builtin function. Explain what happened. \n",
        "\n",
        "- Slice the matrix into different shapes.\n",
        "  - Define a smaller matrix ```S``` as submatrix of M: Using the numpy slicing syntax (```M[i:j,h:k]```) extract all values of rows 1-4 of columns 3 through 8.\n",
        "  "
      ]
    },
    {
      "cell_type": "code",
      "metadata": {
        "collapsed": true,
        "id": "cAw5MdsFeWxa"
      },
      "source": [
        "# your code here"
      ],
      "execution_count": null,
      "outputs": []
    },
    {
      "cell_type": "markdown",
      "metadata": {
        "id": "y3MPxDt9eWxb"
      },
      "source": [
        "## Matrix-Matrix dot product\n",
        "Now it becomes a little more tricky, in the sense that we are still doing simple operations, but there are more indices to keep track of. \n",
        "\n",
        "Vectors only have row indices, that we use to pair values. But how should we pair a matrix with both row and column indices? \n",
        "By mathematical convention we pair **all** row vectors with **all** column vectors. Because we match rows to columns, if we want to calculate the .dot product between matrix A and B, we need to make sure that the number of rows in matrix A matches the number of columns in matrix B.\n",
        "```python\n",
        "A = [\n",
        "  [4. 1. 0. 1.] # row 0\n",
        "  [0. 3. 3. 1.] # row 1\n",
        "]\n",
        "B = [\n",
        "  [0. 1.] # row 0\n",
        " [3. 1.]  # row 1\n",
        " [0. 4.]  # row 3\n",
        " [2. 1.]  # row 4\n",
        "]\n",
        "\n",
        "``` \n",
        "In this case A is a 2x4 matrix and B is a 4x2. \n",
        "So the dot product between the matrices can be thought of as two nested for loops, where we iterate through all row vectors of matrix A matching them with all columns vectors of matrix B.\n",
        "With every row and column pair, we compute a dot product. \n",
        "\n",
        "This furthermore means that the order matters - i.e. that A dot B is not the same as B dot A. \n",
        "\n",
        "**Exercise 1.3: Matrix to matrix dot products**\n",
        "\n",
        "Again we want to get a practical feel of the mechanics by implementing the operation ourselves using basic python. We already defined the ```w_sum``` for doing vector dot products. Now we want to write a function that matches row vectors from one matrix to column vectors in another and computes the ```w_sum```.\n",
        "We will work with the matrices A, B defined here:\n",
        "```python\n",
        "A = M[0:2,0:4]\n",
        "B = M[0:4,2:4]\n",
        "```\n",
        "\n",
        "- Write function ```multiple_wsum(A,B)``` with arguments A and B as two numpy arrays. In the function, follow these steps:\n",
        "  1. Define a list called `output`.\n",
        "  2. Run through all row vectors/indices *i* in A. \n",
        "    - Define temporary list for storing the dot products.\n",
        "    - Extract the ith row vector of `A`\n",
        "    - Run through all column vectors/indices *j* in `B`\n",
        "      - Compute `w_sum` (or `.dot`) between the i'th row in A and j'th column in B\n",
        "      - Append to tempoary list\n",
        "    - Append temporary list to `output` list.\n",
        "  3. Return `output`\n",
        "\n",
        "- Validate that your function outputs the same as the numpy equivalent: ```A.dot(B)```"
      ]
    },
    {
      "cell_type": "code",
      "metadata": {
        "collapsed": true,
        "id": "syljnAzKeWxb"
      },
      "source": [
        "A = M[0:2,0:4]\n",
        "B = M[0:4,2:4]\n",
        "print(A)\n",
        "print(B)\n",
        "\n",
        "def multiple_wsum(A,B):\n",
        "    #your code here\n",
        "  return output\n",
        "\n",
        "multiple_wsum(A,B), A.dot(B)"
      ],
      "execution_count": null,
      "outputs": []
    },
    {
      "cell_type": "markdown",
      "metadata": {
        "id": "Nn4RistleWxc"
      },
      "source": [
        "# 2 Forward and backprpagation\n",
        "\n",
        "**Exercise 2.1: Pen and Paper Neural Networks: Forward propagation.**\n",
        "\n",
        "For this exercise I want you to do the calculations by hand. \n",
        "Given the following inputs: \n",
        "```\n",
        "inputs = [\n",
        "[1, 4, -2],\n",
        "[1, 4, -4],\n",
        "[1, 3, 1]]\n",
        "```\n",
        "And the following neural network:\n",
        "![](https://raw.githubusercontent.com/snorre87/instructional_images/master/deeplearning_course/penpaper_exercise_forward.png)\n",
        "\n",
        "Calculate the forward pass by hand (or if you are up for a challenge implement it as a python function.)\n",
        "\n",
        "Remember each node (discounting the input layer) has two parts. First it computes a weighted sum of inputs (the result of nodes from previous layer) using the weights described by the edges. ```w_sum = weighs[0] * input[0] + weighs[1] * input[1] + weighs[2] * input[2]```. \n",
        "After doing the weighed sum, a \"kernel\" / activation function is applied to the sum. In this case either a linear kernel (i.e. no kernel) or the ReLU function: \n",
        "```python \n",
        "def linear(val): \n",
        "  return val ## I do nothing :)\n",
        "  \n",
        "def relu(val): \n",
        "  return max(0,val)\n",
        "```\n"
      ]
    },
    {
      "cell_type": "markdown",
      "metadata": {
        "id": "5E9Jb808eWxc"
      },
      "source": [
        "**Exercise 2.2: \"Backpropagation\" intution**\n",
        "\n",
        "Instead of calculating the actual gradient (which keras will do for us automatically), we test our intuition. \n",
        "\n",
        "Looking at the figure below you can see that the result of forward propagating the inputs ```[1,3,1]``` were -2.17. Imagine that the network was suppose to output 5 (i.e. the training label y = 5). Now go through the weights (edges) in the network from the last layer to the output layer and write if you would increase or decrease them. \n",
        "\n",
        "- Fill in the python dictionary of the network nodes with -1 if decrease and 1 if increase. \n",
        "\n",
        "![](https://raw.githubusercontent.com/snorre87/instructional_images/master/deeplearning_course/penpaper_solution.png)\n",
        "\n"
      ]
    },
    {
      "cell_type": "code",
      "metadata": {
        "collapsed": true,
        "id": "3Vf4muk-eWxd"
      },
      "source": [
        "## Fill in -1 if decrease and 1 if increase\n",
        "gradient = {\n",
        " ('bias_1_0', 'linear_2_0'):0,#  {'weight': -2.4}\n",
        " ('relu_1_1', 'linear_2_0'):0, #  {'weight': -3.8}\n",
        " ('relu_1_2', 'linear_2_0'):0, #  {'weight': -2.7}\n",
        " ('relu_1_3', 'linear_2_0'):0, # {'weight': 4.5}\n",
        " ('relu_1_4', 'linear_2_0'):0} #  {'weight': 1.6})\n"
      ],
      "execution_count": null,
      "outputs": []
    },
    {
      "cell_type": "markdown",
      "metadata": {
        "id": "FbUKtVcQvcvL"
      },
      "source": [
        "# 3 Keras exercises\n",
        "Now that you have a good understanding of what happens in a neural networks (that it is basically vector and matrix multiplications to get weighted sums) it is time to get your hands on a tool that makes life a lot more easy for you. The goal of these exercises is to make you familiar with the deep learning framework ```Keras```, specifically getting familiar with the syntax and how to write a simple model.\n"
      ]
    },
    {
      "cell_type": "code",
      "metadata": {
        "collapsed": true,
        "id": "kURKb_ihZPjF"
      },
      "source": [
        "import numpy as np\n",
        "from matplotlib import pyplot as plt\n",
        "import tensorflow as tf\n",
        "from tensorflow import keras\n",
        "from tensorflow.keras import layers\n",
        "from sklearn.model_selection import train_test_split\n"
      ],
      "execution_count": null,
      "outputs": []
    },
    {
      "cell_type": "code",
      "metadata": {
        "colab": {
          "base_uri": "https://localhost:8080/"
        },
        "id": "7Y08TnokZ8OA",
        "outputId": "0d7b26b2-d4b8-40d2-cbcb-c441a830c9fd"
      },
      "source": [
        "# Note that using different versions of tensorflow as backend may result in some \n",
        "# errors do to differences in method and attribute names as well as syntax. \n",
        "# But these errors are easy to fix when you are aware of it.\n",
        "print(tf.__version__) "
      ],
      "execution_count": null,
      "outputs": [
        {
          "output_type": "stream",
          "text": [
            "2.4.1\n"
          ],
          "name": "stdout"
        }
      ]
    },
    {
      "cell_type": "markdown",
      "metadata": {
        "id": "mYzl-rEWEW0h"
      },
      "source": [
        "### The data\n",
        "\n",
        "We will be working with the MNIST dataset in these exercises. (Read about it here https://keras.io/api/datasets/mnist/ or https://en.wikipedia.org/wiki/MNIST_database). A small disclamer: it is very easy to reach high accuracies (high performance) with this type of \"introductional\" data. With data \"in the wild\", which you may collect yourselves, you can rarely expect the same performance!\n",
        "\n",
        "The data is imported and prepared for you in the following three code cells.\n"
      ]
    },
    {
      "cell_type": "code",
      "metadata": {
        "colab": {
          "base_uri": "https://localhost:8080/",
          "height": 369
        },
        "id": "127tcWyL2fHl",
        "outputId": "23ec9c9b-2cf7-4c71-f207-cf4d187e1e20"
      },
      "source": [
        "from keras.datasets import mnist\n",
        "(x_train, y_train), (x_test, y_test) = keras.datasets.mnist.load_data()\n",
        "# Scale images to the [0, 1] range\n",
        "x_train = x_train.astype(\"float32\") / 255\n",
        "x_test = x_test.astype(\"float32\") / 255\n",
        "print(\"x_train shape:\", x_train.shape)\n",
        "print(x_train.shape[0], \"train samples\")\n",
        "print(x_test.shape[0], \"test samples\")\n",
        "\n",
        "# view/plot the first element in the training data:\n",
        "plt.imshow(x_train[0])"
      ],
      "execution_count": null,
      "outputs": [
        {
          "output_type": "stream",
          "text": [
            "Downloading data from https://storage.googleapis.com/tensorflow/tf-keras-datasets/mnist.npz\n",
            "11493376/11490434 [==============================] - 0s 0us/step\n",
            "x_train shape: (60000, 28, 28)\n",
            "60000 train samples\n",
            "10000 test samples\n"
          ],
          "name": "stdout"
        },
        {
          "output_type": "execute_result",
          "data": {
            "text/plain": [
              "<matplotlib.image.AxesImage at 0x7f9ccd341690>"
            ]
          },
          "metadata": {
            "tags": []
          },
          "execution_count": 3
        },
        {
          "output_type": "display_data",
          "data": {
            "image/png": "[encoded data removed]",
            "text/plain": [
              "<Figure size 432x288 with 1 Axes>"
            ]
          },
          "metadata": {
            "tags": [],
            "needs_background": "light"
          }
        }
      ]
    },
    {
      "cell_type": "code",
      "metadata": {
        "collapsed": true,
        "id": "DYEYpcKUZGNF"
      },
      "source": [
        "# print the first element in the training data:\n",
        "print(x_train[0].shape)\n",
        "print(x_train[0])"
      ],
      "execution_count": null,
      "outputs": []
    },
    {
      "cell_type": "markdown",
      "metadata": {
        "id": "HNdd9KrkYeND"
      },
      "source": [
        "The MNIST dataset consists of handwritten digits from 0-9, meaning there are 10 classes. However, we want to use it for some binary classification in these exercises, so we'll make a dataset consisting only of the digits 0 and 1:"
      ]
    },
    {
      "cell_type": "code",
      "metadata": {
        "colab": {
          "base_uri": "https://localhost:8080/"
        },
        "id": "dNaD57Qt5dnT",
        "outputId": "b866f7fe-6ac3-4207-df87-99ef15f8f402"
      },
      "source": [
        "x_train_new, y_train_new = x_train[(y_train==0) | (y_train==8)], y_train[(y_train==0) | (y_train==8)]\n",
        "x_test_new, y_test_new = x_test[(y_test==0) | (y_test==8)], y_test[(y_test==0) | (y_test==8)]\n",
        "print(\"now we only have the labels 0 and 8 in our data: \",y_train_new[:10]) \n",
        "y_train_new = np.array([1 if i==8 else i for i in y_train_new])\n",
        "y_test_new = np.array([1 if i==8 else i for i in y_test_new])\n",
        "print(\"now we only have the labels 0 and 8 in our data but we change 8 to label 1 for binary prediction: \",y_train_new[:10]) "
      ],
      "execution_count": null,
      "outputs": [
        {
          "output_type": "stream",
          "text": [
            "now we only have the labels 0 and 8 in our data:  [0 8 0 8 0 0 8 8 0 8]\n",
            "now we only have the labels 0 and 8 in our data but we change 8 to label 1 for binary prediction:  [0 1 0 1 0 0 1 1 0 1]\n"
          ],
          "name": "stdout"
        }
      ]
    },
    {
      "cell_type": "markdown",
      "metadata": {
        "id": "C9KldMNKY7za"
      },
      "source": [
        "We also want to flatten the images. Flattening means that we are making a multi-dimensional matrix one-dimensional."
      ]
    },
    {
      "cell_type": "code",
      "metadata": {
        "colab": {
          "base_uri": "https://localhost:8080/"
        },
        "id": "8B-6GmMRY7hi",
        "outputId": "5813a511-500c-4448-e786-af94fa48ac77"
      },
      "source": [
        "x_train_new = x_train_new.reshape((-1, 784)) \n",
        "x_test_new = x_test_new.reshape((-1, 784))\n",
        "print(\"After taking a subset of the data and flattening:\")\n",
        "print(\"x_train shape:\", x_train_new.shape) # i.e. 12665 vectors (training samples) of length 784!"
      ],
      "execution_count": null,
      "outputs": [
        {
          "output_type": "stream",
          "text": [
            "After taking a subset of the data and flattening:\n",
            "x_train shape: (11774, 784)\n"
          ],
          "name": "stdout"
        }
      ]
    },
    {
      "cell_type": "markdown",
      "metadata": {
        "id": "uz_k4tmdwN8B"
      },
      "source": [
        "Since we want some validation data as well, we split our training data in two parts and check the new sizes: "
      ]
    },
    {
      "cell_type": "code",
      "metadata": {
        "colab": {
          "base_uri": "https://localhost:8080/"
        },
        "id": "nIVLw-2ieHFO",
        "outputId": "f7b73006-7d90-48bc-99cc-db8183039eb3"
      },
      "source": [
        "x_train_new, X_val, y_train_new, y_val = train_test_split(x_train_new, y_train_new, test_size=0.5)\n",
        "print(\"x_train shape:\", x_train_new.shape)\n",
        "print(\"x_val shape:\", X_val.shape)\n",
        "print(\"x_test shape:\", x_test_new.shape)"
      ],
      "execution_count": null,
      "outputs": [
        {
          "output_type": "stream",
          "text": [
            "x_train shape: (5887, 784)\n",
            "x_val shape: (5887, 784)\n",
            "x_test shape: (1954, 784)\n"
          ],
          "name": "stdout"
        }
      ]
    },
    {
      "cell_type": "markdown",
      "metadata": {
        "id": "_ZTYuQOHZeT_"
      },
      "source": [
        "## 3.1 The sequential model\n",
        "\n",
        "There are two ways to write models in Keras: by using the *sequential* or the *functional* API. The sequential model may be more intiuitive or easy to read, but the functional has (unsurprisingly) more functionality/flexibility. We'll start be introducing you to the sequential model, but for the remainder of the course, you will be asked to use the functional API.\n",
        "\n",
        "**3.1.1**: Read the first four sections in the documentation for the sequential model https://keras.io/guides/sequential_model/. \n",
        "\n",
        "**3.1.2**: In the below cell we have defined a simple fully-connected (i.e. *dense*) neural network. Do you recoginize the model? Knowing what the `Dense` layer is, and what the `Sigmoid` activation does (from the documentation), can you then guess what this model may also be called?\n",
        "\n",
        "**3.1.3**: Why is input_shape specified as (784,)?"
      ]
    },
    {
      "cell_type": "code",
      "metadata": {
        "collapsed": true,
        "id": "0ffR47AoZdkQ"
      },
      "source": [
        "# a simple fully-connected neural network\n",
        "\n",
        "model = keras.Sequential(\n",
        "    [\n",
        "        layers.Dense(1, activation=\"sigmoid\", input_shape=(784,))\n",
        "    ]\n",
        ")"
      ],
      "execution_count": null,
      "outputs": []
    },
    {
      "cell_type": "markdown",
      "metadata": {
        "id": "M68BNLCI__v7"
      },
      "source": [
        "**3.1.4**: To train a model in Keras, you need at least two steps: firstly, you `compile` the model and secondly, you `fit` the compiled model. Below we have written these two steps for you for reference. Please read the comments.\n",
        "\n",
        "\n",
        "When a model has been `fit`, you can evaluate it on test data. You can use the `evaluate` function (writing model.evaluate(X,y)) to evaluate the model directly, given your test data, and/or you can use the `predict` function (model.predict(X)) to retrieve the predictions and envestigate these. Use both the evaluate and predict function below with x_test_new and y_test_new."
      ]
    },
    {
      "cell_type": "code",
      "metadata": {
        "colab": {
          "base_uri": "https://localhost:8080/"
        },
        "id": "sTpXr4VE91TB",
        "outputId": "abf8da1e-5046-44a7-b26d-96b584679170"
      },
      "source": [
        "# Steps needed to train and test a model\n",
        "\n",
        "# Before fitting/training your model in Keras, you need to firstly \"compile\" it. Here you specify the optimizer, loss function and evalution metric(s) you want to use.\n",
        "model.compile(optimizer='sgd', loss='binary_crossentropy') \n",
        "\n",
        "# Then you are ready to train/fit your model. \n",
        "model.fit(x_train_new, y_train_new, epochs=3)\n",
        "# You can give the fitting process a name to be able to access information such as the loss at each epoch later on. In this case, you would instead write:\n",
        "# history = model.fit(x_train_new, y_train_new, epochs=3)\n"
      ],
      "execution_count": null,
      "outputs": [
        {
          "output_type": "stream",
          "text": [
            "Epoch 1/3\n",
            "184/184 [==============================] - 0s 931us/step - loss: 0.0748\n",
            "Epoch 2/3\n",
            "184/184 [==============================] - 0s 994us/step - loss: 0.0718\n",
            "Epoch 3/3\n",
            "184/184 [==============================] - 0s 1ms/step - loss: 0.0628\n"
          ],
          "name": "stdout"
        },
        {
          "output_type": "execute_result",
          "data": {
            "text/plain": [
              "<tensorflow.python.keras.callbacks.History at 0x7f48cfd06c10>"
            ]
          },
          "metadata": {
            "tags": []
          },
          "execution_count": 72
        }
      ]
    },
    {
      "cell_type": "code",
      "metadata": {
        "collapsed": true,
        "id": "Le9S8ezsBrdk"
      },
      "source": [
        "loss = # your code here\n",
        "print(loss)\n",
        "\n",
        "predictions = #your code\n",
        "print(\"The first ten predictions:\",predictions[:10])"
      ],
      "execution_count": null,
      "outputs": []
    },
    {
      "cell_type": "code",
      "metadata": {
        "colab": {
          "base_uri": "https://localhost:8080/"
        },
        "id": "uj9_4v9tA4t0",
        "outputId": "3c48306b-4588-48d0-e9cb-eb59d9f10d4a"
      },
      "source": [
        "# results may differ"
      ],
      "execution_count": null,
      "outputs": [
        {
          "output_type": "stream",
          "text": [
            "62/62 [==============================] - 0s 925us/step - loss: 0.0535\n",
            "0.053522929549217224\n",
            "The first ten predictions: [[1.23181939e-03]\n",
            " [3.04135978e-02]\n",
            " [1.50713027e-02]\n",
            " [5.41865826e-04]\n",
            " [9.27537680e-03]\n",
            " [1.65422857e-01]\n",
            " [8.89950275e-01]\n",
            " [1.09550655e-02]\n",
            " [3.00538540e-03]\n",
            " [9.81952667e-01]]\n"
          ],
          "name": "stdout"
        }
      ]
    },
    {
      "cell_type": "markdown",
      "metadata": {
        "id": "Am8wAONsHLh9"
      },
      "source": [
        "**3.1.5**: Now it is your turn to define a model and train it from scratch. Do the following:\n",
        "- Copy the model above and paste it to the cell below. Change the name of the model to model2.\n",
        "- Add one Dense layer before the current layer. This makes it a **multi-layer perceptron**! Use any number of units/neurons you think is appropriate. But make sure to specify your input shape(s) correctly (or, at least not wrongly)! If you are having trouble with dimensions, this might help: https://stackoverflow.com/questions/44747343/keras-input-explanation-input-shape-units-batch-size-dim-etc \n",
        "- Compile, fit and evaluate your new model2, but this time add `metrics=\"binary_accuracy\"` to the compile function. When you evaluate your model now, you should get two outputs; a loss and an accuracy. Also, give your fitting process a name such as \"history\" and change the number of epochs to 10 or more.\n",
        "- Plot the loss over each epochs by accesing the \"history\" object you defined when fitting. Hint: `history.history` returns a dictionary. Get the loss values from the dictionary.\n",
        "\n"
      ]
    },
    {
      "cell_type": "code",
      "metadata": {
        "collapsed": true,
        "id": "cDGs_I0XrVvc"
      },
      "source": [
        "# your code here"
      ],
      "execution_count": null,
      "outputs": []
    },
    {
      "cell_type": "code",
      "metadata": {
        "colab": {
          "base_uri": "https://localhost:8080/",
          "height": 664
        },
        "id": "nK5wdn2ouqQe",
        "outputId": "fce7404d-3950-4ba8-98d2-71aaa2e0ae26"
      },
      "source": [
        "# results may diifer"
      ],
      "execution_count": null,
      "outputs": [
        {
          "output_type": "stream",
          "text": [
            "Epoch 1/10\n",
            "184/184 [==============================] - 1s 2ms/step - loss: 0.2961 - binary_accuracy: 0.8934\n",
            "Epoch 2/10\n",
            "184/184 [==============================] - 0s 1ms/step - loss: 0.0775 - binary_accuracy: 0.9822\n",
            "Epoch 3/10\n",
            "184/184 [==============================] - 0s 1ms/step - loss: 0.0545 - binary_accuracy: 0.9854\n",
            "Epoch 4/10\n",
            "184/184 [==============================] - 0s 1ms/step - loss: 0.0472 - binary_accuracy: 0.9876\n",
            "Epoch 5/10\n",
            "184/184 [==============================] - 0s 1ms/step - loss: 0.0393 - binary_accuracy: 0.9871\n",
            "Epoch 6/10\n",
            "184/184 [==============================] - 0s 2ms/step - loss: 0.0384 - binary_accuracy: 0.9870\n",
            "Epoch 7/10\n",
            "184/184 [==============================] - 0s 1ms/step - loss: 0.0376 - binary_accuracy: 0.9884\n",
            "Epoch 8/10\n",
            "184/184 [==============================] - 0s 1ms/step - loss: 0.0303 - binary_accuracy: 0.9918\n",
            "Epoch 9/10\n",
            "184/184 [==============================] - 0s 2ms/step - loss: 0.0302 - binary_accuracy: 0.9907\n",
            "Epoch 10/10\n",
            "184/184 [==============================] - 0s 1ms/step - loss: 0.0310 - binary_accuracy: 0.9882\n",
            "62/62 [==============================] - 0s 1ms/step - loss: 0.0311 - binary_accuracy: 0.9923\n",
            "0.031067760661244392 0.9923234581947327\n"
          ],
          "name": "stdout"
        },
        {
          "output_type": "execute_result",
          "data": {
            "text/plain": [
              "[<matplotlib.lines.Line2D at 0x7f48bf6b64d0>]"
            ]
          },
          "metadata": {
            "tags": []
          },
          "execution_count": 78
        },
        {
          "output_type": "display_data",
          "data": {
            "image/png": "[encoded data removed]",
            "text/plain": [
              "<Figure size 432x288 with 1 Axes>"
            ]
          },
          "metadata": {
            "tags": [],
            "needs_background": "light"
          }
        }
      ]
    },
    {
      "cell_type": "markdown",
      "metadata": {
        "id": "VNSIvKUJxpY2"
      },
      "source": [
        "**3.1.6**: Now, take a look at the model defined below. What is the number of trainable parameters of \"example_model\"? Explain the number of parameters (weights and biases) for each layer. Note that, so far, you have only been shown feed-forward neural networks (the Dense layer is a feed-forward layer). *Hint: you may want to look into the model.summary() method to verify your calculation.*\n"
      ]
    },
    {
      "cell_type": "code",
      "metadata": {
        "collapsed": true,
        "id": "3cPxjDdLxs5K"
      },
      "source": [
        "example_model = keras.Sequential(\n",
        "    [\n",
        "        layers.Dense(32, input_shape=(1,), activation=\"relu\"),\n",
        "        layers.Dense(1, activation=\"sigmoid\")\n",
        "    ]\n",
        ")"
      ],
      "execution_count": null,
      "outputs": []
    },
    {
      "cell_type": "code",
      "metadata": {
        "id": "sBLdZtot12iw"
      },
      "source": [
        ""
      ],
      "execution_count": null,
      "outputs": []
    },
    {
      "cell_type": "markdown",
      "metadata": {
        "id": "mrrt46uVqjXG"
      },
      "source": [
        "**OPTIONAL 3.1.7**: In the documentation you can see that you can also \"create a Sequential model incrementally via the `add()` method\". Re-write \"example_model\" using the `add` method.\n",
        "\n"
      ]
    },
    {
      "cell_type": "code",
      "metadata": {
        "collapsed": true,
        "id": "TM1nnwmJrSGQ"
      },
      "source": [
        "# Your code here"
      ],
      "execution_count": null,
      "outputs": []
    },
    {
      "cell_type": "markdown",
      "metadata": {
        "id": "hJ39k6lAZi-W"
      },
      "source": [
        "## 3.2 The functional model \n",
        "Now we will practice writting models with the functional API, which we will continue with further on. In terms of syntax, you will only see a difference when defining the models, meaning that the training and evaluation steps (`compile`, `fit` and `evalute`/`predict`) are the same no matter which API, the sequential or functional, you are using.\n",
        "\n",
        "**3.2.1**: Read the first three sections of the documentation https://keras.io/guides/functional_api/\n",
        "\n",
        "**3.2.2**: Re-write \"example_model\" using the functional API and name it model3. Change the input shape such that we can use the model with our MNIST data (784,).\n",
        "\n",
        "**3.2.3**: Compile, fit and evaluate model3, but this time add the validation data, X_val and y_val, to the `validation_data` argument in `fit`. The argument expects a tuple (see https://keras.io/api/models/model_training_apis/#fit-method).\n",
        "\n",
        "**3.2.4** Plot loss and validation accuracy (`'val_binary_accuracy'`)."
      ]
    },
    {
      "cell_type": "code",
      "metadata": {
        "collapsed": true,
        "id": "vYBWtGBtrqWB"
      },
      "source": [
        "# your code here"
      ],
      "execution_count": null,
      "outputs": []
    }
  ]
}