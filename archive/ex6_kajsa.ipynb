{
 "cells": [
  {
   "cell_type": "markdown",
   "metadata": {},
   "source": [
    "<div class=\"alert alert-block alert-info\">\n",
    "\n",
    "Accepted. See comments."
   ]
  },
  {
   "cell_type": "code",
   "execution_count": 1,
   "metadata": {},
   "outputs": [],
   "source": [
    "#Import packages\n",
    "import pandas as pd\n",
    "import numpy as np\n",
    "import statsmodels.formula.api as smf\n",
    "import matplotlib.pyplot as plt\n",
    "import seaborn as sns\n",
    "from stargazer.stargazer import Stargazer"
   ]
  },
  {
   "cell_type": "code",
   "execution_count": 2,
   "metadata": {},
   "outputs": [],
   "source": [
    "df = pd.read_csv('medicine_degree.csv')"
   ]
  },
  {
   "cell_type": "markdown",
   "metadata": {},
   "source": [
    "*a) calculating the mean of income af and dist by the variable grade group*"
   ]
  },
  {
   "cell_type": "code",
   "execution_count": 11,
   "metadata": {},
   "outputs": [
    {
     "data": {
      "text/plain": [
       "grade_group\n",
       "0   -1.553859\n",
       "1   -0.703602\n",
       "2   -0.346824\n",
       "3   -0.198494\n",
       "4   -0.075352\n",
       "5    0.026972\n",
       "6    0.098815\n",
       "7    0.249583\n",
       "8    0.442909\n",
       "9    1.142432\n",
       "Name: dist, dtype: float64"
      ]
     },
     "execution_count": 11,
     "metadata": {},
     "output_type": "execute_result"
    }
   ],
   "source": [
    "#groupby\n",
    "grade_df = df.groupby('grade_group')\n",
    "\n",
    "#mean income and mean distance\n",
    "mean_income = grade_df.mean().income_af\n",
    "\n",
    "mean_distance = grade_df.mean().dist\n"
   ]
  },
  {
   "cell_type": "code",
   "execution_count": 24,
   "metadata": {},
   "outputs": [
    {
     "data": {
      "image/png": "[encoded data removed]",
      "text/plain": [
       "<Figure size 432x288 with 1 Axes>"
      ]
     },
     "metadata": {
      "needs_background": "light"
     },
     "output_type": "display_data"
    }
   ],
   "source": [
    "#plot\n",
    "plt.scatter(mean_distance, mean_income)\n",
    "plt.axvline(x=0)\n",
    "plt.xlabel('Distance to mean')\n",
    "plt.ylabel('Mean income')\n",
    "plt.show()"
   ]
  },
  {
   "cell_type": "markdown",
   "metadata": {},
   "source": [
    "*b) effect of interest*"
   ]
  },
  {
   "cell_type": "markdown",
   "metadata": {},
   "source": [
    "Eyeballing it, it looks like there might be an effect of around 2000 - 2500 DKK"
   ]
  },
  {
   "cell_type": "markdown",
   "metadata": {},
   "source": [
    "<div class=\"alert alert-block alert-info\">\n",
    "Yes, but note that is rather 20.000-25.000"
   ]
  },
  {
   "cell_type": "markdown",
   "metadata": {},
   "source": [
    "*c) estimate the (subgroup) ATE via a simple linear regression of income af on eligible and remember to restrict the data according to the bandwidth. Also construct a 95 pct confidence interval.*"
   ]
  },
  {
   "cell_type": "code",
   "execution_count": 29,
   "metadata": {},
   "outputs": [],
   "source": [
    "med_df = df[(df['dist']>= -1) & (df['dist']<= 1)]\n"
   ]
  },
  {
   "cell_type": "code",
   "execution_count": 32,
   "metadata": {
    "scrolled": false
   },
   "outputs": [
    {
     "name": "stdout",
     "output_type": "stream",
     "text": [
      "                       0              1\n",
      "Intercept  346479.953539  355671.737773\n",
      "eligible    46647.356776   65531.597745\n"
     ]
    },
    {
     "data": {
      "text/html": [
       "<table class=\"simpletable\">\n",
       "<caption>OLS Regression Results</caption>\n",
       "<tr>\n",
       "  <th>Dep. Variable:</th>        <td>income_af</td>    <th>  R-squared:         </th> <td>   0.088</td> \n",
       "</tr>\n",
       "<tr>\n",
       "  <th>Model:</th>                   <td>OLS</td>       <th>  Adj. R-squared:    </th> <td>   0.087</td> \n",
       "</tr>\n",
       "<tr>\n",
       "  <th>Method:</th>             <td>Least Squares</td>  <th>  F-statistic:       </th> <td>   135.6</td> \n",
       "</tr>\n",
       "<tr>\n",
       "  <th>Date:</th>             <td>Wed, 24 Feb 2021</td> <th>  Prob (F-statistic):</th> <td>3.60e-30</td> \n",
       "</tr>\n",
       "<tr>\n",
       "  <th>Time:</th>                 <td>14:05:03</td>     <th>  Log-Likelihood:    </th> <td> -21194.</td> \n",
       "</tr>\n",
       "<tr>\n",
       "  <th>No. Observations:</th>      <td>  1658</td>      <th>  AIC:               </th> <td>4.239e+04</td>\n",
       "</tr>\n",
       "<tr>\n",
       "  <th>Df Residuals:</th>          <td>  1656</td>      <th>  BIC:               </th> <td>4.240e+04</td>\n",
       "</tr>\n",
       "<tr>\n",
       "  <th>Df Model:</th>              <td>     1</td>      <th>                     </th>     <td> </td>    \n",
       "</tr>\n",
       "<tr>\n",
       "  <th>Covariance Type:</th>         <td>HC0</td>       <th>                     </th>     <td> </td>    \n",
       "</tr>\n",
       "</table>\n",
       "<table class=\"simpletable\">\n",
       "<tr>\n",
       "      <td></td>         <th>coef</th>     <th>std err</th>      <th>z</th>      <th>P>|z|</th>  <th>[0.025</th>    <th>0.975]</th>  \n",
       "</tr>\n",
       "<tr>\n",
       "  <th>Intercept</th> <td> 3.511e+05</td> <td> 2344.886</td> <td>  149.720</td> <td> 0.000</td> <td> 3.46e+05</td> <td> 3.56e+05</td>\n",
       "</tr>\n",
       "<tr>\n",
       "  <th>eligible</th>  <td> 5.609e+04</td> <td> 4817.497</td> <td>   11.643</td> <td> 0.000</td> <td> 4.66e+04</td> <td> 6.55e+04</td>\n",
       "</tr>\n",
       "</table>\n",
       "<table class=\"simpletable\">\n",
       "<tr>\n",
       "  <th>Omnibus:</th>       <td> 8.210</td> <th>  Durbin-Watson:     </th> <td>   1.974</td>\n",
       "</tr>\n",
       "<tr>\n",
       "  <th>Prob(Omnibus):</th> <td> 0.016</td> <th>  Jarque-Bera (JB):  </th> <td>   6.545</td>\n",
       "</tr>\n",
       "<tr>\n",
       "  <th>Skew:</th>          <td>-0.058</td> <th>  Prob(JB):          </th> <td>  0.0379</td>\n",
       "</tr>\n",
       "<tr>\n",
       "  <th>Kurtosis:</th>      <td> 2.715</td> <th>  Cond. No.          </th> <td>    2.42</td>\n",
       "</tr>\n",
       "</table><br/><br/>Warnings:<br/>[1] Standard Errors are heteroscedasticity robust (HC0)"
      ],
      "text/plain": [
       "<class 'statsmodels.iolib.summary.Summary'>\n",
       "\"\"\"\n",
       "                            OLS Regression Results                            \n",
       "==============================================================================\n",
       "Dep. Variable:              income_af   R-squared:                       0.088\n",
       "Model:                            OLS   Adj. R-squared:                  0.087\n",
       "Method:                 Least Squares   F-statistic:                     135.6\n",
       "Date:                Wed, 24 Feb 2021   Prob (F-statistic):           3.60e-30\n",
       "Time:                        14:05:03   Log-Likelihood:                -21194.\n",
       "No. Observations:                1658   AIC:                         4.239e+04\n",
       "Df Residuals:                    1656   BIC:                         4.240e+04\n",
       "Df Model:                           1                                         \n",
       "Covariance Type:                  HC0                                         \n",
       "==============================================================================\n",
       "                 coef    std err          z      P>|z|      [0.025      0.975]\n",
       "------------------------------------------------------------------------------\n",
       "Intercept   3.511e+05   2344.886    149.720      0.000    3.46e+05    3.56e+05\n",
       "eligible    5.609e+04   4817.497     11.643      0.000    4.66e+04    6.55e+04\n",
       "==============================================================================\n",
       "Omnibus:                        8.210   Durbin-Watson:                   1.974\n",
       "Prob(Omnibus):                  0.016   Jarque-Bera (JB):                6.545\n",
       "Skew:                          -0.058   Prob(JB):                       0.0379\n",
       "Kurtosis:                       2.715   Cond. No.                         2.42\n",
       "==============================================================================\n",
       "\n",
       "Warnings:\n",
       "[1] Standard Errors are heteroscedasticity robust (HC0)\n",
       "\"\"\""
      ]
     },
     "execution_count": 32,
     "metadata": {},
     "output_type": "execute_result"
    }
   ],
   "source": [
    "#fit model: income_af on eligibility\n",
    "model = smf.ols(formula = 'income_af ~eligible', data = med_df)\n",
    "results = model.fit(cov_type = 'HC0')\n",
    "\n",
    "print(results.conf_int())\n",
    "results.summary()"
   ]
  },
  {
   "cell_type": "markdown",
   "metadata": {},
   "source": [
    "First regression analysis looks like being eligible for med school gives you an average income of 56 000 kronor more per year. "
   ]
  },
  {
   "cell_type": "markdown",
   "metadata": {},
   "source": [
    "*d) estimate the (subgroup) ATE via a linear regression of income af on eligible. To correct for the fact that relationship between GPA and income is not completely flat, however, now include dist as well as eligible interacted with dist in the regression*"
   ]
  },
  {
   "cell_type": "code",
   "execution_count": 36,
   "metadata": {
    "scrolled": false
   },
   "outputs": [
    {
     "name": "stdout",
     "output_type": "stream",
     "text": [
      "                           0              1\n",
      "Intercept      365868.529568  384391.934997\n",
      "eligible         8765.692901   41406.670430\n",
      "dist            37856.382806   71199.980269\n",
      "eligible:dist  -65633.161860   10130.071008\n"
     ]
    },
    {
     "data": {
      "text/html": [
       "<table class=\"simpletable\">\n",
       "<caption>OLS Regression Results</caption>\n",
       "<tr>\n",
       "  <th>Dep. Variable:</th>        <td>income_af</td>    <th>  R-squared:         </th> <td>   0.106</td> \n",
       "</tr>\n",
       "<tr>\n",
       "  <th>Model:</th>                   <td>OLS</td>       <th>  Adj. R-squared:    </th> <td>   0.104</td> \n",
       "</tr>\n",
       "<tr>\n",
       "  <th>Method:</th>             <td>Least Squares</td>  <th>  F-statistic:       </th> <td>   69.88</td> \n",
       "</tr>\n",
       "<tr>\n",
       "  <th>Date:</th>             <td>Wed, 24 Feb 2021</td> <th>  Prob (F-statistic):</th> <td>1.51e-42</td> \n",
       "</tr>\n",
       "<tr>\n",
       "  <th>Time:</th>                 <td>14:18:12</td>     <th>  Log-Likelihood:    </th> <td> -21178.</td> \n",
       "</tr>\n",
       "<tr>\n",
       "  <th>No. Observations:</th>      <td>  1658</td>      <th>  AIC:               </th> <td>4.236e+04</td>\n",
       "</tr>\n",
       "<tr>\n",
       "  <th>Df Residuals:</th>          <td>  1654</td>      <th>  BIC:               </th> <td>4.238e+04</td>\n",
       "</tr>\n",
       "<tr>\n",
       "  <th>Df Model:</th>              <td>     3</td>      <th>                     </th>     <td> </td>    \n",
       "</tr>\n",
       "<tr>\n",
       "  <th>Covariance Type:</th>         <td>HC0</td>       <th>                     </th>     <td> </td>    \n",
       "</tr>\n",
       "</table>\n",
       "<table class=\"simpletable\">\n",
       "<tr>\n",
       "        <td></td>           <th>coef</th>     <th>std err</th>      <th>z</th>      <th>P>|z|</th>  <th>[0.025</th>    <th>0.975]</th>  \n",
       "</tr>\n",
       "<tr>\n",
       "  <th>Intercept</th>     <td> 3.751e+05</td> <td> 4725.445</td> <td>   79.385</td> <td> 0.000</td> <td> 3.66e+05</td> <td> 3.84e+05</td>\n",
       "</tr>\n",
       "<tr>\n",
       "  <th>eligible</th>      <td> 2.509e+04</td> <td> 8326.933</td> <td>    3.013</td> <td> 0.003</td> <td> 8765.693</td> <td> 4.14e+04</td>\n",
       "</tr>\n",
       "<tr>\n",
       "  <th>dist</th>          <td> 5.453e+04</td> <td> 8506.176</td> <td>    6.410</td> <td> 0.000</td> <td> 3.79e+04</td> <td> 7.12e+04</td>\n",
       "</tr>\n",
       "<tr>\n",
       "  <th>eligible:dist</th> <td>-2.775e+04</td> <td> 1.93e+04</td> <td>   -1.436</td> <td> 0.151</td> <td>-6.56e+04</td> <td> 1.01e+04</td>\n",
       "</tr>\n",
       "</table>\n",
       "<table class=\"simpletable\">\n",
       "<tr>\n",
       "  <th>Omnibus:</th>       <td>11.035</td> <th>  Durbin-Watson:     </th> <td>   1.983</td>\n",
       "</tr>\n",
       "<tr>\n",
       "  <th>Prob(Omnibus):</th> <td> 0.004</td> <th>  Jarque-Bera (JB):  </th> <td>   8.637</td>\n",
       "</tr>\n",
       "<tr>\n",
       "  <th>Skew:</th>          <td>-0.082</td> <th>  Prob(JB):          </th> <td>  0.0133</td>\n",
       "</tr>\n",
       "<tr>\n",
       "  <th>Kurtosis:</th>      <td> 2.686</td> <th>  Cond. No.          </th> <td>    10.1</td>\n",
       "</tr>\n",
       "</table><br/><br/>Warnings:<br/>[1] Standard Errors are heteroscedasticity robust (HC0)"
      ],
      "text/plain": [
       "<class 'statsmodels.iolib.summary.Summary'>\n",
       "\"\"\"\n",
       "                            OLS Regression Results                            \n",
       "==============================================================================\n",
       "Dep. Variable:              income_af   R-squared:                       0.106\n",
       "Model:                            OLS   Adj. R-squared:                  0.104\n",
       "Method:                 Least Squares   F-statistic:                     69.88\n",
       "Date:                Wed, 24 Feb 2021   Prob (F-statistic):           1.51e-42\n",
       "Time:                        14:18:12   Log-Likelihood:                -21178.\n",
       "No. Observations:                1658   AIC:                         4.236e+04\n",
       "Df Residuals:                    1654   BIC:                         4.238e+04\n",
       "Df Model:                           3                                         \n",
       "Covariance Type:                  HC0                                         \n",
       "=================================================================================\n",
       "                    coef    std err          z      P>|z|      [0.025      0.975]\n",
       "---------------------------------------------------------------------------------\n",
       "Intercept      3.751e+05   4725.445     79.385      0.000    3.66e+05    3.84e+05\n",
       "eligible       2.509e+04   8326.933      3.013      0.003    8765.693    4.14e+04\n",
       "dist           5.453e+04   8506.176      6.410      0.000    3.79e+04    7.12e+04\n",
       "eligible:dist -2.775e+04   1.93e+04     -1.436      0.151   -6.56e+04    1.01e+04\n",
       "==============================================================================\n",
       "Omnibus:                       11.035   Durbin-Watson:                   1.983\n",
       "Prob(Omnibus):                  0.004   Jarque-Bera (JB):                8.637\n",
       "Skew:                          -0.082   Prob(JB):                       0.0133\n",
       "Kurtosis:                       2.686   Cond. No.                         10.1\n",
       "==============================================================================\n",
       "\n",
       "Warnings:\n",
       "[1] Standard Errors are heteroscedasticity robust (HC0)\n",
       "\"\"\""
      ]
     },
     "execution_count": 36,
     "metadata": {},
     "output_type": "execute_result"
    }
   ],
   "source": [
    "#fit model: income_af on eligibility, distance and interaction between the two\n",
    "model = smf.ols(formula = 'income_af ~ eligible * dist', data = med_df)\n",
    "results = model.fit(cov_type = 'HC0')\n",
    "\n",
    "print(results.conf_int())\n",
    "results.summary()"
   ]
  },
  {
   "cell_type": "markdown",
   "metadata": {},
   "source": [
    "This model shows us a more moderat effect on income of being eligible for med school, and the 95% CI is a lot bigger. The uncertainty becomes larger (as we can see on the p-value and the std error). dist shows the plot on left hand side, which, in accordance to our plot, has a steeper curve than on the right hand. ELigible shows the change in the effect, meaning that it is less steep on the right hand side. "
   ]
  },
  {
   "cell_type": "markdown",
   "metadata": {},
   "source": [
    "<div class=\"alert alert-block alert-info\">\n",
    "Yes - in the last sentence eligible*dist not eligible."
   ]
  },
  {
   "cell_type": "markdown",
   "metadata": {},
   "source": [
    "*e)Repeat c) and d) while setting the bandwidth k to either 0.25 or 2 instead.*"
   ]
  },
  {
   "cell_type": "code",
   "execution_count": 55,
   "metadata": {},
   "outputs": [],
   "source": [
    "#small k data\n",
    "small = df[(df['dist']>= -0.25) & (df['dist']<= 0.25)]\n"
   ]
  },
  {
   "cell_type": "code",
   "execution_count": 56,
   "metadata": {
    "scrolled": true
   },
   "outputs": [
    {
     "name": "stdout",
     "output_type": "stream",
     "text": [
      "                       0              1\n",
      "Intercept  362201.740813  381188.498934\n",
      "eligible    16728.738066   46933.619201\n"
     ]
    },
    {
     "data": {
      "text/html": [
       "<table class=\"simpletable\">\n",
       "<caption>OLS Regression Results</caption>\n",
       "<tr>\n",
       "  <th>Dep. Variable:</th>        <td>income_af</td>    <th>  R-squared:         </th> <td>   0.025</td> \n",
       "</tr>\n",
       "<tr>\n",
       "  <th>Model:</th>                   <td>OLS</td>       <th>  Adj. R-squared:    </th> <td>   0.024</td> \n",
       "</tr>\n",
       "<tr>\n",
       "  <th>Method:</th>             <td>Least Squares</td>  <th>  F-statistic:       </th> <td>   17.07</td> \n",
       "</tr>\n",
       "<tr>\n",
       "  <th>Date:</th>             <td>Wed, 24 Feb 2021</td> <th>  Prob (F-statistic):</th> <td>4.08e-05</td> \n",
       "</tr>\n",
       "<tr>\n",
       "  <th>Time:</th>                 <td>14:35:58</td>     <th>  Log-Likelihood:    </th> <td> -8424.9</td> \n",
       "</tr>\n",
       "<tr>\n",
       "  <th>No. Observations:</th>      <td>   652</td>      <th>  AIC:               </th> <td>1.685e+04</td>\n",
       "</tr>\n",
       "<tr>\n",
       "  <th>Df Residuals:</th>          <td>   650</td>      <th>  BIC:               </th> <td>1.686e+04</td>\n",
       "</tr>\n",
       "<tr>\n",
       "  <th>Df Model:</th>              <td>     1</td>      <th>                     </th>     <td> </td>    \n",
       "</tr>\n",
       "<tr>\n",
       "  <th>Covariance Type:</th>         <td>HC0</td>       <th>                     </th>     <td> </td>    \n",
       "</tr>\n",
       "</table>\n",
       "<table class=\"simpletable\">\n",
       "<tr>\n",
       "      <td></td>         <th>coef</th>     <th>std err</th>      <th>z</th>      <th>P>|z|</th>  <th>[0.025</th>    <th>0.975]</th>  \n",
       "</tr>\n",
       "<tr>\n",
       "  <th>Intercept</th> <td> 3.717e+05</td> <td> 4843.650</td> <td>   76.739</td> <td> 0.000</td> <td> 3.62e+05</td> <td> 3.81e+05</td>\n",
       "</tr>\n",
       "<tr>\n",
       "  <th>eligible</th>  <td> 3.183e+04</td> <td> 7705.468</td> <td>    4.131</td> <td> 0.000</td> <td> 1.67e+04</td> <td> 4.69e+04</td>\n",
       "</tr>\n",
       "</table>\n",
       "<table class=\"simpletable\">\n",
       "<tr>\n",
       "  <th>Omnibus:</th>       <td>51.998</td> <th>  Durbin-Watson:     </th> <td>   1.929</td>\n",
       "</tr>\n",
       "<tr>\n",
       "  <th>Prob(Omnibus):</th> <td> 0.000</td> <th>  Jarque-Bera (JB):  </th> <td>  30.078</td>\n",
       "</tr>\n",
       "<tr>\n",
       "  <th>Skew:</th>          <td>-0.379</td> <th>  Prob(JB):          </th> <td>2.94e-07</td>\n",
       "</tr>\n",
       "<tr>\n",
       "  <th>Kurtosis:</th>      <td> 2.271</td> <th>  Cond. No.          </th> <td>    2.65</td>\n",
       "</tr>\n",
       "</table><br/><br/>Warnings:<br/>[1] Standard Errors are heteroscedasticity robust (HC0)"
      ],
      "text/plain": [
       "<class 'statsmodels.iolib.summary.Summary'>\n",
       "\"\"\"\n",
       "                            OLS Regression Results                            \n",
       "==============================================================================\n",
       "Dep. Variable:              income_af   R-squared:                       0.025\n",
       "Model:                            OLS   Adj. R-squared:                  0.024\n",
       "Method:                 Least Squares   F-statistic:                     17.07\n",
       "Date:                Wed, 24 Feb 2021   Prob (F-statistic):           4.08e-05\n",
       "Time:                        14:35:58   Log-Likelihood:                -8424.9\n",
       "No. Observations:                 652   AIC:                         1.685e+04\n",
       "Df Residuals:                     650   BIC:                         1.686e+04\n",
       "Df Model:                           1                                         \n",
       "Covariance Type:                  HC0                                         \n",
       "==============================================================================\n",
       "                 coef    std err          z      P>|z|      [0.025      0.975]\n",
       "------------------------------------------------------------------------------\n",
       "Intercept   3.717e+05   4843.650     76.739      0.000    3.62e+05    3.81e+05\n",
       "eligible    3.183e+04   7705.468      4.131      0.000    1.67e+04    4.69e+04\n",
       "==============================================================================\n",
       "Omnibus:                       51.998   Durbin-Watson:                   1.929\n",
       "Prob(Omnibus):                  0.000   Jarque-Bera (JB):               30.078\n",
       "Skew:                          -0.379   Prob(JB):                     2.94e-07\n",
       "Kurtosis:                       2.271   Cond. No.                         2.65\n",
       "==============================================================================\n",
       "\n",
       "Warnings:\n",
       "[1] Standard Errors are heteroscedasticity robust (HC0)\n",
       "\"\"\""
      ]
     },
     "execution_count": 56,
     "metadata": {},
     "output_type": "execute_result"
    }
   ],
   "source": [
    "#fit model: income_af on eligibility, small k\n",
    "model = smf.ols(formula = 'income_af ~eligible', data = small)\n",
    "results = model.fit(cov_type = 'HC0')\n",
    "\n",
    "print(results.conf_int())\n",
    "first.append(results)\n",
    "results.summary()"
   ]
  },
  {
   "cell_type": "markdown",
   "metadata": {},
   "source": [
    "We still observe a positive effect of being eligible, but it's lower than our previous estimate."
   ]
  },
  {
   "cell_type": "code",
   "execution_count": 58,
   "metadata": {
    "scrolled": true
   },
   "outputs": [
    {
     "name": "stdout",
     "output_type": "stream",
     "text": [
      "                           0              1\n",
      "Intercept      355756.974512  393622.178030\n",
      "eligible         3175.547236   59811.947352\n",
      "dist          -103202.415466  144563.752194\n",
      "eligible:dist -243567.530883  150769.996855\n"
     ]
    },
    {
     "data": {
      "text/html": [
       "<table class=\"simpletable\">\n",
       "<caption>OLS Regression Results</caption>\n",
       "<tr>\n",
       "  <th>Dep. Variable:</th>        <td>income_af</td>    <th>  R-squared:         </th> <td>   0.025</td> \n",
       "</tr>\n",
       "<tr>\n",
       "  <th>Model:</th>                   <td>OLS</td>       <th>  Adj. R-squared:    </th> <td>   0.021</td> \n",
       "</tr>\n",
       "<tr>\n",
       "  <th>Method:</th>             <td>Least Squares</td>  <th>  F-statistic:       </th> <td>   5.699</td> \n",
       "</tr>\n",
       "<tr>\n",
       "  <th>Date:</th>             <td>Wed, 24 Feb 2021</td> <th>  Prob (F-statistic):</th> <td>0.000745</td> \n",
       "</tr>\n",
       "<tr>\n",
       "  <th>Time:</th>                 <td>14:38:19</td>     <th>  Log-Likelihood:    </th> <td> -8424.8</td> \n",
       "</tr>\n",
       "<tr>\n",
       "  <th>No. Observations:</th>      <td>   652</td>      <th>  AIC:               </th> <td>1.686e+04</td>\n",
       "</tr>\n",
       "<tr>\n",
       "  <th>Df Residuals:</th>          <td>   648</td>      <th>  BIC:               </th> <td>1.688e+04</td>\n",
       "</tr>\n",
       "<tr>\n",
       "  <th>Df Model:</th>              <td>     3</td>      <th>                     </th>     <td> </td>    \n",
       "</tr>\n",
       "<tr>\n",
       "  <th>Covariance Type:</th>         <td>HC0</td>       <th>                     </th>     <td> </td>    \n",
       "</tr>\n",
       "</table>\n",
       "<table class=\"simpletable\">\n",
       "<tr>\n",
       "        <td></td>           <th>coef</th>     <th>std err</th>      <th>z</th>      <th>P>|z|</th>  <th>[0.025</th>    <th>0.975]</th>  \n",
       "</tr>\n",
       "<tr>\n",
       "  <th>Intercept</th>     <td> 3.747e+05</td> <td> 9659.668</td> <td>   38.789</td> <td> 0.000</td> <td> 3.56e+05</td> <td> 3.94e+05</td>\n",
       "</tr>\n",
       "<tr>\n",
       "  <th>eligible</th>      <td> 3.149e+04</td> <td> 1.44e+04</td> <td>    2.180</td> <td> 0.029</td> <td> 3175.547</td> <td> 5.98e+04</td>\n",
       "</tr>\n",
       "<tr>\n",
       "  <th>dist</th>          <td> 2.068e+04</td> <td> 6.32e+04</td> <td>    0.327</td> <td> 0.744</td> <td>-1.03e+05</td> <td> 1.45e+05</td>\n",
       "</tr>\n",
       "<tr>\n",
       "  <th>eligible:dist</th> <td> -4.64e+04</td> <td> 1.01e+05</td> <td>   -0.461</td> <td> 0.645</td> <td>-2.44e+05</td> <td> 1.51e+05</td>\n",
       "</tr>\n",
       "</table>\n",
       "<table class=\"simpletable\">\n",
       "<tr>\n",
       "  <th>Omnibus:</th>       <td>50.866</td> <th>  Durbin-Watson:     </th> <td>   1.929</td>\n",
       "</tr>\n",
       "<tr>\n",
       "  <th>Prob(Omnibus):</th> <td> 0.000</td> <th>  Jarque-Bera (JB):  </th> <td>  29.982</td>\n",
       "</tr>\n",
       "<tr>\n",
       "  <th>Skew:</th>          <td>-0.382</td> <th>  Prob(JB):          </th> <td>3.09e-07</td>\n",
       "</tr>\n",
       "<tr>\n",
       "  <th>Kurtosis:</th>      <td> 2.279</td> <th>  Cond. No.          </th> <td>    36.6</td>\n",
       "</tr>\n",
       "</table><br/><br/>Warnings:<br/>[1] Standard Errors are heteroscedasticity robust (HC0)"
      ],
      "text/plain": [
       "<class 'statsmodels.iolib.summary.Summary'>\n",
       "\"\"\"\n",
       "                            OLS Regression Results                            \n",
       "==============================================================================\n",
       "Dep. Variable:              income_af   R-squared:                       0.025\n",
       "Model:                            OLS   Adj. R-squared:                  0.021\n",
       "Method:                 Least Squares   F-statistic:                     5.699\n",
       "Date:                Wed, 24 Feb 2021   Prob (F-statistic):           0.000745\n",
       "Time:                        14:38:19   Log-Likelihood:                -8424.8\n",
       "No. Observations:                 652   AIC:                         1.686e+04\n",
       "Df Residuals:                     648   BIC:                         1.688e+04\n",
       "Df Model:                           3                                         \n",
       "Covariance Type:                  HC0                                         \n",
       "=================================================================================\n",
       "                    coef    std err          z      P>|z|      [0.025      0.975]\n",
       "---------------------------------------------------------------------------------\n",
       "Intercept      3.747e+05   9659.668     38.789      0.000    3.56e+05    3.94e+05\n",
       "eligible       3.149e+04   1.44e+04      2.180      0.029    3175.547    5.98e+04\n",
       "dist           2.068e+04   6.32e+04      0.327      0.744   -1.03e+05    1.45e+05\n",
       "eligible:dist  -4.64e+04   1.01e+05     -0.461      0.645   -2.44e+05    1.51e+05\n",
       "==============================================================================\n",
       "Omnibus:                       50.866   Durbin-Watson:                   1.929\n",
       "Prob(Omnibus):                  0.000   Jarque-Bera (JB):               29.982\n",
       "Skew:                          -0.382   Prob(JB):                     3.09e-07\n",
       "Kurtosis:                       2.279   Cond. No.                         36.6\n",
       "==============================================================================\n",
       "\n",
       "Warnings:\n",
       "[1] Standard Errors are heteroscedasticity robust (HC0)\n",
       "\"\"\""
      ]
     },
     "execution_count": 58,
     "metadata": {},
     "output_type": "execute_result"
    }
   ],
   "source": [
    "#fit model: income_af on eligibility, distance and interaction between the two, small k\n",
    "model = smf.ols(formula = 'income_af ~ eligible * dist', data = small)\n",
    "results = model.fit(cov_type = 'HC0')\n",
    "\n",
    "print(results.conf_int())\n",
    "second.append(results)\n",
    "results.summary()"
   ]
  },
  {
   "cell_type": "markdown",
   "metadata": {},
   "source": [
    "What we can see here is that the difference between the slopes is smaller (and insignificant), but that the effect of being eligible is stronger than with a higher K, but yet again the p-value is higher. compared to the simple regression above, there is almost no difference in means when the interaction term is included, meaning that the slope is probably pretty similar."
   ]
  },
  {
   "cell_type": "markdown",
   "metadata": {},
   "source": [
    "*f) Estimate the (subgroup) ATE of interest using a package that selects the bandwidth (k) based on your data.*"
   ]
  },
  {
   "cell_type": "code",
   "execution_count": 60,
   "metadata": {},
   "outputs": [],
   "source": [
    "from rdd import rdd"
   ]
  },
  {
   "cell_type": "code",
   "execution_count": 64,
   "metadata": {},
   "outputs": [
    {
     "name": "stdout",
     "output_type": "stream",
     "text": [
      "Optimal bandwidth: 0.7577751648499014\n"
     ]
    }
   ],
   "source": [
    "#Find optimal bandwidth\n",
    "bandwidth_opt = rdd.optimal_bandwidth(df['income_af'], df['dist'], cut= 0)\n",
    "print(\"Optimal bandwidth:\", bandwidth_opt)"
   ]
  },
  {
   "cell_type": "code",
   "execution_count": 67,
   "metadata": {
    "scrolled": false
   },
   "outputs": [
    {
     "name": "stdout",
     "output_type": "stream",
     "text": [
      "                       0              1\n",
      "Intercept  349026.366975  359298.180091\n",
      "eligible    42506.114344   62408.468390\n"
     ]
    },
    {
     "data": {
      "text/html": [
       "<table class=\"simpletable\">\n",
       "<caption>OLS Regression Results</caption>\n",
       "<tr>\n",
       "  <th>Dep. Variable:</th>        <td>income_af</td>    <th>  R-squared:         </th> <td>   0.077</td> \n",
       "</tr>\n",
       "<tr>\n",
       "  <th>Model:</th>                   <td>OLS</td>       <th>  Adj. R-squared:    </th> <td>   0.076</td> \n",
       "</tr>\n",
       "<tr>\n",
       "  <th>Method:</th>             <td>Least Squares</td>  <th>  F-statistic:       </th> <td>   106.7</td> \n",
       "</tr>\n",
       "<tr>\n",
       "  <th>Date:</th>             <td>Wed, 24 Feb 2021</td> <th>  Prob (F-statistic):</th> <td>3.42e-24</td> \n",
       "</tr>\n",
       "<tr>\n",
       "  <th>Time:</th>                 <td>15:04:08</td>     <th>  Log-Likelihood:    </th> <td> -18568.</td> \n",
       "</tr>\n",
       "<tr>\n",
       "  <th>No. Observations:</th>      <td>  1450</td>      <th>  AIC:               </th> <td>3.714e+04</td>\n",
       "</tr>\n",
       "<tr>\n",
       "  <th>Df Residuals:</th>          <td>  1448</td>      <th>  BIC:               </th> <td>3.715e+04</td>\n",
       "</tr>\n",
       "<tr>\n",
       "  <th>Df Model:</th>              <td>     1</td>      <th>                     </th>     <td> </td>    \n",
       "</tr>\n",
       "<tr>\n",
       "  <th>Covariance Type:</th>         <td>HC0</td>       <th>                     </th>     <td> </td>    \n",
       "</tr>\n",
       "</table>\n",
       "<table class=\"simpletable\">\n",
       "<tr>\n",
       "      <td></td>         <th>coef</th>     <th>std err</th>      <th>z</th>      <th>P>|z|</th>  <th>[0.025</th>    <th>0.975]</th>  \n",
       "</tr>\n",
       "<tr>\n",
       "  <th>Intercept</th> <td> 3.542e+05</td> <td> 2620.409</td> <td>  135.155</td> <td> 0.000</td> <td> 3.49e+05</td> <td> 3.59e+05</td>\n",
       "</tr>\n",
       "<tr>\n",
       "  <th>eligible</th>  <td> 5.246e+04</td> <td> 5077.224</td> <td>   10.332</td> <td> 0.000</td> <td> 4.25e+04</td> <td> 6.24e+04</td>\n",
       "</tr>\n",
       "</table>\n",
       "<table class=\"simpletable\">\n",
       "<tr>\n",
       "  <th>Omnibus:</th>       <td>14.504</td> <th>  Durbin-Watson:     </th> <td>   1.971</td>\n",
       "</tr>\n",
       "<tr>\n",
       "  <th>Prob(Omnibus):</th> <td> 0.001</td> <th>  Jarque-Bera (JB):  </th> <td>  10.848</td>\n",
       "</tr>\n",
       "<tr>\n",
       "  <th>Skew:</th>          <td>-0.107</td> <th>  Prob(JB):          </th> <td> 0.00441</td>\n",
       "</tr>\n",
       "<tr>\n",
       "  <th>Kurtosis:</th>      <td> 2.634</td> <th>  Cond. No.          </th> <td>    2.43</td>\n",
       "</tr>\n",
       "</table><br/><br/>Warnings:<br/>[1] Standard Errors are heteroscedasticity robust (HC0)"
      ],
      "text/plain": [
       "<class 'statsmodels.iolib.summary.Summary'>\n",
       "\"\"\"\n",
       "                            OLS Regression Results                            \n",
       "==============================================================================\n",
       "Dep. Variable:              income_af   R-squared:                       0.077\n",
       "Model:                            OLS   Adj. R-squared:                  0.076\n",
       "Method:                 Least Squares   F-statistic:                     106.7\n",
       "Date:                Wed, 24 Feb 2021   Prob (F-statistic):           3.42e-24\n",
       "Time:                        15:04:08   Log-Likelihood:                -18568.\n",
       "No. Observations:                1450   AIC:                         3.714e+04\n",
       "Df Residuals:                    1448   BIC:                         3.715e+04\n",
       "Df Model:                           1                                         \n",
       "Covariance Type:                  HC0                                         \n",
       "==============================================================================\n",
       "                 coef    std err          z      P>|z|      [0.025      0.975]\n",
       "------------------------------------------------------------------------------\n",
       "Intercept   3.542e+05   2620.409    135.155      0.000    3.49e+05    3.59e+05\n",
       "eligible    5.246e+04   5077.224     10.332      0.000    4.25e+04    6.24e+04\n",
       "==============================================================================\n",
       "Omnibus:                       14.504   Durbin-Watson:                   1.971\n",
       "Prob(Omnibus):                  0.001   Jarque-Bera (JB):               10.848\n",
       "Skew:                          -0.107   Prob(JB):                      0.00441\n",
       "Kurtosis:                       2.634   Cond. No.                         2.43\n",
       "==============================================================================\n",
       "\n",
       "Warnings:\n",
       "[1] Standard Errors are heteroscedasticity robust (HC0)\n",
       "\"\"\""
      ]
     },
     "execution_count": 67,
     "metadata": {},
     "output_type": "execute_result"
    }
   ],
   "source": [
    "#fit model: income_af on eligibility, optimal k\n",
    "optimal= df[(df['dist']>= -bandwidth_opt) & (df['dist']<= bandwidth_opt)]\n",
    "\n",
    "model = smf.ols(formula = 'income_af ~eligible', data = optimal)\n",
    "results = model.fit(cov_type = 'HC0')\n",
    "\n",
    "print(results.conf_int())\n",
    "first.append(results)\n",
    "results.summary()"
   ]
  },
  {
   "cell_type": "code",
   "execution_count": 66,
   "metadata": {
    "scrolled": true
   },
   "outputs": [
    {
     "name": "stdout",
     "output_type": "stream",
     "text": [
      "                           0              1\n",
      "Intercept      370291.801991  391678.709667\n",
      "eligible         -533.424608   35753.033494\n",
      "dist            50776.089453   99530.485455\n",
      "eligible:dist  -89375.076902   10134.705042\n"
     ]
    },
    {
     "data": {
      "text/html": [
       "<table class=\"simpletable\">\n",
       "<caption>OLS Regression Results</caption>\n",
       "<tr>\n",
       "  <th>Dep. Variable:</th>        <td>income_af</td>    <th>  R-squared:         </th> <td>   0.096</td> \n",
       "</tr>\n",
       "<tr>\n",
       "  <th>Model:</th>                   <td>OLS</td>       <th>  Adj. R-squared:    </th> <td>   0.094</td> \n",
       "</tr>\n",
       "<tr>\n",
       "  <th>Method:</th>             <td>Least Squares</td>  <th>  F-statistic:       </th> <td>   58.07</td> \n",
       "</tr>\n",
       "<tr>\n",
       "  <th>Date:</th>             <td>Wed, 24 Feb 2021</td> <th>  Prob (F-statistic):</th> <td>1.90e-35</td> \n",
       "</tr>\n",
       "<tr>\n",
       "  <th>Time:</th>                 <td>15:04:05</td>     <th>  Log-Likelihood:    </th> <td> -18553.</td> \n",
       "</tr>\n",
       "<tr>\n",
       "  <th>No. Observations:</th>      <td>  1450</td>      <th>  AIC:               </th> <td>3.711e+04</td>\n",
       "</tr>\n",
       "<tr>\n",
       "  <th>Df Residuals:</th>          <td>  1446</td>      <th>  BIC:               </th> <td>3.713e+04</td>\n",
       "</tr>\n",
       "<tr>\n",
       "  <th>Df Model:</th>              <td>     3</td>      <th>                     </th>     <td> </td>    \n",
       "</tr>\n",
       "<tr>\n",
       "  <th>Covariance Type:</th>         <td>HC0</td>       <th>                     </th>     <td> </td>    \n",
       "</tr>\n",
       "</table>\n",
       "<table class=\"simpletable\">\n",
       "<tr>\n",
       "        <td></td>           <th>coef</th>     <th>std err</th>      <th>z</th>      <th>P>|z|</th>  <th>[0.025</th>    <th>0.975]</th>  \n",
       "</tr>\n",
       "<tr>\n",
       "  <th>Intercept</th>     <td>  3.81e+05</td> <td> 5455.944</td> <td>   69.829</td> <td> 0.000</td> <td>  3.7e+05</td> <td> 3.92e+05</td>\n",
       "</tr>\n",
       "<tr>\n",
       "  <th>eligible</th>      <td> 1.761e+04</td> <td> 9256.920</td> <td>    1.902</td> <td> 0.057</td> <td> -533.425</td> <td> 3.58e+04</td>\n",
       "</tr>\n",
       "<tr>\n",
       "  <th>dist</th>          <td> 7.515e+04</td> <td> 1.24e+04</td> <td>    6.042</td> <td> 0.000</td> <td> 5.08e+04</td> <td> 9.95e+04</td>\n",
       "</tr>\n",
       "<tr>\n",
       "  <th>eligible:dist</th> <td>-3.962e+04</td> <td> 2.54e+04</td> <td>   -1.561</td> <td> 0.119</td> <td>-8.94e+04</td> <td> 1.01e+04</td>\n",
       "</tr>\n",
       "</table>\n",
       "<table class=\"simpletable\">\n",
       "<tr>\n",
       "  <th>Omnibus:</th>       <td>15.416</td> <th>  Durbin-Watson:     </th> <td>   1.983</td>\n",
       "</tr>\n",
       "<tr>\n",
       "  <th>Prob(Omnibus):</th> <td> 0.000</td> <th>  Jarque-Bera (JB):  </th> <td>  11.634</td>\n",
       "</tr>\n",
       "<tr>\n",
       "  <th>Skew:</th>          <td>-0.118</td> <th>  Prob(JB):          </th> <td> 0.00298</td>\n",
       "</tr>\n",
       "<tr>\n",
       "  <th>Kurtosis:</th>      <td> 2.631</td> <th>  Cond. No.          </th> <td>    13.0</td>\n",
       "</tr>\n",
       "</table><br/><br/>Warnings:<br/>[1] Standard Errors are heteroscedasticity robust (HC0)"
      ],
      "text/plain": [
       "<class 'statsmodels.iolib.summary.Summary'>\n",
       "\"\"\"\n",
       "                            OLS Regression Results                            \n",
       "==============================================================================\n",
       "Dep. Variable:              income_af   R-squared:                       0.096\n",
       "Model:                            OLS   Adj. R-squared:                  0.094\n",
       "Method:                 Least Squares   F-statistic:                     58.07\n",
       "Date:                Wed, 24 Feb 2021   Prob (F-statistic):           1.90e-35\n",
       "Time:                        15:04:05   Log-Likelihood:                -18553.\n",
       "No. Observations:                1450   AIC:                         3.711e+04\n",
       "Df Residuals:                    1446   BIC:                         3.713e+04\n",
       "Df Model:                           3                                         \n",
       "Covariance Type:                  HC0                                         \n",
       "=================================================================================\n",
       "                    coef    std err          z      P>|z|      [0.025      0.975]\n",
       "---------------------------------------------------------------------------------\n",
       "Intercept       3.81e+05   5455.944     69.829      0.000     3.7e+05    3.92e+05\n",
       "eligible       1.761e+04   9256.920      1.902      0.057    -533.425    3.58e+04\n",
       "dist           7.515e+04   1.24e+04      6.042      0.000    5.08e+04    9.95e+04\n",
       "eligible:dist -3.962e+04   2.54e+04     -1.561      0.119   -8.94e+04    1.01e+04\n",
       "==============================================================================\n",
       "Omnibus:                       15.416   Durbin-Watson:                   1.983\n",
       "Prob(Omnibus):                  0.000   Jarque-Bera (JB):               11.634\n",
       "Skew:                          -0.118   Prob(JB):                      0.00298\n",
       "Kurtosis:                       2.631   Cond. No.                         13.0\n",
       "==============================================================================\n",
       "\n",
       "Warnings:\n",
       "[1] Standard Errors are heteroscedasticity robust (HC0)\n",
       "\"\"\""
      ]
     },
     "execution_count": 66,
     "metadata": {},
     "output_type": "execute_result"
    }
   ],
   "source": [
    "#fit model: income_af on eligibility, distance and interaction between the two, optimal k\n",
    "model = smf.ols(formula = 'income_af ~ eligible * dist', data = optimal)\n",
    "results = model.fit(cov_type = 'HC0')\n",
    "\n",
    "print(results.conf_int())\n",
    "results.summary()"
   ]
  },
  {
   "cell_type": "markdown",
   "metadata": {},
   "source": [
    "The effect of eligibility somehow disappears with this optimal bandwidth and the interaction term, since our p-value is higher than .5, meaning that there is no difference in income if you get accepted to medical school or not."
   ]
  },
  {
   "cell_type": "markdown",
   "metadata": {},
   "source": [
    "<div class=\"alert alert-block alert-info\">\n",
    "Significant at 10% level, but yes."
   ]
  },
  {
   "cell_type": "markdown",
   "metadata": {},
   "source": [
    "*g) covariate balance check*"
   ]
  },
  {
   "cell_type": "code",
   "execution_count": 70,
   "metadata": {},
   "outputs": [],
   "source": [
    "optimal.head()\n",
    "covariates = ['age','par_income', 'income_bf', 'woman', 'cph', 'par_edu']"
   ]
  },
  {
   "cell_type": "code",
   "execution_count": 72,
   "metadata": {},
   "outputs": [
    {
     "data": {
      "text/html": [
       "<table style=\"text-align:center\"><tr><td colspan=\"7\" style=\"border-bottom: 1px solid black\"></td></tr><tr><td style=\"text-align:left\"></td><tr><td></td><td colspan=\"1\">age</td><td colspan=\"1\">par_income</td><td colspan=\"1\">income_bf</td><td colspan=\"1\">woman</td><td colspan=\"1\">cph</td><td colspan=\"1\">par_edu</td></tr><tr><td style=\"text-align:left\"></td><td>(1)</td><td>(2)</td><td>(3)</td><td>(4)</td><td>(5)</td><td>(6)</td></tr><tr><td colspan=\"7\" style=\"border-bottom: 1px solid black\"></td></tr><tr><td style=\"text-align:left\">Intercept</td><td>20.559<sup>***</sup></td><td>372574.975<sup>***</sup></td><td>61301.377<sup>***</sup></td><td>0.627<sup>***</sup></td><td>0.087<sup>***</sup></td><td>0.319<sup>***</sup></td></tr><tr><td style=\"text-align:left\"></td><td>(0.050)</td><td>(1425.259)</td><td>(327.857)</td><td>(0.016)</td><td>(0.009)</td><td>(0.016)</td></tr><tr><td style=\"text-align:left\">eligible</td><td>-0.210<sup>**</sup></td><td>-14686.951<sup>***</sup></td><td>-6101.746<sup>***</sup></td><td>-0.005<sup></sup></td><td>0.013<sup></sup></td><td>0.072<sup>***</sup></td></tr><tr><td style=\"text-align:left\"></td><td>(0.083)</td><td>(2385.033)</td><td>(584.754)</td><td>(0.026)</td><td>(0.016)</td><td>(0.026)</td></tr><td colspan=\"7\" style=\"border-bottom: 1px solid black\"></td></tr><tr><td style=\"text-align: left\">Observations</td><td>1,450</td><td>1,450</td><td>1,450</td><td>1,450</td><td>1,450</td><td>1,450</td></tr><tr><td style=\"text-align: left\">R<sup>2</sup></td><td>0.004</td><td>0.026</td><td>0.074</td><td>0.000</td><td>0.000</td><td>0.005</td></tr><tr><td style=\"text-align: left\">Adjusted R<sup>2</sup></td><td>0.004</td><td>0.025</td><td>0.074</td><td>-0.001</td><td>-0.000</td><td>0.005</td></tr><tr><td style=\"text-align: left\">Residual Std. Error</td><td>1.528 (df=1448)</td><td>43584.276 (df=1448)</td><td>10439.155 (df=1448)</td><td>0.484 (df=1448)</td><td>0.290 (df=1448)</td><td>0.475 (df=1448)</td></tr><tr><td style=\"text-align: left\">F Statistic</td><td>6.341<sup>**</sup> (df=1; 1448)</td><td>37.921<sup>***</sup> (df=1; 1448)</td><td>108.883<sup>***</sup> (df=1; 1448)</td><td>0.040<sup></sup> (df=1; 1448)</td><td>0.672<sup></sup> (df=1; 1448)</td><td>7.731<sup>***</sup> (df=1; 1448)</td></tr><tr><td colspan=\"7\" style=\"border-bottom: 1px solid black\"></td></tr><tr><td style=\"text-align: left\">Note:</td>\n",
       " <td colspan=\"6\" style=\"text-align: right\">\n",
       "  <sup>*</sup>p&lt;0.1;\n",
       "  <sup>**</sup>p&lt;0.05;\n",
       "  <sup>***</sup>p&lt;0.01\n",
       " </td></tr></table>"
      ],
      "text/plain": [
       "<stargazer.stargazer.Stargazer at 0x7fa376091850>"
      ]
     },
     "execution_count": 72,
     "metadata": {},
     "output_type": "execute_result"
    }
   ],
   "source": [
    "#covariate balance\n",
    "models = []\n",
    "\n",
    "for item in covariates: \n",
    "    model = smf.ols(formula = item + ' ~ eligible', data = optimal)\n",
    "    results = model.fit(cov_type = 'HC0')\n",
    "    models.append(results)\n",
    "\n",
    "table = Stargazer(models)\n",
    "\n",
    "table.custom_columns(covariates, [1 for i in range(len(covariates))])\n",
    "table"
   ]
  },
  {
   "cell_type": "markdown",
   "metadata": {},
   "source": [
    "The groups are only similar in terms of the gender balance and city balance, meaning the conditional random assignment does not hold. The income variables, which are very important in our case, are significant, meaning that the eligible students already have a higher income than the non-eligible ones. This would question the validity of the results. "
   ]
  },
  {
   "cell_type": "markdown",
   "metadata": {},
   "source": [
    "<div class=\"alert alert-block alert-info\">\n",
    "Yes, note that the imbalance becomes smaller when including the interaction term (compare to solutoin)."
   ]
  },
  {
   "cell_type": "markdown",
   "metadata": {},
   "source": [
    "*g) ITT with optimal bandwidth, with interaction effect*\n",
    "\n",
    "The intent to treat effect is approximately 17 610 DKK, with a 95% CI of -533.424608  :  35753.033494."
   ]
  },
  {
   "cell_type": "markdown",
   "metadata": {},
   "source": [
    "*h) Plot acceptance and mean gpa*"
   ]
  },
  {
   "cell_type": "code",
   "execution_count": 79,
   "metadata": {
    "scrolled": true
   },
   "outputs": [
    {
     "data": {
      "text/plain": [
       "<matplotlib.lines.Line2D at 0x7fa376787e20>"
      ]
     },
     "execution_count": 79,
     "metadata": {},
     "output_type": "execute_result"
    },
    {
     "data": {
      "image/png": "[encoded data removed]",
      "text/plain": [
       "<Figure size 432x288 with 1 Axes>"
      ]
     },
     "metadata": {
      "needs_background": "light"
     },
     "output_type": "display_data"
    }
   ],
   "source": [
    "#Group by\n",
    "accept_grouped = df.groupby('grade_group').mean()\n",
    "\n",
    "sns.scatterplot(x = accept_grouped.dist, y = accept_grouped.accept1, data = df)\n",
    "plt.axvline(x = 0)"
   ]
  },
  {
   "cell_type": "markdown",
   "metadata": {},
   "source": [
    "We have observations that are larger than 0, meaning we have compliers"
   ]
  },
  {
   "cell_type": "markdown",
   "metadata": {},
   "source": [
    "*i)Estimate the LATE of interest via 2SLS, while choosing the bandwidth (k) to be 1 and without including dist in the regression*"
   ]
  },
  {
   "cell_type": "code",
   "execution_count": 86,
   "metadata": {},
   "outputs": [
    {
     "name": "stderr",
     "output_type": "stream",
     "text": [
      "<ipython-input-86-808283c2870f>:5: SettingWithCopyWarning: \n",
      "A value is trying to be set on a copy of a slice from a DataFrame.\n",
      "Try using .loc[row_indexer,col_indexer] = value instead\n",
      "\n",
      "See the caveats in the documentation: https://pandas.pydata.org/pandas-docs/stable/user_guide/indexing.html#returning-a-view-versus-a-copy\n",
      "  med_df['const'] = 1\n"
     ]
    }
   ],
   "source": [
    "#import packages\n",
    "from statsmodels.api import add_constant\n",
    "from linearmodels.iv import IV2SLS\n",
    "\n",
    "med_df['const'] = 1"
   ]
  },
  {
   "cell_type": "code",
   "execution_count": 89,
   "metadata": {
    "scrolled": false
   },
   "outputs": [
    {
     "name": "stdout",
     "output_type": "stream",
     "text": [
      "                 lower          upper\n",
      "const    338459.951403  348430.119481\n",
      "accept1   53867.934893   75140.450293\n"
     ]
    },
    {
     "data": {
      "text/html": [
       "<table class=\"simpletable\">\n",
       "<caption>IV-2SLS Estimation Summary</caption>\n",
       "<tr>\n",
       "  <th>Dep. Variable:</th>        <td>income_af</td>    <th>  R-squared:         </th> <td>0.1566</td> \n",
       "</tr>\n",
       "<tr>\n",
       "  <th>Estimator:</th>             <td>IV-2SLS</td>     <th>  Adj. R-squared:    </th> <td>0.1561</td> \n",
       "</tr>\n",
       "<tr>\n",
       "  <th>No. Observations:</th>       <td>1658</td>       <th>  F-statistic:       </th> <td>141.28</td> \n",
       "</tr>\n",
       "<tr>\n",
       "  <th>Date:</th>             <td>Wed, Feb 24 2021</td> <th>  P-value (F-stat)   </th> <td>0.0000</td> \n",
       "</tr>\n",
       "<tr>\n",
       "  <th>Time:</th>                 <td>15:53:54</td>     <th>  Distribution:      </th> <td>chi2(1)</td>\n",
       "</tr>\n",
       "<tr>\n",
       "  <th>Cov. Estimator:</th>        <td>robust</td>      <th>                     </th>    <td></td>    \n",
       "</tr>\n",
       "<tr>\n",
       "  <th></th>                          <td></td>         <th>                     </th>    <td></td>    \n",
       "</tr>\n",
       "</table>\n",
       "<table class=\"simpletable\">\n",
       "<caption>Parameter Estimates</caption>\n",
       "<tr>\n",
       "     <td></td>     <th>Parameter</th> <th>Std. Err.</th> <th>T-stat</th> <th>P-value</th> <th>Lower CI</th>  <th>Upper CI</th> \n",
       "</tr>\n",
       "<tr>\n",
       "  <th>const</th>   <td>3.434e+05</td>  <td>2543.5</td>   <td>135.03</td> <td>0.0000</td>  <td>3.385e+05</td> <td>3.484e+05</td>\n",
       "</tr>\n",
       "<tr>\n",
       "  <th>accept1</th> <td>6.45e+04</td>   <td>5426.8</td>   <td>11.886</td> <td>0.0000</td>  <td>5.387e+04</td> <td>7.514e+04</td>\n",
       "</tr>\n",
       "</table><br/><br/>Endogenous: accept1<br/>Instruments: eligible<br/>Robust Covariance (Heteroskedastic)<br/>Debiased: False<br/>id: 0x7fa378dd2070"
      ],
      "text/plain": [
       "                          IV-2SLS Estimation Summary                          \n",
       "==============================================================================\n",
       "Dep. Variable:              income_af   R-squared:                      0.1566\n",
       "Estimator:                    IV-2SLS   Adj. R-squared:                 0.1561\n",
       "No. Observations:                1658   F-statistic:                    141.28\n",
       "Date:                Wed, Feb 24 2021   P-value (F-stat)                0.0000\n",
       "Time:                        15:53:54   Distribution:                  chi2(1)\n",
       "Cov. Estimator:                robust                                         \n",
       "                                                                              \n",
       "                             Parameter Estimates                              \n",
       "==============================================================================\n",
       "            Parameter  Std. Err.     T-stat    P-value    Lower CI    Upper CI\n",
       "------------------------------------------------------------------------------\n",
       "const       3.434e+05     2543.5     135.03     0.0000   3.385e+05   3.484e+05\n",
       "accept1      6.45e+04     5426.8     11.886     0.0000   5.387e+04   7.514e+04\n",
       "==============================================================================\n",
       "\n",
       "Endogenous: accept1\n",
       "Instruments: eligible\n",
       "Robust Covariance (Heteroskedastic)\n",
       "Debiased: False\n",
       "IVResults, id: 0x7fa378dd2070"
      ]
     },
     "execution_count": 89,
     "metadata": {},
     "output_type": "execute_result"
    }
   ],
   "source": [
    "#Estimate LATE with a 2SLS model of accepting on income, eligibility as instrument, k = 1\n",
    "\n",
    "ivmod = IV2SLS(med_df['income_af'], exog = med_df['const'], endog = med_df['accept1'], instruments = med_df['eligible'])\n",
    "\n",
    "iv_res = ivmod.fit(cov_type = 'robust')\n",
    "print(iv_res.conf_int())\n",
    "iv_res"
   ]
  },
  {
   "cell_type": "markdown",
   "metadata": {},
   "source": [
    "*j) Estimate the LATE of interest and use a package to select the optimal bandwidth (k) based on your data.*"
   ]
  },
  {
   "cell_type": "code",
   "execution_count": 90,
   "metadata": {},
   "outputs": [
    {
     "name": "stderr",
     "output_type": "stream",
     "text": [
      "<ipython-input-90-73e33b85eb67>:1: SettingWithCopyWarning: \n",
      "A value is trying to be set on a copy of a slice from a DataFrame.\n",
      "Try using .loc[row_indexer,col_indexer] = value instead\n",
      "\n",
      "See the caveats in the documentation: https://pandas.pydata.org/pandas-docs/stable/user_guide/indexing.html#returning-a-view-versus-a-copy\n",
      "  optimal['const'] = 1\n"
     ]
    }
   ],
   "source": [
    "optimal['const'] = 1"
   ]
  },
  {
   "cell_type": "code",
   "execution_count": 91,
   "metadata": {
    "scrolled": true
   },
   "outputs": [
    {
     "name": "stdout",
     "output_type": "stream",
     "text": [
      "                 lower          upper\n",
      "const    341380.261731  352481.513975\n",
      "accept1   49254.249080   71670.589233\n"
     ]
    },
    {
     "data": {
      "text/html": [
       "<table class=\"simpletable\">\n",
       "<caption>IV-2SLS Estimation Summary</caption>\n",
       "<tr>\n",
       "  <th>Dep. Variable:</th>        <td>income_af</td>    <th>  R-squared:         </th> <td>0.1454</td> \n",
       "</tr>\n",
       "<tr>\n",
       "  <th>Estimator:</th>             <td>IV-2SLS</td>     <th>  Adj. R-squared:    </th> <td>0.1449</td> \n",
       "</tr>\n",
       "<tr>\n",
       "  <th>No. Observations:</th>       <td>1450</td>       <th>  F-statistic:       </th> <td>111.79</td> \n",
       "</tr>\n",
       "<tr>\n",
       "  <th>Date:</th>             <td>Wed, Feb 24 2021</td> <th>  P-value (F-stat)   </th> <td>0.0000</td> \n",
       "</tr>\n",
       "<tr>\n",
       "  <th>Time:</th>                 <td>15:57:37</td>     <th>  Distribution:      </th> <td>chi2(1)</td>\n",
       "</tr>\n",
       "<tr>\n",
       "  <th>Cov. Estimator:</th>        <td>robust</td>      <th>                     </th>    <td></td>    \n",
       "</tr>\n",
       "<tr>\n",
       "  <th></th>                          <td></td>         <th>                     </th>    <td></td>    \n",
       "</tr>\n",
       "</table>\n",
       "<table class=\"simpletable\">\n",
       "<caption>Parameter Estimates</caption>\n",
       "<tr>\n",
       "     <td></td>     <th>Parameter</th> <th>Std. Err.</th> <th>T-stat</th> <th>P-value</th> <th>Lower CI</th>  <th>Upper CI</th> \n",
       "</tr>\n",
       "<tr>\n",
       "  <th>const</th>   <td>3.469e+05</td>  <td>2832.0</td>   <td>122.50</td> <td>0.0000</td>  <td>3.414e+05</td> <td>3.525e+05</td>\n",
       "</tr>\n",
       "<tr>\n",
       "  <th>accept1</th> <td>6.046e+04</td>  <td>5718.6</td>   <td>10.573</td> <td>0.0000</td>  <td>4.925e+04</td> <td>7.167e+04</td>\n",
       "</tr>\n",
       "</table><br/><br/>Endogenous: accept1<br/>Instruments: eligible<br/>Robust Covariance (Heteroskedastic)<br/>Debiased: False<br/>id: 0x7fa378e9a610"
      ],
      "text/plain": [
       "                          IV-2SLS Estimation Summary                          \n",
       "==============================================================================\n",
       "Dep. Variable:              income_af   R-squared:                      0.1454\n",
       "Estimator:                    IV-2SLS   Adj. R-squared:                 0.1449\n",
       "No. Observations:                1450   F-statistic:                    111.79\n",
       "Date:                Wed, Feb 24 2021   P-value (F-stat)                0.0000\n",
       "Time:                        15:57:37   Distribution:                  chi2(1)\n",
       "Cov. Estimator:                robust                                         \n",
       "                                                                              \n",
       "                             Parameter Estimates                              \n",
       "==============================================================================\n",
       "            Parameter  Std. Err.     T-stat    P-value    Lower CI    Upper CI\n",
       "------------------------------------------------------------------------------\n",
       "const       3.469e+05     2832.0     122.50     0.0000   3.414e+05   3.525e+05\n",
       "accept1     6.046e+04     5718.6     10.573     0.0000   4.925e+04   7.167e+04\n",
       "==============================================================================\n",
       "\n",
       "Endogenous: accept1\n",
       "Instruments: eligible\n",
       "Robust Covariance (Heteroskedastic)\n",
       "Debiased: False\n",
       "IVResults, id: 0x7fa378e9a610"
      ]
     },
     "execution_count": 91,
     "metadata": {},
     "output_type": "execute_result"
    }
   ],
   "source": [
    "#Estimate LATE with a 2SLS model of accepting on income, eligibility as instrument, k = optimal\n",
    "\n",
    "ivmod = IV2SLS(optimal['income_af'], exog = optimal['const'], endog = optimal['accept1'], instruments = optimal['eligible'])\n",
    "\n",
    "iv_res = ivmod.fit(cov_type = 'robust')\n",
    "print(iv_res.conf_int())\n",
    "iv_res"
   ]
  },
  {
   "cell_type": "markdown",
   "metadata": {},
   "source": [
    "# Question 2"
   ]
  },
  {
   "cell_type": "markdown",
   "metadata": {},
   "source": [
    "– What assumptions does the paper rely on to identify causal effects?\n",
    "\n",
    "The instrumental variable (seat-assignment) is conditionally random assigned. The instrument should only influence the outcome (voting congruence) through the independent variable, which in this case is sitting adjacent to someone from the same party. The instrument should have an impact on the independent variable, meanting that there are compliers.\n",
    "\n",
    "– How does the paper justify the identifying assumptions ex ante (i.e. before estimating things in the data)? Do you find the assumptions credible? Why/why not?\n",
    "\n",
    "They check whether the instrument influence on the outcome in a group of MEP's that are not seated alphabetically. They also condition on contemporaneous and past seating. This test showed that alphabetical adjacency had no direct impact on voting congruence among these MEPs, meaning it operates through a different variable. I find it credible that the assumptions hold, because alphabetical seating seems random to me, and it does not influence the outcome, meaning that it should have an effect on something else, that in turn influences the outcome.\n",
    "\n",
    "– How does the paper try to substantiate the identifying assumptions using the actual data? Do you find that this adds to the credibility of the results? Why/why not?\n",
    "\n",
    "They take into account the size of the party, and that similar names might mean that you have similar backgrounds.  I think adding these conditions strengthens the claim that the IV is conditionally random assigned.\n",
    "\n",
    "\n",
    "– The paper estimates both a LATE and an ITT. How does the paper emphasize and use each of these?\n",
    "The ITT is used to determine the effect of being assigned a certain seat on the outcome variable, and the LATE is used to capture peer effects, or the local average treatment effect of being seated next to someone from your own party, taking controls into account. \n",
    "\n",
    "– What is the role of the section entitled ’Heterogeneity in peer effects’ ?\n",
    "\n",
    "Here they are taking into account differences within differences. They find  that peer effects are indeedmuch greater if the MEP-pair are both women or if they come from the same country.\n",
    "\n",
    "– Taking into account all the above, what (if anything) do you think we credible learn from this paper? What (if anything) is left unanswered regarding the paper’s key research question(s)?\n",
    "\n",
    "We learn that peer pressure is a phenomena that should be taken into account when exmaning voting behaviour, and that how people are seated matters. Maybe it should be considered when seats are allocated in the parliament: maybe you shouldn't sit next to someone from your own party. "
   ]
  }
 ],
 "metadata": {
  "kernelspec": {
   "display_name": "Python 3",
   "language": "python",
   "name": "python3"
  },
  "language_info": {
   "codemirror_mode": {
    "name": "ipython",
    "version": 3
   },
   "file_extension": ".py",
   "mimetype": "text/x-python",
   "name": "python",
   "nbconvert_exporter": "python",
   "pygments_lexer": "ipython3",
   "version": "3.8.3"
  }
 },
 "nbformat": 4,
 "nbformat_minor": 4
}
