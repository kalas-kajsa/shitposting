{
 "cells": [
  {
   "cell_type": "code",
   "execution_count": 50,
   "metadata": {},
   "outputs": [],
   "source": [
    "#Importing packages \n",
    "import pandas as pd\n",
    "import numpy as np\n",
    "import scipy \n",
    "from tqdm import tqdm  #This is for creating progress bars.\n",
    "import json #To save files in json format\n",
    "import os #To set working directory\n",
    "from datetime import datetime #To check start and end time when running code\n",
    "import pickle  #To store and open previously saved machine learning models \n",
    "\n",
    "#Packages for language processing\n",
    "import re\n",
    "from collections import defaultdict\n",
    "import string\n",
    "import nltk\n",
    "\n",
    "#Packages for visualization\n",
    "import seaborn as sns\n",
    "import matplotlib.pyplot as plt\n"
   ]
  },
  {
   "cell_type": "markdown",
   "metadata": {},
   "source": [
    "# Advanced Social Data Science 2 (ASDS2) Exercises\n",
    "\n",
    "\n",
    "## April 28: Scaling\n",
    "\n",
    "In this and the next two exercise labs, we will be working with a dataset of tweets from USA Members of Congress. The version of the dataset used today includes the 3000 most recent tweets from each member of congress. We have created a subset of this dataset containing tweets from 2018 and later, to capture only fairly recent tweets as the dataset is very large. \n",
    "\n",
    "Preprocessing such a large dataset takes a while to run (approx 20 mins). To save you time and effort, we have uploaded a preprocessed version of the dataset: 'MOC2021_Tweets_2018subset_preprocessed.csv'. \n",
    "\n",
    "However, if you have time and wish to replicate the preprocessing yourself, the following steps were applied: \n",
    "\n",
    "1. Subsetting dataset to include only tweets from 2018 and later\n",
    "1. Removing duplicated tweets \n",
    "2. Removing unneeded columns (all except 'nominate_name','affiliation','role','nominate_score', and 'text')\n",
    "3. Turning independents into Democrats or Republicans. In essence, finding the independents (\"SANDERS, Bernard\" and \"KING, Angus Stanley, Jr.\") and turning these to \"Democrat\". \n",
    "4. Replace \"&\" with \"and\"\n",
    "5. Remove odd special characters (\"┻\",\"┃\",\"━\",\"┳\",\"┓\",\"┏\",\"┛\",\"┗\")\n",
    "6. There are some annoying cases in these data where a character that looks like a space is not a space. Here, we just replace that character with an actual space. Note that the first \"space\" is not actually a space. \" \" == \" \" is FALSE. Replace \"\\u202F\", \"\\u2069\", \"\\u200d\", and \"\\u2066\" with \" \".\n",
    "7. Removing \"RT\" and \"via\"\n",
    "8. Removing mentions (@someone)\n",
    "9. Removing numbers, removing punctuation (except hyphens), removing separators, removing urls, lowercasing, removing stopwords, and lemmatizing."
   ]
  },
  {
   "cell_type": "markdown",
   "metadata": {},
   "source": [
    "### 1: Formatting the dataset to a shape accepted by the scaler\n",
    "\n",
    "Import the dataset with preprocessed text 'MOC2021_Tweets_2018subset_preprocessed.csv'.\n",
    "\n",
    "The dataset includes the name of each member of Congress (nominate_name), their affiliation (Democrat or Republican), their institutional role in Congress (House or Senate), their ideological score based on how they vote in Congress (nominate_score) and the text of each of their most recent 3000 tweets, reaching back until the beginning of 2018, in original and preprocessed format. \n",
    "\n",
    "1. The goal of our wordfish scaling today is to give each politician an ideological score based on their tweets. To prepare the data, we therefore need to aggregate all text per politician. In essence, transform the dataframe so that each row has one politician (rather than one tweet) and each text field includes all tweets from this politician in one long string. \n",
    "\n",
    "Hint for 1.1: When preprocessing, some tweet text was removed (e.g. if they were only URLs). To aggregate text, you may need to replace NaN values with an empty string. Next, the pandas functions `groupby` and `agg` can help you.\n",
    "\n",
    "\n",
    "2. The wordfish scaler accepts data in the shape of a list of tuples containing the document name and the document text. Essentially that means that you should create a list in the format: [(politician1, preprocessed_text1), (politician2, preprocessed_text2), (politician3, preprocessed_text3)].\n"
   ]
  },
  {
   "cell_type": "code",
   "execution_count": 52,
   "metadata": {},
   "outputs": [],
   "source": [
    "#When importing the data, use pd.read_csv('filename', compression = 'bz2')\n",
    "df = pd.read_csv('/Users/kajsarosenblad/Documents/SODAS/Advanced Data Science 2/week 2/MOC2021_Tweets_2018subset_preprocessed.csv.bz2', compression = 'bz2')\n"
   ]
  },
  {
   "cell_type": "code",
   "execution_count": null,
   "metadata": {
    "scrolled": true
   },
   "outputs": [],
   "source": [
    "df.head()"
   ]
  },
  {
   "cell_type": "code",
   "execution_count": 53,
   "metadata": {},
   "outputs": [],
   "source": [
    "#replace nan with empty string\n",
    "df['text_preprocessed'] = df['text_preprocessed'].replace(np.nan, '', regex=True)\n"
   ]
  },
  {
   "cell_type": "code",
   "execution_count": 54,
   "metadata": {},
   "outputs": [],
   "source": [
    "#transform the dataframe so that each row has one politician (rather than one tweet) and each text field \n",
    "#includes all tweets from this politician in one long string.\n",
    "group_df = df.groupby(['nominate_name','affiliation', 'role', 'nominate_score'])['text_preprocessed'].agg(','.join).reset_index()"
   ]
  },
  {
   "cell_type": "code",
   "execution_count": 55,
   "metadata": {},
   "outputs": [
    {
     "data": {
      "text/html": [
       "<div>\n",
       "<style scoped>\n",
       "    .dataframe tbody tr th:only-of-type {\n",
       "        vertical-align: middle;\n",
       "    }\n",
       "\n",
       "    .dataframe tbody tr th {\n",
       "        vertical-align: top;\n",
       "    }\n",
       "\n",
       "    .dataframe thead th {\n",
       "        text-align: right;\n",
       "    }\n",
       "</style>\n",
       "<table border=\"1\" class=\"dataframe\">\n",
       "  <thead>\n",
       "    <tr style=\"text-align: right;\">\n",
       "      <th></th>\n",
       "      <th>nominate_name</th>\n",
       "      <th>affiliation</th>\n",
       "      <th>role</th>\n",
       "      <th>nominate_score</th>\n",
       "      <th>text_preprocessed</th>\n",
       "    </tr>\n",
       "  </thead>\n",
       "  <tbody>\n",
       "    <tr>\n",
       "      <th>0</th>\n",
       "      <td>ADAMS, Alma</td>\n",
       "      <td>Democrat</td>\n",
       "      <td>House</td>\n",
       "      <td>-0.466</td>\n",
       "      <td>morning conversation holiday,john lewis fighte...</td>\n",
       "    </tr>\n",
       "    <tr>\n",
       "      <th>1</th>\n",
       "      <td>ADERHOLT, Robert</td>\n",
       "      <td>Republican</td>\n",
       "      <td>House</td>\n",
       "      <td>0.370</td>\n",
       "      <td>,folks pelosi admit impeachment last forever d...</td>\n",
       "    </tr>\n",
       "    <tr>\n",
       "      <th>2</th>\n",
       "      <td>AGUILAR, Peter Rey</td>\n",
       "      <td>Democrat</td>\n",
       "      <td>House</td>\n",
       "      <td>-0.292</td>\n",
       "      <td>brave inland empire resident answer call serve...</td>\n",
       "    </tr>\n",
       "    <tr>\n",
       "      <th>3</th>\n",
       "      <td>ALLEN, Rick W.</td>\n",
       "      <td>Republican</td>\n",
       "      <td>House</td>\n",
       "      <td>0.680</td>\n",
       "      <td>congratulation gas mr harold quarterman lead c...</td>\n",
       "    </tr>\n",
       "    <tr>\n",
       "      <th>4</th>\n",
       "      <td>ALLRED, Colin</td>\n",
       "      <td>Democrat</td>\n",
       "      <td>House</td>\n",
       "      <td>-0.437</td>\n",
       "      <td>im always impressed local organization communi...</td>\n",
       "    </tr>\n",
       "  </tbody>\n",
       "</table>\n",
       "</div>"
      ],
      "text/plain": [
       "        nominate_name affiliation   role  nominate_score  \\\n",
       "0         ADAMS, Alma    Democrat  House          -0.466   \n",
       "1    ADERHOLT, Robert  Republican  House           0.370   \n",
       "2  AGUILAR, Peter Rey    Democrat  House          -0.292   \n",
       "3      ALLEN, Rick W.  Republican  House           0.680   \n",
       "4       ALLRED, Colin    Democrat  House          -0.437   \n",
       "\n",
       "                                   text_preprocessed  \n",
       "0  morning conversation holiday,john lewis fighte...  \n",
       "1  ,folks pelosi admit impeachment last forever d...  \n",
       "2  brave inland empire resident answer call serve...  \n",
       "3  congratulation gas mr harold quarterman lead c...  \n",
       "4  im always impressed local organization communi...  "
      ]
     },
     "execution_count": 55,
     "metadata": {},
     "output_type": "execute_result"
    }
   ],
   "source": [
    "group_df.head()"
   ]
  },
  {
   "cell_type": "code",
   "execution_count": 57,
   "metadata": {},
   "outputs": [],
   "source": [
    "#make list of tuples with names and text\n",
    "tuple_list = []\n",
    "\n",
    "for row in group_df.iterrows():\n",
    "    tup = (row[1].nominate_name,row[1].text_preprocessed)\n",
    "    tuple_list.append(tup)\n",
    "    \n",
    "    "
   ]
  },
  {
   "cell_type": "markdown",
   "metadata": {},
   "source": [
    "### 2: Scaling with Wordfish\n",
    "\n",
    "The wordfish scaler we are using is from the implementation found here: https://github.com/umanlp/SemScale. \n",
    "\n",
    "As this is not a (super) professional implementation, there is almost no documentation of how to use the code. Therefore, we have copied the essential parts of their `wordfish.py` code below and ask you to fill in the blanks with data from the list you have just created. \n",
    "\n",
    "You can check what the object `corp` contains with the following commands: \n",
    "- `corp.occurences`: See the document-feature matrix \n",
    "- `corp.vocubulary`: See the full vocabulary across documents. Numbers indicate their index in the dfm. \n",
    "- `corp.results`: See the scaling results \n",
    "\n",
    "The wordfish scaler takes several hours to run on the full dataset. Select a **subset of perhaps 20 politicians** to check that you have a code that works. "
   ]
  },
  {
   "cell_type": "markdown",
   "metadata": {},
   "source": [
    "#### Importing code \n",
    "\n",
    "Download the code from the github repository and store it somewhere on your computer. The following imports will be drawing on code in that folder. "
   ]
  },
  {
   "cell_type": "code",
   "execution_count": 58,
   "metadata": {},
   "outputs": [],
   "source": [
    "#Setting working directory to be where the SemScale code is stored \n",
    "path = '/Users/kajsarosenblad/Documents/SODAS/Advanced Data Science 2/week 2/SemScale-master' #Insert the path to where you have stored the SemScale-master folder as a string\n",
    "os.chdir(path)\n",
    "\n",
    "#Scaling packages \n",
    "from helpers import io_helper\n",
    "from wfcode import corpus\n",
    "from wfcode import scaler\n",
    "import argparse\n"
   ]
  },
  {
   "cell_type": "markdown",
   "metadata": {},
   "source": [
    "#### Creating a corpus object"
   ]
  },
  {
   "cell_type": "code",
   "execution_count": 59,
   "metadata": {},
   "outputs": [],
   "source": [
    "#Select a subset of your list of politicians \n",
    "subset = tuple_list[10:30]\n"
   ]
  },
  {
   "cell_type": "code",
   "execution_count": 60,
   "metadata": {},
   "outputs": [],
   "source": [
    "#Setting parameters (keeping the default parameters as used in the github code)\n",
    "\n",
    "niter = 5000      #number of iterations\n",
    "lr = 0.00001      #learning rate\n",
    "stopwords = None  #we've already removed stopwords\n"
   ]
  },
  {
   "cell_type": "code",
   "execution_count": 61,
   "metadata": {},
   "outputs": [
    {
     "name": "stdout",
     "output_type": "stream",
     "text": [
      "Loading corpus, received: 20 docs.\n"
     ]
    }
   ],
   "source": [
    "#Creating a corpus object\n",
    "\n",
    "corp = corpus.Corpus(subset) #input your subsetted data in the parentheses"
   ]
  },
  {
   "cell_type": "code",
   "execution_count": 62,
   "metadata": {},
   "outputs": [
    {
     "name": "stdout",
     "output_type": "stream",
     "text": [
      "2021-04-28 10:59:43 Preprocessing corpus...\n",
      "2021-04-28 10:59:49 Building vocabulary...\n",
      "2021-04-28 10:59:50 Building coocurrence matrix...\n",
      "1/20\n",
      "2/20\n",
      "3/20\n",
      "4/20\n",
      "5/20\n",
      "6/20\n",
      "7/20\n",
      "8/20\n",
      "9/20\n",
      "10/20\n",
      "11/20\n",
      "12/20\n",
      "13/20\n",
      "14/20\n",
      "15/20\n",
      "16/20\n",
      "17/20\n",
      "18/20\n",
      "19/20\n",
      "20/20\n"
     ]
    }
   ],
   "source": [
    "#Run this code with no alterations\n",
    "\n",
    "#Preprocessing data\n",
    "corp.tokenize(stopwords = stopwords, freq_treshold = 2)\n",
    "\n",
    "#Building the document-feature matrix\n",
    "corp.build_occurrences()"
   ]
  },
  {
   "cell_type": "markdown",
   "metadata": {},
   "source": [
    "#### Investigating the corpus object\n",
    "\n",
    "Check the shape of your document-feature matrix. Check the vocabulary of the corpus.\n"
   ]
  },
  {
   "cell_type": "markdown",
   "metadata": {},
   "source": [
    "corp.occurences: See the document-feature matrix\n",
    "corp.vocubulary: See the full vocabulary across documents. Numbers indicate their index in the dfm.\n",
    "corp.results: See the scaling results"
   ]
  },
  {
   "cell_type": "code",
   "execution_count": 72,
   "metadata": {},
   "outputs": [
    {
     "data": {
      "text/plain": [
       "array([[144.,  35.,   8., ...,   1.,   1.,   1.],\n",
       "       [198.,  64.,  16., ...,   1.,   1.,   1.],\n",
       "       [ 24.,   8.,   1., ...,   1.,   1.,   1.],\n",
       "       ...,\n",
       "       [ 88.,  42.,  11., ...,   1.,   1.,   1.],\n",
       "       [ 31.,  13.,   1., ...,   1.,   1.,   1.],\n",
       "       [273.,  84.,  12., ...,   2.,   2.,   2.]], dtype=float32)"
      ]
     },
     "execution_count": 72,
     "metadata": {},
     "output_type": "execute_result"
    }
   ],
   "source": [
    "#Check the shape of the document-feature matrix\n",
    "corp.occurrences"
   ]
  },
  {
   "cell_type": "code",
   "execution_count": 82,
   "metadata": {},
   "outputs": [],
   "source": [
    "#Check the vocabulary \n",
    "vocabulary = corp.vocabulary"
   ]
  },
  {
   "cell_type": "markdown",
   "metadata": {},
   "source": [
    "#### Training the wordfish scaler"
   ]
  },
  {
   "cell_type": "code",
   "execution_count": 74,
   "metadata": {},
   "outputs": [
    {
     "name": "stdout",
     "output_type": "stream",
     "text": [
      "2021-04-28 11:02:40 WordFish scaling begun.\n",
      "Initializing...\n",
      "Alpha docs: \n",
      "[ 0.          0.5811401  -0.4392104   0.05003661  0.45665234  0.28658348\n",
      " -0.08026847  0.34255347 -0.07004075 -0.04940938  0.28804514  0.6479377\n",
      "  0.1067118  -0.3877437   0.42324317  0.30474922 -0.2921803  -0.02932561\n",
      " -0.41955262  0.46336913]\n",
      "Training...\n",
      "Initial objective score: -1934252.25\n",
      "Iteration (secondary) 1: -1934320.625\n",
      "Iteration (secondary) 101: -1940306.5\n",
      "Iteration (secondary) 201: -1945012.5\n",
      "Iteration (secondary) 301: -1948879.5\n",
      "Iteration (secondary) 401: -1952157.875\n",
      "Iteration (secondary) 501: -1954997.25\n",
      "Iteration (secondary) 601: -1957499.625\n",
      "Iteration (secondary) 701: -1959734.5\n",
      "Iteration (secondary) 801: -1961752.5\n",
      "Iteration (secondary) 901: -1963591.875\n",
      "Iteration (secondary) 1001: -1965281.125\n",
      "Iteration (secondary) 1101: -1966843.125\n",
      "Iteration (secondary) 1201: -1968296.875\n",
      "Iteration (secondary) 1301: -1969655.0\n",
      "Iteration (secondary) 1401: -1970931.375\n",
      "Iteration (secondary) 1501: -1972133.875\n",
      "Iteration (secondary) 1601: -1973271.875\n",
      "Iteration (secondary) 1701: -1974352.0\n",
      "Iteration (secondary) 1801: -1975380.75\n",
      "Iteration (secondary) 1901: -1976362.75\n",
      "Iteration (secondary) 2001: -1977301.25\n",
      "Iteration (secondary) 2101: -1978202.75\n",
      "Iteration (secondary) 2201: -1979067.5\n",
      "Iteration (secondary) 2301: -1979899.125\n",
      "Iteration (secondary) 2401: -1980701.625\n",
      "Iteration (secondary) 2501: -1981476.25\n",
      "Iteration (secondary) 2601: -1982224.5\n",
      "Iteration (secondary) 2701: -1982949.625\n",
      "Iteration (secondary) 2801: -1983652.375\n",
      "Iteration (secondary) 2901: -1984333.625\n",
      "Iteration (secondary) 3001: -1984996.25\n",
      "Iteration (secondary) 3101: -1985639.75\n",
      "Iteration (secondary) 3201: -1986265.875\n",
      "Iteration (secondary) 3301: -1986876.5\n",
      "Iteration (secondary) 3401: -1987470.0\n",
      "Iteration (secondary) 3501: -1988049.25\n",
      "Iteration (secondary) 3601: -1988615.5\n",
      "Iteration (secondary) 3701: -1989169.125\n",
      "Iteration (secondary) 3801: -1989708.875\n",
      "Iteration (secondary) 3901: -1990237.375\n",
      "Iteration (secondary) 4001: -1990754.25\n",
      "Iteration (secondary) 4101: -1991260.75\n",
      "Iteration (secondary) 4201: -1991756.5\n",
      "Iteration (secondary) 4301: -1992242.125\n",
      "Iteration (secondary) 4401: -1992718.625\n",
      "Iteration (secondary) 4501: -1993186.0\n",
      "Iteration (secondary) 4601: -1993644.375\n",
      "Iteration (secondary) 4701: -1994095.25\n",
      "Iteration (secondary) 4801: -1994536.875\n",
      "Iteration (secondary) 4901: -1994971.25\n",
      "2021-04-28 11:04:14 WordFish scaling completed.\n"
     ]
    }
   ],
   "source": [
    "#Run this code with no alterations\n",
    "\n",
    "wf_scaler = scaler.WordfishScaler(corp)\n",
    "\n",
    "print(datetime.now().strftime('%Y-%m-%d %H:%M:%S') + \" WordFish scaling begun.\")\n",
    "\n",
    "wf_scaler.initialize()\n",
    "wf_scaler.train(learning_rate = lr, num_iters = niter)\n",
    "\n",
    "print(datetime.now().strftime('%Y-%m-%d %H:%M:%S') + \" WordFish scaling completed.\")"
   ]
  },
  {
   "cell_type": "markdown",
   "metadata": {},
   "source": [
    "#### Results \n",
    "\n",
    "View the results of the scaler. "
   ]
  },
  {
   "cell_type": "code",
   "execution_count": 75,
   "metadata": {},
   "outputs": [
    {
     "data": {
      "text/plain": [
       "{'BABIN, Brian': -0.34607804,\n",
       " 'BACON, Donald J.': 1.39345,\n",
       " 'BAIRD, James': -1.6650634,\n",
       " 'BALDERSON, Troy': -0.17626695,\n",
       " 'BALDWIN, Tammy': 1.2270474,\n",
       " 'BANKS, James E.': 0.45003572,\n",
       " 'BARR, Garland H. (Andy) IV': -0.59714186,\n",
       " 'BARRAGÁN, Nanette Diaz': 0.6461194,\n",
       " 'BARRASSO, John A.': -0.5030484,\n",
       " 'BASS, Karen': -0.45903614,\n",
       " 'BEATTY, Joyce': 0.53668195,\n",
       " 'BENNET, Michael F.': 1.6983627,\n",
       " 'BERA, Ami': 0.05142092,\n",
       " 'BERGMAN, John': -1.5114324,\n",
       " 'BEYER, Donald Sternoff Jr.': 0.98153275,\n",
       " 'BIGGS, Andrew S.': 0.59380734,\n",
       " 'BILIRAKIS, Gus': -1.2228254,\n",
       " 'BISHOP, Dan': -0.5200997,\n",
       " 'BISHOP, Sanford Dixon, Jr.': -1.608001,\n",
       " 'BLACKBURN, Marsha': 1.0305351}"
      ]
     },
     "execution_count": 75,
     "metadata": {},
     "output_type": "execute_result"
    }
   ],
   "source": [
    "corp.results"
   ]
  },
  {
   "cell_type": "markdown",
   "metadata": {},
   "source": [
    "### 3: Validating and inspecting the results: part 1\n",
    "\n",
    "Running the wordfish scaler on the full dataset takes several hours. Therefore, we've prepared two models for you pre-trained on the full dataset. Load the models called 'MOCscalingresults.sav' (the corp object) and 'MOCscaler.sav' (the wf_scaler object) from Absalon with the code below.\n",
    "\n",
    "To make sure we have meaningful results, check the alpha, psi, and beta values. \n",
    "\n",
    "1. Beta values can be accessed with `wf_scaler.beta_words`. Find the 10 words that are most predictive of the low end of the ideology scale and the 10 words that are most predictive of the high end of the ideology scale. Based on these words, can you guess which ideology (Democrat vs Republican) is categorized with low values and which with high values?\n",
    "2. Alpha values can be accessed with `wf_scaler.alpha_docs`. Check the document length of the documents with the highest and lowest alpha. Do the results make sense? \n",
    "3. Psi values can be accessed with `wf_scaler.psi_words`. Check the frequency of the words with the highest and lowest psi values. Do the results make sense? \n",
    "\n",
    "Hint: All the values are stored in numpy arrays. Numpy has functions for getting the original indices of sorted values, and the index placement of minimum and maximum values, `argsort()`, `argmin()`, and `argmax()`.\n"
   ]
  },
  {
   "cell_type": "code",
   "execution_count": 77,
   "metadata": {},
   "outputs": [],
   "source": [
    "#Loading the saved models \n",
    "\n",
    "path = '/Users/kajsarosenblad/Documents/SODAS/Advanced Data Science 2/week 2/Wordfish models/' #Input the path to where you stored the two models\n",
    "\n",
    "corp = pickle.load(open(path+'MOCscalingresults.sav', 'rb'))\n",
    "wf_scaler = pickle.load(open(path+'MOCscaler.sav', 'rb'))\n"
   ]
  },
  {
   "cell_type": "markdown",
   "metadata": {},
   "source": [
    "#### 3.1 Beta β"
   ]
  },
  {
   "cell_type": "code",
   "execution_count": 96,
   "metadata": {},
   "outputs": [
    {
     "name": "stdout",
     "output_type": "stream",
     "text": [
      "idaho\n",
      "ksleg\n",
      "alpolitics\n",
      "louisiana\n",
      "taxcutsandjobsact\n",
      "kansa\n",
      "taxreform\n",
      "maine\n",
      "rancher\n",
      "alabama\n",
      "\n",
      "\n",
      "fight\n",
      "change\n",
      "justice\n",
      "crisis\n",
      "pandemic\n",
      "must\n",
      "worker\n",
      "health\n",
      "trump\n",
      "climate\n"
     ]
    }
   ],
   "source": [
    "#sort beta values, get indices \n",
    "sorted_beta = wf_scaler.beta_words.argsort()\n",
    "\n",
    "\n",
    "#make word list of vocuabulary (which I can later access by the )\n",
    "word_list = list(vocabulary.keys())\n",
    "\n",
    "for item in sorted_beta[:10]:\n",
    "    print(word_list[item])\n",
    "    \n",
    "print('\\n')\n",
    "    \n",
    "for item in sorted_beta[-10:]:\n",
    "    print (word_list[item])"
   ]
  },
  {
   "cell_type": "markdown",
   "metadata": {},
   "source": [
    "#### 3.2 Alpha α"
   ]
  },
  {
   "cell_type": "code",
   "execution_count": 103,
   "metadata": {},
   "outputs": [
    {
     "name": "stdout",
     "output_type": "stream",
     "text": [
      "364\n",
      "73\n"
     ]
    }
   ],
   "source": [
    "lowest = wf_scaler.alpha_docs.argmin()\n",
    "highest = wf_scaler.alpha_docs.argmax()\n",
    "\n",
    "print(lowest)\n",
    "print(highest)"
   ]
  },
  {
   "cell_type": "markdown",
   "metadata": {},
   "source": [
    "#### 3.3 Psi ψ"
   ]
  },
  {
   "cell_type": "code",
   "execution_count": 108,
   "metadata": {},
   "outputs": [
    {
     "name": "stdout",
     "output_type": "stream",
     "text": [
      "📫restore\n",
      "andamp\n"
     ]
    }
   ],
   "source": [
    "low = wf_scaler.psi_words.argmin()\n",
    "high = wf_scaler.psi_words.argmax()\n",
    "\n",
    "print(word_list[low])\n",
    "print(word_list[high])"
   ]
  },
  {
   "cell_type": "markdown",
   "metadata": {},
   "source": [
    "### 4: Validating and inspecting the results: part 2\n",
    "\n",
    "1. Create a new column in your dataset and input the scaling results. \n",
    "2. To validate our results, run the overall correlation between our scaling results and the provided nominate scores. Visualize the correlation in a scatterplot. How well do our scaling results correlate with the nominate scores?\n",
    "3. Optional: Separate House and Senate. Run correlations within each institution as above and visualize as a scatterplot. \n",
    "3. Separate Democrats and Republicans. Run correlations within each party as above and visualize as a scatterplot. Can the scaling results help us determine ideological positions within each party?\n",
    "4. Find the ideological score as computed by the wordfish scaler of specific politicians that you know, e.g. Ted Cruz and Bernie Sanders. Do the results make sense? Why might the results not be as we would have expected?\n",
    "5. Based on nominate and scaling scores, respectively, who is the most extremist Republican and the most extremist Democrat? Who is the most left-wing Republican and the most right-wing Democrat? \n",
    "\n",
    "Finally, as a reflection exercise, consider the results. What are the limitations of this analysis? Could this be used in a paper or would you need to implement other methods? How could you engineer features of the text to improve the results? "
   ]
  },
  {
   "cell_type": "markdown",
   "metadata": {},
   "source": [
    "#### 4.1 Merging scaling results with dataframe"
   ]
  },
  {
   "cell_type": "code",
   "execution_count": 110,
   "metadata": {
    "scrolled": true
   },
   "outputs": [
    {
     "data": {
      "text/html": [
       "<div>\n",
       "<style scoped>\n",
       "    .dataframe tbody tr th:only-of-type {\n",
       "        vertical-align: middle;\n",
       "    }\n",
       "\n",
       "    .dataframe tbody tr th {\n",
       "        vertical-align: top;\n",
       "    }\n",
       "\n",
       "    .dataframe thead th {\n",
       "        text-align: right;\n",
       "    }\n",
       "</style>\n",
       "<table border=\"1\" class=\"dataframe\">\n",
       "  <thead>\n",
       "    <tr style=\"text-align: right;\">\n",
       "      <th></th>\n",
       "      <th>nominate_name</th>\n",
       "      <th>affiliation</th>\n",
       "      <th>role</th>\n",
       "      <th>nominate_score</th>\n",
       "      <th>text_preprocessed</th>\n",
       "    </tr>\n",
       "  </thead>\n",
       "  <tbody>\n",
       "    <tr>\n",
       "      <th>0</th>\n",
       "      <td>ADAMS, Alma</td>\n",
       "      <td>Democrat</td>\n",
       "      <td>House</td>\n",
       "      <td>-0.466</td>\n",
       "      <td>morning conversation holiday,john lewis fighte...</td>\n",
       "    </tr>\n",
       "    <tr>\n",
       "      <th>1</th>\n",
       "      <td>ADERHOLT, Robert</td>\n",
       "      <td>Republican</td>\n",
       "      <td>House</td>\n",
       "      <td>0.370</td>\n",
       "      <td>,folks pelosi admit impeachment last forever d...</td>\n",
       "    </tr>\n",
       "    <tr>\n",
       "      <th>2</th>\n",
       "      <td>AGUILAR, Peter Rey</td>\n",
       "      <td>Democrat</td>\n",
       "      <td>House</td>\n",
       "      <td>-0.292</td>\n",
       "      <td>brave inland empire resident answer call serve...</td>\n",
       "    </tr>\n",
       "    <tr>\n",
       "      <th>3</th>\n",
       "      <td>ALLEN, Rick W.</td>\n",
       "      <td>Republican</td>\n",
       "      <td>House</td>\n",
       "      <td>0.680</td>\n",
       "      <td>congratulation gas mr harold quarterman lead c...</td>\n",
       "    </tr>\n",
       "    <tr>\n",
       "      <th>4</th>\n",
       "      <td>ALLRED, Colin</td>\n",
       "      <td>Democrat</td>\n",
       "      <td>House</td>\n",
       "      <td>-0.437</td>\n",
       "      <td>im always impressed local organization communi...</td>\n",
       "    </tr>\n",
       "  </tbody>\n",
       "</table>\n",
       "</div>"
      ],
      "text/plain": [
       "        nominate_name affiliation   role  nominate_score  \\\n",
       "0         ADAMS, Alma    Democrat  House          -0.466   \n",
       "1    ADERHOLT, Robert  Republican  House           0.370   \n",
       "2  AGUILAR, Peter Rey    Democrat  House          -0.292   \n",
       "3      ALLEN, Rick W.  Republican  House           0.680   \n",
       "4       ALLRED, Colin    Democrat  House          -0.437   \n",
       "\n",
       "                                   text_preprocessed  \n",
       "0  morning conversation holiday,john lewis fighte...  \n",
       "1  ,folks pelosi admit impeachment last forever d...  \n",
       "2  brave inland empire resident answer call serve...  \n",
       "3  congratulation gas mr harold quarterman lead c...  \n",
       "4  im always impressed local organization communi...  "
      ]
     },
     "execution_count": 110,
     "metadata": {},
     "output_type": "execute_result"
    }
   ],
   "source": [
    "group_df.head()"
   ]
  },
  {
   "cell_type": "code",
   "execution_count": 115,
   "metadata": {},
   "outputs": [],
   "source": [
    "group_df['scale'] = list(corp.results.values())"
   ]
  },
  {
   "cell_type": "code",
   "execution_count": 116,
   "metadata": {},
   "outputs": [
    {
     "data": {
      "text/html": [
       "<div>\n",
       "<style scoped>\n",
       "    .dataframe tbody tr th:only-of-type {\n",
       "        vertical-align: middle;\n",
       "    }\n",
       "\n",
       "    .dataframe tbody tr th {\n",
       "        vertical-align: top;\n",
       "    }\n",
       "\n",
       "    .dataframe thead th {\n",
       "        text-align: right;\n",
       "    }\n",
       "</style>\n",
       "<table border=\"1\" class=\"dataframe\">\n",
       "  <thead>\n",
       "    <tr style=\"text-align: right;\">\n",
       "      <th></th>\n",
       "      <th>nominate_name</th>\n",
       "      <th>affiliation</th>\n",
       "      <th>role</th>\n",
       "      <th>nominate_score</th>\n",
       "      <th>text_preprocessed</th>\n",
       "      <th>scale</th>\n",
       "    </tr>\n",
       "  </thead>\n",
       "  <tbody>\n",
       "    <tr>\n",
       "      <th>0</th>\n",
       "      <td>ADAMS, Alma</td>\n",
       "      <td>Democrat</td>\n",
       "      <td>House</td>\n",
       "      <td>-0.466</td>\n",
       "      <td>morning conversation holiday,john lewis fighte...</td>\n",
       "      <td>0.534730</td>\n",
       "    </tr>\n",
       "    <tr>\n",
       "      <th>1</th>\n",
       "      <td>ADERHOLT, Robert</td>\n",
       "      <td>Republican</td>\n",
       "      <td>House</td>\n",
       "      <td>0.370</td>\n",
       "      <td>,folks pelosi admit impeachment last forever d...</td>\n",
       "      <td>-1.299027</td>\n",
       "    </tr>\n",
       "    <tr>\n",
       "      <th>2</th>\n",
       "      <td>AGUILAR, Peter Rey</td>\n",
       "      <td>Democrat</td>\n",
       "      <td>House</td>\n",
       "      <td>-0.292</td>\n",
       "      <td>brave inland empire resident answer call serve...</td>\n",
       "      <td>-1.366026</td>\n",
       "    </tr>\n",
       "    <tr>\n",
       "      <th>3</th>\n",
       "      <td>ALLEN, Rick W.</td>\n",
       "      <td>Republican</td>\n",
       "      <td>House</td>\n",
       "      <td>0.680</td>\n",
       "      <td>congratulation gas mr harold quarterman lead c...</td>\n",
       "      <td>-0.993981</td>\n",
       "    </tr>\n",
       "    <tr>\n",
       "      <th>4</th>\n",
       "      <td>ALLRED, Colin</td>\n",
       "      <td>Democrat</td>\n",
       "      <td>House</td>\n",
       "      <td>-0.437</td>\n",
       "      <td>im always impressed local organization communi...</td>\n",
       "      <td>1.044813</td>\n",
       "    </tr>\n",
       "  </tbody>\n",
       "</table>\n",
       "</div>"
      ],
      "text/plain": [
       "        nominate_name affiliation   role  nominate_score  \\\n",
       "0         ADAMS, Alma    Democrat  House          -0.466   \n",
       "1    ADERHOLT, Robert  Republican  House           0.370   \n",
       "2  AGUILAR, Peter Rey    Democrat  House          -0.292   \n",
       "3      ALLEN, Rick W.  Republican  House           0.680   \n",
       "4       ALLRED, Colin    Democrat  House          -0.437   \n",
       "\n",
       "                                   text_preprocessed     scale  \n",
       "0  morning conversation holiday,john lewis fighte...  0.534730  \n",
       "1  ,folks pelosi admit impeachment last forever d... -1.299027  \n",
       "2  brave inland empire resident answer call serve... -1.366026  \n",
       "3  congratulation gas mr harold quarterman lead c... -0.993981  \n",
       "4  im always impressed local organization communi...  1.044813  "
      ]
     },
     "execution_count": 116,
     "metadata": {},
     "output_type": "execute_result"
    }
   ],
   "source": [
    "group_df.head()"
   ]
  },
  {
   "cell_type": "markdown",
   "metadata": {},
   "source": [
    "#### 4.2 Overall correlation between our scaling results and the provided nominate scores"
   ]
  },
  {
   "cell_type": "code",
   "execution_count": 120,
   "metadata": {},
   "outputs": [
    {
     "name": "stdout",
     "output_type": "stream",
     "text": [
      "Nominate' vs. Scale: \tcorr -0.5018179855789535, \tp-value 3.0015710078757034e-33\n"
     ]
    },
    {
     "data": {
      "image/png": "[encoded data removed]",
      "text/plain": [
       "<Figure size 432x288 with 1 Axes>"
      ]
     },
     "metadata": {
      "needs_background": "light"
     },
     "output_type": "display_data"
    }
   ],
   "source": [
    "r, p = scipy.stats.pearsonr(group_df['nominate_score'], group_df['scale'])\n",
    "print(\"Nominate' vs. Scale: \\tcorr {}, \\tp-value {}\".format(r,p))\n",
    "\n",
    "plt.scatter(group_df['nominate_score'], group_df['scale'])\n",
    "plt.show()"
   ]
  },
  {
   "cell_type": "markdown",
   "metadata": {},
   "source": [
    "#### 4.3 Optional: Correlations within the Senate and House, respectively"
   ]
  },
  {
   "cell_type": "code",
   "execution_count": null,
   "metadata": {},
   "outputs": [],
   "source": []
  },
  {
   "cell_type": "markdown",
   "metadata": {},
   "source": [
    "#### 4.4 Correlations within the two parties"
   ]
  },
  {
   "cell_type": "code",
   "execution_count": 131,
   "metadata": {},
   "outputs": [
    {
     "name": "stdout",
     "output_type": "stream",
     "text": [
      "Republican correlation: \tcorr -0.03111231300266385, \tp-value 0.6358615580309996\n",
      "Democrat correlation: \tcorr -0.16653139140279705, \tp-value 0.006483145270700463\n"
     ]
    },
    {
     "data": {
      "image/png": "[encoded data removed]",
      "text/plain": [
       "<Figure size 432x288 with 1 Axes>"
      ]
     },
     "metadata": {
      "needs_background": "light"
     },
     "output_type": "display_data"
    },
    {
     "data": {
      "text/plain": [
       "<matplotlib.collections.PathCollection at 0x7fe66d52f610>"
      ]
     },
     "execution_count": 131,
     "metadata": {},
     "output_type": "execute_result"
    },
    {
     "data": {
      "image/png": "[encoded data removed]",
      "text/plain": [
       "<Figure size 432x288 with 1 Axes>"
      ]
     },
     "metadata": {
      "needs_background": "light"
     },
     "output_type": "display_data"
    }
   ],
   "source": [
    "#separate in parties \n",
    "rep = group_df[group_df['affiliation'] == 'Republican']\n",
    "dem = group_df[group_df['affiliation'] == 'Democrat']\n",
    "\n",
    "#correlations for both parties\n",
    "r, p = scipy.stats.pearsonr(rep['nominate_score'], rep['scale'])\n",
    "print(\"Republican correlation: \\tcorr {}, \\tp-value {}\".format(r,p))\n",
    "\n",
    "r, p = scipy.stats.pearsonr(dem['nominate_score'], dem['scale'])\n",
    "print(\"Democrat correlation: \\tcorr {}, \\tp-value {}\".format(r,p))\n",
    "\n",
    "#plots for both parties\n",
    "plt.scatter(rep['nominate_score'], rep['scale'])\n",
    "\n",
    "plt.show()\n",
    "\n",
    "plt.scatter(dem['nominate_score'], dem['scale'])"
   ]
  },
  {
   "cell_type": "markdown",
   "metadata": {},
   "source": [
    "#### 4.5 Scores for specific politicians"
   ]
  },
  {
   "cell_type": "code",
   "execution_count": 140,
   "metadata": {
    "scrolled": true
   },
   "outputs": [
    {
     "name": "stdout",
     "output_type": "stream",
     "text": [
      "393    2.058604\n",
      "Name: scale, dtype: float64\n",
      "106    1.7237\n",
      "Name: scale, dtype: float64\n"
     ]
    }
   ],
   "source": [
    "bernie = group_df[group_df['nominate_name'] == 'SANDERS, Bernard']\n",
    "cruz = group_df[group_df['nominate_name'] == 'CRUZ, Rafael Edward (Ted)']\n",
    "\n",
    "print(bernie.scale)\n",
    "print(cruz.scale)"
   ]
  },
  {
   "cell_type": "code",
   "execution_count": null,
   "metadata": {},
   "outputs": [],
   "source": []
  },
  {
   "cell_type": "markdown",
   "metadata": {},
   "source": [
    "#### 4.6.1 Most extreme Republican and Democrat"
   ]
  },
  {
   "cell_type": "code",
   "execution_count": 160,
   "metadata": {},
   "outputs": [
    {
     "name": "stdout",
     "output_type": "stream",
     "text": [
      "Most extreme republican (scale):  106    CRUZ, Rafael Edward (Ted)\n",
      "Name: nominate_name, dtype: object\n",
      "Least extreme republican (scale):  364    POSEY, Bill\n",
      "Name: nominate_name, dtype: object\n",
      "Least extreme democrat (scale):  303    MFUME, Kweisi\n",
      "Name: nominate_name, dtype: object\n",
      "Most extreme democrat (scale):  73    CASTEN, Sean\n",
      "Name: nominate_name, dtype: object\n"
     ]
    }
   ],
   "source": [
    "#scale extremes\n",
    "\n",
    "\n",
    "print('Most extreme republican (scale): ', rep[rep['scale'] == rep['scale'].max()].nominate_name)\n",
    "\n",
    "print('Least extreme republican (scale): ', rep[rep['scale'] == rep['scale'].min()].nominate_name)\n",
    "\n",
    "\n",
    "\n",
    "print('Least extreme democrat (scale): ', dem[dem['scale'] == dem['scale'].min()].nominate_name)\n",
    "\n",
    "print('Most extreme democrat (scale): ', dem[dem['scale'] == dem['scale'].max()].nominate_name)"
   ]
  },
  {
   "cell_type": "code",
   "execution_count": null,
   "metadata": {},
   "outputs": [],
   "source": []
  },
  {
   "cell_type": "markdown",
   "metadata": {},
   "source": [
    "#### 4.6.2 Most left-wing Republican and most right-wing Democrat"
   ]
  },
  {
   "cell_type": "code",
   "execution_count": 157,
   "metadata": {},
   "outputs": [
    {
     "name": "stdout",
     "output_type": "stream",
     "text": [
      "Max score, republican:  198    HERRELL, Yvette\n",
      "Name: nominate_name, dtype: object\n",
      "Min score, republican:  88    COLLINS, Susan Margaret\n",
      "Name: nominate_name, dtype: object\n",
      "Max score, democrat:  289    MANCHIN, Joe, III\n",
      "Name: nominate_name, dtype: object\n",
      "Min score, democrat:  476    WARREN, Elizabeth\n",
      "Name: nominate_name, dtype: object\n"
     ]
    }
   ],
   "source": [
    "#nominate extremes\n",
    "print('Max score, republican: ', rep[rep['nominate_score']==rep['nominate_score'].max()].nominate_name)\n",
    "\n",
    "print('Min score, republican: ', rep[rep['nominate_score']==rep['nominate_score'].min()].nominate_name)\n",
    "\n",
    "\n",
    "print('Max score, democrat: ', dem[dem['nominate_score']==dem['nominate_score'].max()].nominate_name)\n",
    "\n",
    "print('Min score, democrat: ', dem[dem['nominate_score']==dem['nominate_score'].min()].nominate_name)\n"
   ]
  }
 ],
 "metadata": {
  "kernelspec": {
   "display_name": "Python 3",
   "language": "python",
   "name": "python3"
  },
  "language_info": {
   "codemirror_mode": {
    "name": "ipython",
    "version": 3
   },
   "file_extension": ".py",
   "mimetype": "text/x-python",
   "name": "python",
   "nbconvert_exporter": "python",
   "pygments_lexer": "ipython3",
   "version": "3.8.3"
  }
 },
 "nbformat": 4,
 "nbformat_minor": 4
}
