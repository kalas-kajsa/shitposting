{
 "cells": [
  {
   "cell_type": "code",
   "execution_count": 1,
   "metadata": {
    "collapsed": true,
    "executionInfo": {
     "elapsed": 4390,
     "status": "ok",
     "timestamp": 1620634088736,
     "user": {
      "displayName": "Terne Thorn Jakobsen",
      "photoUrl": "https://lh3.googleusercontent.com/a-/AOh14Giyf9v1H1h4iteKo0T2fl5hHuAr9jxrMjcMwTDW=s64",
      "userId": "17600962664087183096"
     },
     "user_tz": -120
    },
    "id": "D3Z4iTczgZBC"
   },
   "outputs": [],
   "source": [
    "import numpy as np\n",
    "import matplotlib.pyplot as plt\n",
    "import networkx as nx\n",
    "import tensorflow.keras as nn"
   ]
  },
  {
   "cell_type": "markdown",
   "metadata": {
    "id": "7dKOAMn2gZBJ"
   },
   "source": [
    "# DEEP LEARNING 1 Exercises\n",
    "Today we will practice the basics. First some Linear Algebra using numpy. Remember that working with vectors and matrices is a central skill in data science, and in particular in relation to not only deep learning but high dimensional data sources (networks, text and images). So grab the chance to brush up.\n",
    "\n",
    "Secondly we shall practice our understanding of what actually goes on inside the neural network, here we shall practice reading network represenations of what can be called the computational graph that a neural network is. We will practice on small and simple networks, but understanding these basic mechanics is crucial before we can move towards more abstract representations of larger and more complex neural network architectures (Convulational neural networks, Recurrent Neural Networks, Transformers,  AutoEncoder), that we will look more into in the next lecture. \n",
    "\n",
    "Thirdly we will start practicing the mechanics of building and fitting a neural network model using the ```keras``` deep learning framework."
   ]
  },
  {
   "cell_type": "markdown",
   "metadata": {
    "id": "eNxDTcKugZBK"
   },
   "source": [
    "# 1 Linear Algebra\n",
    "The purpose of these exercises is to practice linear algebra - vector and matrix (and tensor) operations - and to get acquinted with the ```\n",
    "numpy``` library for doing vector and matrix operations.\n",
    "\n",
    "Vector and matrix operations are central to among other things deep learning. Operations such as Dot product, and Matrix Inversion can be thought of as ```for``` loops describing simple operations of addition and multiplication, in a specific order related to the rows and columns.\n",
    "\n",
    "Here we practice the mechanics both by implementing them as ```for```-loops and using the ```numpy``` python package.\n",
    "\n",
    "## Intro (SKIP if superflous)\n",
    "### Vectors and Matrices\n",
    "In ```\n",
    "numpy```, we use the ```\n",
    "numpy.array``` to represent both vectors and matrices. Arrays are like lists, they are just indexed containers for any object, however they have a fixed size. \n",
    "If an array contain only numbers (scalars), it is a vector.\n",
    "```python\n",
    "a = np.array([4,3,2,1])# a is a vector\n",
    "```\n",
    "Vectors values can be accesed using standard list notation:\n",
    "```python\n",
    "a[0]\n",
    "> 4\n",
    "a[-1]\n",
    "> 1\n",
    "```\n",
    "\n",
    "### Matrices\n",
    "If an array contains a list of vectors of equal size (same length) it is a matrix. In this regard we can think of matrices simply as lists of lists.\n",
    "```python\n",
    "M = np.array([[1,2,3,4],\n",
    "              [3,4,5,6],\n",
    "              [2,3,1,0]])# M is a Matrix\n",
    "```\n",
    "Because the vectors have the same length, the matrix is rectangular, and therefore values can be accessed using row and column indices. You can use standard python list syntax ```[]```, as well as a more convenient numpy style.\n",
    "\n",
    "```python\n",
    "## Python list of lists syntax\n",
    "M[0][0]# index 0 in first list, index 0 in list of list.\n",
    "> 1\n",
    "## numpy array syntax \n",
    "a[0,3] # row index 0 and column index 3\n",
    "> 4\n",
    "```\n",
    "You can slice, again using standard list syntax, as well as more convenient numpy syntax:\n",
    "\n",
    "```python\n",
    "## Python list of lists syntax\n",
    "M[1:3][0:2]# two second lists, two first elements of lists.\n",
    ">  np.array([[3,4],\n",
    "              [2,3]])\n",
    "## numpy array syntax \n",
    "a[1:3,0:2] # row index 1 and 2 and column index 0 and 1\n",
    ">  np.array([[3,4],\n",
    "              [2,3]])\n",
    "\n",
    "```\n"
   ]
  },
  {
   "cell_type": "markdown",
   "metadata": {
    "id": "CoHds-RygZBL"
   },
   "source": [
    "### Vector dot product\n",
    "The *vector-to-vector* dotproduct is essentially a weighed sum between two vectors (vectors are just lists of scalar numbers). Where values are paired by index. Weighing means that paired values (i.e. same index) are multiplied. \n",
    "\n",
    "The dot product between vectors a and b: $a\\cdot b = \\sum_{i}^{n}a_i b_i = a_1b_1+a_2b_2 ... a_nb_n$\n",
    "\n",
    "The dot product between the vector ```a = [1,2,3,4]``` and ```b = [4,3,2,1]``` is 20. \n",
    "\n",
    "\n",
    "**Exercise 1.1**: Write a function that computes the dot product (i.e. weighed sum) between two lists. Arguments to the function should be called x (inputs) and w (weights). \n",
    "- Write a function ```w_sum``` that multiplies index paired values and ```return``` the ```sum```. \n",
    "  1. Define a **for** loop that iterates through the indices of the two lists (hint: use the ```range()``` function, multiply the two values, and increment the resulting value to a variable *output*.\n",
    "  2. Return the *output* value.\n",
    "- Verify that it works by computing the w_sum of vector a and b (defined above).\n",
    "- Now cast vector a and b as a ```numpy``` array - ```np.array()``` - and compute the ```.dot``` product. using the built in ```.dot``` method of the array object.\n",
    "- Generate two random vectors of size 1000 using the ```np.random.random``` function, and compare the effiency (i.e. the time it takes to compute) of the  ```w_sum``` and the numpy ```.dot``` product. \n",
    "  - This can either be done using the ```time``` module, or the ```%timeit ``` notebook functionality."
   ]
  },
  {
   "cell_type": "code",
   "execution_count": 4,
   "metadata": {
    "colab": {
     "base_uri": "https://localhost:8080/"
    },
    "collapsed": true,
    "executionInfo": {
     "elapsed": 7026,
     "status": "ok",
     "timestamp": 1620638067164,
     "user": {
      "displayName": "Terne Thorn Jakobsen",
      "photoUrl": "https://lh3.googleusercontent.com/a-/AOh14Giyf9v1H1h4iteKo0T2fl5hHuAr9jxrMjcMwTDW=s64",
      "userId": "17600962664087183096"
     },
     "user_tz": -120
    },
    "id": "XFjIyoNVgZBL",
    "outputId": "2e6fa1da-ae49-46ec-d8d7-7c66c7bdd173"
   },
   "outputs": [
    {
     "name": "stdout",
     "output_type": "stream",
     "text": [
      "w_sum:  20\n",
      "numpy .dot:  20\n",
      "w_sum time: 0.054116249084472656\n",
      "NUMPY DOT: 0.0010061264038085938\n",
      "10 loops, best of 5: 48.8 ms per loop\n",
      "10000 loops, best of 5: 46.7 µs per loop\n"
     ]
    }
   ],
   "source": [
    "## Answer\n",
    "a = [1,2,3,4]\n",
    "b = [4,3,2,1]\n",
    "\n",
    "def w_sum(a,b):\n",
    "  output = 0\n",
    "  for i in range(len(a)):\n",
    "    output+=a[i]*b[i]\n",
    "  return output\n",
    "\n",
    "print('w_sum: ',w_sum(a,b))\n",
    "## Numpy version\n",
    "a,b = np.array(a),np.array(b)\n",
    "print('numpy .dot: ',a.dot(b))\n",
    "## Test efficiency\n",
    "v,u = np.random.random(100000),np.random.random(100000)\n",
    "import time\n",
    "import time\n",
    "t = time.time()\n",
    "w_sum(v,u)\n",
    "print('w_sum time:',time.time()-t)\n",
    "t = time.time()\n",
    "v.dot(u)\n",
    "print('NUMPY DOT:',time.time()-t)\n",
    "%timeit w_sum(v,u)\n",
    "%timeit v.dot(u)"
   ]
  },
  {
   "cell_type": "markdown",
   "metadata": {
    "id": "xbGWA3hHgZBN"
   },
   "source": [
    "## Matrix operations: Transposing and slicing.\n",
    "Here we practice generating matrices, transposing and slicing them. \n",
    "\n",
    "**Exercise 1.2**\n",
    "Construct a 10 times 10 matrix like so:\n",
    "```\n",
    "M = np.ones((10,10))\n",
    "M = M * np.random.choice(np.arange(10),(10,10))\n",
    "```\n",
    "- Practice the builtin functions of the numpy array: ```.sum(),.mean(),.max()```\n",
    "  1. Take the sum of the matrix.\n",
    "  2. Take the sum along ```axis=1```, use the ```axis``` argument of the sum function. Is this the row or the column sum?\n",
    "  3. Take the mean of each row using the ```.mean()``` builtin function (use the right axis). \n",
    "  4. Define the transposed matrix ```M_t``` using the ```.T``` builtin function. Explain what happened. \n",
    "\n",
    "- Slice the matrix into different shapes.\n",
    "  - Define a smaller matrix ```S``` as submatrix of M: Using the numpy slicing syntax (```M[i:j,h:k]```) extract all values of rows 1-4 of columns 3 through 8.\n",
    "  "
   ]
  },
  {
   "cell_type": "code",
   "execution_count": 3,
   "metadata": {
    "colab": {
     "base_uri": "https://localhost:8080/"
    },
    "collapsed": true,
    "executionInfo": {
     "elapsed": 786,
     "status": "ok",
     "timestamp": 1620634255150,
     "user": {
      "displayName": "Terne Thorn Jakobsen",
      "photoUrl": "https://lh3.googleusercontent.com/a-/AOh14Giyf9v1H1h4iteKo0T2fl5hHuAr9jxrMjcMwTDW=s64",
      "userId": "17600962664087183096"
     },
     "user_tz": -120
    },
    "id": "FBGaMkV4gZBO",
    "outputId": "99fb4690-d0d2-4ac6-bc0c-4a2fb80518bd"
   },
   "outputs": [
    {
     "name": "stdout",
     "output_type": "stream",
     "text": [
      "[[8. 0. 3. 5. 7. 8. 7. 1. 5. 0.]\n",
      " [6. 9. 8. 5. 0. 4. 6. 7. 6. 4.]\n",
      " [9. 7. 4. 1. 1. 4. 0. 7. 4. 4.]\n",
      " [7. 6. 7. 5. 8. 4. 8. 6. 8. 1.]\n",
      " [7. 5. 6. 1. 1. 0. 3. 6. 4. 2.]\n",
      " [9. 3. 7. 9. 8. 9. 4. 9. 5. 3.]\n",
      " [4. 4. 3. 3. 5. 0. 2. 4. 3. 6.]\n",
      " [4. 6. 7. 4. 8. 3. 2. 3. 0. 7.]\n",
      " [2. 1. 1. 8. 7. 2. 9. 9. 5. 8.]\n",
      " [1. 6. 1. 3. 5. 6. 3. 5. 5. 4.]]\n",
      "Sum of all values 470.0\n",
      "Sum of all columns (axis 1): [44. 55. 41. 60. 35. 66. 34. 44. 52. 39.]\n",
      "Mean of all rows [5.7 4.7 4.7 4.4 5.  4.  4.4 5.7 4.5 3.9]\n",
      "[[8. 6. 9. 7. 7. 9. 4. 4. 2. 1.]\n",
      " [0. 9. 7. 6. 5. 3. 4. 6. 1. 6.]\n",
      " [3. 8. 4. 7. 6. 7. 3. 7. 1. 1.]\n",
      " [5. 5. 1. 5. 1. 9. 3. 4. 8. 3.]\n",
      " [7. 0. 1. 8. 1. 8. 5. 8. 7. 5.]\n",
      " [8. 4. 4. 4. 0. 9. 0. 3. 2. 6.]\n",
      " [7. 6. 0. 8. 3. 4. 2. 2. 9. 3.]\n",
      " [1. 7. 7. 6. 6. 9. 4. 3. 9. 5.]\n",
      " [5. 6. 4. 8. 4. 5. 3. 0. 5. 5.]\n",
      " [0. 4. 4. 1. 2. 3. 6. 7. 8. 4.]]\n",
      "[[5. 0. 4. 6. 7.]\n",
      " [1. 1. 4. 0. 7.]\n",
      " [5. 8. 4. 8. 6.]]\n"
     ]
    }
   ],
   "source": [
    "## Answer.\n",
    "M = np.ones((10,10))\n",
    "M = M * np.random.choice(np.arange(10),(10,10))\n",
    "print(M)\n",
    "# SUM of all values\n",
    "print('Sum of all values',M.sum())\n",
    "# Sum of all rows.\n",
    "print('Sum of all columns (axis 1):',M.sum(axis=1))\n",
    "# Column mean\n",
    "print('Mean of all rows',M.mean(axis=0))\n",
    "# Take the transpose\n",
    "M_t =  M.T\n",
    "print(M_t)\n",
    "# Submatrix\n",
    "S = M[1:4,3:8]\n",
    "print(S)"
   ]
  },
  {
   "cell_type": "markdown",
   "metadata": {
    "id": "2g5gEMLZgZBO"
   },
   "source": [
    "## Matrix-Matrix dot product\n",
    "Now it becomes a little more tricky, in the sense that we are still doing simple operations, but there are more indices to keep track of. \n",
    "\n",
    "Vectors only have row indices, that we use to pair values. But how should we pair a matrix with both row and column indices? \n",
    "By mathematical convention we pair **all** row vectors with **all** column vectors. Because we match rows to columns, if we want to calculate the .dot product between matrix A and B, we need to make sure that the number of rows in matrix A matches the number of columns in matrix B.\n",
    "```python\n",
    "A = [\n",
    "  [4. 1. 0. 1.] # row 0\n",
    "  [0. 3. 3. 1.] # row 1\n",
    "]\n",
    "B = [\n",
    "  [0. 1.] # row 0\n",
    " [3. 1.]  # row 1\n",
    " [0. 4.]  # row 3\n",
    " [2. 1.]  # row 4\n",
    "]\n",
    "\n",
    "``` \n",
    "In this case A is a 2x4 matrix and B is a 4x2. \n",
    "So the dot product between the matrices can be thought of as two nested for loops, where we iterate through all row vectors of matrix A matching them with all columns vectors of matrix B.\n",
    "With every row and column pair, we compute a dot product. \n",
    "\n",
    "This furthermore means that the order matters - i.e. that A dot B is not the same as B dot A. \n",
    "\n",
    "**Exercise 1.3: Matrix to matrix dot products**\n",
    "\n",
    "Again we want to get a practical feel of the mechanics by implementing the operation ourselves using basic python. We already defined the ```w_sum``` for doing vector dot products. Now we want to write a function that matches row vectors from one matrix to column vectors in another and computes the ```w_sum```.\n",
    "We will work with the matrices A, B defined here:\n",
    "```python\n",
    "A = M[0:2,0:4]\n",
    "B = M[0:4,2:4]\n",
    "```\n",
    "\n",
    "- Write function ```multiple_wsum(A,B)``` with arguments A and B as two numpy arrays. In the function, follow these steps:\n",
    "  1. Define a list called `output`.\n",
    "  2. Run through all row vectors/indices *i* in A. \n",
    "    - Define temporary list for storing the dot products.\n",
    "    - Extract the ith row vector of `A`\n",
    "    - Run through all column vectors/indices *j* in `B`\n",
    "      - Compute `w_sum` (or `.dot`) between the i'th row in A and j'th column in B\n",
    "      - Append to tempoary list\n",
    "    - Append temporary list to `output` list.\n",
    "  3. Return `output`\n",
    "\n",
    "- Validate that your function outputs the same as the numpy equivalent: ```A.dot(B)```"
   ]
  },
  {
   "cell_type": "code",
   "execution_count": 11,
   "metadata": {
    "colab": {
     "base_uri": "https://localhost:8080/"
    },
    "collapsed": true,
    "executionInfo": {
     "elapsed": 369,
     "status": "ok",
     "timestamp": 1620641058042,
     "user": {
      "displayName": "Terne Thorn Jakobsen",
      "photoUrl": "https://lh3.googleusercontent.com/a-/AOh14Giyf9v1H1h4iteKo0T2fl5hHuAr9jxrMjcMwTDW=s64",
      "userId": "17600962664087183096"
     },
     "user_tz": -120
    },
    "id": "0JSLUA7agZBP",
    "outputId": "e9f500ef-3d36-4907-df4c-87f79fc5514e"
   },
   "outputs": [
    {
     "name": "stdout",
     "output_type": "stream",
     "text": [
      "[[8. 0. 3. 5.]\n",
      " [6. 9. 8. 5.]]\n",
      "[[3. 5.]\n",
      " [8. 5.]\n",
      " [4. 1.]\n",
      " [7. 5.]]\n",
      "2\n",
      "(4, 2)\n"
     ]
    },
    {
     "data": {
      "text/plain": [
       "([[71.0, 68.0], [157.0, 108.0]], array([[ 71.,  68.],\n",
       "        [157., 108.]]))"
      ]
     },
     "execution_count": 11,
     "metadata": {
      "tags": []
     },
     "output_type": "execute_result"
    }
   ],
   "source": [
    "A = M[0:2,0:4]\n",
    "B = M[0:4,2:4]\n",
    "print(A), print(B)\n",
    "print(A.shape[0])\n",
    "print(B.shape)\n",
    "\n",
    "# Answer\n",
    "def multiple_wsum(A,B):\n",
    "  output = []\n",
    "\n",
    "  for i in range(A.shape[0]):\n",
    "    a = A[i]\n",
    "    temp = []\n",
    "    for j in range(B.shape[1]):\n",
    "      b = B[:,j]\n",
    "      temp.append(w_sum(a,b))\n",
    "    output.append(temp)\n",
    "  return output\n",
    "multiple_wsum(A,B),A.dot(B)"
   ]
  },
  {
   "cell_type": "markdown",
   "metadata": {
    "id": "V9W_BJpZgZBP"
   },
   "source": [
    "# 2. Forward- and backpropagation\n",
    "\n",
    "**Exercise 2.1**: Pen and Paper Neural Networks: Forward propagation.\n",
    "\n",
    "For this exercise I want you to do the calculations by hand. \n",
    "Given the following inputs: \n",
    "```\n",
    "inputs = [\n",
    "[1, 4, -2],\n",
    "[1, 4, -4],\n",
    "[1, 3, 1]]\n",
    "```\n",
    "And the following neural network:\n",
    "![](https://raw.githubusercontent.com/snorre87/instructional_images/master/deeplearning_course/penpaper_exercise_forward.png)\n",
    "\n",
    "Calculate the forward pass by hand (or if you are up for a challenge implement it as a python function.)\n",
    "\n",
    "Remember each node (discounting the input layer) has two parts. First it computes a weighted sum of inputs (the result of nodes from previous layer) using the weights described by the edges. ```w_sum = weighs[0] * input[0] + weighs[1] * input[1] + weighs[2] * input[2]```. \n",
    "After doing the weighed sum, a \"kernel\" / activation function is applied to the sum. In this case either a linear kernel (i.e. no kernel) or the ReLU function: \n",
    "```python \n",
    "def linear(val): \n",
    "  return val ## I do nothing :)\n",
    "  \n",
    "def relu(val): \n",
    "  return max(0,val)\n",
    "```\n"
   ]
  },
  {
   "cell_type": "code",
   "execution_count": 7,
   "metadata": {
    "colab": {
     "base_uri": "https://localhost:8080/"
    },
    "collapsed": true,
    "executionInfo": {
     "elapsed": 556,
     "status": "ok",
     "timestamp": 1620639860203,
     "user": {
      "displayName": "Terne Thorn Jakobsen",
      "photoUrl": "https://lh3.googleusercontent.com/a-/AOh14Giyf9v1H1h4iteKo0T2fl5hHuAr9jxrMjcMwTDW=s64",
      "userId": "17600962664087183096"
     },
     "user_tz": -120
    },
    "id": "H8U9okMWgZBQ",
    "outputId": "cc63e68d-25a8-45ae-e4e5-3af6588e9e37"
   },
   "outputs": [
    {
     "name": "stdout",
     "output_type": "stream",
     "text": [
      "[11.999999999999996]\n",
      "[32.699999999999996]\n",
      "[-2.1700000000000017]\n"
     ]
    }
   ],
   "source": [
    "# Answer DONE using Python instead of pen and paper.\n",
    "\n",
    "inputs = [\n",
    "[1, 4, -2],\n",
    "[1, 4, -4],\n",
    "[1, 3, 1]]\n",
    "\n",
    "WS = [[[-4.1, 2.1, -2.6, -2.1], [-4.9, -0.4, 0.3, 1.4], [4.7, 1.8, -2.3, 2.6]],\n",
    " [[-2.4], [-3.8], [-2.7], [4.5], [1.6]]] # Weights\n",
    "\n",
    "def relu(x):\n",
    "  return max(0.0,x)\n",
    "\n",
    "def linear(x):\n",
    "\treturn x\n",
    "\n",
    "def sigmoid(x):\n",
    "\treturn 1.0 / (1.0 + np.exp(-x))\n",
    " \n",
    "kernels = {'sigmoid':sigmoid,'linear':linear,'relu':relu}\n",
    "\n",
    "def neural_net(inp,WS,activation):\n",
    "  # keep the node states for visualization.\n",
    "  layer = 0 \n",
    "  node2state = {(layer,num):i for num,i in enumerate(inp)}\n",
    "  # Iterate through each layers' weights\n",
    "  for layer,ws in enumerate(WS):\n",
    "    ### Add bias term to the input of next layer.\n",
    "    # Check if output layer.\n",
    "    if layer != (len(WS)-1): \n",
    "      out = [1] # add bias term.\n",
    "    else: # If output layer we do not add bias term to the next layer - as there are no next layer :)\n",
    "      out = []\n",
    "    # Match nodes to weights. \n",
    "    ws = np.array(ws).T # Transpose weights to match nodes to weights\n",
    "    for w in ws: # Iterate through all nodes in the layer.\n",
    "      # compute weighed sum between input and weights.\n",
    "      w_sum = 0\n",
    "      for i,wi in zip(inp,w):\n",
    "        w_sum+=(i*wi)\n",
    "      # apply activation function.\n",
    "      a = activation[layer]\n",
    "      w_sum = kernels[a](w_sum)\n",
    "      out.append(w_sum)\n",
    "    inp = out # Define input to the next layer as the output of previous.\n",
    "    # Log node states.\n",
    "    for num,val in enumerate(out):\n",
    "      node2state[(layer+1,num)] = val\n",
    "  return out,node2state\n",
    "\n",
    "for inp in inputs:\n",
    "  out,node2state = neural_net(inp,WS,['relu','linear'])\n",
    "  print(out)"
   ]
  },
  {
   "cell_type": "markdown",
   "metadata": {
    "id": "eL2Z21LYgZBS"
   },
   "source": [
    "**Exercise 2.2**: \"Backpropagation\" intution\n",
    "\n",
    "Instead of calculating the actual gradient (which keras will do for us automatically), we test our intuition. \n",
    "\n",
    "\n",
    "Looking at the figure below you can see that the result of forward propagating the inputs ```[1,3,1]``` were -2.17. Imagine that the network was suppose to output 5 (i.e. the training label y = 5). Now go through the weights (edges) in the network from the last layer to the output layer and write if you would increase or decrease them. \n",
    "\n",
    "- Fill in the python dictionary of the network nodes with -1 if decrease and 1 if increase and 0 if keeping that weight as is.\n",
    "\n",
    "![](https://raw.githubusercontent.com/snorre87/instructional_images/master/deeplearning_course/penpaper_solution.png)\n",
    "\n"
   ]
  },
  {
   "cell_type": "code",
   "execution_count": null,
   "metadata": {
    "collapsed": true,
    "id": "aKZJ1SfSgZBS"
   },
   "outputs": [],
   "source": [
    "## Fill in -1 if decrease and 1 if increase\n",
    "gradient = {\n",
    " ('bias_1_0', 'linear_2_0'):0,#  {'weight': -2.4}\n",
    " ('relu_1_1', 'linear_2_0'):0, #  {'weight': -3.8}\n",
    " ('relu_1_2', 'linear_2_0'):0, #  {'weight': -2.7}\n",
    " ('relu_1_3', 'linear_2_0'):0, # {'weight': 4.5}\n",
    " ('relu_1_4', 'linear_2_0'):0} #  {'weight': 1.6})\n"
   ]
  },
  {
   "cell_type": "code",
   "execution_count": null,
   "metadata": {
    "collapsed": true,
    "id": "EmBeKMUCgZBT"
   },
   "outputs": [],
   "source": [
    "# Answer\n",
    "gradient = {\n",
    " ('bias_1_0', 'linear_2_0'):1,#  {'weight': -2.4}\n",
    " ('relu_1_1', 'linear_2_0'):0, #  {'weight': -3.8}  \n",
    " ('relu_1_2', 'linear_2_0'):1, #  {'weight': -2.7} \n",
    " ('relu_1_3', 'linear_2_0'):0, # {'weight': 4.5}  \n",
    " ('relu_1_4', 'linear_2_0'):1} #  {'weight': 1.6})"
   ]
  },
  {
   "cell_type": "markdown",
   "metadata": {
    "id": "FbUKtVcQvcvL"
   },
   "source": [
    "# 3 Keras exercises\n",
    "Now that you have a good understanding of what happens in a neural networks (that it is basically vector and matrix multiplications to get weighted sums) it is time to get your hands on a tool that makes life a lot more easy for you. The goal of these exercises is to make you familiar with the deep learning framework ```Keras```, specifically getting familiar with the syntax and how to write a simple model.\n"
   ]
  },
  {
   "cell_type": "code",
   "execution_count": null,
   "metadata": {
    "collapsed": true,
    "id": "kURKb_ihZPjF"
   },
   "outputs": [],
   "source": [
    "import numpy as np\n",
    "from matplotlib import pyplot as plt\n",
    "import tensorflow as tf\n",
    "from tensorflow import keras\n",
    "from tensorflow.keras import layers\n",
    "from sklearn.model_selection import train_test_split\n"
   ]
  },
  {
   "cell_type": "code",
   "execution_count": null,
   "metadata": {
    "colab": {
     "base_uri": "https://localhost:8080/"
    },
    "id": "7Y08TnokZ8OA",
    "outputId": "0d7b26b2-d4b8-40d2-cbcb-c441a830c9fd"
   },
   "outputs": [
    {
     "name": "stdout",
     "output_type": "stream",
     "text": [
      "2.4.1\n"
     ]
    }
   ],
   "source": [
    "# Note that using different versions of tensorflow as backend may result in some \n",
    "# errors do to differences in method and attribute names as well as syntax. \n",
    "# But these errors are easy to fix when you are aware of it.\n",
    "print(tf.__version__) "
   ]
  },
  {
   "cell_type": "markdown",
   "metadata": {
    "id": "mYzl-rEWEW0h"
   },
   "source": [
    "### Data\n",
    "\n",
    "We will be working with the MNIST dataset in these exercises. (Read about it here https://keras.io/api/datasets/mnist/ or https://en.wikipedia.org/wiki/MNIST_database). A small disclamer: it is very easy to reach high accuracies (high performance) with this type of \"introductional\" data. With data \"in the wild\", which you may collect yourselves, you can rarely expect the same performance!\n",
    "\n",
    "The data is imported and prepared for you in the following three code cells.\n"
   ]
  },
  {
   "cell_type": "code",
   "execution_count": null,
   "metadata": {
    "colab": {
     "base_uri": "https://localhost:8080/",
     "height": 369
    },
    "id": "127tcWyL2fHl",
    "outputId": "23ec9c9b-2cf7-4c71-f207-cf4d187e1e20"
   },
   "outputs": [
    {
     "name": "stdout",
     "output_type": "stream",
     "text": [
      "Downloading data from https://storage.googleapis.com/tensorflow/tf-keras-datasets/mnist.npz\n",
      "11493376/11490434 [==============================] - 0s 0us/step\n",
      "x_train shape: (60000, 28, 28)\n",
      "60000 train samples\n",
      "10000 test samples\n"
     ]
    },
    {
     "data": {
      "text/plain": [
       "<matplotlib.image.AxesImage at 0x7f9ccd341690>"
      ]
     },
     "execution_count": 3,
     "metadata": {
      "tags": []
     },
     "output_type": "execute_result"
    },
    {
     "data": {
      "image/png": "[encoded data removed]",
      "text/plain": [
       "<Figure size 432x288 with 1 Axes>"
      ]
     },
     "metadata": {
      "needs_background": "light",
      "tags": []
     },
     "output_type": "display_data"
    }
   ],
   "source": [
    "from keras.datasets import mnist\n",
    "(x_train, y_train), (x_test, y_test) = keras.datasets.mnist.load_data()\n",
    "# Scale images to the [0, 1] range\n",
    "x_train = x_train.astype(\"float32\") / 255\n",
    "x_test = x_test.astype(\"float32\") / 255\n",
    "print(\"x_train shape:\", x_train.shape)\n",
    "print(x_train.shape[0], \"train samples\")\n",
    "print(x_test.shape[0], \"test samples\")\n",
    "\n",
    "# view/plot the first element in the training data:\n",
    "plt.imshow(x_train[0])"
   ]
  },
  {
   "cell_type": "code",
   "execution_count": null,
   "metadata": {
    "collapsed": true,
    "id": "DYEYpcKUZGNF"
   },
   "outputs": [],
   "source": [
    "# print the first element in the training data:\n",
    "print(x_train[0].shape)\n",
    "print(x_train[0])"
   ]
  },
  {
   "cell_type": "markdown",
   "metadata": {
    "id": "HNdd9KrkYeND"
   },
   "source": [
    "The MNIST dataset consists of handwritten digits from 0-9, meaning there are 10 classes. However, we want to use it for some binary classification in these exercises, so we'll make a dataset consisting only of the digits 0 and 1:"
   ]
  },
  {
   "cell_type": "code",
   "execution_count": null,
   "metadata": {
    "colab": {
     "base_uri": "https://localhost:8080/"
    },
    "id": "dNaD57Qt5dnT",
    "outputId": "b866f7fe-6ac3-4207-df87-99ef15f8f402"
   },
   "outputs": [
    {
     "name": "stdout",
     "output_type": "stream",
     "text": [
      "now we only have the labels 0 and 8 in our data:  [0 8 0 8 0 0 8 8 0 8]\n",
      "now we only have the labels 0 and 8 in our data but we change 8 to label 1 for binary prediction:  [0 1 0 1 0 0 1 1 0 1]\n"
     ]
    }
   ],
   "source": [
    "x_train_new, y_train_new = x_train[(y_train==0) | (y_train==8)], y_train[(y_train==0) | (y_train==8)]\n",
    "x_test_new, y_test_new = x_test[(y_test==0) | (y_test==8)], y_test[(y_test==0) | (y_test==8)]\n",
    "print(\"now we only have the labels 0 and 8 in our data: \",y_train_new[:10]) \n",
    "y_train_new = np.array([1 if i==8 else i for i in y_train_new])\n",
    "y_test_new = np.array([1 if i==8 else i for i in y_test_new])\n",
    "print(\"now we only have the labels 0 and 8 in our data but we change 8 to label 1 for binary prediction: \",y_train_new[:10]) "
   ]
  },
  {
   "cell_type": "markdown",
   "metadata": {
    "id": "C9KldMNKY7za"
   },
   "source": [
    "We also want to flatten the images. Flattening means that we are making a multi-dimensional matrix one-dimensional."
   ]
  },
  {
   "cell_type": "code",
   "execution_count": null,
   "metadata": {
    "colab": {
     "base_uri": "https://localhost:8080/"
    },
    "id": "8B-6GmMRY7hi",
    "outputId": "5813a511-500c-4448-e786-af94fa48ac77"
   },
   "outputs": [
    {
     "name": "stdout",
     "output_type": "stream",
     "text": [
      "After taking a subset of the data and flattening:\n",
      "x_train shape: (11774, 784)\n"
     ]
    }
   ],
   "source": [
    "x_train_new = x_train_new.reshape((-1, 784)) \n",
    "x_test_new = x_test_new.reshape((-1, 784))\n",
    "print(\"After taking a subset of the data and flattening:\")\n",
    "print(\"x_train shape:\", x_train_new.shape) # i.e. 12665 vectors (training samples) of length 784!"
   ]
  },
  {
   "cell_type": "markdown",
   "metadata": {
    "id": "uz_k4tmdwN8B"
   },
   "source": [
    "Since we want some validation data as well, we split our training data in two parts and check the new sizes: "
   ]
  },
  {
   "cell_type": "code",
   "execution_count": null,
   "metadata": {
    "colab": {
     "base_uri": "https://localhost:8080/"
    },
    "id": "nIVLw-2ieHFO",
    "outputId": "f7b73006-7d90-48bc-99cc-db8183039eb3"
   },
   "outputs": [
    {
     "name": "stdout",
     "output_type": "stream",
     "text": [
      "x_train shape: (5887, 784)\n",
      "x_val shape: (5887, 784)\n",
      "x_test shape: (1954, 784)\n"
     ]
    }
   ],
   "source": [
    "x_train_new, X_val, y_train_new, y_val = train_test_split(x_train_new, y_train_new, test_size=0.5)\n",
    "print(\"x_train shape:\", x_train_new.shape)\n",
    "print(\"x_val shape:\", X_val.shape)\n",
    "print(\"x_test shape:\", x_test_new.shape)"
   ]
  },
  {
   "cell_type": "markdown",
   "metadata": {
    "id": "_ZTYuQOHZeT_"
   },
   "source": [
    "## 3.1 The sequential model\n",
    "\n",
    "There are two ways to write models in Keras: by using the *sequential* or the *functional* API. The sequential model may be more intiuitive or easy to read, but the functional has (unsurprisingly) more functionality/flexibility. We'll start be introducing you to the sequential model, but for the remainder of the course, you will be asked to use the functional API.\n",
    "\n",
    "**3.1.1**: Read the first four sections in the documentation for the sequential model https://keras.io/guides/sequential_model/. \n",
    "\n",
    "**3.1.2**: In the below cell we have defined a simple fully-connected (i.e. *dense*) neural network. Do you recoginize the model? Knowing what the `Dense` layer is, and what the `Sigmoid` activation does (from the documentation), can you then guess what this model may also be called?\n",
    "\n",
    "**Answer**: It is simply logistic regression.\n",
    "\n",
    "**3.1.3**: Why is input_shape specified as (784,)?\n",
    "\n",
    "**Answer**: (784,) is the shape of one **flattened** image in our MNIST dataset. I.e. each input is a vector of 784 features.\n"
   ]
  },
  {
   "cell_type": "code",
   "execution_count": null,
   "metadata": {
    "collapsed": true,
    "id": "0ffR47AoZdkQ"
   },
   "outputs": [],
   "source": [
    "# a simple fully-connected neural network\n",
    "\n",
    "model = keras.Sequential(\n",
    "    [\n",
    "        layers.Dense(1, activation=\"sigmoid\", input_shape=(784,))\n",
    "    ]\n",
    ")"
   ]
  },
  {
   "cell_type": "markdown",
   "metadata": {
    "id": "M68BNLCI__v7"
   },
   "source": [
    "**3.1.4**: To train a model in Keras, you need at least two steps: firstly, you `compile` the model and secondly, you `fit` the compiled model. Below we have written these two steps for you for reference. Please read the comments.\n",
    "\n",
    "\n",
    "When a model has been `fit`, you can evaluate it on test data. You can use the `evaluate` function (writing model.evaluate(X,y)) to evaluate the model directly, given your test data, and/or you can use the `predict` function (model.predict(X)) to retrieve the predictions and envestigate these. Use both the evaluate and predict function below with x_test_new and y_test_new."
   ]
  },
  {
   "cell_type": "code",
   "execution_count": null,
   "metadata": {
    "colab": {
     "base_uri": "https://localhost:8080/"
    },
    "id": "sTpXr4VE91TB",
    "outputId": "abf8da1e-5046-44a7-b26d-96b584679170"
   },
   "outputs": [
    {
     "name": "stdout",
     "output_type": "stream",
     "text": [
      "Epoch 1/3\n",
      "184/184 [==============================] - 0s 931us/step - loss: 0.0748\n",
      "Epoch 2/3\n",
      "184/184 [==============================] - 0s 994us/step - loss: 0.0718\n",
      "Epoch 3/3\n",
      "184/184 [==============================] - 0s 1ms/step - loss: 0.0628\n"
     ]
    },
    {
     "data": {
      "text/plain": [
       "<tensorflow.python.keras.callbacks.History at 0x7f48cfd06c10>"
      ]
     },
     "execution_count": 72,
     "metadata": {
      "tags": []
     },
     "output_type": "execute_result"
    }
   ],
   "source": [
    "# Steps needed to train and test a model\n",
    "\n",
    "# Before fitting/training your model in Keras, you need to firstly \"compile\" it. Here you specify the optimizer, loss function and evalution metric(s) you want to use.\n",
    "model.compile(optimizer='sgd', loss='binary_crossentropy') \n",
    "\n",
    "# Then you are ready to train/fit your model. \n",
    "model.fit(x_train_new, y_train_new, epochs=3)\n",
    "# You can give the fitting process a name to be able to access information such as the loss at each epoch later on. In this case, you would instead write:\n",
    "# history = model.fit(x_train_new, y_train_new, epochs=3)\n"
   ]
  },
  {
   "cell_type": "code",
   "execution_count": null,
   "metadata": {
    "collapsed": true,
    "id": "Le9S8ezsBrdk"
   },
   "outputs": [],
   "source": [
    "loss = # your code here\n",
    "print(loss)\n",
    "\n",
    "predictions = #your code\n",
    "print(\"The first ten predictions:\",predictions[:10])"
   ]
  },
  {
   "cell_type": "code",
   "execution_count": null,
   "metadata": {
    "colab": {
     "base_uri": "https://localhost:8080/"
    },
    "id": "uj9_4v9tA4t0",
    "outputId": "3c48306b-4588-48d0-e9cb-eb59d9f10d4a"
   },
   "outputs": [
    {
     "name": "stdout",
     "output_type": "stream",
     "text": [
      "62/62 [==============================] - 0s 925us/step - loss: 0.0535\n",
      "0.053522929549217224\n",
      "The first ten predictions: [[1.23181939e-03]\n",
      " [3.04135978e-02]\n",
      " [1.50713027e-02]\n",
      " [5.41865826e-04]\n",
      " [9.27537680e-03]\n",
      " [1.65422857e-01]\n",
      " [8.89950275e-01]\n",
      " [1.09550655e-02]\n",
      " [3.00538540e-03]\n",
      " [9.81952667e-01]]\n"
     ]
    }
   ],
   "source": [
    "# Solution\n",
    "\n",
    "loss = model.evaluate(x_test_new,y_test_new)\n",
    "print(loss)\n",
    "\n",
    "predictions = model.predict(x_test_new) \n",
    "print(\"The first ten predictions:\",predictions[:10])\n"
   ]
  },
  {
   "cell_type": "markdown",
   "metadata": {
    "id": "Am8wAONsHLh9"
   },
   "source": [
    "**3.1.5**: Now it is your turn to define a model and train it from scratch. Do the following:\n",
    "- Copy the model above and paste it to the cell below. Change the name of the model to model2.\n",
    "- Add one Dense layer before the current layer. This makes it a **multi-layer perceptron**! Use any number of units/neurons you think is appropriate. But make sure to specify your input shape(s) correctly (or, at least not wrongly)! If you are having trouble with dimensions, this might help: https://stackoverflow.com/questions/44747343/keras-input-explanation-input-shape-units-batch-size-dim-etc \n",
    "- Compile, fit and evaluate your new model2, but this time add `metrics=\"binary_accuracy\"` to the compile function. When you evaluate your model now, you should get two outputs; a loss and an accuracy. Also, give your fitting process a name such as \"history\" and change the number of epochs to 10 or more.\n",
    "- Plot the loss over each epochs by accesing the \"history\" object you defined when fitting. Hint: `history.history` returns a dictionary. Get the loss values from the dictionary.\n",
    "\n"
   ]
  },
  {
   "cell_type": "code",
   "execution_count": null,
   "metadata": {
    "collapsed": true,
    "id": "cDGs_I0XrVvc"
   },
   "outputs": [],
   "source": [
    "# your code here"
   ]
  },
  {
   "cell_type": "code",
   "execution_count": null,
   "metadata": {
    "colab": {
     "base_uri": "https://localhost:8080/",
     "height": 664
    },
    "id": "nK5wdn2ouqQe",
    "outputId": "fce7404d-3950-4ba8-98d2-71aaa2e0ae26"
   },
   "outputs": [
    {
     "name": "stdout",
     "output_type": "stream",
     "text": [
      "Epoch 1/10\n",
      "184/184 [==============================] - 1s 2ms/step - loss: 0.2961 - binary_accuracy: 0.8934\n",
      "Epoch 2/10\n",
      "184/184 [==============================] - 0s 1ms/step - loss: 0.0775 - binary_accuracy: 0.9822\n",
      "Epoch 3/10\n",
      "184/184 [==============================] - 0s 1ms/step - loss: 0.0545 - binary_accuracy: 0.9854\n",
      "Epoch 4/10\n",
      "184/184 [==============================] - 0s 1ms/step - loss: 0.0472 - binary_accuracy: 0.9876\n",
      "Epoch 5/10\n",
      "184/184 [==============================] - 0s 1ms/step - loss: 0.0393 - binary_accuracy: 0.9871\n",
      "Epoch 6/10\n",
      "184/184 [==============================] - 0s 2ms/step - loss: 0.0384 - binary_accuracy: 0.9870\n",
      "Epoch 7/10\n",
      "184/184 [==============================] - 0s 1ms/step - loss: 0.0376 - binary_accuracy: 0.9884\n",
      "Epoch 8/10\n",
      "184/184 [==============================] - 0s 1ms/step - loss: 0.0303 - binary_accuracy: 0.9918\n",
      "Epoch 9/10\n",
      "184/184 [==============================] - 0s 2ms/step - loss: 0.0302 - binary_accuracy: 0.9907\n",
      "Epoch 10/10\n",
      "184/184 [==============================] - 0s 1ms/step - loss: 0.0310 - binary_accuracy: 0.9882\n",
      "62/62 [==============================] - 0s 1ms/step - loss: 0.0311 - binary_accuracy: 0.9923\n",
      "0.031067760661244392 0.9923234581947327\n"
     ]
    },
    {
     "data": {
      "text/plain": [
       "[<matplotlib.lines.Line2D at 0x7f48bf6b64d0>]"
      ]
     },
     "execution_count": 78,
     "metadata": {
      "tags": []
     },
     "output_type": "execute_result"
    },
    {
     "data": {
      "image/png": "[encoded data removed]",
      "text/plain": [
       "<Figure size 432x288 with 1 Axes>"
      ]
     },
     "metadata": {
      "needs_background": "light",
      "tags": []
     },
     "output_type": "display_data"
    }
   ],
   "source": [
    "#solution:\n",
    "model2 = keras.Sequential(\n",
    "    [   \n",
    "        layers.Dense(64, input_shape=(784,)),\n",
    "        layers.Dense(1, activation=\"sigmoid\")\n",
    "    ]\n",
    ")\n",
    "\n",
    "model2.compile(optimizer='sgd', loss='binary_crossentropy', metrics=\"binary_accuracy\") \n",
    "history = model2.fit(x_train_new, y_train_new, epochs=10)\n",
    "loss, accuracy = model2.evaluate(x_test_new,y_test_new)\n",
    "print(loss, accuracy)\n",
    "plt.plot(history.history['loss'])"
   ]
  },
  {
   "cell_type": "markdown",
   "metadata": {
    "id": "VNSIvKUJxpY2"
   },
   "source": [
    "**3.1.6**: Now, take a look at the model defined below. What is the number of trainable parameters of \"example_model\"? Explain the number of parameters (weights and biases) for each layer. Note that, so far, you have only been shown feed-forward neural networks (the Dense layer is a feed-forward layer). *Hint: you may want to look into the model.summary() method to verify your calculation.*\n",
    "\n",
    "**Answer**: With only one input feature and 32 units in the first layer, there are 1x32 weights + 32 bias terms (one for each unit) of the first layer, hence 64 trainable parameters of the first layer. The input to the second layer is of size 32 (equal to the number of units of the first layer), so with only 1 unit in the second layer we have 32x1 weights + one bias term in the second layer. "
   ]
  },
  {
   "cell_type": "code",
   "execution_count": null,
   "metadata": {
    "collapsed": true,
    "id": "3cPxjDdLxs5K"
   },
   "outputs": [],
   "source": [
    "example_model = keras.Sequential(\n",
    "    [\n",
    "        layers.Dense(32, input_shape=(1,), activation=\"relu\"),\n",
    "        layers.Dense(1, activation=\"sigmoid\")\n",
    "    ]\n",
    ")"
   ]
  },
  {
   "cell_type": "code",
   "execution_count": null,
   "metadata": {
    "colab": {
     "base_uri": "https://localhost:8080/"
    },
    "id": "sBLdZtot12iw",
    "outputId": "c2e9313c-bae7-4186-a7f7-5b6d4da8b58d"
   },
   "outputs": [
    {
     "name": "stdout",
     "output_type": "stream",
     "text": [
      "Model: \"sequential\"\n",
      "_________________________________________________________________\n",
      "Layer (type)                 Output Shape              Param #   \n",
      "=================================================================\n",
      "dense (Dense)                (None, 32)                64        \n",
      "_________________________________________________________________\n",
      "dense_1 (Dense)              (None, 1)                 33        \n",
      "=================================================================\n",
      "Total params: 97\n",
      "Trainable params: 97\n",
      "Non-trainable params: 0\n",
      "_________________________________________________________________\n"
     ]
    }
   ],
   "source": [
    "example_model.summary()"
   ]
  },
  {
   "cell_type": "markdown",
   "metadata": {
    "id": "mrrt46uVqjXG"
   },
   "source": [
    "**OPTIONAL 3.1.7**: In the documentation you can see that you can also \"create a Sequential model incrementally via the `add()` method\". Re-write \"example_model\" using the `add` method.\n",
    "\n"
   ]
  },
  {
   "cell_type": "code",
   "execution_count": null,
   "metadata": {
    "collapsed": true,
    "id": "TM1nnwmJrSGQ"
   },
   "outputs": [],
   "source": [
    "# Your code here"
   ]
  },
  {
   "cell_type": "code",
   "execution_count": null,
   "metadata": {
    "collapsed": true,
    "id": "t5MHdr6mPYiq"
   },
   "outputs": [],
   "source": [
    "# solution\n"
   ]
  },
  {
   "cell_type": "markdown",
   "metadata": {
    "id": "hJ39k6lAZi-W"
   },
   "source": [
    "## 3.2 The functional model \n",
    "Now we will practice writting models with the functional API, which we will continue with further on. In terms of syntax, you will only see a difference when defining the models, meaning that the training and evaluation steps (`compile`, `fit` and `evalute`/`predict`) are the same no matter which API, the sequential or functional, you are using.\n",
    "\n",
    "**3.2.1**: Read the first three sections of the documentation https://keras.io/guides/functional_api/\n",
    "\n",
    "**3.2.2**: Re-write \"example_model\" using the functional API and name it model3. Change the input shape such that we can use the model with our MNIST data (784,).\n",
    "\n",
    "**3.2.3**: Compile, fit and evaluate model3, but this time add the validation data, X_val and y_val, to the `validation_data` argument in `fit`. The argument expects a tuple (see https://keras.io/api/models/model_training_apis/#fit-method).\n",
    "\n",
    "**3.2.4** Plot loss and validation accuracy (`'val_binary_accuracy'`)."
   ]
  },
  {
   "cell_type": "code",
   "execution_count": null,
   "metadata": {
    "collapsed": true,
    "id": "vYBWtGBtrqWB"
   },
   "outputs": [],
   "source": [
    "# your code here"
   ]
  },
  {
   "cell_type": "code",
   "execution_count": null,
   "metadata": {
    "colab": {
     "base_uri": "https://localhost:8080/",
     "height": 664
    },
    "id": "i-85roJ5xacB",
    "outputId": "897cbf5c-7cb7-4195-d0e4-9289d76caa0a"
   },
   "outputs": [
    {
     "name": "stdout",
     "output_type": "stream",
     "text": [
      "Epoch 1/10\n",
      "184/184 [==============================] - 1s 3ms/step - loss: 0.4590 - binary_accuracy: 0.8290 - val_loss: 0.1396 - val_binary_accuracy: 0.9711\n",
      "Epoch 2/10\n",
      "184/184 [==============================] - 0s 3ms/step - loss: 0.1208 - binary_accuracy: 0.9730 - val_loss: 0.0809 - val_binary_accuracy: 0.9796\n",
      "Epoch 3/10\n",
      "184/184 [==============================] - 0s 2ms/step - loss: 0.0715 - binary_accuracy: 0.9840 - val_loss: 0.0623 - val_binary_accuracy: 0.9815\n",
      "Epoch 4/10\n",
      "184/184 [==============================] - 0s 2ms/step - loss: 0.0648 - binary_accuracy: 0.9821 - val_loss: 0.0530 - val_binary_accuracy: 0.9847\n",
      "Epoch 5/10\n",
      "184/184 [==============================] - 0s 2ms/step - loss: 0.0534 - binary_accuracy: 0.9851 - val_loss: 0.0473 - val_binary_accuracy: 0.9857\n",
      "Epoch 6/10\n",
      "184/184 [==============================] - 0s 2ms/step - loss: 0.0446 - binary_accuracy: 0.9861 - val_loss: 0.0437 - val_binary_accuracy: 0.9864\n",
      "Epoch 7/10\n",
      "184/184 [==============================] - 0s 2ms/step - loss: 0.0419 - binary_accuracy: 0.9895 - val_loss: 0.0422 - val_binary_accuracy: 0.9876\n",
      "Epoch 8/10\n",
      "184/184 [==============================] - 0s 2ms/step - loss: 0.0365 - binary_accuracy: 0.9880 - val_loss: 0.0388 - val_binary_accuracy: 0.9881\n",
      "Epoch 9/10\n",
      "184/184 [==============================] - 0s 3ms/step - loss: 0.0367 - binary_accuracy: 0.9878 - val_loss: 0.0372 - val_binary_accuracy: 0.9888\n",
      "Epoch 10/10\n",
      "184/184 [==============================] - 0s 2ms/step - loss: 0.0324 - binary_accuracy: 0.9915 - val_loss: 0.0365 - val_binary_accuracy: 0.9891\n",
      "62/62 [==============================] - 0s 1ms/step - loss: 0.0333 - binary_accuracy: 0.9908\n",
      "0.033269014209508896 0.9907881021499634\n"
     ]
    },
    {
     "data": {
      "text/plain": [
       "[<matplotlib.lines.Line2D at 0x7f48beebe310>]"
      ]
     },
     "execution_count": 86,
     "metadata": {
      "tags": []
     },
     "output_type": "execute_result"
    },
    {
     "data": {
      "image/png": "[encoded data removed]",
      "text/plain": [
       "<Figure size 432x288 with 1 Axes>"
      ]
     },
     "metadata": {
      "needs_background": "light",
      "tags": []
     },
     "output_type": "display_data"
    }
   ],
   "source": [
    "# solution:\n",
    "inputs = keras.Input(shape=(784,))\n",
    "x = layers.Dense(32, activation=\"relu\")(inputs)\n",
    "outputs = layers.Dense(1, activation=\"sigmoid\")(x)\n",
    "\n",
    "model3 = keras.Model(inputs=inputs, outputs=outputs)\n",
    "\n",
    "model3.compile(optimizer='sgd', loss='binary_crossentropy', metrics=\"binary_accuracy\") \n",
    "history = model3.fit(x_train_new, y_train_new, epochs=10, validation_data=(X_val, y_val))\n",
    "\n",
    "loss, accuracy = model3.evaluate(x_test_new,y_test_new)\n",
    "print(loss, accuracy)\n",
    "plt.plot(history.history['loss'], label=\"loss\")\n",
    "plt.plot(history.history['val_binary_accuracy'], label=\"accuracy\")\n",
    "plt.legend()\n"
   ]
  },
  {
   "cell_type": "code",
   "execution_count": null,
   "metadata": {
    "collapsed": true,
    "id": "7MPmQzVbp2dA"
   },
   "outputs": [],
   "source": []
  }
 ],
 "metadata": {
  "colab": {
   "collapsed_sections": [],
   "name": "deep_learning_1_exercises_solutions.ipynb",
   "provenance": []
  },
  "kernelspec": {
   "display_name": "Python 3",
   "language": "python",
   "name": "python3"
  },
  "language_info": {
   "codemirror_mode": {
    "name": "ipython",
    "version": 3
   },
   "file_extension": ".py",
   "mimetype": "text/x-python",
   "name": "python",
   "nbconvert_exporter": "python",
   "pygments_lexer": "ipython3",
   "version": "3.8.3"
  }
 },
 "nbformat": 4,
 "nbformat_minor": 1
}
