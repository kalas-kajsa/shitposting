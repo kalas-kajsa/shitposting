{
 "cells": [
  {
   "cell_type": "markdown",
   "metadata": {},
   "source": [
    "<div class=\"alert alert-block alert-info\">\n",
    "\n",
    "Passed/approved.\n",
    "    \n",
    "See comments in ex 1 q2 and ex2 q1."
   ]
  },
  {
   "cell_type": "code",
   "execution_count": 93,
   "metadata": {},
   "outputs": [],
   "source": [
    "#Import packages\n",
    "import pandas as pd\n",
    "import numpy as np\n",
    "\n",
    "import statsmodels.formula.api as smf"
   ]
  },
  {
   "cell_type": "markdown",
   "metadata": {},
   "source": [
    "## Question 1\n",
    "1. Prediction problem: aim to predict how many people will get ill using information at hand, and we are less interested in why these cases occur - meaning we don’t really care where effect is coming from.\n",
    "\n",
    "\n",
    "2. Causal inference problem: we are interested in what happens if we change the value of a certain variable (eg changing the amount spent on advertising) on the potential profits\n",
    "\n",
    "\n",
    "3. Causal inference: seeing the effect of including a picture in a tweet, while keeping all else is equal. We are interested in answering which factors will maximize the number of retweets, which makes this a causal inference problem. \n",
    "\n",
    "\n",
    "4. Predict who is at risk of being/becoming a drug addict- we don’t care which characteristics cause people to have addiction problems. We just want to target them with an intervention program.\n",
    " \n",
    "5. Causal inference: we know the facts, and are interested in the counterfactual outcome of what would happen if someone would be placed somewhere else and how this would have an impact on the outcome\n",
    "\n"
   ]
  },
  {
   "cell_type": "code",
   "execution_count": 94,
   "metadata": {},
   "outputs": [],
   "source": [
    "#Read data\n",
    "halloween = pd.read_csv('halloween.csv')\n",
    "df1 = pd.read_table(\"lab_mark_train1.dat\", sep=\"\\t\")\n",
    "df2 = pd.read_table('lab_mark_train2.dat', sep = '\\t')"
   ]
  },
  {
   "cell_type": "markdown",
   "metadata": {},
   "source": [
    "## Question 2\n",
    "*a) What is the population of interest that you are sampling from?*\n",
    "\n",
    "Children in New Haven, CT - from class discussion: All american kids (may not be representative for all kids in america, but maybe only representative for kids in New haven) \n",
    "\n",
    "*What is the definition of Yi, Y1i, Y0i, Di and Xi?*\n",
    "\n",
    "Yi = Choosing fruits or not - binary variable \n",
    "\n",
    "Y1i = Chooses fruit - binary outcome if the person i is subject to treatment Di=1\n",
    "\n",
    "Y0i = Chooses candy - binary outcome for not subject to treatment \n",
    "\n",
    "Di = Obama or not - if the person i saw the picture of Obama before choosing fruit or candy (also binary)\n",
    "\n",
    "Xi = Age of kid (control variable)\n",
    "\n",
    "\n",
    "*In words, what does it mean if Y12 = 0 in these data?*\n",
    "\n",
    "Child number 12 choses candy\n",
    "\n",
    "*In words, what does it mean if D58 = 1 in these data?*\n",
    "\n",
    "Child number 58 saw picture of Obama\n",
    "\n",
    "*b) Let j = 22 and k = 9. Open the data and compute (find) the following if you can: Yj, Dj, Y1j, Dk, Y0k, Xk*\n"
   ]
  },
  {
   "cell_type": "markdown",
   "metadata": {},
   "source": [
    "<div class=\"alert alert-block alert-info\">\n",
    "\n",
    "$Y_{1_i}$ is the potential outcome for a treated observation (so we do not know whether the kid chose the fruit or not based on this). Likewise $Y_{0_i}$ is the potential outcome for an untreated observation - so again, this could both be taking or not taking the fruit for kid i if kid i is in the control group. See solution sheet."
   ]
  },
  {
   "cell_type": "code",
   "execution_count": 95,
   "metadata": {
    "scrolled": true
   },
   "outputs": [
    {
     "name": "stdout",
     "output_type": "stream",
     "text": [
      "obama     0.0\n",
      "fruit     0.0\n",
      "age      11.0\n",
      "Name: 21, dtype: float64\n",
      "\n",
      "\n",
      "obama    0.0\n",
      "fruit    0.0\n",
      "age      6.0\n",
      "Name: 8, dtype: float64\n"
     ]
    }
   ],
   "source": [
    "print(halloween.iloc[21])\n",
    "print('\\n')\n",
    "print(halloween.iloc[8])"
   ]
  },
  {
   "cell_type": "markdown",
   "metadata": {},
   "source": [
    "*Answer question b):*\n",
    "\n",
    "Yj= Did not choose fruit \n",
    "\n",
    "Dj= Did not see Obama\n",
    "\n",
    "Y1j= Not observed\n",
    "\n",
    "Dk= Did not see Obama\n",
    "\n",
    "Y0k= Was observed\n",
    "\n",
    "Xk= 8\n"
   ]
  },
  {
   "cell_type": "markdown",
   "metadata": {},
   "source": [
    "<div class=\"alert alert-block alert-info\">\n",
    "\n",
    "Yes, $Y_{0_{9}}$ is observed and thereby there is also an outcome that we can report; $Y_{0_{9}} = 0$ so this child was in the control group and did not take fruit. See solution sheet.  "
   ]
  },
  {
   "cell_type": "markdown",
   "metadata": {},
   "source": [
    "*c) Comparison of averages*"
   ]
  },
  {
   "cell_type": "code",
   "execution_count": 96,
   "metadata": {
    "scrolled": true
   },
   "outputs": [
    {
     "name": "stdout",
     "output_type": "stream",
     "text": [
      "       obama       fruit         age\n",
      "count  444.0  444.000000  444.000000\n",
      "mean     1.0    0.274775    8.515766\n",
      "std      0.0    0.446904    3.131753\n",
      "min      1.0    0.000000    3.000000\n",
      "25%      1.0    0.000000    6.000000\n",
      "50%      1.0    0.000000    8.000000\n",
      "75%      1.0    1.000000   11.000000\n",
      "max      1.0    1.000000   19.000000\n",
      "       obama       fruit         age\n",
      "count  778.0  778.000000  778.000000\n",
      "mean     0.0    0.237789    8.517995\n",
      "std      0.0    0.426003    3.062046\n",
      "min      0.0    0.000000    2.000000\n",
      "25%      0.0    0.000000    6.000000\n",
      "50%      0.0    0.000000    8.000000\n",
      "75%      0.0    0.000000   11.000000\n",
      "max      0.0    1.000000   19.000000\n",
      "\n",
      "\n",
      "Mean difference:  0.036985571689941904\n"
     ]
    }
   ],
   "source": [
    "print(halloween[halloween['obama'] == 1].describe())\n",
    "print(halloween[halloween['obama'] == 0].describe())\n",
    "\n",
    "print('\\n')\n",
    "\n",
    "difference = halloween[halloween['obama'] == 1].mean() - halloween[halloween['obama'] == 0].mean()\n",
    "\n",
    "print('Mean difference: ', difference['fruit'])\n"
   ]
  },
  {
   "cell_type": "markdown",
   "metadata": {},
   "source": [
    "Out of the 444 who saw Obama 27% chose a fruit, Out of the 778 who didn’t see Obama only 23% chose a fruit. The mean difference between the treatment groups is 0.037."
   ]
  },
  {
   "cell_type": "markdown",
   "metadata": {},
   "source": [
    "*d) Simple regression model with robust standard error*\n",
    "\n",
    "*e) compute confidence interval*"
   ]
  },
  {
   "cell_type": "code",
   "execution_count": 97,
   "metadata": {
    "scrolled": true
   },
   "outputs": [
    {
     "name": "stdout",
     "output_type": "stream",
     "text": [
      "                  0         1\n",
      "Intercept  0.207874  0.267704\n",
      "obama     -0.014191  0.088162\n"
     ]
    },
    {
     "data": {
      "text/html": [
       "<table class=\"simpletable\">\n",
       "<caption>OLS Regression Results</caption>\n",
       "<tr>\n",
       "  <th>Dep. Variable:</th>          <td>fruit</td>      <th>  R-squared:         </th> <td>   0.002</td>\n",
       "</tr>\n",
       "<tr>\n",
       "  <th>Model:</th>                   <td>OLS</td>       <th>  Adj. R-squared:    </th> <td>   0.001</td>\n",
       "</tr>\n",
       "<tr>\n",
       "  <th>Method:</th>             <td>Least Squares</td>  <th>  F-statistic:       </th> <td>   2.006</td>\n",
       "</tr>\n",
       "<tr>\n",
       "  <th>Date:</th>             <td>Thu, 11 Feb 2021</td> <th>  Prob (F-statistic):</th>  <td> 0.157</td> \n",
       "</tr>\n",
       "<tr>\n",
       "  <th>Time:</th>                 <td>12:42:49</td>     <th>  Log-Likelihood:    </th> <td> -712.11</td>\n",
       "</tr>\n",
       "<tr>\n",
       "  <th>No. Observations:</th>      <td>  1222</td>      <th>  AIC:               </th> <td>   1428.</td>\n",
       "</tr>\n",
       "<tr>\n",
       "  <th>Df Residuals:</th>          <td>  1220</td>      <th>  BIC:               </th> <td>   1438.</td>\n",
       "</tr>\n",
       "<tr>\n",
       "  <th>Df Model:</th>              <td>     1</td>      <th>                     </th>     <td> </td>   \n",
       "</tr>\n",
       "<tr>\n",
       "  <th>Covariance Type:</th>         <td>HC0</td>       <th>                     </th>     <td> </td>   \n",
       "</tr>\n",
       "</table>\n",
       "<table class=\"simpletable\">\n",
       "<tr>\n",
       "      <td></td>         <th>coef</th>     <th>std err</th>      <th>z</th>      <th>P>|z|</th>  <th>[0.025</th>    <th>0.975]</th>  \n",
       "</tr>\n",
       "<tr>\n",
       "  <th>Intercept</th> <td>    0.2378</td> <td>    0.015</td> <td>   15.579</td> <td> 0.000</td> <td>    0.208</td> <td>    0.268</td>\n",
       "</tr>\n",
       "<tr>\n",
       "  <th>obama</th>     <td>    0.0370</td> <td>    0.026</td> <td>    1.416</td> <td> 0.157</td> <td>   -0.014</td> <td>    0.088</td>\n",
       "</tr>\n",
       "</table>\n",
       "<table class=\"simpletable\">\n",
       "<tr>\n",
       "  <th>Omnibus:</th>       <td>236.213</td> <th>  Durbin-Watson:     </th> <td>   2.084</td>\n",
       "</tr>\n",
       "<tr>\n",
       "  <th>Prob(Omnibus):</th> <td> 0.000</td>  <th>  Jarque-Bera (JB):  </th> <td> 290.347</td>\n",
       "</tr>\n",
       "<tr>\n",
       "  <th>Skew:</th>          <td> 1.144</td>  <th>  Prob(JB):          </th> <td>8.95e-64</td>\n",
       "</tr>\n",
       "<tr>\n",
       "  <th>Kurtosis:</th>      <td> 2.319</td>  <th>  Cond. No.          </th> <td>    2.42</td>\n",
       "</tr>\n",
       "</table><br/><br/>Warnings:<br/>[1] Standard Errors are heteroscedasticity robust (HC0)"
      ],
      "text/plain": [
       "<class 'statsmodels.iolib.summary.Summary'>\n",
       "\"\"\"\n",
       "                            OLS Regression Results                            \n",
       "==============================================================================\n",
       "Dep. Variable:                  fruit   R-squared:                       0.002\n",
       "Model:                            OLS   Adj. R-squared:                  0.001\n",
       "Method:                 Least Squares   F-statistic:                     2.006\n",
       "Date:                Thu, 11 Feb 2021   Prob (F-statistic):              0.157\n",
       "Time:                        12:42:49   Log-Likelihood:                -712.11\n",
       "No. Observations:                1222   AIC:                             1428.\n",
       "Df Residuals:                    1220   BIC:                             1438.\n",
       "Df Model:                           1                                         \n",
       "Covariance Type:                  HC0                                         \n",
       "==============================================================================\n",
       "                 coef    std err          z      P>|z|      [0.025      0.975]\n",
       "------------------------------------------------------------------------------\n",
       "Intercept      0.2378      0.015     15.579      0.000       0.208       0.268\n",
       "obama          0.0370      0.026      1.416      0.157      -0.014       0.088\n",
       "==============================================================================\n",
       "Omnibus:                      236.213   Durbin-Watson:                   2.084\n",
       "Prob(Omnibus):                  0.000   Jarque-Bera (JB):              290.347\n",
       "Skew:                           1.144   Prob(JB):                     8.95e-64\n",
       "Kurtosis:                       2.319   Cond. No.                         2.42\n",
       "==============================================================================\n",
       "\n",
       "Warnings:\n",
       "[1] Standard Errors are heteroscedasticity robust (HC0)\n",
       "\"\"\""
      ]
     },
     "execution_count": 97,
     "metadata": {},
     "output_type": "execute_result"
    }
   ],
   "source": [
    "#Fit regression model to data\n",
    "model = smf.ols(formula = 'fruit ~obama', data = halloween)\n",
    "results = model.fit(cov_type = 'HC0')\n",
    "\n",
    "\n",
    "#Calculate confidence interval \n",
    "print(results.conf_int())\n",
    "results.summary()\n",
    "\n"
   ]
  },
  {
   "cell_type": "markdown",
   "metadata": {},
   "source": [
    "What we can see is that there is no significant effect of seeing Obama on chosing fruits over candies. The result from our means comparison is the same as aour regression, because we are dealing with binary variables. "
   ]
  },
  {
   "cell_type": "markdown",
   "metadata": {},
   "source": [
    "*f) Average age comparison*"
   ]
  },
  {
   "cell_type": "code",
   "execution_count": 98,
   "metadata": {},
   "outputs": [
    {
     "name": "stdout",
     "output_type": "stream",
     "text": [
      "8.515765765765765\n",
      "8.517994858611825\n",
      "Mean difference:  -0.002229092846059544\n"
     ]
    }
   ],
   "source": [
    "treat = halloween[halloween['obama']==1]\n",
    "control = halloween[halloween['obama'] == 0]\n",
    "\n",
    "print(treat['age'].mean())\n",
    "print(control['age'].mean())\n",
    "print('Mean difference: ', treat['age'].mean() - control['age'].mean() )"
   ]
  },
  {
   "cell_type": "markdown",
   "metadata": {},
   "source": [
    "* g) average age comparison using linear regression"
   ]
  },
  {
   "cell_type": "code",
   "execution_count": 101,
   "metadata": {
    "scrolled": true
   },
   "outputs": [
    {
     "name": "stdout",
     "output_type": "stream",
     "text": [
      "0   -0.364033\n",
      "1    0.359575\n",
      "Name: obama, dtype: float64\n"
     ]
    },
    {
     "data": {
      "text/html": [
       "<table class=\"simpletable\">\n",
       "<caption>OLS Regression Results</caption>\n",
       "<tr>\n",
       "  <th>Dep. Variable:</th>           <td>age</td>       <th>  R-squared:         </th> <td>   0.000</td> \n",
       "</tr>\n",
       "<tr>\n",
       "  <th>Model:</th>                   <td>OLS</td>       <th>  Adj. R-squared:    </th> <td>  -0.001</td> \n",
       "</tr>\n",
       "<tr>\n",
       "  <th>Method:</th>             <td>Least Squares</td>  <th>  F-statistic:       </th> <td>0.0001458</td>\n",
       "</tr>\n",
       "<tr>\n",
       "  <th>Date:</th>             <td>Thu, 11 Feb 2021</td> <th>  Prob (F-statistic):</th>  <td> 0.990</td>  \n",
       "</tr>\n",
       "<tr>\n",
       "  <th>Time:</th>                 <td>12:44:58</td>     <th>  Log-Likelihood:    </th> <td> -3110.6</td> \n",
       "</tr>\n",
       "<tr>\n",
       "  <th>No. Observations:</th>      <td>  1222</td>      <th>  AIC:               </th> <td>   6225.</td> \n",
       "</tr>\n",
       "<tr>\n",
       "  <th>Df Residuals:</th>          <td>  1220</td>      <th>  BIC:               </th> <td>   6235.</td> \n",
       "</tr>\n",
       "<tr>\n",
       "  <th>Df Model:</th>              <td>     1</td>      <th>                     </th>     <td> </td>    \n",
       "</tr>\n",
       "<tr>\n",
       "  <th>Covariance Type:</th>         <td>HC0</td>       <th>                     </th>     <td> </td>    \n",
       "</tr>\n",
       "</table>\n",
       "<table class=\"simpletable\">\n",
       "<tr>\n",
       "      <td></td>         <th>coef</th>     <th>std err</th>      <th>z</th>      <th>P>|z|</th>  <th>[0.025</th>    <th>0.975]</th>  \n",
       "</tr>\n",
       "<tr>\n",
       "  <th>Intercept</th> <td>    8.5180</td> <td>    0.110</td> <td>   77.642</td> <td> 0.000</td> <td>    8.303</td> <td>    8.733</td>\n",
       "</tr>\n",
       "<tr>\n",
       "  <th>obama</th>     <td>   -0.0022</td> <td>    0.185</td> <td>   -0.012</td> <td> 0.990</td> <td>   -0.364</td> <td>    0.360</td>\n",
       "</tr>\n",
       "</table>\n",
       "<table class=\"simpletable\">\n",
       "<tr>\n",
       "  <th>Omnibus:</th>       <td>47.467</td> <th>  Durbin-Watson:     </th> <td>   2.070</td>\n",
       "</tr>\n",
       "<tr>\n",
       "  <th>Prob(Omnibus):</th> <td> 0.000</td> <th>  Jarque-Bera (JB):  </th> <td>  52.419</td>\n",
       "</tr>\n",
       "<tr>\n",
       "  <th>Skew:</th>          <td> 0.505</td> <th>  Prob(JB):          </th> <td>4.14e-12</td>\n",
       "</tr>\n",
       "<tr>\n",
       "  <th>Kurtosis:</th>      <td> 2.895</td> <th>  Cond. No.          </th> <td>    2.42</td>\n",
       "</tr>\n",
       "</table><br/><br/>Warnings:<br/>[1] Standard Errors are heteroscedasticity robust (HC0)"
      ],
      "text/plain": [
       "<class 'statsmodels.iolib.summary.Summary'>\n",
       "\"\"\"\n",
       "                            OLS Regression Results                            \n",
       "==============================================================================\n",
       "Dep. Variable:                    age   R-squared:                       0.000\n",
       "Model:                            OLS   Adj. R-squared:                 -0.001\n",
       "Method:                 Least Squares   F-statistic:                 0.0001458\n",
       "Date:                Thu, 11 Feb 2021   Prob (F-statistic):              0.990\n",
       "Time:                        12:44:58   Log-Likelihood:                -3110.6\n",
       "No. Observations:                1222   AIC:                             6225.\n",
       "Df Residuals:                    1220   BIC:                             6235.\n",
       "Df Model:                           1                                         \n",
       "Covariance Type:                  HC0                                         \n",
       "==============================================================================\n",
       "                 coef    std err          z      P>|z|      [0.025      0.975]\n",
       "------------------------------------------------------------------------------\n",
       "Intercept      8.5180      0.110     77.642      0.000       8.303       8.733\n",
       "obama         -0.0022      0.185     -0.012      0.990      -0.364       0.360\n",
       "==============================================================================\n",
       "Omnibus:                       47.467   Durbin-Watson:                   2.070\n",
       "Prob(Omnibus):                  0.000   Jarque-Bera (JB):               52.419\n",
       "Skew:                           0.505   Prob(JB):                     4.14e-12\n",
       "Kurtosis:                       2.895   Cond. No.                         2.42\n",
       "==============================================================================\n",
       "\n",
       "Warnings:\n",
       "[1] Standard Errors are heteroscedasticity robust (HC0)\n",
       "\"\"\""
      ]
     },
     "execution_count": 101,
     "metadata": {},
     "output_type": "execute_result"
    }
   ],
   "source": [
    "#Fit regression model to data\n",
    "model1 = smf.ols(formula = 'age ~ obama', data = halloween)\n",
    "results1 = model1.fit(cov_type = 'HC0')\n",
    "\n",
    "#Confidence intervals\n",
    "CI = results1.conf_int(alpha=0.05)\n",
    "print(CI.loc['obama'])\n",
    "\n",
    "results1.summary()\n",
    "\n"
   ]
  },
  {
   "cell_type": "markdown",
   "metadata": {},
   "source": [
    "*h) Does randomization hold?*\n",
    "\n",
    "The mean approaches zero, and the confidence interval includes 0, which supports our assumption that the treatment condition was indeed randomly assigned, regardless of the childs age. "
   ]
  },
  {
   "cell_type": "markdown",
   "metadata": {},
   "source": [
    "## Question 3\n",
    "*a)*\n",
    "\n",
    "Education is not random: it's dependent on your socio-economic background\n",
    "\n",
    "*b)*\n",
    "\n",
    "Would also not assume this is random: showing up early might indicate that these students are already more motivated than those that show up late\n",
    "\n",
    "*c)*\n",
    "\n",
    "It seems like assignement to which weekday you can do yoga was random, so in this case, as-good-as random assignment might hold\n",
    "\n",
    "*d)*\n",
    "\n",
    "It's probably not random that the railway station opened in that particular neighbourhood: maybe it was part of a larger plan to make that neighbourhood more attractive etc. There is also the risk of a spill over effect if we compare the effect to a nearby neighbourhood, who after all could also use this new station."
   ]
  },
  {
   "cell_type": "markdown",
   "metadata": {},
   "source": [
    "# Second exercise sheet"
   ]
  },
  {
   "cell_type": "markdown",
   "metadata": {},
   "source": [
    "## Question 1"
   ]
  },
  {
   "cell_type": "code",
   "execution_count": 9,
   "metadata": {},
   "outputs": [
    {
     "data": {
      "text/html": [
       "<div>\n",
       "<style scoped>\n",
       "    .dataframe tbody tr th:only-of-type {\n",
       "        vertical-align: middle;\n",
       "    }\n",
       "\n",
       "    .dataframe tbody tr th {\n",
       "        vertical-align: top;\n",
       "    }\n",
       "\n",
       "    .dataframe thead th {\n",
       "        text-align: right;\n",
       "    }\n",
       "</style>\n",
       "<table border=\"1\" class=\"dataframe\">\n",
       "  <thead>\n",
       "    <tr style=\"text-align: right;\">\n",
       "      <th></th>\n",
       "      <th>training</th>\n",
       "      <th>age</th>\n",
       "      <th>yrs_educ</th>\n",
       "      <th>black</th>\n",
       "      <th>hispanic</th>\n",
       "      <th>married</th>\n",
       "      <th>nodegree</th>\n",
       "      <th>earnings1975</th>\n",
       "      <th>earnings1978</th>\n",
       "    </tr>\n",
       "  </thead>\n",
       "  <tbody>\n",
       "    <tr>\n",
       "      <th>0</th>\n",
       "      <td>0</td>\n",
       "      <td>33</td>\n",
       "      <td>12</td>\n",
       "      <td>0</td>\n",
       "      <td>0</td>\n",
       "      <td>1</td>\n",
       "      <td>0</td>\n",
       "      <td>11384.66</td>\n",
       "      <td>23136.76</td>\n",
       "    </tr>\n",
       "    <tr>\n",
       "      <th>1</th>\n",
       "      <td>0</td>\n",
       "      <td>21</td>\n",
       "      <td>12</td>\n",
       "      <td>0</td>\n",
       "      <td>0</td>\n",
       "      <td>0</td>\n",
       "      <td>0</td>\n",
       "      <td>11860.89</td>\n",
       "      <td>1111.25</td>\n",
       "    </tr>\n",
       "    <tr>\n",
       "      <th>2</th>\n",
       "      <td>0</td>\n",
       "      <td>26</td>\n",
       "      <td>10</td>\n",
       "      <td>0</td>\n",
       "      <td>0</td>\n",
       "      <td>0</td>\n",
       "      <td>1</td>\n",
       "      <td>13072.94</td>\n",
       "      <td>15445.20</td>\n",
       "    </tr>\n",
       "    <tr>\n",
       "      <th>3</th>\n",
       "      <td>0</td>\n",
       "      <td>36</td>\n",
       "      <td>12</td>\n",
       "      <td>0</td>\n",
       "      <td>0</td>\n",
       "      <td>1</td>\n",
       "      <td>0</td>\n",
       "      <td>19303.26</td>\n",
       "      <td>25564.67</td>\n",
       "    </tr>\n",
       "    <tr>\n",
       "      <th>4</th>\n",
       "      <td>0</td>\n",
       "      <td>40</td>\n",
       "      <td>8</td>\n",
       "      <td>0</td>\n",
       "      <td>0</td>\n",
       "      <td>1</td>\n",
       "      <td>1</td>\n",
       "      <td>15719.03</td>\n",
       "      <td>13973.38</td>\n",
       "    </tr>\n",
       "  </tbody>\n",
       "</table>\n",
       "</div>"
      ],
      "text/plain": [
       "   training  age  yrs_educ  black  hispanic  married  nodegree  earnings1975  \\\n",
       "0         0   33        12      0         0        1         0      11384.66   \n",
       "1         0   21        12      0         0        0         0      11860.89   \n",
       "2         0   26        10      0         0        0         1      13072.94   \n",
       "3         0   36        12      0         0        1         0      19303.26   \n",
       "4         0   40         8      0         0        1         1      15719.03   \n",
       "\n",
       "   earnings1978  \n",
       "0      23136.76  \n",
       "1       1111.25  \n",
       "2      15445.20  \n",
       "3      25564.67  \n",
       "4      13973.38  "
      ]
     },
     "execution_count": 9,
     "metadata": {},
     "output_type": "execute_result"
    }
   ],
   "source": [
    "df1.head()"
   ]
  },
  {
   "cell_type": "code",
   "execution_count": 10,
   "metadata": {},
   "outputs": [
    {
     "name": "stdout",
     "output_type": "stream",
     "text": [
      "Mean 1975:  13457.810715919513\n",
      "STD 1975:  9317.233096061858\n",
      "Mean 1978:  14684.925903544263\n",
      "STD 1978:  14684.925903544263\n"
     ]
    }
   ],
   "source": [
    "print('Mean 1975: ', df1['earnings1975'].mean())\n",
    "print('STD 1975: ', df1['earnings1975'].std())\n",
    "print('Mean 1978: ', df1['earnings1978'].mean())\n",
    "print('STD 1978: ', df1['earnings1978'].mean())"
   ]
  },
  {
   "cell_type": "markdown",
   "metadata": {},
   "source": [
    "There is a mean difference between the two groups, which indicates that during these three years, something happened that increased the average earnings of the sample. However, the standard deviation indicates that there might be a big difference/effect for a subgroup in the data, because the standard deviation also became bigger (indicating a wider dispersion of the sample)"
   ]
  },
  {
   "cell_type": "markdown",
   "metadata": {},
   "source": [
    "*b)*\n",
    "\n",
    "population of interest: Unemployed Americans/disadvantaged workers \n",
    "\n",
    "Yi = earnings, Di = training\n",
    "\n",
    "Estimand: Average Treatment Effect\n"
   ]
  },
  {
   "cell_type": "markdown",
   "metadata": {},
   "source": [
    "<div class=\"alert alert-block alert-info\">\n",
    "\n",
    "Yes, but note that only men with regard to the population."
   ]
  },
  {
   "cell_type": "markdown",
   "metadata": {},
   "source": [
    "*c) Regression with 90% confidence interval*"
   ]
  },
  {
   "cell_type": "code",
   "execution_count": 69,
   "metadata": {
    "scrolled": true
   },
   "outputs": [
    {
     "name": "stdout",
     "output_type": "stream",
     "text": [
      "90% CI:  0   -9541.856709\n",
      "1   -8198.758571\n",
      "Name: training, dtype: float64\n"
     ]
    },
    {
     "data": {
      "text/html": [
       "<table class=\"simpletable\">\n",
       "<caption>OLS Regression Results</caption>\n",
       "<tr>\n",
       "  <th>Dep. Variable:</th>      <td>earnings1978</td>   <th>  R-squared:         </th>  <td>   0.015</td>  \n",
       "</tr>\n",
       "<tr>\n",
       "  <th>Model:</th>                   <td>OLS</td>       <th>  Adj. R-squared:    </th>  <td>   0.015</td>  \n",
       "</tr>\n",
       "<tr>\n",
       "  <th>Method:</th>             <td>Least Squares</td>  <th>  F-statistic:       </th>  <td>   472.0</td>  \n",
       "</tr>\n",
       "<tr>\n",
       "  <th>Date:</th>             <td>Wed, 10 Feb 2021</td> <th>  Prob (F-statistic):</th>  <td>3.36e-103</td> \n",
       "</tr>\n",
       "<tr>\n",
       "  <th>Time:</th>                 <td>16:10:58</td>     <th>  Log-Likelihood:    </th> <td>-1.7248e+05</td>\n",
       "</tr>\n",
       "<tr>\n",
       "  <th>No. Observations:</th>      <td> 16289</td>      <th>  AIC:               </th>  <td>3.450e+05</td> \n",
       "</tr>\n",
       "<tr>\n",
       "  <th>Df Residuals:</th>          <td> 16287</td>      <th>  BIC:               </th>  <td>3.450e+05</td> \n",
       "</tr>\n",
       "<tr>\n",
       "  <th>Df Model:</th>              <td>     1</td>      <th>                     </th>      <td> </td>     \n",
       "</tr>\n",
       "<tr>\n",
       "  <th>Covariance Type:</th>         <td>HC0</td>       <th>                     </th>      <td> </td>     \n",
       "</tr>\n",
       "</table>\n",
       "<table class=\"simpletable\">\n",
       "<tr>\n",
       "      <td></td>         <th>coef</th>     <th>std err</th>      <th>z</th>      <th>P>|z|</th>  <th>[0.025</th>    <th>0.975]</th>  \n",
       "</tr>\n",
       "<tr>\n",
       "  <th>Intercept</th> <td> 1.485e+04</td> <td>   76.286</td> <td>  194.618</td> <td> 0.000</td> <td> 1.47e+04</td> <td>  1.5e+04</td>\n",
       "</tr>\n",
       "<tr>\n",
       "  <th>training</th>  <td>-8870.3076</td> <td>  408.273</td> <td>  -21.726</td> <td> 0.000</td> <td>-9670.508</td> <td>-8070.108</td>\n",
       "</tr>\n",
       "</table>\n",
       "<table class=\"simpletable\">\n",
       "<tr>\n",
       "  <th>Omnibus:</th>       <td>156828.121</td> <th>  Durbin-Watson:     </th> <td>   1.969</td>\n",
       "</tr>\n",
       "<tr>\n",
       "  <th>Prob(Omnibus):</th>   <td> 0.000</td>   <th>  Jarque-Bera (JB):  </th> <td>1446.062</td>\n",
       "</tr>\n",
       "<tr>\n",
       "  <th>Skew:</th>            <td>-0.308</td>   <th>  Prob(JB):          </th> <td>    0.00</td>\n",
       "</tr>\n",
       "<tr>\n",
       "  <th>Kurtosis:</th>        <td> 1.677</td>   <th>  Cond. No.          </th> <td>    7.48</td>\n",
       "</tr>\n",
       "</table><br/><br/>Warnings:<br/>[1] Standard Errors are heteroscedasticity robust (HC0)"
      ],
      "text/plain": [
       "<class 'statsmodels.iolib.summary.Summary'>\n",
       "\"\"\"\n",
       "                            OLS Regression Results                            \n",
       "==============================================================================\n",
       "Dep. Variable:           earnings1978   R-squared:                       0.015\n",
       "Model:                            OLS   Adj. R-squared:                  0.015\n",
       "Method:                 Least Squares   F-statistic:                     472.0\n",
       "Date:                Wed, 10 Feb 2021   Prob (F-statistic):          3.36e-103\n",
       "Time:                        16:10:58   Log-Likelihood:            -1.7248e+05\n",
       "No. Observations:               16289   AIC:                         3.450e+05\n",
       "Df Residuals:                   16287   BIC:                         3.450e+05\n",
       "Df Model:                           1                                         \n",
       "Covariance Type:                  HC0                                         \n",
       "==============================================================================\n",
       "                 coef    std err          z      P>|z|      [0.025      0.975]\n",
       "------------------------------------------------------------------------------\n",
       "Intercept   1.485e+04     76.286    194.618      0.000    1.47e+04     1.5e+04\n",
       "training   -8870.3076    408.273    -21.726      0.000   -9670.508   -8070.108\n",
       "==============================================================================\n",
       "Omnibus:                   156828.121   Durbin-Watson:                   1.969\n",
       "Prob(Omnibus):                  0.000   Jarque-Bera (JB):             1446.062\n",
       "Skew:                          -0.308   Prob(JB):                         0.00\n",
       "Kurtosis:                       1.677   Cond. No.                         7.48\n",
       "==============================================================================\n",
       "\n",
       "Warnings:\n",
       "[1] Standard Errors are heteroscedasticity robust (HC0)\n",
       "\"\"\""
      ]
     },
     "execution_count": 69,
     "metadata": {},
     "output_type": "execute_result"
    }
   ],
   "source": [
    "#fit model\n",
    "model3 = smf.ols(formula = 'earnings1978 ~training', data = df1)\n",
    "results3 = model3.fit(cov_type = 'HC0')\n",
    "\n",
    "#Print confidence intervals\n",
    "print('90% CI: ', results3.conf_int(alpha = 0.1).loc['training'])\n",
    "results3.summary()"
   ]
  },
  {
   "cell_type": "markdown",
   "metadata": {},
   "source": [
    "We can see that people who got training on average has a lower income than the average workforce. This effect is statistically significant. "
   ]
  },
  {
   "cell_type": "markdown",
   "metadata": {},
   "source": [
    "*d) Check covariates to see if that might explain the result*"
   ]
  },
  {
   "cell_type": "code",
   "execution_count": 84,
   "metadata": {
    "scrolled": true
   },
   "outputs": [
    {
     "data": {
      "text/html": [
       "<table class=\"simpletable\">\n",
       "<caption>OLS Regression Results</caption>\n",
       "<tr>\n",
       "  <th>Dep. Variable:</th>           <td>age</td>       <th>  R-squared:         </th> <td>   0.011</td> \n",
       "</tr>\n",
       "<tr>\n",
       "  <th>Model:</th>                   <td>OLS</td>       <th>  Adj. R-squared:    </th> <td>   0.011</td> \n",
       "</tr>\n",
       "<tr>\n",
       "  <th>Method:</th>             <td>Least Squares</td>  <th>  F-statistic:       </th> <td>   469.0</td> \n",
       "</tr>\n",
       "<tr>\n",
       "  <th>Date:</th>             <td>Wed, 10 Feb 2021</td> <th>  Prob (F-statistic):</th> <td>1.46e-102</td>\n",
       "</tr>\n",
       "<tr>\n",
       "  <th>Time:</th>                 <td>16:26:08</td>     <th>  Log-Likelihood:    </th> <td> -62144.</td> \n",
       "</tr>\n",
       "<tr>\n",
       "  <th>No. Observations:</th>      <td> 16289</td>      <th>  AIC:               </th> <td>1.243e+05</td>\n",
       "</tr>\n",
       "<tr>\n",
       "  <th>Df Residuals:</th>          <td> 16287</td>      <th>  BIC:               </th> <td>1.243e+05</td>\n",
       "</tr>\n",
       "<tr>\n",
       "  <th>Df Model:</th>              <td>     1</td>      <th>                     </th>     <td> </td>    \n",
       "</tr>\n",
       "<tr>\n",
       "  <th>Covariance Type:</th>         <td>HC0</td>       <th>                     </th>     <td> </td>    \n",
       "</tr>\n",
       "</table>\n",
       "<table class=\"simpletable\">\n",
       "<tr>\n",
       "      <td></td>         <th>coef</th>     <th>std err</th>      <th>z</th>      <th>P>|z|</th>  <th>[0.025</th>    <th>0.975]</th>  \n",
       "</tr>\n",
       "<tr>\n",
       "  <th>Intercept</th> <td>   33.2252</td> <td>    0.087</td> <td>  380.416</td> <td> 0.000</td> <td>   33.054</td> <td>   33.396</td>\n",
       "</tr>\n",
       "<tr>\n",
       "  <th>training</th>  <td>   -8.5990</td> <td>    0.397</td> <td>  -21.657</td> <td> 0.000</td> <td>   -9.377</td> <td>   -7.821</td>\n",
       "</tr>\n",
       "</table>\n",
       "<table class=\"simpletable\">\n",
       "<tr>\n",
       "  <th>Omnibus:</th>       <td>3694.982</td> <th>  Durbin-Watson:     </th> <td>   1.987</td> \n",
       "</tr>\n",
       "<tr>\n",
       "  <th>Prob(Omnibus):</th>  <td> 0.000</td>  <th>  Jarque-Bera (JB):  </th> <td> 992.205</td> \n",
       "</tr>\n",
       "<tr>\n",
       "  <th>Skew:</th>           <td> 0.353</td>  <th>  Prob(JB):          </th> <td>3.51e-216</td>\n",
       "</tr>\n",
       "<tr>\n",
       "  <th>Kurtosis:</th>       <td> 2.019</td>  <th>  Cond. No.          </th> <td>    7.48</td> \n",
       "</tr>\n",
       "</table><br/><br/>Warnings:<br/>[1] Standard Errors are heteroscedasticity robust (HC0)"
      ],
      "text/plain": [
       "<class 'statsmodels.iolib.summary.Summary'>\n",
       "\"\"\"\n",
       "                            OLS Regression Results                            \n",
       "==============================================================================\n",
       "Dep. Variable:                    age   R-squared:                       0.011\n",
       "Model:                            OLS   Adj. R-squared:                  0.011\n",
       "Method:                 Least Squares   F-statistic:                     469.0\n",
       "Date:                Wed, 10 Feb 2021   Prob (F-statistic):          1.46e-102\n",
       "Time:                        16:26:08   Log-Likelihood:                -62144.\n",
       "No. Observations:               16289   AIC:                         1.243e+05\n",
       "Df Residuals:                   16287   BIC:                         1.243e+05\n",
       "Df Model:                           1                                         \n",
       "Covariance Type:                  HC0                                         \n",
       "==============================================================================\n",
       "                 coef    std err          z      P>|z|      [0.025      0.975]\n",
       "------------------------------------------------------------------------------\n",
       "Intercept     33.2252      0.087    380.416      0.000      33.054      33.396\n",
       "training      -8.5990      0.397    -21.657      0.000      -9.377      -7.821\n",
       "==============================================================================\n",
       "Omnibus:                     3694.982   Durbin-Watson:                   1.987\n",
       "Prob(Omnibus):                  0.000   Jarque-Bera (JB):              992.205\n",
       "Skew:                           0.353   Prob(JB):                    3.51e-216\n",
       "Kurtosis:                       2.019   Cond. No.                         7.48\n",
       "==============================================================================\n",
       "\n",
       "Warnings:\n",
       "[1] Standard Errors are heteroscedasticity robust (HC0)\n",
       "\"\"\""
      ]
     },
     "execution_count": 84,
     "metadata": {},
     "output_type": "execute_result"
    }
   ],
   "source": [
    "age = smf.ols(formula = 'age ~training', data = df1)\n",
    "age =age.fit(cov_type = 'HC0')\n",
    "\n",
    "age.summary()"
   ]
  },
  {
   "cell_type": "code",
   "execution_count": 71,
   "metadata": {
    "scrolled": true
   },
   "outputs": [
    {
     "data": {
      "text/html": [
       "<table class=\"simpletable\">\n",
       "<caption>OLS Regression Results</caption>\n",
       "<tr>\n",
       "  <th>Dep. Variable:</th>        <td>yrs_educ</td>     <th>  R-squared:         </th> <td>   0.006</td> \n",
       "</tr>\n",
       "<tr>\n",
       "  <th>Model:</th>                   <td>OLS</td>       <th>  Adj. R-squared:    </th> <td>   0.006</td> \n",
       "</tr>\n",
       "<tr>\n",
       "  <th>Method:</th>             <td>Least Squares</td>  <th>  F-statistic:       </th> <td>   233.8</td> \n",
       "</tr>\n",
       "<tr>\n",
       "  <th>Date:</th>             <td>Wed, 10 Feb 2021</td> <th>  Prob (F-statistic):</th> <td>2.04e-52</td> \n",
       "</tr>\n",
       "<tr>\n",
       "  <th>Time:</th>                 <td>16:12:17</td>     <th>  Log-Likelihood:    </th> <td> -40201.</td> \n",
       "</tr>\n",
       "<tr>\n",
       "  <th>No. Observations:</th>      <td> 16289</td>      <th>  AIC:               </th> <td>8.041e+04</td>\n",
       "</tr>\n",
       "<tr>\n",
       "  <th>Df Residuals:</th>          <td> 16287</td>      <th>  BIC:               </th> <td>8.042e+04</td>\n",
       "</tr>\n",
       "<tr>\n",
       "  <th>Df Model:</th>              <td>     1</td>      <th>                     </th>     <td> </td>    \n",
       "</tr>\n",
       "<tr>\n",
       "  <th>Covariance Type:</th>         <td>HC0</td>       <th>                     </th>     <td> </td>    \n",
       "</tr>\n",
       "</table>\n",
       "<table class=\"simpletable\">\n",
       "<tr>\n",
       "      <td></td>         <th>coef</th>     <th>std err</th>      <th>z</th>      <th>P>|z|</th>  <th>[0.025</th>    <th>0.975]</th>  \n",
       "</tr>\n",
       "<tr>\n",
       "  <th>Intercept</th> <td>   12.0275</td> <td>    0.023</td> <td>  529.823</td> <td> 0.000</td> <td>   11.983</td> <td>   12.072</td>\n",
       "</tr>\n",
       "<tr>\n",
       "  <th>training</th>  <td>   -1.6470</td> <td>    0.108</td> <td>  -15.291</td> <td> 0.000</td> <td>   -1.858</td> <td>   -1.436</td>\n",
       "</tr>\n",
       "</table>\n",
       "<table class=\"simpletable\">\n",
       "<tr>\n",
       "  <th>Omnibus:</th>       <td>916.160</td> <th>  Durbin-Watson:     </th> <td>   2.012</td>\n",
       "</tr>\n",
       "<tr>\n",
       "  <th>Prob(Omnibus):</th> <td> 0.000</td>  <th>  Jarque-Bera (JB):  </th> <td>1691.455</td>\n",
       "</tr>\n",
       "<tr>\n",
       "  <th>Skew:</th>          <td>-0.426</td>  <th>  Prob(JB):          </th> <td>    0.00</td>\n",
       "</tr>\n",
       "<tr>\n",
       "  <th>Kurtosis:</th>      <td> 4.329</td>  <th>  Cond. No.          </th> <td>    7.48</td>\n",
       "</tr>\n",
       "</table><br/><br/>Warnings:<br/>[1] Standard Errors are heteroscedasticity robust (HC0)"
      ],
      "text/plain": [
       "<class 'statsmodels.iolib.summary.Summary'>\n",
       "\"\"\"\n",
       "                            OLS Regression Results                            \n",
       "==============================================================================\n",
       "Dep. Variable:               yrs_educ   R-squared:                       0.006\n",
       "Model:                            OLS   Adj. R-squared:                  0.006\n",
       "Method:                 Least Squares   F-statistic:                     233.8\n",
       "Date:                Wed, 10 Feb 2021   Prob (F-statistic):           2.04e-52\n",
       "Time:                        16:12:17   Log-Likelihood:                -40201.\n",
       "No. Observations:               16289   AIC:                         8.041e+04\n",
       "Df Residuals:                   16287   BIC:                         8.042e+04\n",
       "Df Model:                           1                                         \n",
       "Covariance Type:                  HC0                                         \n",
       "==============================================================================\n",
       "                 coef    std err          z      P>|z|      [0.025      0.975]\n",
       "------------------------------------------------------------------------------\n",
       "Intercept     12.0275      0.023    529.823      0.000      11.983      12.072\n",
       "training      -1.6470      0.108    -15.291      0.000      -1.858      -1.436\n",
       "==============================================================================\n",
       "Omnibus:                      916.160   Durbin-Watson:                   2.012\n",
       "Prob(Omnibus):                  0.000   Jarque-Bera (JB):             1691.455\n",
       "Skew:                          -0.426   Prob(JB):                         0.00\n",
       "Kurtosis:                       4.329   Cond. No.                         7.48\n",
       "==============================================================================\n",
       "\n",
       "Warnings:\n",
       "[1] Standard Errors are heteroscedasticity robust (HC0)\n",
       "\"\"\""
      ]
     },
     "execution_count": 71,
     "metadata": {},
     "output_type": "execute_result"
    }
   ],
   "source": [
    "education = smf.ols(formula = 'yrs_educ ~training', data = df1)\n",
    "educ_res =education.fit(cov_type = 'HC0')\n",
    "\n",
    "educ_res.summary()"
   ]
  },
  {
   "cell_type": "code",
   "execution_count": 72,
   "metadata": {
    "scrolled": true
   },
   "outputs": [
    {
     "data": {
      "text/html": [
       "<table class=\"simpletable\">\n",
       "<caption>OLS Regression Results</caption>\n",
       "<tr>\n",
       "  <th>Dep. Variable:</th>          <td>black</td>      <th>  R-squared:         </th> <td>   0.120</td> \n",
       "</tr>\n",
       "<tr>\n",
       "  <th>Model:</th>                   <td>OLS</td>       <th>  Adj. R-squared:    </th> <td>   0.120</td> \n",
       "</tr>\n",
       "<tr>\n",
       "  <th>Method:</th>             <td>Least Squares</td>  <th>  F-statistic:       </th> <td>   980.5</td> \n",
       "</tr>\n",
       "<tr>\n",
       "  <th>Date:</th>             <td>Wed, 10 Feb 2021</td> <th>  Prob (F-statistic):</th> <td>4.71e-209</td>\n",
       "</tr>\n",
       "<tr>\n",
       "  <th>Time:</th>                 <td>16:12:34</td>     <th>  Log-Likelihood:    </th> <td> -1430.2</td> \n",
       "</tr>\n",
       "<tr>\n",
       "  <th>No. Observations:</th>      <td> 16289</td>      <th>  AIC:               </th> <td>   2864.</td> \n",
       "</tr>\n",
       "<tr>\n",
       "  <th>Df Residuals:</th>          <td> 16287</td>      <th>  BIC:               </th> <td>   2880.</td> \n",
       "</tr>\n",
       "<tr>\n",
       "  <th>Df Model:</th>              <td>     1</td>      <th>                     </th>     <td> </td>    \n",
       "</tr>\n",
       "<tr>\n",
       "  <th>Covariance Type:</th>         <td>HC0</td>       <th>                     </th>     <td> </td>    \n",
       "</tr>\n",
       "</table>\n",
       "<table class=\"simpletable\">\n",
       "<tr>\n",
       "      <td></td>         <th>coef</th>     <th>std err</th>      <th>z</th>      <th>P>|z|</th>  <th>[0.025</th>    <th>0.975]</th>  \n",
       "</tr>\n",
       "<tr>\n",
       "  <th>Intercept</th> <td>    0.0735</td> <td>    0.002</td> <td>   35.628</td> <td> 0.000</td> <td>    0.069</td> <td>    0.078</td>\n",
       "</tr>\n",
       "<tr>\n",
       "  <th>training</th>  <td>    0.7278</td> <td>    0.023</td> <td>   31.313</td> <td> 0.000</td> <td>    0.682</td> <td>    0.773</td>\n",
       "</tr>\n",
       "</table>\n",
       "<table class=\"simpletable\">\n",
       "<tr>\n",
       "  <th>Omnibus:</th>       <td>9871.375</td> <th>  Durbin-Watson:     </th> <td>   2.017</td> \n",
       "</tr>\n",
       "<tr>\n",
       "  <th>Prob(Omnibus):</th>  <td> 0.000</td>  <th>  Jarque-Bera (JB):  </th> <td>70478.106</td>\n",
       "</tr>\n",
       "<tr>\n",
       "  <th>Skew:</th>           <td> 2.999</td>  <th>  Prob(JB):          </th> <td>    0.00</td> \n",
       "</tr>\n",
       "<tr>\n",
       "  <th>Kurtosis:</th>       <td>11.237</td>  <th>  Cond. No.          </th> <td>    7.48</td> \n",
       "</tr>\n",
       "</table><br/><br/>Warnings:<br/>[1] Standard Errors are heteroscedasticity robust (HC0)"
      ],
      "text/plain": [
       "<class 'statsmodels.iolib.summary.Summary'>\n",
       "\"\"\"\n",
       "                            OLS Regression Results                            \n",
       "==============================================================================\n",
       "Dep. Variable:                  black   R-squared:                       0.120\n",
       "Model:                            OLS   Adj. R-squared:                  0.120\n",
       "Method:                 Least Squares   F-statistic:                     980.5\n",
       "Date:                Wed, 10 Feb 2021   Prob (F-statistic):          4.71e-209\n",
       "Time:                        16:12:34   Log-Likelihood:                -1430.2\n",
       "No. Observations:               16289   AIC:                             2864.\n",
       "Df Residuals:                   16287   BIC:                             2880.\n",
       "Df Model:                           1                                         \n",
       "Covariance Type:                  HC0                                         \n",
       "==============================================================================\n",
       "                 coef    std err          z      P>|z|      [0.025      0.975]\n",
       "------------------------------------------------------------------------------\n",
       "Intercept      0.0735      0.002     35.628      0.000       0.069       0.078\n",
       "training       0.7278      0.023     31.313      0.000       0.682       0.773\n",
       "==============================================================================\n",
       "Omnibus:                     9871.375   Durbin-Watson:                   2.017\n",
       "Prob(Omnibus):                  0.000   Jarque-Bera (JB):            70478.106\n",
       "Skew:                           2.999   Prob(JB):                         0.00\n",
       "Kurtosis:                      11.237   Cond. No.                         7.48\n",
       "==============================================================================\n",
       "\n",
       "Warnings:\n",
       "[1] Standard Errors are heteroscedasticity robust (HC0)\n",
       "\"\"\""
      ]
     },
     "execution_count": 72,
     "metadata": {},
     "output_type": "execute_result"
    }
   ],
   "source": [
    "black = smf.ols(formula = 'black~training', data = df1)\n",
    "black_res =black.fit(cov_type = 'HC0')\n",
    "\n",
    "black_res.summary()"
   ]
  },
  {
   "cell_type": "code",
   "execution_count": 73,
   "metadata": {
    "scrolled": true
   },
   "outputs": [
    {
     "data": {
      "text/html": [
       "<table class=\"simpletable\">\n",
       "<caption>OLS Regression Results</caption>\n",
       "<tr>\n",
       "  <th>Dep. Variable:</th>        <td>hispanic</td>     <th>  R-squared:         </th> <td>   0.000</td>\n",
       "</tr>\n",
       "<tr>\n",
       "  <th>Model:</th>                   <td>OLS</td>       <th>  Adj. R-squared:    </th> <td>   0.000</td>\n",
       "</tr>\n",
       "<tr>\n",
       "  <th>Method:</th>             <td>Least Squares</td>  <th>  F-statistic:       </th> <td>   1.696</td>\n",
       "</tr>\n",
       "<tr>\n",
       "  <th>Date:</th>             <td>Wed, 10 Feb 2021</td> <th>  Prob (F-statistic):</th>  <td> 0.193</td> \n",
       "</tr>\n",
       "<tr>\n",
       "  <th>Time:</th>                 <td>16:12:44</td>     <th>  Log-Likelihood:    </th> <td> -1120.4</td>\n",
       "</tr>\n",
       "<tr>\n",
       "  <th>No. Observations:</th>      <td> 16289</td>      <th>  AIC:               </th> <td>   2245.</td>\n",
       "</tr>\n",
       "<tr>\n",
       "  <th>Df Residuals:</th>          <td> 16287</td>      <th>  BIC:               </th> <td>   2260.</td>\n",
       "</tr>\n",
       "<tr>\n",
       "  <th>Df Model:</th>              <td>     1</td>      <th>                     </th>     <td> </td>   \n",
       "</tr>\n",
       "<tr>\n",
       "  <th>Covariance Type:</th>         <td>HC0</td>       <th>                     </th>     <td> </td>   \n",
       "</tr>\n",
       "</table>\n",
       "<table class=\"simpletable\">\n",
       "<tr>\n",
       "      <td></td>         <th>coef</th>     <th>std err</th>      <th>z</th>      <th>P>|z|</th>  <th>[0.025</th>    <th>0.975]</th>  \n",
       "</tr>\n",
       "<tr>\n",
       "  <th>Intercept</th> <td>    0.0720</td> <td>    0.002</td> <td>   35.234</td> <td> 0.000</td> <td>    0.068</td> <td>    0.076</td>\n",
       "</tr>\n",
       "<tr>\n",
       "  <th>training</th>  <td>    0.0222</td> <td>    0.017</td> <td>    1.302</td> <td> 0.193</td> <td>   -0.011</td> <td>    0.056</td>\n",
       "</tr>\n",
       "</table>\n",
       "<table class=\"simpletable\">\n",
       "<tr>\n",
       "  <th>Omnibus:</th>       <td>10675.514</td> <th>  Durbin-Watson:     </th> <td>   1.995</td> \n",
       "</tr>\n",
       "<tr>\n",
       "  <th>Prob(Omnibus):</th>  <td> 0.000</td>   <th>  Jarque-Bera (JB):  </th> <td>83054.081</td>\n",
       "</tr>\n",
       "<tr>\n",
       "  <th>Skew:</th>           <td> 3.298</td>   <th>  Prob(JB):          </th> <td>    0.00</td> \n",
       "</tr>\n",
       "<tr>\n",
       "  <th>Kurtosis:</th>       <td>11.880</td>   <th>  Cond. No.          </th> <td>    7.48</td> \n",
       "</tr>\n",
       "</table><br/><br/>Warnings:<br/>[1] Standard Errors are heteroscedasticity robust (HC0)"
      ],
      "text/plain": [
       "<class 'statsmodels.iolib.summary.Summary'>\n",
       "\"\"\"\n",
       "                            OLS Regression Results                            \n",
       "==============================================================================\n",
       "Dep. Variable:               hispanic   R-squared:                       0.000\n",
       "Model:                            OLS   Adj. R-squared:                  0.000\n",
       "Method:                 Least Squares   F-statistic:                     1.696\n",
       "Date:                Wed, 10 Feb 2021   Prob (F-statistic):              0.193\n",
       "Time:                        16:12:44   Log-Likelihood:                -1120.4\n",
       "No. Observations:               16289   AIC:                             2245.\n",
       "Df Residuals:                   16287   BIC:                             2260.\n",
       "Df Model:                           1                                         \n",
       "Covariance Type:                  HC0                                         \n",
       "==============================================================================\n",
       "                 coef    std err          z      P>|z|      [0.025      0.975]\n",
       "------------------------------------------------------------------------------\n",
       "Intercept      0.0720      0.002     35.234      0.000       0.068       0.076\n",
       "training       0.0222      0.017      1.302      0.193      -0.011       0.056\n",
       "==============================================================================\n",
       "Omnibus:                    10675.514   Durbin-Watson:                   1.995\n",
       "Prob(Omnibus):                  0.000   Jarque-Bera (JB):            83054.081\n",
       "Skew:                           3.298   Prob(JB):                         0.00\n",
       "Kurtosis:                      11.880   Cond. No.                         7.48\n",
       "==============================================================================\n",
       "\n",
       "Warnings:\n",
       "[1] Standard Errors are heteroscedasticity robust (HC0)\n",
       "\"\"\""
      ]
     },
     "execution_count": 73,
     "metadata": {},
     "output_type": "execute_result"
    }
   ],
   "source": [
    "hispanic = smf.ols(formula = 'hispanic~training', data = df1)\n",
    "hispanic_res =hispanic.fit(cov_type = 'HC0')\n",
    "\n",
    "hispanic_res.summary()"
   ]
  },
  {
   "cell_type": "code",
   "execution_count": 74,
   "metadata": {
    "scrolled": true
   },
   "outputs": [
    {
     "data": {
      "text/html": [
       "<table class=\"simpletable\">\n",
       "<caption>OLS Regression Results</caption>\n",
       "<tr>\n",
       "  <th>Dep. Variable:</th>         <td>married</td>     <th>  R-squared:         </th> <td>   0.025</td> \n",
       "</tr>\n",
       "<tr>\n",
       "  <th>Model:</th>                   <td>OLS</td>       <th>  Adj. R-squared:    </th> <td>   0.025</td> \n",
       "</tr>\n",
       "<tr>\n",
       "  <th>Method:</th>             <td>Least Squares</td>  <th>  F-statistic:       </th> <td>   609.7</td> \n",
       "</tr>\n",
       "<tr>\n",
       "  <th>Date:</th>             <td>Wed, 10 Feb 2021</td> <th>  Prob (F-statistic):</th> <td>3.39e-132</td>\n",
       "</tr>\n",
       "<tr>\n",
       "  <th>Time:</th>                 <td>16:12:56</td>     <th>  Log-Likelihood:    </th> <td> -10166.</td> \n",
       "</tr>\n",
       "<tr>\n",
       "  <th>No. Observations:</th>      <td> 16289</td>      <th>  AIC:               </th> <td>2.034e+04</td>\n",
       "</tr>\n",
       "<tr>\n",
       "  <th>Df Residuals:</th>          <td> 16287</td>      <th>  BIC:               </th> <td>2.035e+04</td>\n",
       "</tr>\n",
       "<tr>\n",
       "  <th>Df Model:</th>              <td>     1</td>      <th>                     </th>     <td> </td>    \n",
       "</tr>\n",
       "<tr>\n",
       "  <th>Covariance Type:</th>         <td>HC0</td>       <th>                     </th>     <td> </td>    \n",
       "</tr>\n",
       "</table>\n",
       "<table class=\"simpletable\">\n",
       "<tr>\n",
       "      <td></td>         <th>coef</th>     <th>std err</th>      <th>z</th>      <th>P>|z|</th>  <th>[0.025</th>    <th>0.975]</th>  \n",
       "</tr>\n",
       "<tr>\n",
       "  <th>Intercept</th> <td>    0.7117</td> <td>    0.004</td> <td>  198.706</td> <td> 0.000</td> <td>    0.705</td> <td>    0.719</td>\n",
       "</tr>\n",
       "<tr>\n",
       "  <th>training</th>  <td>   -0.5434</td> <td>    0.022</td> <td>  -24.693</td> <td> 0.000</td> <td>   -0.587</td> <td>   -0.500</td>\n",
       "</tr>\n",
       "</table>\n",
       "<table class=\"simpletable\">\n",
       "<tr>\n",
       "  <th>Omnibus:</th>       <td>8489.227</td> <th>  Durbin-Watson:     </th> <td>   2.006</td>\n",
       "</tr>\n",
       "<tr>\n",
       "  <th>Prob(Omnibus):</th>  <td> 0.000</td>  <th>  Jarque-Bera (JB):  </th> <td>3061.609</td>\n",
       "</tr>\n",
       "<tr>\n",
       "  <th>Skew:</th>           <td>-0.907</td>  <th>  Prob(JB):          </th> <td>    0.00</td>\n",
       "</tr>\n",
       "<tr>\n",
       "  <th>Kurtosis:</th>       <td> 1.897</td>  <th>  Cond. No.          </th> <td>    7.48</td>\n",
       "</tr>\n",
       "</table><br/><br/>Warnings:<br/>[1] Standard Errors are heteroscedasticity robust (HC0)"
      ],
      "text/plain": [
       "<class 'statsmodels.iolib.summary.Summary'>\n",
       "\"\"\"\n",
       "                            OLS Regression Results                            \n",
       "==============================================================================\n",
       "Dep. Variable:                married   R-squared:                       0.025\n",
       "Model:                            OLS   Adj. R-squared:                  0.025\n",
       "Method:                 Least Squares   F-statistic:                     609.7\n",
       "Date:                Wed, 10 Feb 2021   Prob (F-statistic):          3.39e-132\n",
       "Time:                        16:12:56   Log-Likelihood:                -10166.\n",
       "No. Observations:               16289   AIC:                         2.034e+04\n",
       "Df Residuals:                   16287   BIC:                         2.035e+04\n",
       "Df Model:                           1                                         \n",
       "Covariance Type:                  HC0                                         \n",
       "==============================================================================\n",
       "                 coef    std err          z      P>|z|      [0.025      0.975]\n",
       "------------------------------------------------------------------------------\n",
       "Intercept      0.7117      0.004    198.706      0.000       0.705       0.719\n",
       "training      -0.5434      0.022    -24.693      0.000      -0.587      -0.500\n",
       "==============================================================================\n",
       "Omnibus:                     8489.227   Durbin-Watson:                   2.006\n",
       "Prob(Omnibus):                  0.000   Jarque-Bera (JB):             3061.609\n",
       "Skew:                          -0.907   Prob(JB):                         0.00\n",
       "Kurtosis:                       1.897   Cond. No.                         7.48\n",
       "==============================================================================\n",
       "\n",
       "Warnings:\n",
       "[1] Standard Errors are heteroscedasticity robust (HC0)\n",
       "\"\"\""
      ]
     },
     "execution_count": 74,
     "metadata": {},
     "output_type": "execute_result"
    }
   ],
   "source": [
    "married = smf.ols(formula = 'married~training', data = df1)\n",
    "married_res =married.fit(cov_type = 'HC0')\n",
    "\n",
    "married_res.summary()"
   ]
  },
  {
   "cell_type": "code",
   "execution_count": 76,
   "metadata": {
    "scrolled": true
   },
   "outputs": [
    {
     "data": {
      "text/html": [
       "<table class=\"simpletable\">\n",
       "<caption>OLS Regression Results</caption>\n",
       "<tr>\n",
       "  <th>Dep. Variable:</th>        <td>nodegree</td>     <th>  R-squared:         </th> <td>   0.016</td> \n",
       "</tr>\n",
       "<tr>\n",
       "  <th>Model:</th>                   <td>OLS</td>       <th>  Adj. R-squared:    </th> <td>   0.016</td> \n",
       "</tr>\n",
       "<tr>\n",
       "  <th>Method:</th>             <td>Least Squares</td>  <th>  F-statistic:       </th> <td>   279.8</td> \n",
       "</tr>\n",
       "<tr>\n",
       "  <th>Date:</th>             <td>Wed, 10 Feb 2021</td> <th>  Prob (F-statistic):</th> <td>2.74e-62</td> \n",
       "</tr>\n",
       "<tr>\n",
       "  <th>Time:</th>                 <td>16:14:16</td>     <th>  Log-Likelihood:    </th> <td> -10329.</td> \n",
       "</tr>\n",
       "<tr>\n",
       "  <th>No. Observations:</th>      <td> 16289</td>      <th>  AIC:               </th> <td>2.066e+04</td>\n",
       "</tr>\n",
       "<tr>\n",
       "  <th>Df Residuals:</th>          <td> 16287</td>      <th>  BIC:               </th> <td>2.068e+04</td>\n",
       "</tr>\n",
       "<tr>\n",
       "  <th>Df Model:</th>              <td>     1</td>      <th>                     </th>     <td> </td>    \n",
       "</tr>\n",
       "<tr>\n",
       "  <th>Covariance Type:</th>         <td>HC0</td>       <th>                     </th>     <td> </td>    \n",
       "</tr>\n",
       "</table>\n",
       "<table class=\"simpletable\">\n",
       "<tr>\n",
       "      <td></td>         <th>coef</th>     <th>std err</th>      <th>z</th>      <th>P>|z|</th>  <th>[0.025</th>    <th>0.975]</th>  \n",
       "</tr>\n",
       "<tr>\n",
       "  <th>Intercept</th> <td>    0.2958</td> <td>    0.004</td> <td>   81.967</td> <td> 0.000</td> <td>    0.289</td> <td>    0.303</td>\n",
       "</tr>\n",
       "<tr>\n",
       "  <th>training</th>  <td>    0.4348</td> <td>    0.026</td> <td>   16.727</td> <td> 0.000</td> <td>    0.384</td> <td>    0.486</td>\n",
       "</tr>\n",
       "</table>\n",
       "<table class=\"simpletable\">\n",
       "<tr>\n",
       "  <th>Omnibus:</th>       <td>15174.875</td> <th>  Durbin-Watson:     </th> <td>   2.006</td>\n",
       "</tr>\n",
       "<tr>\n",
       "  <th>Prob(Omnibus):</th>  <td> 0.000</td>   <th>  Jarque-Bera (JB):  </th> <td>2987.396</td>\n",
       "</tr>\n",
       "<tr>\n",
       "  <th>Skew:</th>           <td> 0.862</td>   <th>  Prob(JB):          </th> <td>    0.00</td>\n",
       "</tr>\n",
       "<tr>\n",
       "  <th>Kurtosis:</th>       <td> 1.805</td>   <th>  Cond. No.          </th> <td>    7.48</td>\n",
       "</tr>\n",
       "</table><br/><br/>Warnings:<br/>[1] Standard Errors are heteroscedasticity robust (HC0)"
      ],
      "text/plain": [
       "<class 'statsmodels.iolib.summary.Summary'>\n",
       "\"\"\"\n",
       "                            OLS Regression Results                            \n",
       "==============================================================================\n",
       "Dep. Variable:               nodegree   R-squared:                       0.016\n",
       "Model:                            OLS   Adj. R-squared:                  0.016\n",
       "Method:                 Least Squares   F-statistic:                     279.8\n",
       "Date:                Wed, 10 Feb 2021   Prob (F-statistic):           2.74e-62\n",
       "Time:                        16:14:16   Log-Likelihood:                -10329.\n",
       "No. Observations:               16289   AIC:                         2.066e+04\n",
       "Df Residuals:                   16287   BIC:                         2.068e+04\n",
       "Df Model:                           1                                         \n",
       "Covariance Type:                  HC0                                         \n",
       "==============================================================================\n",
       "                 coef    std err          z      P>|z|      [0.025      0.975]\n",
       "------------------------------------------------------------------------------\n",
       "Intercept      0.2958      0.004     81.967      0.000       0.289       0.303\n",
       "training       0.4348      0.026     16.727      0.000       0.384       0.486\n",
       "==============================================================================\n",
       "Omnibus:                    15174.875   Durbin-Watson:                   2.006\n",
       "Prob(Omnibus):                  0.000   Jarque-Bera (JB):             2987.396\n",
       "Skew:                           0.862   Prob(JB):                         0.00\n",
       "Kurtosis:                       1.805   Cond. No.                         7.48\n",
       "==============================================================================\n",
       "\n",
       "Warnings:\n",
       "[1] Standard Errors are heteroscedasticity robust (HC0)\n",
       "\"\"\""
      ]
     },
     "execution_count": 76,
     "metadata": {},
     "output_type": "execute_result"
    }
   ],
   "source": [
    "nodegree = smf.ols(formula = 'nodegree~training', data = df1)\n",
    "nodegree_res =nodegree.fit(cov_type = 'HC0')\n",
    "\n",
    "nodegree_res.summary()"
   ]
  },
  {
   "cell_type": "markdown",
   "metadata": {},
   "source": [
    "We can see that the group that received treatment differed from the control group (in this case the average population) in many ways. They were less educated, more likely to be black and not have a degree, to mention a few. The only factor which seems to be balance between the samples is the amount of people who self-report as being hispanic. The differences between the groups makes the coefficient from our regression less reliable, because the negative effect of the training observed is most likely because of selection bias, and not because of the treatment itself. "
   ]
  },
  {
   "cell_type": "markdown",
   "metadata": {},
   "source": [
    "*e) Covariate balance in new dataset, both by calculating mean differences and 90% confidence intervals as well as regressions, because, why not.*"
   ]
  },
  {
   "cell_type": "code",
   "execution_count": 45,
   "metadata": {},
   "outputs": [],
   "source": [
    "import math\n",
    "\n",
    "\n",
    "def results (name):\n",
    "    \n",
    "    treatment = df2[df2['training'] == 1]\n",
    "\n",
    "    control = df2[df2['training'] == 0]\n",
    "\n",
    "    treat_mean = treatment[name].mean()\n",
    "    control_mean = control[name].mean()\n",
    "\n",
    "    print(treat_mean, control_mean)\n",
    "    diff = treat_mean - control_mean\n",
    "    print('Mean: ', diff)\n",
    "\n",
    "    print('90% CI:')\n",
    "    #calculate marigin of error\n",
    "    me = math.sqrt((treatment[name].std()**2/len(treatment[name]))+ (control[name].std()**2/len(control[name])))*1.645\n",
    "    print(diff + me, diff - me)\n",
    "    \n",
    "    return\n"
   ]
  },
  {
   "cell_type": "code",
   "execution_count": 46,
   "metadata": {},
   "outputs": [
    {
     "name": "stdout",
     "output_type": "stream",
     "text": [
      "24.626262626262626 24.44705882352941\n",
      "Mean:  0.17920380273321612\n",
      "90% CI:\n",
      "1.0061721856172468 -0.6477645801508144\n"
     ]
    }
   ],
   "source": [
    "results('age')"
   ]
  },
  {
   "cell_type": "code",
   "execution_count": 47,
   "metadata": {
    "scrolled": true
   },
   "outputs": [
    {
     "name": "stdout",
     "output_type": "stream",
     "text": [
      "10.38047138047138 10.188235294117646\n",
      "Mean:  0.19223608635373424\n",
      "90% CI:\n",
      "0.40853878146373124 -0.024066608756262736\n"
     ]
    }
   ],
   "source": [
    "results('yrs_educ')"
   ]
  },
  {
   "cell_type": "code",
   "execution_count": 48,
   "metadata": {
    "scrolled": true
   },
   "outputs": [
    {
     "name": "stdout",
     "output_type": "stream",
     "text": [
      "0.8013468013468014 0.8\n",
      "Mean:  0.0013468013468013185\n",
      "90% CI:\n",
      "0.051110781167759446 -0.04841717847415681\n"
     ]
    }
   ],
   "source": [
    "results('black')"
   ]
  },
  {
   "cell_type": "code",
   "execution_count": 49,
   "metadata": {
    "scrolled": true
   },
   "outputs": [
    {
     "name": "stdout",
     "output_type": "stream",
     "text": [
      "0.09427609427609428 0.11294117647058824\n",
      "Mean:  -0.018665082194493962\n",
      "90% CI:\n",
      "0.01901798062017382 -0.05634814500916174\n"
     ]
    }
   ],
   "source": [
    "results('hispanic')"
   ]
  },
  {
   "cell_type": "code",
   "execution_count": 50,
   "metadata": {
    "scrolled": true
   },
   "outputs": [
    {
     "name": "stdout",
     "output_type": "stream",
     "text": [
      "0.16835016835016836 0.15764705882352942\n",
      "Mean:  0.010703109526638943\n",
      "90% CI:\n",
      "0.05682756618431835 -0.03542134713104046\n"
     ]
    }
   ],
   "source": [
    "results('married')"
   ]
  },
  {
   "cell_type": "code",
   "execution_count": 51,
   "metadata": {},
   "outputs": [
    {
     "name": "stdout",
     "output_type": "stream",
     "text": [
      "0.7306397306397306 0.8141176470588235\n",
      "Mean:  -0.08347791641909286\n",
      "90% CI:\n",
      "-0.030894662442647797 -0.13606117039553792\n"
     ]
    }
   ],
   "source": [
    "results('nodegree')"
   ]
  },
  {
   "cell_type": "code",
   "execution_count": 83,
   "metadata": {
    "scrolled": true
   },
   "outputs": [
    {
     "name": "stdout",
     "output_type": "stream",
     "text": [
      "90% CI:  0   -0.646468\n",
      "1    1.004875\n",
      "Name: training, dtype: float64\n"
     ]
    },
    {
     "data": {
      "text/html": [
       "<table class=\"simpletable\">\n",
       "<caption>OLS Regression Results</caption>\n",
       "<tr>\n",
       "  <th>Dep. Variable:</th>           <td>age</td>       <th>  R-squared:         </th> <td>   0.000</td>\n",
       "</tr>\n",
       "<tr>\n",
       "  <th>Model:</th>                   <td>OLS</td>       <th>  Adj. R-squared:    </th> <td>  -0.001</td>\n",
       "</tr>\n",
       "<tr>\n",
       "  <th>Method:</th>             <td>Least Squares</td>  <th>  F-statistic:       </th> <td>  0.1274</td>\n",
       "</tr>\n",
       "<tr>\n",
       "  <th>Date:</th>             <td>Wed, 10 Feb 2021</td> <th>  Prob (F-statistic):</th>  <td> 0.721</td> \n",
       "</tr>\n",
       "<tr>\n",
       "  <th>Time:</th>                 <td>16:25:32</td>     <th>  Log-Likelihood:    </th> <td> -2389.2</td>\n",
       "</tr>\n",
       "<tr>\n",
       "  <th>No. Observations:</th>      <td>   722</td>      <th>  AIC:               </th> <td>   4782.</td>\n",
       "</tr>\n",
       "<tr>\n",
       "  <th>Df Residuals:</th>          <td>   720</td>      <th>  BIC:               </th> <td>   4792.</td>\n",
       "</tr>\n",
       "<tr>\n",
       "  <th>Df Model:</th>              <td>     1</td>      <th>                     </th>     <td> </td>   \n",
       "</tr>\n",
       "<tr>\n",
       "  <th>Covariance Type:</th>         <td>HC0</td>       <th>                     </th>     <td> </td>   \n",
       "</tr>\n",
       "</table>\n",
       "<table class=\"simpletable\">\n",
       "<tr>\n",
       "      <td></td>         <th>coef</th>     <th>std err</th>      <th>z</th>      <th>P>|z|</th>  <th>[0.025</th>    <th>0.975]</th>  \n",
       "</tr>\n",
       "<tr>\n",
       "  <th>Intercept</th> <td>   24.4471</td> <td>    0.319</td> <td>   76.565</td> <td> 0.000</td> <td>   23.821</td> <td>   25.073</td>\n",
       "</tr>\n",
       "<tr>\n",
       "  <th>training</th>  <td>    0.1792</td> <td>    0.502</td> <td>    0.357</td> <td> 0.721</td> <td>   -0.805</td> <td>    1.163</td>\n",
       "</tr>\n",
       "</table>\n",
       "<table class=\"simpletable\">\n",
       "<tr>\n",
       "  <th>Omnibus:</th>       <td>185.949</td> <th>  Durbin-Watson:     </th> <td>   2.053</td>\n",
       "</tr>\n",
       "<tr>\n",
       "  <th>Prob(Omnibus):</th> <td> 0.000</td>  <th>  Jarque-Bera (JB):  </th> <td> 401.639</td>\n",
       "</tr>\n",
       "<tr>\n",
       "  <th>Skew:</th>          <td> 1.406</td>  <th>  Prob(JB):          </th> <td>6.10e-88</td>\n",
       "</tr>\n",
       "<tr>\n",
       "  <th>Kurtosis:</th>      <td> 5.332</td>  <th>  Cond. No.          </th> <td>    2.46</td>\n",
       "</tr>\n",
       "</table><br/><br/>Warnings:<br/>[1] Standard Errors are heteroscedasticity robust (HC0)"
      ],
      "text/plain": [
       "<class 'statsmodels.iolib.summary.Summary'>\n",
       "\"\"\"\n",
       "                            OLS Regression Results                            \n",
       "==============================================================================\n",
       "Dep. Variable:                    age   R-squared:                       0.000\n",
       "Model:                            OLS   Adj. R-squared:                 -0.001\n",
       "Method:                 Least Squares   F-statistic:                    0.1274\n",
       "Date:                Wed, 10 Feb 2021   Prob (F-statistic):              0.721\n",
       "Time:                        16:25:32   Log-Likelihood:                -2389.2\n",
       "No. Observations:                 722   AIC:                             4782.\n",
       "Df Residuals:                     720   BIC:                             4792.\n",
       "Df Model:                           1                                         \n",
       "Covariance Type:                  HC0                                         \n",
       "==============================================================================\n",
       "                 coef    std err          z      P>|z|      [0.025      0.975]\n",
       "------------------------------------------------------------------------------\n",
       "Intercept     24.4471      0.319     76.565      0.000      23.821      25.073\n",
       "training       0.1792      0.502      0.357      0.721      -0.805       1.163\n",
       "==============================================================================\n",
       "Omnibus:                      185.949   Durbin-Watson:                   2.053\n",
       "Prob(Omnibus):                  0.000   Jarque-Bera (JB):              401.639\n",
       "Skew:                           1.406   Prob(JB):                     6.10e-88\n",
       "Kurtosis:                       5.332   Cond. No.                         2.46\n",
       "==============================================================================\n",
       "\n",
       "Warnings:\n",
       "[1] Standard Errors are heteroscedasticity robust (HC0)\n",
       "\"\"\""
      ]
     },
     "execution_count": 83,
     "metadata": {},
     "output_type": "execute_result"
    }
   ],
   "source": [
    "age = smf.ols(formula = 'age ~training', data = df2)\n",
    "age = age.fit(cov_type = 'HC0')\n",
    "\n",
    "print('90% CI: ', age.conf_int(alpha = 0.1).loc['training'])\n",
    "\n",
    "age.summary()"
   ]
  },
  {
   "cell_type": "code",
   "execution_count": 86,
   "metadata": {
    "scrolled": true
   },
   "outputs": [
    {
     "name": "stdout",
     "output_type": "stream",
     "text": [
      "90% CI:  0   -0.023722\n",
      "1    0.408194\n",
      "Name: training, dtype: float64\n"
     ]
    },
    {
     "data": {
      "text/html": [
       "<table class=\"simpletable\">\n",
       "<caption>OLS Regression Results</caption>\n",
       "<tr>\n",
       "  <th>Dep. Variable:</th>        <td>yrs_educ</td>     <th>  R-squared:         </th> <td>   0.003</td>\n",
       "</tr>\n",
       "<tr>\n",
       "  <th>Model:</th>                   <td>OLS</td>       <th>  Adj. R-squared:    </th> <td>   0.002</td>\n",
       "</tr>\n",
       "<tr>\n",
       "  <th>Method:</th>             <td>Least Squares</td>  <th>  F-statistic:       </th> <td>   2.144</td>\n",
       "</tr>\n",
       "<tr>\n",
       "  <th>Date:</th>             <td>Wed, 10 Feb 2021</td> <th>  Prob (F-statistic):</th>  <td> 0.144</td> \n",
       "</tr>\n",
       "<tr>\n",
       "  <th>Time:</th>                 <td>16:28:41</td>     <th>  Log-Likelihood:    </th> <td> -1408.0</td>\n",
       "</tr>\n",
       "<tr>\n",
       "  <th>No. Observations:</th>      <td>   722</td>      <th>  AIC:               </th> <td>   2820.</td>\n",
       "</tr>\n",
       "<tr>\n",
       "  <th>Df Residuals:</th>          <td>   720</td>      <th>  BIC:               </th> <td>   2829.</td>\n",
       "</tr>\n",
       "<tr>\n",
       "  <th>Df Model:</th>              <td>     1</td>      <th>                     </th>     <td> </td>   \n",
       "</tr>\n",
       "<tr>\n",
       "  <th>Covariance Type:</th>         <td>HC0</td>       <th>                     </th>     <td> </td>   \n",
       "</tr>\n",
       "</table>\n",
       "<table class=\"simpletable\">\n",
       "<tr>\n",
       "      <td></td>         <th>coef</th>     <th>std err</th>      <th>z</th>      <th>P>|z|</th>  <th>[0.025</th>    <th>0.975]</th>  \n",
       "</tr>\n",
       "<tr>\n",
       "  <th>Intercept</th> <td>   10.1882</td> <td>    0.078</td> <td>  129.910</td> <td> 0.000</td> <td>   10.035</td> <td>   10.342</td>\n",
       "</tr>\n",
       "<tr>\n",
       "  <th>training</th>  <td>    0.1922</td> <td>    0.131</td> <td>    1.464</td> <td> 0.143</td> <td>   -0.065</td> <td>    0.450</td>\n",
       "</tr>\n",
       "</table>\n",
       "<table class=\"simpletable\">\n",
       "<tr>\n",
       "  <th>Omnibus:</th>       <td>81.926</td> <th>  Durbin-Watson:     </th> <td>   2.082</td>\n",
       "</tr>\n",
       "<tr>\n",
       "  <th>Prob(Omnibus):</th> <td> 0.000</td> <th>  Jarque-Bera (JB):  </th> <td> 149.631</td>\n",
       "</tr>\n",
       "<tr>\n",
       "  <th>Skew:</th>          <td>-0.710</td> <th>  Prob(JB):          </th> <td>3.22e-33</td>\n",
       "</tr>\n",
       "<tr>\n",
       "  <th>Kurtosis:</th>      <td> 4.719</td> <th>  Cond. No.          </th> <td>    2.46</td>\n",
       "</tr>\n",
       "</table><br/><br/>Warnings:<br/>[1] Standard Errors are heteroscedasticity robust (HC0)"
      ],
      "text/plain": [
       "<class 'statsmodels.iolib.summary.Summary'>\n",
       "\"\"\"\n",
       "                            OLS Regression Results                            \n",
       "==============================================================================\n",
       "Dep. Variable:               yrs_educ   R-squared:                       0.003\n",
       "Model:                            OLS   Adj. R-squared:                  0.002\n",
       "Method:                 Least Squares   F-statistic:                     2.144\n",
       "Date:                Wed, 10 Feb 2021   Prob (F-statistic):              0.144\n",
       "Time:                        16:28:41   Log-Likelihood:                -1408.0\n",
       "No. Observations:                 722   AIC:                             2820.\n",
       "Df Residuals:                     720   BIC:                             2829.\n",
       "Df Model:                           1                                         \n",
       "Covariance Type:                  HC0                                         \n",
       "==============================================================================\n",
       "                 coef    std err          z      P>|z|      [0.025      0.975]\n",
       "------------------------------------------------------------------------------\n",
       "Intercept     10.1882      0.078    129.910      0.000      10.035      10.342\n",
       "training       0.1922      0.131      1.464      0.143      -0.065       0.450\n",
       "==============================================================================\n",
       "Omnibus:                       81.926   Durbin-Watson:                   2.082\n",
       "Prob(Omnibus):                  0.000   Jarque-Bera (JB):              149.631\n",
       "Skew:                          -0.710   Prob(JB):                     3.22e-33\n",
       "Kurtosis:                       4.719   Cond. No.                         2.46\n",
       "==============================================================================\n",
       "\n",
       "Warnings:\n",
       "[1] Standard Errors are heteroscedasticity robust (HC0)\n",
       "\"\"\""
      ]
     },
     "execution_count": 86,
     "metadata": {},
     "output_type": "execute_result"
    }
   ],
   "source": [
    "education = smf.ols(formula = 'yrs_educ~training', data = df2)\n",
    "education = education.fit(cov_type = 'HC0')\n",
    "\n",
    "print('90% CI: ', education.conf_int(alpha = 0.1).loc['training'])\n",
    "\n",
    "education.summary()"
   ]
  },
  {
   "cell_type": "code",
   "execution_count": 87,
   "metadata": {
    "scrolled": true
   },
   "outputs": [
    {
     "name": "stdout",
     "output_type": "stream",
     "text": [
      "90% CI:  0   -9.252072\n",
      "1   -7.945878\n",
      "Name: training, dtype: float64\n"
     ]
    },
    {
     "data": {
      "text/html": [
       "<table class=\"simpletable\">\n",
       "<caption>OLS Regression Results</caption>\n",
       "<tr>\n",
       "  <th>Dep. Variable:</th>          <td>black</td>      <th>  R-squared:         </th> <td>   0.000</td>\n",
       "</tr>\n",
       "<tr>\n",
       "  <th>Model:</th>                   <td>OLS</td>       <th>  Adj. R-squared:    </th> <td>  -0.001</td>\n",
       "</tr>\n",
       "<tr>\n",
       "  <th>Method:</th>             <td>Least Squares</td>  <th>  F-statistic:       </th> <td>0.001988</td>\n",
       "</tr>\n",
       "<tr>\n",
       "  <th>Date:</th>             <td>Wed, 10 Feb 2021</td> <th>  Prob (F-statistic):</th>  <td> 0.964</td> \n",
       "</tr>\n",
       "<tr>\n",
       "  <th>Time:</th>                 <td>16:29:59</td>     <th>  Log-Likelihood:    </th> <td> -362.16</td>\n",
       "</tr>\n",
       "<tr>\n",
       "  <th>No. Observations:</th>      <td>   722</td>      <th>  AIC:               </th> <td>   728.3</td>\n",
       "</tr>\n",
       "<tr>\n",
       "  <th>Df Residuals:</th>          <td>   720</td>      <th>  BIC:               </th> <td>   737.5</td>\n",
       "</tr>\n",
       "<tr>\n",
       "  <th>Df Model:</th>              <td>     1</td>      <th>                     </th>     <td> </td>   \n",
       "</tr>\n",
       "<tr>\n",
       "  <th>Covariance Type:</th>         <td>HC0</td>       <th>                     </th>     <td> </td>   \n",
       "</tr>\n",
       "</table>\n",
       "<table class=\"simpletable\">\n",
       "<tr>\n",
       "      <td></td>         <th>coef</th>     <th>std err</th>      <th>z</th>      <th>P>|z|</th>  <th>[0.025</th>    <th>0.975]</th>  \n",
       "</tr>\n",
       "<tr>\n",
       "  <th>Intercept</th> <td>    0.8000</td> <td>    0.019</td> <td>   41.231</td> <td> 0.000</td> <td>    0.762</td> <td>    0.838</td>\n",
       "</tr>\n",
       "<tr>\n",
       "  <th>training</th>  <td>    0.0013</td> <td>    0.030</td> <td>    0.045</td> <td> 0.964</td> <td>   -0.058</td> <td>    0.061</td>\n",
       "</tr>\n",
       "</table>\n",
       "<table class=\"simpletable\">\n",
       "<tr>\n",
       "  <th>Omnibus:</th>       <td>157.587</td> <th>  Durbin-Watson:     </th> <td>   2.047</td>\n",
       "</tr>\n",
       "<tr>\n",
       "  <th>Prob(Omnibus):</th> <td> 0.000</td>  <th>  Jarque-Bera (JB):  </th> <td> 274.396</td>\n",
       "</tr>\n",
       "<tr>\n",
       "  <th>Skew:</th>          <td>-1.504</td>  <th>  Prob(JB):          </th> <td>2.60e-60</td>\n",
       "</tr>\n",
       "<tr>\n",
       "  <th>Kurtosis:</th>      <td> 3.263</td>  <th>  Cond. No.          </th> <td>    2.46</td>\n",
       "</tr>\n",
       "</table><br/><br/>Warnings:<br/>[1] Standard Errors are heteroscedasticity robust (HC0)"
      ],
      "text/plain": [
       "<class 'statsmodels.iolib.summary.Summary'>\n",
       "\"\"\"\n",
       "                            OLS Regression Results                            \n",
       "==============================================================================\n",
       "Dep. Variable:                  black   R-squared:                       0.000\n",
       "Model:                            OLS   Adj. R-squared:                 -0.001\n",
       "Method:                 Least Squares   F-statistic:                  0.001988\n",
       "Date:                Wed, 10 Feb 2021   Prob (F-statistic):              0.964\n",
       "Time:                        16:29:59   Log-Likelihood:                -362.16\n",
       "No. Observations:                 722   AIC:                             728.3\n",
       "Df Residuals:                     720   BIC:                             737.5\n",
       "Df Model:                           1                                         \n",
       "Covariance Type:                  HC0                                         \n",
       "==============================================================================\n",
       "                 coef    std err          z      P>|z|      [0.025      0.975]\n",
       "------------------------------------------------------------------------------\n",
       "Intercept      0.8000      0.019     41.231      0.000       0.762       0.838\n",
       "training       0.0013      0.030      0.045      0.964      -0.058       0.061\n",
       "==============================================================================\n",
       "Omnibus:                      157.587   Durbin-Watson:                   2.047\n",
       "Prob(Omnibus):                  0.000   Jarque-Bera (JB):              274.396\n",
       "Skew:                          -1.504   Prob(JB):                     2.60e-60\n",
       "Kurtosis:                       3.263   Cond. No.                         2.46\n",
       "==============================================================================\n",
       "\n",
       "Warnings:\n",
       "[1] Standard Errors are heteroscedasticity robust (HC0)\n",
       "\"\"\""
      ]
     },
     "execution_count": 87,
     "metadata": {},
     "output_type": "execute_result"
    }
   ],
   "source": [
    "black = smf.ols(formula = 'black ~training', data = df2)\n",
    "black = black.fit(cov_type = 'HC0')\n",
    "\n",
    "print('90% CI: ', age.conf_int(alpha = 0.1).loc['training'])\n",
    "\n",
    "black.summary()"
   ]
  },
  {
   "cell_type": "code",
   "execution_count": 88,
   "metadata": {
    "scrolled": true
   },
   "outputs": [
    {
     "name": "stdout",
     "output_type": "stream",
     "text": [
      "90% CI:  0   -0.05629\n",
      "1    0.01896\n",
      "Name: training, dtype: float64\n"
     ]
    },
    {
     "data": {
      "text/html": [
       "<table class=\"simpletable\">\n",
       "<caption>OLS Regression Results</caption>\n",
       "<tr>\n",
       "  <th>Dep. Variable:</th>        <td>hispanic</td>     <th>  R-squared:         </th> <td>   0.001</td>\n",
       "</tr>\n",
       "<tr>\n",
       "  <th>Model:</th>                   <td>OLS</td>       <th>  Adj. R-squared:    </th> <td>  -0.000</td>\n",
       "</tr>\n",
       "<tr>\n",
       "  <th>Method:</th>             <td>Least Squares</td>  <th>  F-statistic:       </th> <td>  0.6658</td>\n",
       "</tr>\n",
       "<tr>\n",
       "  <th>Date:</th>             <td>Wed, 10 Feb 2021</td> <th>  Prob (F-statistic):</th>  <td> 0.415</td> \n",
       "</tr>\n",
       "<tr>\n",
       "  <th>Time:</th>                 <td>16:30:35</td>     <th>  Log-Likelihood:    </th> <td> -171.28</td>\n",
       "</tr>\n",
       "<tr>\n",
       "  <th>No. Observations:</th>      <td>   722</td>      <th>  AIC:               </th> <td>   346.6</td>\n",
       "</tr>\n",
       "<tr>\n",
       "  <th>Df Residuals:</th>          <td>   720</td>      <th>  BIC:               </th> <td>   355.7</td>\n",
       "</tr>\n",
       "<tr>\n",
       "  <th>Df Model:</th>              <td>     1</td>      <th>                     </th>     <td> </td>   \n",
       "</tr>\n",
       "<tr>\n",
       "  <th>Covariance Type:</th>         <td>HC0</td>       <th>                     </th>     <td> </td>   \n",
       "</tr>\n",
       "</table>\n",
       "<table class=\"simpletable\">\n",
       "<tr>\n",
       "      <td></td>         <th>coef</th>     <th>std err</th>      <th>z</th>      <th>P>|z|</th>  <th>[0.025</th>    <th>0.975]</th>  \n",
       "</tr>\n",
       "<tr>\n",
       "  <th>Intercept</th> <td>    0.1129</td> <td>    0.015</td> <td>    7.356</td> <td> 0.000</td> <td>    0.083</td> <td>    0.143</td>\n",
       "</tr>\n",
       "<tr>\n",
       "  <th>training</th>  <td>   -0.0187</td> <td>    0.023</td> <td>   -0.816</td> <td> 0.415</td> <td>   -0.063</td> <td>    0.026</td>\n",
       "</tr>\n",
       "</table>\n",
       "<table class=\"simpletable\">\n",
       "<tr>\n",
       "  <th>Omnibus:</th>       <td>370.258</td> <th>  Durbin-Watson:     </th> <td>   2.000</td>\n",
       "</tr>\n",
       "<tr>\n",
       "  <th>Prob(Omnibus):</th> <td> 0.000</td>  <th>  Jarque-Bera (JB):  </th> <td>1433.283</td>\n",
       "</tr>\n",
       "<tr>\n",
       "  <th>Skew:</th>          <td> 2.569</td>  <th>  Prob(JB):          </th> <td>    0.00</td>\n",
       "</tr>\n",
       "<tr>\n",
       "  <th>Kurtosis:</th>      <td> 7.609</td>  <th>  Cond. No.          </th> <td>    2.46</td>\n",
       "</tr>\n",
       "</table><br/><br/>Warnings:<br/>[1] Standard Errors are heteroscedasticity robust (HC0)"
      ],
      "text/plain": [
       "<class 'statsmodels.iolib.summary.Summary'>\n",
       "\"\"\"\n",
       "                            OLS Regression Results                            \n",
       "==============================================================================\n",
       "Dep. Variable:               hispanic   R-squared:                       0.001\n",
       "Model:                            OLS   Adj. R-squared:                 -0.000\n",
       "Method:                 Least Squares   F-statistic:                    0.6658\n",
       "Date:                Wed, 10 Feb 2021   Prob (F-statistic):              0.415\n",
       "Time:                        16:30:35   Log-Likelihood:                -171.28\n",
       "No. Observations:                 722   AIC:                             346.6\n",
       "Df Residuals:                     720   BIC:                             355.7\n",
       "Df Model:                           1                                         \n",
       "Covariance Type:                  HC0                                         \n",
       "==============================================================================\n",
       "                 coef    std err          z      P>|z|      [0.025      0.975]\n",
       "------------------------------------------------------------------------------\n",
       "Intercept      0.1129      0.015      7.356      0.000       0.083       0.143\n",
       "training      -0.0187      0.023     -0.816      0.415      -0.063       0.026\n",
       "==============================================================================\n",
       "Omnibus:                      370.258   Durbin-Watson:                   2.000\n",
       "Prob(Omnibus):                  0.000   Jarque-Bera (JB):             1433.283\n",
       "Skew:                           2.569   Prob(JB):                         0.00\n",
       "Kurtosis:                       7.609   Cond. No.                         2.46\n",
       "==============================================================================\n",
       "\n",
       "Warnings:\n",
       "[1] Standard Errors are heteroscedasticity robust (HC0)\n",
       "\"\"\""
      ]
     },
     "execution_count": 88,
     "metadata": {},
     "output_type": "execute_result"
    }
   ],
   "source": [
    "hispanic = smf.ols(formula = 'hispanic ~training', data = df2)\n",
    "hispanic = hispanic.fit(cov_type = 'HC0')\n",
    "\n",
    "print('90% CI: ', hispanic.conf_int(alpha = 0.1).loc['training'])\n",
    "\n",
    "hispanic.summary()"
   ]
  },
  {
   "cell_type": "code",
   "execution_count": 89,
   "metadata": {
    "scrolled": true
   },
   "outputs": [
    {
     "name": "stdout",
     "output_type": "stream",
     "text": [
      "90% CI:  0   -0.035349\n",
      "1    0.056755\n",
      "Name: training, dtype: float64\n"
     ]
    },
    {
     "data": {
      "text/html": [
       "<table class=\"simpletable\">\n",
       "<caption>OLS Regression Results</caption>\n",
       "<tr>\n",
       "  <th>Dep. Variable:</th>         <td>married</td>     <th>  R-squared:         </th> <td>   0.000</td>\n",
       "</tr>\n",
       "<tr>\n",
       "  <th>Model:</th>                   <td>OLS</td>       <th>  Adj. R-squared:    </th> <td>  -0.001</td>\n",
       "</tr>\n",
       "<tr>\n",
       "  <th>Method:</th>             <td>Least Squares</td>  <th>  F-statistic:       </th> <td>  0.1461</td>\n",
       "</tr>\n",
       "<tr>\n",
       "  <th>Date:</th>             <td>Wed, 10 Feb 2021</td> <th>  Prob (F-statistic):</th>  <td> 0.702</td> \n",
       "</tr>\n",
       "<tr>\n",
       "  <th>Time:</th>                 <td>16:31:01</td>     <th>  Log-Likelihood:    </th> <td> -303.61</td>\n",
       "</tr>\n",
       "<tr>\n",
       "  <th>No. Observations:</th>      <td>   722</td>      <th>  AIC:               </th> <td>   611.2</td>\n",
       "</tr>\n",
       "<tr>\n",
       "  <th>Df Residuals:</th>          <td>   720</td>      <th>  BIC:               </th> <td>   620.4</td>\n",
       "</tr>\n",
       "<tr>\n",
       "  <th>Df Model:</th>              <td>     1</td>      <th>                     </th>     <td> </td>   \n",
       "</tr>\n",
       "<tr>\n",
       "  <th>Covariance Type:</th>         <td>HC0</td>       <th>                     </th>     <td> </td>   \n",
       "</tr>\n",
       "</table>\n",
       "<table class=\"simpletable\">\n",
       "<tr>\n",
       "      <td></td>         <th>coef</th>     <th>std err</th>      <th>z</th>      <th>P>|z|</th>  <th>[0.025</th>    <th>0.975]</th>  \n",
       "</tr>\n",
       "<tr>\n",
       "  <th>Intercept</th> <td>    0.1576</td> <td>    0.018</td> <td>    8.918</td> <td> 0.000</td> <td>    0.123</td> <td>    0.192</td>\n",
       "</tr>\n",
       "<tr>\n",
       "  <th>training</th>  <td>    0.0107</td> <td>    0.028</td> <td>    0.382</td> <td> 0.702</td> <td>   -0.044</td> <td>    0.066</td>\n",
       "</tr>\n",
       "</table>\n",
       "<table class=\"simpletable\">\n",
       "<tr>\n",
       "  <th>Omnibus:</th>       <td>222.219</td> <th>  Durbin-Watson:     </th> <td>   1.991</td> \n",
       "</tr>\n",
       "<tr>\n",
       "  <th>Prob(Omnibus):</th> <td> 0.000</td>  <th>  Jarque-Bera (JB):  </th> <td> 460.546</td> \n",
       "</tr>\n",
       "<tr>\n",
       "  <th>Skew:</th>          <td> 1.834</td>  <th>  Prob(JB):          </th> <td>9.86e-101</td>\n",
       "</tr>\n",
       "<tr>\n",
       "  <th>Kurtosis:</th>      <td> 4.364</td>  <th>  Cond. No.          </th> <td>    2.46</td> \n",
       "</tr>\n",
       "</table><br/><br/>Warnings:<br/>[1] Standard Errors are heteroscedasticity robust (HC0)"
      ],
      "text/plain": [
       "<class 'statsmodels.iolib.summary.Summary'>\n",
       "\"\"\"\n",
       "                            OLS Regression Results                            \n",
       "==============================================================================\n",
       "Dep. Variable:                married   R-squared:                       0.000\n",
       "Model:                            OLS   Adj. R-squared:                 -0.001\n",
       "Method:                 Least Squares   F-statistic:                    0.1461\n",
       "Date:                Wed, 10 Feb 2021   Prob (F-statistic):              0.702\n",
       "Time:                        16:31:01   Log-Likelihood:                -303.61\n",
       "No. Observations:                 722   AIC:                             611.2\n",
       "Df Residuals:                     720   BIC:                             620.4\n",
       "Df Model:                           1                                         \n",
       "Covariance Type:                  HC0                                         \n",
       "==============================================================================\n",
       "                 coef    std err          z      P>|z|      [0.025      0.975]\n",
       "------------------------------------------------------------------------------\n",
       "Intercept      0.1576      0.018      8.918      0.000       0.123       0.192\n",
       "training       0.0107      0.028      0.382      0.702      -0.044       0.066\n",
       "==============================================================================\n",
       "Omnibus:                      222.219   Durbin-Watson:                   1.991\n",
       "Prob(Omnibus):                  0.000   Jarque-Bera (JB):              460.546\n",
       "Skew:                           1.834   Prob(JB):                    9.86e-101\n",
       "Kurtosis:                       4.364   Cond. No.                         2.46\n",
       "==============================================================================\n",
       "\n",
       "Warnings:\n",
       "[1] Standard Errors are heteroscedasticity robust (HC0)\n",
       "\"\"\""
      ]
     },
     "execution_count": 89,
     "metadata": {},
     "output_type": "execute_result"
    }
   ],
   "source": [
    "married = smf.ols(formula = 'married ~training', data = df2)\n",
    "married = married.fit(cov_type = 'HC0')\n",
    "\n",
    "print('90% CI: ', married.conf_int(alpha = 0.1).loc['training'])\n",
    "\n",
    "married.summary()"
   ]
  },
  {
   "cell_type": "code",
   "execution_count": 91,
   "metadata": {
    "scrolled": true
   },
   "outputs": [
    {
     "name": "stdout",
     "output_type": "stream",
     "text": [
      "90% CI:  0   -0.135977\n",
      "1   -0.030979\n",
      "Name: training, dtype: float64\n"
     ]
    },
    {
     "data": {
      "text/html": [
       "<table class=\"simpletable\">\n",
       "<caption>OLS Regression Results</caption>\n",
       "<tr>\n",
       "  <th>Dep. Variable:</th>        <td>nodegree</td>     <th>  R-squared:         </th> <td>   0.010</td>\n",
       "</tr>\n",
       "<tr>\n",
       "  <th>Model:</th>                   <td>OLS</td>       <th>  Adj. R-squared:    </th> <td>   0.008</td>\n",
       "</tr>\n",
       "<tr>\n",
       "  <th>Method:</th>             <td>Least Squares</td>  <th>  F-statistic:       </th> <td>   6.841</td>\n",
       "</tr>\n",
       "<tr>\n",
       "  <th>Date:</th>             <td>Wed, 10 Feb 2021</td> <th>  Prob (F-statistic):</th>  <td>0.00910</td>\n",
       "</tr>\n",
       "<tr>\n",
       "  <th>Time:</th>                 <td>16:31:40</td>     <th>  Log-Likelihood:    </th> <td> -384.88</td>\n",
       "</tr>\n",
       "<tr>\n",
       "  <th>No. Observations:</th>      <td>   722</td>      <th>  AIC:               </th> <td>   773.8</td>\n",
       "</tr>\n",
       "<tr>\n",
       "  <th>Df Residuals:</th>          <td>   720</td>      <th>  BIC:               </th> <td>   782.9</td>\n",
       "</tr>\n",
       "<tr>\n",
       "  <th>Df Model:</th>              <td>     1</td>      <th>                     </th>     <td> </td>   \n",
       "</tr>\n",
       "<tr>\n",
       "  <th>Covariance Type:</th>         <td>HC0</td>       <th>                     </th>     <td> </td>   \n",
       "</tr>\n",
       "</table>\n",
       "<table class=\"simpletable\">\n",
       "<tr>\n",
       "      <td></td>         <th>coef</th>     <th>std err</th>      <th>z</th>      <th>P>|z|</th>  <th>[0.025</th>    <th>0.975]</th>  \n",
       "</tr>\n",
       "<tr>\n",
       "  <th>Intercept</th> <td>    0.8141</td> <td>    0.019</td> <td>   43.144</td> <td> 0.000</td> <td>    0.777</td> <td>    0.851</td>\n",
       "</tr>\n",
       "<tr>\n",
       "  <th>training</th>  <td>   -0.0835</td> <td>    0.032</td> <td>   -2.615</td> <td> 0.009</td> <td>   -0.146</td> <td>   -0.021</td>\n",
       "</tr>\n",
       "</table>\n",
       "<table class=\"simpletable\">\n",
       "<tr>\n",
       "  <th>Omnibus:</th>       <td>133.057</td> <th>  Durbin-Watson:     </th> <td>   2.059</td>\n",
       "</tr>\n",
       "<tr>\n",
       "  <th>Prob(Omnibus):</th> <td> 0.000</td>  <th>  Jarque-Bera (JB):  </th> <td> 213.979</td>\n",
       "</tr>\n",
       "<tr>\n",
       "  <th>Skew:</th>          <td>-1.331</td>  <th>  Prob(JB):          </th> <td>3.43e-47</td>\n",
       "</tr>\n",
       "<tr>\n",
       "  <th>Kurtosis:</th>      <td> 2.829</td>  <th>  Cond. No.          </th> <td>    2.46</td>\n",
       "</tr>\n",
       "</table><br/><br/>Warnings:<br/>[1] Standard Errors are heteroscedasticity robust (HC0)"
      ],
      "text/plain": [
       "<class 'statsmodels.iolib.summary.Summary'>\n",
       "\"\"\"\n",
       "                            OLS Regression Results                            \n",
       "==============================================================================\n",
       "Dep. Variable:               nodegree   R-squared:                       0.010\n",
       "Model:                            OLS   Adj. R-squared:                  0.008\n",
       "Method:                 Least Squares   F-statistic:                     6.841\n",
       "Date:                Wed, 10 Feb 2021   Prob (F-statistic):            0.00910\n",
       "Time:                        16:31:40   Log-Likelihood:                -384.88\n",
       "No. Observations:                 722   AIC:                             773.8\n",
       "Df Residuals:                     720   BIC:                             782.9\n",
       "Df Model:                           1                                         \n",
       "Covariance Type:                  HC0                                         \n",
       "==============================================================================\n",
       "                 coef    std err          z      P>|z|      [0.025      0.975]\n",
       "------------------------------------------------------------------------------\n",
       "Intercept      0.8141      0.019     43.144      0.000       0.777       0.851\n",
       "training      -0.0835      0.032     -2.615      0.009      -0.146      -0.021\n",
       "==============================================================================\n",
       "Omnibus:                      133.057   Durbin-Watson:                   2.059\n",
       "Prob(Omnibus):                  0.000   Jarque-Bera (JB):              213.979\n",
       "Skew:                          -1.331   Prob(JB):                     3.43e-47\n",
       "Kurtosis:                       2.829   Cond. No.                         2.46\n",
       "==============================================================================\n",
       "\n",
       "Warnings:\n",
       "[1] Standard Errors are heteroscedasticity robust (HC0)\n",
       "\"\"\""
      ]
     },
     "execution_count": 91,
     "metadata": {},
     "output_type": "execute_result"
    }
   ],
   "source": [
    "nodegree = smf.ols(formula = 'nodegree ~training', data = df2)\n",
    "nodegree = nodegree.fit(cov_type = 'HC0')\n",
    "\n",
    "print('90% CI: ', nodegree.conf_int(alpha = 0.1).loc['training'])\n",
    "\n",
    "nodegree.summary()"
   ]
  },
  {
   "cell_type": "markdown",
   "metadata": {},
   "source": [
    "*f) Fit model*"
   ]
  },
  {
   "cell_type": "code",
   "execution_count": 62,
   "metadata": {
    "scrolled": true
   },
   "outputs": [
    {
     "name": "stdout",
     "output_type": "stream",
     "text": [
      "0      84.500139\n",
      "1    1688.107322\n",
      "Name: training, dtype: float64\n"
     ]
    },
    {
     "data": {
      "text/html": [
       "<table class=\"simpletable\">\n",
       "<caption>OLS Regression Results</caption>\n",
       "<tr>\n",
       "  <th>Dep. Variable:</th>      <td>earnings1978</td>   <th>  R-squared:         </th> <td>   0.005</td> \n",
       "</tr>\n",
       "<tr>\n",
       "  <th>Model:</th>                   <td>OLS</td>       <th>  Adj. R-squared:    </th> <td>   0.003</td> \n",
       "</tr>\n",
       "<tr>\n",
       "  <th>Method:</th>             <td>Least Squares</td>  <th>  F-statistic:       </th> <td>   3.306</td> \n",
       "</tr>\n",
       "<tr>\n",
       "  <th>Date:</th>             <td>Wed, 10 Feb 2021</td> <th>  Prob (F-statistic):</th>  <td>0.0694</td>  \n",
       "</tr>\n",
       "<tr>\n",
       "  <th>Time:</th>                 <td>15:04:06</td>     <th>  Log-Likelihood:    </th> <td> -7333.1</td> \n",
       "</tr>\n",
       "<tr>\n",
       "  <th>No. Observations:</th>      <td>   722</td>      <th>  AIC:               </th> <td>1.467e+04</td>\n",
       "</tr>\n",
       "<tr>\n",
       "  <th>Df Residuals:</th>          <td>   720</td>      <th>  BIC:               </th> <td>1.468e+04</td>\n",
       "</tr>\n",
       "<tr>\n",
       "  <th>Df Model:</th>              <td>     1</td>      <th>                     </th>     <td> </td>    \n",
       "</tr>\n",
       "<tr>\n",
       "  <th>Covariance Type:</th>         <td>HC0</td>       <th>                     </th>     <td> </td>    \n",
       "</tr>\n",
       "</table>\n",
       "<table class=\"simpletable\">\n",
       "<tr>\n",
       "      <td></td>         <th>coef</th>     <th>std err</th>      <th>z</th>      <th>P>|z|</th>  <th>[0.025</th>    <th>0.975]</th>  \n",
       "</tr>\n",
       "<tr>\n",
       "  <th>Intercept</th> <td> 5090.0483</td> <td>  277.042</td> <td>   18.373</td> <td> 0.000</td> <td> 4547.057</td> <td> 5633.040</td>\n",
       "</tr>\n",
       "<tr>\n",
       "  <th>training</th>  <td>  886.3037</td> <td>  487.462</td> <td>    1.818</td> <td> 0.069</td> <td>  -69.104</td> <td> 1841.712</td>\n",
       "</tr>\n",
       "</table>\n",
       "<table class=\"simpletable\">\n",
       "<tr>\n",
       "  <th>Omnibus:</th>       <td>384.449</td> <th>  Durbin-Watson:     </th> <td>   2.163</td>\n",
       "</tr>\n",
       "<tr>\n",
       "  <th>Prob(Omnibus):</th> <td> 0.000</td>  <th>  Jarque-Bera (JB):  </th> <td>3767.287</td>\n",
       "</tr>\n",
       "<tr>\n",
       "  <th>Skew:</th>          <td> 2.195</td>  <th>  Prob(JB):          </th> <td>    0.00</td>\n",
       "</tr>\n",
       "<tr>\n",
       "  <th>Kurtosis:</th>      <td>13.294</td>  <th>  Cond. No.          </th> <td>    2.46</td>\n",
       "</tr>\n",
       "</table><br/><br/>Warnings:<br/>[1] Standard Errors are heteroscedasticity robust (HC0)"
      ],
      "text/plain": [
       "<class 'statsmodels.iolib.summary.Summary'>\n",
       "\"\"\"\n",
       "                            OLS Regression Results                            \n",
       "==============================================================================\n",
       "Dep. Variable:           earnings1978   R-squared:                       0.005\n",
       "Model:                            OLS   Adj. R-squared:                  0.003\n",
       "Method:                 Least Squares   F-statistic:                     3.306\n",
       "Date:                Wed, 10 Feb 2021   Prob (F-statistic):             0.0694\n",
       "Time:                        15:04:06   Log-Likelihood:                -7333.1\n",
       "No. Observations:                 722   AIC:                         1.467e+04\n",
       "Df Residuals:                     720   BIC:                         1.468e+04\n",
       "Df Model:                           1                                         \n",
       "Covariance Type:                  HC0                                         \n",
       "==============================================================================\n",
       "                 coef    std err          z      P>|z|      [0.025      0.975]\n",
       "------------------------------------------------------------------------------\n",
       "Intercept   5090.0483    277.042     18.373      0.000    4547.057    5633.040\n",
       "training     886.3037    487.462      1.818      0.069     -69.104    1841.712\n",
       "==============================================================================\n",
       "Omnibus:                      384.449   Durbin-Watson:                   2.163\n",
       "Prob(Omnibus):                  0.000   Jarque-Bera (JB):             3767.287\n",
       "Skew:                           2.195   Prob(JB):                         0.00\n",
       "Kurtosis:                      13.294   Cond. No.                         2.46\n",
       "==============================================================================\n",
       "\n",
       "Warnings:\n",
       "[1] Standard Errors are heteroscedasticity robust (HC0)\n",
       "\"\"\""
      ]
     },
     "execution_count": 62,
     "metadata": {},
     "output_type": "execute_result"
    }
   ],
   "source": [
    "#fit model\n",
    "model4 = smf.ols(formula = 'earnings1978 ~training', data = df2)\n",
    "results4 = model4.fit(cov_type = 'HC0')\n",
    "\n",
    "#Print confidence intervals\n",
    "print(results4.conf_int(alpha = 0.1).loc['training'])\n",
    "results4.summary()"
   ]
  },
  {
   "cell_type": "markdown",
   "metadata": {},
   "source": [
    "*f) continued and g)*\n",
    "\n",
    "Comparing the two datasets, it seems like the second dataset shows that the training worked if we are satisfied with a 90% confidence level. The covariates of this dataset are balanced (so we can assume that the random assignment was effective) and there seems to be a positive effect of the training on the person's earnings at the 90% confidence level, an effect that does not hold at a 95% confidence level. This result varies a lot from the results from the first dataset, because of the selection bias in the first. Any effect observed was probably because of the characteristics of the different groups, and not because of the treatment. Because of the selection bias, we were trying to compare apples to oranges, while in the second data set, we were closer to comparing apples to apples. "
   ]
  },
  {
   "cell_type": "markdown",
   "metadata": {},
   "source": [
    "## Question 2"
   ]
  },
  {
   "cell_type": "markdown",
   "metadata": {},
   "source": [
    "a) It is a question of causal inference because we care about the effect of Greta Thunberg on our outcome variable. We are thus interested in both our beta as well as our Y. \n",
    "\n",
    "\n",
    "b) The authors claim that this is about prediction, but if this was the case, we would only care about predicting the outcome, and not the specific effect of a certain treatment on the outcome. \n",
    "\n",
    "\n",
    "c) We think Clinton rushed her conclusion a bit, since there is probably some selection bias at play here. Having a high familiarity with Greta Thunberg is probably not random, so this effect could also be clouded by other factors that are not taken into account by the researchers.\n",
    "\n",
    "\n",
    "d) As mentioned above, there are probably more factors involved in why you are familiar with Greta Thunberg than those that are included in the study, so the supposed effect of Greta on climate action might actually be because of something else. \n"
   ]
  },
  {
   "cell_type": "code",
   "execution_count": null,
   "metadata": {},
   "outputs": [],
   "source": []
  }
 ],
 "metadata": {
  "kernelspec": {
   "display_name": "Python 3",
   "language": "python",
   "name": "python3"
  },
  "language_info": {
   "codemirror_mode": {
    "name": "ipython",
    "version": 3
   },
   "file_extension": ".py",
   "mimetype": "text/x-python",
   "name": "python",
   "nbconvert_exporter": "python",
   "pygments_lexer": "ipython3",
   "version": "3.7.9"
  }
 },
 "nbformat": 4,
 "nbformat_minor": 4
}
