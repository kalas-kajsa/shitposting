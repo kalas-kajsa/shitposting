{
 "cells": [
  {
   "cell_type": "code",
   "execution_count": null,
   "metadata": {
    "id": "LAdqL4oUfsWm"
   },
   "outputs": [],
   "source": [
    "import numpy as np\n",
    "import tensorflow.keras as nn # we are calling keras nn now\n",
    "import matplotlib.pyplot as plt\n",
    "import time\n",
    "import pandas as pd\n",
    "def legend_out(): # Helper function for putting legend outside the plot\n",
    "  plt.legend(bbox_to_anchor=(1.05, 1), loc='upper left')\n",
    "from tensorflow.keras.backend import clear_session\n",
    "\n",
    "def plot_history(history): ## Helper function for plotting validation and training loss\n",
    "  loss = history.history['loss']  \n",
    "  val_loss = history.history['val_loss']  \n",
    "  plt.plot(loss,label='training loss')\n",
    "  plt.plot(val_loss,label='validation loss')\n",
    "  legend_out()"
   ]
  },
  {
   "cell_type": "markdown",
   "metadata": {
    "id": "lcT5C1qCk-OJ"
   },
   "source": [
    "### Multi-class prediction\n",
    "When setting up the training neural nets you need to decide a loss function. In the most standard cases (regression, binary classification, multiclass, and multilabel classification), but keras can naturally extended for multitask learning with multiple combined losses.\n",
    "\n",
    "| Task       | Regression | Binary Classification | Multiclass classification  | Multilabel classificcation |\n",
    "|------------|------------|-----------------------|----------------------------|----------------------------|\n",
    "| Keras Loss | 'mse'      | 'binary crossentropy' | 'categorical crossentropy' | 'binary crossentropy'      |\n",
    "\n",
    "\n",
    "In the previous exercise set you classified mnist digits 0 and 8. \n",
    "Now we use all of the MNIST data (i.e. all numbers from 0-9) in our classification. In the following, you should use the functional API. \n",
    "\n",
    "We have prepared the data for you below. Notice how the labels are transformed using Keras' `to_categorical` function. This tranformation is also called one-hot encoding. When predicting labels in the multiclass setting, we will predict a probability for each of the 10 labels rather than preciting a single value between 0 and 8 as we did in the binary (2-class) case. If you wanted, you could also have represented the binary labels as categorical labels earlier."
   ]
  },
  {
   "cell_type": "code",
   "execution_count": null,
   "metadata": {
    "colab": {
     "base_uri": "https://localhost:8080/"
    },
    "id": "PEXsiT2ok9Yz",
    "outputId": "28ba3616-4a97-4cdf-b072-2935a4831f38"
   },
   "outputs": [
    {
     "name": "stdout",
     "output_type": "stream",
     "text": [
      "Downloading data from https://storage.googleapis.com/tensorflow/tf-keras-datasets/mnist.npz\n",
      "11493376/11490434 [==============================] - 0s 0us/step\n",
      "First 10 labels BEFORE making them explicitly categorical: \n",
      " [5 0 4 1 9]\n",
      "First 10 labels AFTER making them explicitly categorical: \n",
      " [[0. 0. 0. 0. 0. 1. 0. 0. 0. 0.]\n",
      " [1. 0. 0. 0. 0. 0. 0. 0. 0. 0.]\n",
      " [0. 0. 0. 0. 1. 0. 0. 0. 0. 0.]\n",
      " [0. 1. 0. 0. 0. 0. 0. 0. 0. 0.]\n",
      " [0. 0. 0. 0. 0. 0. 0. 0. 0. 1.]]\n"
     ]
    }
   ],
   "source": [
    "# Prepare data\n",
    "\n",
    "(x_train, y_train), (x_test, y_test) = nn.datasets.mnist.load_data()\n",
    "# Scale images to the [0, 1] range\n",
    "x_train = x_train.astype(\"float32\") / 255\n",
    "x_test = x_test.astype(\"float32\") / 255\n",
    "\n",
    "x_train_multi = x_train.reshape((-1, 784)) # flattening the matrices in X and otherwise using all the original data\n",
    "x_test_multi = x_test.reshape((-1, 784))\n",
    "\n",
    "y_train_multi =  nn.utils.to_categorical(y_train , num_classes=10)\n",
    "y_test_multi = nn.utils.to_categorical(y_test , num_classes=10)\n",
    "print(\"First 10 labels BEFORE making them explicitly categorical: \\n\",y_train[:5])\n",
    "print(\"First 10 labels AFTER making them explicitly categorical: \\n\",y_train_multi[:5])"
   ]
  },
  {
   "cell_type": "markdown",
   "metadata": {
    "id": "7teBKVMmojMr"
   },
   "source": [
    "**3.1**: Make a function that trains and evaluates a model. We have made a skeleton for you below in which you should fill in the blanks by following these steps:\n",
    "- We want the function to work for data with multiple classes and therefore we can neither use the loss function \"binary cross-entropy\" nor the evaluation metric \"binary_accuracy\" in `compile` as we have done previously. Search the Keras documentation (https://keras.io/guides/) to find the *categorical* counterpart to the cross-entropy loss function and the accuracy metric. You can add more evaluation metrics if you find something in the documentation you think could be useful. If you use more than one metric, pass them to the argument in a list, i.e. `metrics=[\"metric1\", \"metric2\"]`.\n",
    "\n",
    "- We want to be able to change the learning rate (a parameter for the `optimizer`) instead of using the default value. Define you optimizer outside of `compile` to be able to explicitly set the learning rate, in the same way as they do in the very top example of this page: https://keras.io/api/optimizers/. So far we have used the SGD optimizer. You can use this again or you can use any of the other seven optimizers currently available in Keras.\n",
    "\n",
    "- Instead of giving validation data to `fit`, use the parameter validation_split and set it such that 50% of the training data is used for validation. Also in `fit`, define the parameters `epochs` and `batch_size` such that you can change the value when calling your `train_test` function.\n",
    "\n",
    "- Your function should make a plot of loss and validation accuracy over the chosen number of epochs. Lastly, it should also return the predictions over X_test_multi.\n",
    "\n"
   ]
  },
  {
   "cell_type": "code",
   "execution_count": null,
   "metadata": {
    "id": "qqyssIyZoibL"
   },
   "outputs": [],
   "source": [
    "def train_test(modelname, lr=0.001, epochs=10, batch_size=64):\n",
    "    model = modelname\n",
    "\n",
    "    #define optimizer with learning_rate=lr\n",
    "    opt = ...\n",
    "\n",
    "    # compile\n",
    "    model.compile(...)\n",
    "    \n",
    "    # fit\n",
    "    history = ...\n",
    "\n",
    "    # predict\n",
    "    ...\n",
    "\n",
    "    # evaluate\n",
    "    loss_and_eval_scores = ...\n",
    "\n",
    "    # plot loss and validation accuracy\n",
    "    ...\n",
    "\n",
    "\n",
    "    return predictions, loss_and_eval_scores"
   ]
  },
  {
   "cell_type": "markdown",
   "metadata": {
    "id": "fvXMpt9wowRr"
   },
   "source": [
    "**3.2**: Now you just need to define a simple model to use in your train_test function. You can copy paste one of the earlier models or write a new one, but there are at least two things you need to change from the earlier models: \n",
    "- 1. Your activation function: The Sigmoid activation function that we used before outputs one value between between 0 and 1 for each image, however, what we want now is a value (a probability) for each of the 10 possible classes such that the class with the highest probability is the one we will say the image belongs to. The `Softmax` activation function does this for us. \n",
    "- 2. The number of units in the last layer (the output layer): The number of output units should match the number of classes of which we want a probability for.\n",
    "\n",
    "(For an overview of how activation functions and loss functions fit together, see https://www.dlology.com/blog/how-to-choose-last-layer-activation-and-loss-function/ and if you want to know a bit more about the usage of Sigmoid and Softmax in particular, you can go here: https://glassboxmedicine.com/2019/05/26/classification-sigmoid-vs-softmax/)"
   ]
  },
  {
   "cell_type": "code",
   "execution_count": null,
   "metadata": {
    "colab": {
     "base_uri": "https://localhost:8080/",
     "height": 366
    },
    "id": "HdQWbUBXpf6S",
    "outputId": "4edabea6-f01c-4866-93a8-d8adb7779429"
   },
   "outputs": [
    {
     "name": "stdout",
     "output_type": "stream",
     "text": [
      "  % Total    % Received % Xferd  Average Speed   Time    Time     Time  Current\n",
      "                                 Dload  Upload   Total   Spent    Left  Speed\n",
      "100  6961    0  6961    0     0  16773      0 --:--:-- --:--:-- --:--:-- 16773\n"
     ]
    },
    {
     "data": {
      "text/html": [
       "<div>\n",
       "<style scoped>\n",
       "    .dataframe tbody tr th:only-of-type {\n",
       "        vertical-align: middle;\n",
       "    }\n",
       "\n",
       "    .dataframe tbody tr th {\n",
       "        vertical-align: top;\n",
       "    }\n",
       "\n",
       "    .dataframe thead th {\n",
       "        text-align: right;\n",
       "    }\n",
       "</style>\n",
       "<table border=\"1\" class=\"dataframe\">\n",
       "  <thead>\n",
       "    <tr style=\"text-align: right;\">\n",
       "      <th></th>\n",
       "      <th>Problem type</th>\n",
       "      <th>Last-layer activation</th>\n",
       "      <th>Loss function</th>\n",
       "      <th>Example</th>\n",
       "    </tr>\n",
       "  </thead>\n",
       "  <tbody>\n",
       "    <tr>\n",
       "      <th>0</th>\n",
       "      <td>Binary classification</td>\n",
       "      <td>sigmoid</td>\n",
       "      <td>binary_crossentropy</td>\n",
       "      <td>Dog vs cat, Sentiemnt analysis(pos/neg)</td>\n",
       "    </tr>\n",
       "    <tr>\n",
       "      <th>1</th>\n",
       "      <td>Multi-class, single-label classification</td>\n",
       "      <td>softmax</td>\n",
       "      <td>categorical_crossentropy</td>\n",
       "      <td>MNIST has 10 classes single label (one predict...</td>\n",
       "    </tr>\n",
       "    <tr>\n",
       "      <th>2</th>\n",
       "      <td>Multi-class, multi-label classification</td>\n",
       "      <td>sigmoid</td>\n",
       "      <td>binary_crossentropy</td>\n",
       "      <td>News tags classification, one blog can have mu...</td>\n",
       "    </tr>\n",
       "    <tr>\n",
       "      <th>3</th>\n",
       "      <td>Regression to arbitrary values</td>\n",
       "      <td>None</td>\n",
       "      <td>mse</td>\n",
       "      <td>Predict house price(an integer/float point)</td>\n",
       "    </tr>\n",
       "    <tr>\n",
       "      <th>4</th>\n",
       "      <td>Regression to values between 0 and 1</td>\n",
       "      <td>sigmoid</td>\n",
       "      <td>mse or binary_crossentropy</td>\n",
       "      <td>Engine health assessment where 0 is broken, 1 ...</td>\n",
       "    </tr>\n",
       "  </tbody>\n",
       "</table>\n",
       "</div>"
      ],
      "text/plain": [
       "                               Problem type  ...                                            Example\n",
       "0                     Binary classification  ...            Dog vs cat, Sentiemnt analysis(pos/neg)\n",
       "1  Multi-class, single-label classification  ...  MNIST has 10 classes single label (one predict...\n",
       "2   Multi-class, multi-label classification  ...  News tags classification, one blog can have mu...\n",
       "3            Regression to arbitrary values  ...        Predict house price(an integer/float point)\n",
       "4      Regression to values between 0 and 1  ...  Engine health assessment where 0 is broken, 1 ...\n",
       "\n",
       "[5 rows x 4 columns]"
      ]
     },
     "execution_count": 52,
     "metadata": {
      "tags": []
     },
     "output_type": "execute_result"
    }
   ],
   "source": [
    "! curl 'https://www.dlology.com/blog/how-to-choose-last-layer-activation-and-loss-function/' -H 'User-Agent: Mozilla/5.0 (Windows NT 10.0; Win64; x64; rv:88.0) Gecko/20100101 Firefox/88.0' -H 'Accept: text/html,application/xhtml+xml,application/xml;q=0.9,image/webp,*/*;q=0.8' -H 'Accept-Language: da,en-US;q=0.7,en;q=0.3' --compressed -H 'Referer: https://colab.research.google.com/' -H 'Connection: keep-alive' -H 'Cookie: csrftoken=96Sv2AfPZUjxM1WBabBGjtULiUxTsjW94kCNEz17NHUcPuh2jzl1RG71fJH60Soh; _ga=GA1.2.935524512.1620756879; _gid=GA1.2.1006464316.1620756879' -H 'Upgrade-Insecure-Requests: 1' -H 'Cache-Control: max-age=0' -H 'TE: Trailers' > loss.html\n",
    "import pandas as pd\n",
    "pd.read_html('loss.html')[0]"
   ]
  },
  {
   "cell_type": "code",
   "execution_count": null,
   "metadata": {
    "id": "GBErb0rOpIZ9"
   },
   "outputs": [],
   "source": [
    "# your code here"
   ]
  },
  {
   "cell_type": "markdown",
   "metadata": {
    "id": "t2kfMEfDkmj0"
   },
   "source": [
    "# Fitting neural nets \n",
    "This exercise set focus on building good practices around fitting neural networks, this includes using efficient optimizers, monitoring training, adjusting learning rates and batch sizes appropriatly.\n",
    "\n",
    "In standard crossvalidation, we often only split our data into *test* and *train*. However a critical component in neural nets is a third split, into the **validation** data, that is used as a sanity check through out training. \n",
    "\n",
    "Monitoring the performance as the network is trained, allows you to adjust learning strategies, avoid training data overfitting (Early stopping), as well as ensuring that the model is not underfitting. We shall incorporate callbacks and plotting of training logs into our deep learning practice. "
   ]
  },
  {
   "cell_type": "markdown",
   "metadata": {
    "id": "YSQK-_-wkyaf"
   },
   "source": [
    "## Efficient training of neural nets\n",
    "As with any machine learning problem, but in particular with Deep Learning, models should not be evaluated without careful hyperparameter tuning. In deep learning the hyperparameters are many in relation to optimization.\n",
    "\n",
    "In this exercise we shall test out a few strategies for optimization. We shall look for tradeoff between performance and training time. \n",
    "\n",
    "- Testing different variations over gradient descent optimizers.\n",
    "\n",
    "\n",
    "#Exercise: Testing parameters\n",
    "NB: THIS IS NOT A SCIENTIFIC SIMULATION DESIGN\n",
    "- Use the three simulated datasets and perform a search for the best hyperparameters.\n",
    "-  First how many neurons? Test ranges between 1-20.\n",
    "\n",
    "- What optimizer is fastest? \n",
    "  - Use the best parameter for each dataset and test the optimizers.\n",
    "  - Optimizers can be found within the keras.optimizers submodule, and are set during compilation of the model. ```model.compile(optimizer=keras.optimizers.Adam()```)\n",
    "\n",
    "\n"
   ]
  },
  {
   "cell_type": "code",
   "execution_count": null,
   "metadata": {
    "colab": {
     "base_uri": "https://localhost:8080/",
     "height": 320
    },
    "id": "6U894k2hqeTK",
    "outputId": "4e98bee4-b23b-411c-fdc0-f2112a3482e2"
   },
   "outputs": [
    {
     "name": "stderr",
     "output_type": "stream",
     "text": [
      "/usr/local/lib/python3.7/dist-packages/ipykernel_launcher.py:38: DeprecationWarning: scipy.sin is deprecated and will be removed in SciPy 2.0.0, use numpy.sin instead\n"
     ]
    },
    {
     "data": {
      "image/png": "[encoded data removed]",
      "text/plain": [
       "<Figure size 864x288 with 3 Axes>"
      ]
     },
     "metadata": {
      "needs_background": "light",
      "tags": []
     },
     "output_type": "display_data"
    }
   ],
   "source": [
    "\n",
    "#Here we generate 3 datasets, using three functions.\n",
    "#  - linear\n",
    "#  - quadratic\n",
    "#  - A combined function\n",
    "def simulate_data(func,params,n=3000):\n",
    "  \n",
    "  x = np.random.uniform(-2,2,size=n//2)\n",
    "  x2 = np.random.normal(0,3,size=n//2)\n",
    "  x = np.concatenate([x,x2])\n",
    "  y = func(x,**params) \n",
    " \n",
    "  std = y.std()/5\n",
    "\n",
    "  noise = np.random.normal(0,abs(std),size=n) \n",
    "  y = y+noise\n",
    "  #y =+ noise\n",
    "  x_train,y_train,x_val,y_val,x_test,y_test = split_val(x,y)\n",
    "  return x_train,y_train,x_val,y_val,x_test,y_test\n",
    "def linear_func(x,a,b):\n",
    "  return x*a +b\n",
    "def quadratic(x,a,b,c):\n",
    "  return a*x +b*(x**2) +c\n",
    "def get_rmse(y_test,y_pred):\n",
    "  return np.sqrt(sum((y_test-y_pred)**2))\n",
    "\n",
    "def split_val(x,y,shuffle=True):\n",
    "  if shuffle:\n",
    "    idx = np.random.permutation(np.arange(len(x)))\n",
    "    x,y = x[idx],y[idx]\n",
    "  n = len(x)//3\n",
    "  c = []\n",
    "  for i in range(3):\n",
    "    c.append((x[n*i:n*(i+1)],y[n*i:n*(i+1)]))\n",
    "  return c[0][0],c[0][1],c[1][0],c[1][1],c[2][0],c[2][1]\n",
    "import math,scipy\n",
    "def combined(x):\n",
    "  return scipy.sin(-x**2+2*x)\n",
    "\n",
    "\n",
    "def get_default_args(func):\n",
    "    signature = inspect.signature(func)\n",
    "    return {\n",
    "        k: v.default\n",
    "        for k, v in signature.parameters.items()\n",
    "        if v.default is not inspect.Parameter.empty\n",
    "    }\n",
    "\n",
    "def generate_params(func,size=False,dist=np.random.normal,dist_params={'loc':0,'scale':3}):\n",
    "  args =  func.__code__.co_varnames\n",
    "  default = get_default_args(func)\n",
    "  params = {}\n",
    "  for arg in args:\n",
    "    if arg=='x':\n",
    "      continue\n",
    "    if arg in default:\n",
    "      if arg=='x':\n",
    "        continue\n",
    "      v = default[arg]\n",
    "      if type(v)==type(np.array([])):\n",
    "        if size==False:\n",
    "          size = 3\n",
    "        val = np.random.normal(size=size,**dist_params)\n",
    "    else:\n",
    "      val = np.random.normal(**dist_params)\n",
    "    params[arg] = val\n",
    "  return params\n",
    "import inspect\n",
    "\n",
    "funcs = [linear_func,quadratic,combined]\n",
    "datasets = {}\n",
    "n = 3000\n",
    "for func in funcs:\n",
    "  params = generate_params(func)\n",
    "  name = func.__name__\n",
    "  datasets[name] = simulate_data(func,params=params,n=n)\n",
    "fig,axes = plt.subplots(1,3)\n",
    "for num,(name,data) in enumerate(datasets.items()):\n",
    "  ax = axes[num]\n",
    "  x_train,y_train,x_val,y_val,x_test,y_test = data\n",
    "  ax.scatter(x_train,y_train)\n",
    "  ax.set_title(name)\n",
    "#fig.tight_layout()\n",
    "fig.set_size_inches(12,4)"
   ]
  },
  {
   "cell_type": "code",
   "execution_count": null,
   "metadata": {
    "id": "RUgGYiqf9N7s"
   },
   "outputs": [],
   "source": [
    "\n",
    "## First you need to figure out how many neurons you need for each task.\n",
    "def build_1layer(n_units=5,loss='mse'):\n",
    "  \"Model builds and compiles a 1 layer network with n_units\"\n",
    "  # initialize model\n",
    "  \n",
    "  # add layer with n_units\n",
    "  \n",
    "  #compile model with loss\n",
    "  \n",
    "  return model\n",
    "\n",
    "# Here is the earlystopping callback we will use making sure the test is efficient.\n",
    "cb = [nn.callbacks.EarlyStopping(patience=1000)]\n",
    "\n",
    "def get_early_stopping_acc(history,patience=10):\n",
    "  val_loss = history.history['val_loss']\n",
    "  val_loss-val_loss\n",
    "\n",
    "def run_model(data,model,max_epochs=100):\n",
    "  \"Fits models using early stopping callback.\"\n",
    "  t = time.time() # for timing \n",
    "  x_train,y_train,x_val,y_val,x_test,y_test = data # unzip data\n",
    "  # early stop for logging\n",
    "  early_stopping = nn.callbacks.EarlyStopping(patience=5) \n",
    "  history = model.fit(x_train,y_train,validation_data=(x_val,y_val),epochs=max_epochs,callbacks=[early_stopping],verbose=0)\n",
    "  dt = time.time()-t\n",
    "  loss = model.evaluate(x_test,y_test,verbose=0)\n",
    "  return {'t':dt,'loss':loss,'history':history},early_stopping\n",
    "\n",
    "res = []\n",
    "import tqdm\n",
    "for n_units in tqdm.tqdm(range(1,20)):\n",
    "  for name,data in datasets.items():\n",
    "    model = build_1layer(n_units)\n",
    "    d,early_stopping = run_model(data,model)\n",
    "    d['best_val'] = early_stopping.best\n",
    "    d['dataset'] = name\n",
    "    d['n_units'] = n_units\n",
    "    d['epochs'] = len(d['history'].history['loss'])\n",
    "    res.append(d)\n",
    "\n"
   ]
  },
  {
   "cell_type": "code",
   "execution_count": null,
   "metadata": {
    "id": "AAHeJfAj9ytg"
   },
   "outputs": [],
   "source": [
    "# Analyze the results\n",
    "# Initialize dataframe from the res list.\n",
    "# Find the n_units with lowest loss for each dataset (using the groupby and sort function)\n",
    "# Save the best in a dictionary dat2nunits"
   ]
  },
  {
   "cell_type": "code",
   "execution_count": null,
   "metadata": {
    "colab": {
     "base_uri": "https://localhost:8080/",
     "height": 175
    },
    "id": "g_GiHQuUxNGl",
    "outputId": "388a0b7c-382d-4487-e5a1-98b5c2623c3c"
   },
   "outputs": [
    {
     "data": {
      "text/html": [
       "<div>\n",
       "<style scoped>\n",
       "    .dataframe tbody tr th:only-of-type {\n",
       "        vertical-align: middle;\n",
       "    }\n",
       "\n",
       "    .dataframe tbody tr th {\n",
       "        vertical-align: top;\n",
       "    }\n",
       "\n",
       "    .dataframe thead th {\n",
       "        text-align: right;\n",
       "    }\n",
       "</style>\n",
       "<table border=\"1\" class=\"dataframe\">\n",
       "  <thead>\n",
       "    <tr style=\"text-align: right;\">\n",
       "      <th></th>\n",
       "      <th></th>\n",
       "      <th>t</th>\n",
       "      <th>loss</th>\n",
       "      <th>best_val</th>\n",
       "      <th>dataset</th>\n",
       "      <th>n_units</th>\n",
       "      <th>epochs</th>\n",
       "    </tr>\n",
       "    <tr>\n",
       "      <th>dataset</th>\n",
       "      <th></th>\n",
       "      <th></th>\n",
       "      <th></th>\n",
       "      <th></th>\n",
       "      <th></th>\n",
       "      <th></th>\n",
       "      <th></th>\n",
       "    </tr>\n",
       "  </thead>\n",
       "  <tbody>\n",
       "    <tr>\n",
       "      <th>combined</th>\n",
       "      <th>23</th>\n",
       "      <td>2.820161</td>\n",
       "      <td>0.445383</td>\n",
       "      <td>0.457526</td>\n",
       "      <td>combined</td>\n",
       "      <td>8</td>\n",
       "      <td>28</td>\n",
       "    </tr>\n",
       "    <tr>\n",
       "      <th>linear_func</th>\n",
       "      <th>0</th>\n",
       "      <td>9.851684</td>\n",
       "      <td>42.250240</td>\n",
       "      <td>42.395012</td>\n",
       "      <td>linear_func</td>\n",
       "      <td>1</td>\n",
       "      <td>100</td>\n",
       "    </tr>\n",
       "    <tr>\n",
       "      <th>quadratic</th>\n",
       "      <th>19</th>\n",
       "      <td>3.608256</td>\n",
       "      <td>1787.194092</td>\n",
       "      <td>2206.880371</td>\n",
       "      <td>quadratic</td>\n",
       "      <td>7</td>\n",
       "      <td>37</td>\n",
       "    </tr>\n",
       "  </tbody>\n",
       "</table>\n",
       "</div>"
      ],
      "text/plain": [
       "                       t         loss  ...  n_units epochs\n",
       "dataset                                ...                \n",
       "combined    23  2.820161     0.445383  ...        8     28\n",
       "linear_func 0   9.851684    42.250240  ...        1    100\n",
       "quadratic   19  3.608256  1787.194092  ...        7     37\n",
       "\n",
       "[3 rows x 6 columns]"
      ]
     },
     "execution_count": 81,
     "metadata": {
      "tags": []
     },
     "output_type": "execute_result"
    }
   ],
   "source": [
    "## Example of what you need to output:"
   ]
  },
  {
   "cell_type": "markdown",
   "metadata": {
    "id": "GYLXQhR_gzGp"
   },
   "source": [
    "Now do the same but with different optimizers and using the best n_units for the given datasets, as you found above."
   ]
  },
  {
   "cell_type": "code",
   "execution_count": null,
   "metadata": {
    "id": "kMVlcIU_4W-p"
   },
   "outputs": [],
   "source": [
    "def build_1layer(n_units=5,loss='mse',opt=nn.optimizers.Adam):\n",
    "  \"Model builds and compiles a 1 layer network with n_units and a specified optimizer\"\n",
    "  \n",
    "  # initizalize model\n",
    "  # add layer nunits\n",
    "  # compile model with optimizer opt.\n",
    "  return model"
   ]
  },
  {
   "cell_type": "code",
   "execution_count": null,
   "metadata": {
    "colab": {
     "base_uri": "https://localhost:8080/"
    },
    "id": "dv7L2L9I1sXm",
    "outputId": "86abc28b-c4ec-4959-bb14-6da2de05813a"
   },
   "outputs": [
    {
     "name": "stderr",
     "output_type": "stream",
     "text": [
      "\n",
      "\n",
      "  0%|          | 0/8 [00:00<?, ?it/s]\u001b[A\u001b[A"
     ]
    },
    {
     "name": "stdout",
     "output_type": "stream",
     "text": [
      "Adadelta\n"
     ]
    },
    {
     "name": "stderr",
     "output_type": "stream",
     "text": [
      "\n",
      "\n",
      " 12%|█▎        | 1/8 [00:28<03:16, 28.11s/it]\u001b[A\u001b[A"
     ]
    },
    {
     "name": "stdout",
     "output_type": "stream",
     "text": [
      "Adagrad\n"
     ]
    },
    {
     "name": "stderr",
     "output_type": "stream",
     "text": [
      "\n",
      "\n",
      " 25%|██▌       | 2/8 [00:56<02:48, 28.06s/it]\u001b[A\u001b[A"
     ]
    },
    {
     "name": "stdout",
     "output_type": "stream",
     "text": [
      "Adam\n"
     ]
    },
    {
     "name": "stderr",
     "output_type": "stream",
     "text": [
      "\n",
      "\n",
      " 38%|███▊      | 3/8 [01:06<01:53, 22.70s/it]\u001b[A\u001b[A"
     ]
    },
    {
     "name": "stdout",
     "output_type": "stream",
     "text": [
      "Adamax\n"
     ]
    },
    {
     "name": "stderr",
     "output_type": "stream",
     "text": [
      "\n",
      "\n",
      " 50%|█████     | 4/8 [01:34<01:37, 24.32s/it]\u001b[A\u001b[A"
     ]
    },
    {
     "name": "stdout",
     "output_type": "stream",
     "text": [
      "Ftrl\n"
     ]
    },
    {
     "name": "stderr",
     "output_type": "stream",
     "text": [
      "\n",
      "\n",
      " 62%|██████▎   | 5/8 [02:02<01:16, 25.42s/it]\u001b[A\u001b[A"
     ]
    },
    {
     "name": "stdout",
     "output_type": "stream",
     "text": [
      "SGD\n"
     ]
    },
    {
     "name": "stderr",
     "output_type": "stream",
     "text": [
      "\n",
      "\n",
      " 75%|███████▌  | 6/8 [02:11<00:41, 20.67s/it]\u001b[A\u001b[A"
     ]
    },
    {
     "name": "stdout",
     "output_type": "stream",
     "text": [
      "Nadam\n"
     ]
    },
    {
     "name": "stderr",
     "output_type": "stream",
     "text": [
      "\n",
      "\n",
      " 88%|████████▊ | 7/8 [02:32<00:20, 20.58s/it]\u001b[A\u001b[A"
     ]
    },
    {
     "name": "stdout",
     "output_type": "stream",
     "text": [
      "RMSprop\n"
     ]
    },
    {
     "name": "stderr",
     "output_type": "stream",
     "text": [
      "\n",
      "\n",
      "100%|██████████| 8/8 [02:45<00:00, 20.63s/it]\n"
     ]
    }
   ],
   "source": [
    "\n",
    "# Compile dictionary of optimizers\n",
    "optimizers = {}\n",
    "#  your code here \n",
    "\n",
    "\n",
    "res_opt = []\n",
    "for opt_name,opt in tqdm.tqdm(optimizers.items()):\n",
    "  print(opt_name)\n",
    "  for name,data in datasets.items():\n",
    "    n_units = dat2nunits[name] \n",
    "    model = build_1layer(n_units,opt=opt)\n",
    "    d,early_stopping = run_model(data,model)\n",
    "    d['best_val'] = early_stopping.best\n",
    "    d['dataset'] = name\n",
    "    d['n_units'] = n_units \n",
    "    d['opt'] = opt_name\n",
    "    d['epochs'] = len(d['history'].history['loss'])\n",
    "    res_opt.append(d)\n"
   ]
  },
  {
   "cell_type": "code",
   "execution_count": 1,
   "metadata": {
    "id": "YoxinLzp6eyu"
   },
   "outputs": [],
   "source": [
    "# uncomment to look at your results:\n",
    "#pd.DataFrame(res_opt).groupby(['dataset','opt']).apply(lambda x:x.sort_values('loss').head(1))[['t','loss']]"
   ]
  },
  {
   "cell_type": "markdown",
   "metadata": {
    "id": "7xq2QAXvis0R"
   },
   "source": [
    "Which optimizer is the best?"
   ]
  },
  {
   "cell_type": "markdown",
   "metadata": {
    "id": "ftv6H1Mpev6S"
   },
   "source": [
    "### Overfitting and regularization"
   ]
  },
  {
   "cell_type": "markdown",
   "metadata": {
    "id": "Za3aECggev6S"
   },
   "source": [
    "When a model *overfits* it means that it memorizes the outcomes for each training data point rather than general patterns.\n",
    "Thus an overfitted model will score extremely well on the training data but poorly on new unseen data. \n",
    "In general, the more flexible a model is the easier it will overfit, and for this reason neural networks are notorious overfitters.\n",
    "Broadly speaking, the way to combat this is to *regularize* the network."
   ]
  },
  {
   "cell_type": "markdown",
   "metadata": {
    "id": "uAWuM0F4ev6S"
   },
   "source": [
    "> **Ex. 4.2.1** To understand overfitting, we overfit some data! Let's fit a neural network to data that has no inherent patterns: *noise*."
   ]
  },
  {
   "cell_type": "code",
   "execution_count": null,
   "metadata": {
    "ExecuteTime": {
     "end_time": "2020-02-26T07:21:54.469516Z",
     "start_time": "2020-02-26T07:21:54.287847Z"
    },
    "colab": {
     "base_uri": "https://localhost:8080/",
     "height": 284
    },
    "id": "l8nsfAQqev6T",
    "outputId": "0525dcd8-31cc-40e9-f7cd-62320a5e17bb"
   },
   "outputs": [
    {
     "data": {
      "text/plain": [
       "<matplotlib.collections.PathCollection at 0x7ff56a9664d0>"
      ]
     },
     "execution_count": 73,
     "metadata": {
      "tags": []
     },
     "output_type": "execute_result"
    },
    {
     "data": {
      "image/png": "[encoded data removed]",
      "text/plain": [
       "<Figure size 432x288 with 1 Axes>"
      ]
     },
     "metadata": {
      "needs_background": "light",
      "tags": []
     },
     "output_type": "display_data"
    }
   ],
   "source": [
    "# Generate some data-points\n",
    "x = np.random.random(size=(50, 2))\n",
    "x_val = np.random.random(size=(50, 2))\n",
    "# And some random outcomes\n",
    "y = np.random.randint(0, 2, size=(50, ))\n",
    "y_val = np.random.randint(0, 2, size=(50, ))\n",
    "# Plot it\n",
    "plt.scatter(x[:, 0], x[:, 1], c=y)"
   ]
  },
  {
   "cell_type": "markdown",
   "metadata": {
    "ExecuteTime": {
     "end_time": "2019-09-23T20:41:33.645158Z",
     "start_time": "2019-09-23T20:41:33.333649Z"
    },
    "id": "ZVaXgt_0ev6T"
   },
   "source": [
    "> Now, create a network that attains an accuracy score over 80% in predicting which points are class 0 and which are class 1.\n",
    ">\n",
    "> *Hint*: The bigger the network, the bigger the overfitting.\n",
    "\n",
    "Plot the training loss and validation loss curve. What does that tell you?"
   ]
  },
  {
   "cell_type": "code",
   "execution_count": null,
   "metadata": {
    "ExecuteTime": {
     "end_time": "2020-02-26T07:43:32.689461Z",
     "start_time": "2020-02-26T07:43:32.628872Z"
    },
    "id": "yJua31icev6U"
   },
   "outputs": [],
   "source": [
    "# define your unregularized model"
   ]
  },
  {
   "cell_type": "markdown",
   "metadata": {
    "ExecuteTime": {
     "end_time": "2019-09-23T20:51:40.569270Z",
     "start_time": "2019-09-23T20:51:40.535007Z"
    },
    "id": "hvSYrfYyev6V"
   },
   "source": [
    "> **Ex 4.2.2** Norm regularization:\n",
    "> 1. Apply L2 regularization to your network so that it, across the same number of batches, cannot overfit.\n",
    "> 2. What does L2 regularization do? Compare the absolute size of weights in the unregularized and regularized model.\n",
    ">\n",
    "> *Hint:* `model.weights` will give you a list of weights and bias arrays for each layer. They are in a Tensorflow format but you can call `.numpy()` on them to get them out as numpy arrays."
   ]
  },
  {
   "cell_type": "code",
   "execution_count": 2,
   "metadata": {
    "ExecuteTime": {
     "end_time": "2020-02-26T07:44:05.611203Z",
     "start_time": "2020-02-26T07:43:57.213741Z"
    },
    "id": "NeQbsvfUev6V"
   },
   "outputs": [],
   "source": [
    "# Define your regularized model"
   ]
  },
  {
   "cell_type": "code",
   "execution_count": 3,
   "metadata": {
    "ExecuteTime": {
     "end_time": "2020-02-26T07:44:07.257661Z",
     "start_time": "2020-02-26T07:44:07.251439Z"
    },
    "id": "s3247tuZev6X"
   },
   "outputs": [],
   "source": [
    "# print unregularized absolute weight means\n"
   ]
  },
  {
   "cell_type": "code",
   "execution_count": 4,
   "metadata": {
    "ExecuteTime": {
     "end_time": "2020-02-26T07:44:07.753429Z",
     "start_time": "2020-02-26T07:44:07.746679Z"
    },
    "id": "GRV-AgZAev6X"
   },
   "outputs": [],
   "source": [
    "# print regularized absolute weight means\n"
   ]
  },
  {
   "cell_type": "markdown",
   "metadata": {
    "id": "ILq4odyXev6X"
   },
   "source": [
    "Comment on your result"
   ]
  },
  {
   "cell_type": "markdown",
   "metadata": {
    "id": "DBzjOofnev6Y"
   },
   "source": [
    "> **Ex 4.2.3** Early stopping: Often we like to monitor the model's performance on a test set also while we train the model.\n",
    "This allows us to do something called \"early stopping\" which is a way of regularizing by stopping the training process before the network overfits (we know it overfits when the performance on the training set starts getting much better than on the test set).\n",
    "Implement early stopping when training on the random data above. What accuracy do you get?\n",
    ">\n",
    "> *Hint*: There's an example [here](https://keras.io/getting-started/faq/#how-can-i-interrupt-training-when-the-validation-loss-isnt-decreasing-anymore)."
   ]
  },
  {
   "cell_type": "code",
   "execution_count": 5,
   "metadata": {
    "ExecuteTime": {
     "end_time": "2020-02-26T07:46:09.273206Z",
     "start_time": "2020-02-26T07:46:08.741861Z"
    },
    "id": "3xApPcDWev6Y"
   },
   "outputs": [],
   "source": [
    "# your code here"
   ]
  },
  {
   "cell_type": "markdown",
   "metadata": {
    "id": "Xzso7SMPev6Z"
   },
   "source": [
    "> **Ex 4.2.4** Dropout: Another clever way to regularize a network, is to randomly \"drop out\" some fraction of neurons during each training batch, so the network cannot store memory in specific neurons. The method is called Dropout. Go ahead and take your overfitting model and apply dropout in one or more of the layers and comment on the performance.\n",
    ">\n",
    "> *Hint*: Check out the reference [here](https://keras.io/api/layers/regularization_layers/)."
   ]
  },
  {
   "cell_type": "code",
   "execution_count": 6,
   "metadata": {
    "ExecuteTime": {
     "end_time": "2020-02-26T07:47:30.342099Z",
     "start_time": "2020-02-26T07:47:21.573603Z"
    },
    "id": "-8bDRKpyev6Z"
   },
   "outputs": [],
   "source": [
    "# your code here"
   ]
  },
  {
   "cell_type": "markdown",
   "metadata": {
    "id": "fgfw3Dl5kOcn"
   },
   "source": [
    "Now you have tried testing number of neurons and optimizers. If you have time try to experiment with:\n",
    "- The batchsize (number of examples pr. update)\n",
    "- The learning rate.\n",
    "- Callbacks (early stopping, adjust learning rates)\n",
    "- Using GPUs (In Colab you can switch runtime to a server with GPU)\n"
   ]
  },
  {
   "cell_type": "code",
   "execution_count": null,
   "metadata": {
    "id": "sy3c11FGkpDs"
   },
   "outputs": [],
   "source": []
  }
 ],
 "metadata": {
  "colab": {
   "collapsed_sections": [],
   "name": "DL2_exercises.ipynb",
   "provenance": []
  },
  "kernelspec": {
   "display_name": "Python 3",
   "language": "python",
   "name": "python3"
  },
  "language_info": {
   "codemirror_mode": {
    "name": "ipython",
    "version": 3
   },
   "file_extension": ".py",
   "mimetype": "text/x-python",
   "name": "python",
   "nbconvert_exporter": "python",
   "pygments_lexer": "ipython3",
   "version": "3.8.3"
  },
  "toc": {
   "base_numbering": 1,
   "nav_menu": {},
   "number_sections": false,
   "sideBar": true,
   "skip_h1_title": false,
   "title_cell": "Table of Contents",
   "title_sidebar": "Contents",
   "toc_cell": false,
   "toc_position": {},
   "toc_section_display": true,
   "toc_window_display": true
  },
  "varInspector": {
   "cols": {
    "lenName": 16,
    "lenType": 16,
    "lenVar": 40
   },
   "kernels_config": {
    "python": {
     "delete_cmd_postfix": "",
     "delete_cmd_prefix": "del ",
     "library": "var_list.py",
     "varRefreshCmd": "print(var_dic_list())"
    },
    "r": {
     "delete_cmd_postfix": ") ",
     "delete_cmd_prefix": "rm(",
     "library": "var_list.r",
     "varRefreshCmd": "cat(var_dic_list()) "
    }
   },
   "types_to_exclude": [
    "module",
    "function",
    "builtin_function_or_method",
    "instance",
    "_Feature"
   ],
   "window_display": false
  }
 },
 "nbformat": 4,
 "nbformat_minor": 1
}
