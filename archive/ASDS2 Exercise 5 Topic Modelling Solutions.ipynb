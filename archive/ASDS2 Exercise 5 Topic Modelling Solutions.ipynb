{
 "cells": [
  {
   "cell_type": "code",
   "execution_count": 1,
   "metadata": {},
   "outputs": [],
   "source": [
    "#Importing relevant packages \n",
    "\n",
    "import numpy as np\n",
    "import pandas as pd\n",
    "from datetime import datetime #To check start and end time when running code\n",
    "from tqdm import tqdm #This is for creating progress bars.\n",
    "import logging #This is to provide logging of information when running the LDA\n",
    "import sys #This is to disable logging when it's no longer needed\n",
    "import pickle #To store and open previously saved machine learning models \n",
    "\n",
    "#Importing NLTK and NLP packages\n",
    "import nltk\n",
    "from nltk.tokenize import TweetTokenizer\n",
    "import string\n",
    "import re\n",
    "from collections import defaultdict\n",
    "\n",
    "#Importing packages for data visualization \n",
    "import matplotlib.pyplot as plt\n",
    "import seaborn as sns\n",
    "\n",
    "#Importing packages for LDA\n",
    "from gensim.corpora.dictionary import Dictionary\n",
    "from gensim.models.ldamulticore import LdaMulticore\n"
   ]
  },
  {
   "cell_type": "markdown",
   "metadata": {},
   "source": [
    "# TOPIC MODELLING \n",
    "\n",
    "In this lab, we will apply a 50-topic LDA model to tweets from US Members of Congress to examine discussions about COVID-19 by Democrats and Republicans over time. Who was quicker to set the agenda around COVID-19, Democrats or Republicans? Make a guess if you know something about US politics.\n",
    "\n",
    "The dataset is similar to last week's scaling lab and has been preprocessed similarly, with the main exception being that this time tweets are subsetted from 2019 and later, because we are mainly interested in tweets that (may) capture the COVID-19 crisis. The preprocessed dataset is called 'MOCTweets_preprocessed.csv'. "
   ]
  },
  {
   "cell_type": "markdown",
   "metadata": {},
   "source": [
    "#### If you wish to replicate the preprocessing, these are the steps taken for this dataset:\n",
    "\n",
    "1. Changing 'date' from str type object to datetime type \n",
    "2. Subsetting to 2019 and later \n",
    "3. Removing unneeded columns (all except 'date', 'text', 'affiliation', and 'nominate_name')\n",
    "2. Removing duplicated tweets \n",
    "7. Turning independents into Democrats or Republicans. In essence, finding the independents (\"SANDERS, Bernard\" and \"KING, Angus Stanley, Jr.\") and turning these to \"Democrat\". \n",
    "7. Removing instances of \"&amp\"\n",
    "8. Replacing all remaining \"&\" with \"and\"\n",
    "8. Removing odd special characters that show up in topic model (\"┻\",\"┃\",\"━\",\"┳\",\"┓\",\"┏\",\"┛\")\n",
    "9. There are some annoying cases in these data where a character that looks like a space is not a space. Here, we just replace that character with an actual space. Replacing \"\\u202F\", \"\\u2069\", \"\\u200d\", and \"\\u2066\" with \" \".\n",
    "6. Removing \"RT\" and \"via\"\n",
    "11. Removing mentions (@someone)\n",
    "10. Removing numbers, removing punctuation (except hyphens and #), removing separators, removing urls, lowercasing, removing stopwords, lemmatizing, and stemming.\n"
   ]
  },
  {
   "cell_type": "code",
   "execution_count": 2,
   "metadata": {
    "scrolled": true
   },
   "outputs": [
    {
     "data": {
      "text/html": [
       "<div>\n",
       "<style scoped>\n",
       "    .dataframe tbody tr th:only-of-type {\n",
       "        vertical-align: middle;\n",
       "    }\n",
       "\n",
       "    .dataframe tbody tr th {\n",
       "        vertical-align: top;\n",
       "    }\n",
       "\n",
       "    .dataframe thead th {\n",
       "        text-align: right;\n",
       "    }\n",
       "</style>\n",
       "<table border=\"1\" class=\"dataframe\">\n",
       "  <thead>\n",
       "    <tr style=\"text-align: right;\">\n",
       "      <th></th>\n",
       "      <th>Unnamed: 0</th>\n",
       "      <th>user_id</th>\n",
       "      <th>num_tweets</th>\n",
       "      <th>raw_url</th>\n",
       "      <th>url</th>\n",
       "      <th>url_tweet_part</th>\n",
       "      <th>tweet_type</th>\n",
       "      <th>date</th>\n",
       "      <th>tweet_id</th>\n",
       "      <th>retries</th>\n",
       "      <th>text_user_id</th>\n",
       "      <th>text</th>\n",
       "      <th>geography</th>\n",
       "      <th>affiliation</th>\n",
       "      <th>nominate_name</th>\n",
       "    </tr>\n",
       "  </thead>\n",
       "  <tbody>\n",
       "    <tr>\n",
       "      <th>0</th>\n",
       "      <td>1</td>\n",
       "      <td>5558312.0</td>\n",
       "      <td>430143</td>\n",
       "      <td>none</td>\n",
       "      <td>none</td>\n",
       "      <td>none</td>\n",
       "      <td>authored</td>\n",
       "      <td>20190319</td>\n",
       "      <td>1.108000e+18</td>\n",
       "      <td>999999</td>\n",
       "      <td>5558312.0</td>\n",
       "      <td>Federal government employees are dedicated pub...</td>\n",
       "      <td>AR</td>\n",
       "      <td>Republican</td>\n",
       "      <td>BOOZMAN, John</td>\n",
       "    </tr>\n",
       "    <tr>\n",
       "      <th>1</th>\n",
       "      <td>2</td>\n",
       "      <td>5558312.0</td>\n",
       "      <td>430143</td>\n",
       "      <td>none</td>\n",
       "      <td>none</td>\n",
       "      <td>none</td>\n",
       "      <td>authored</td>\n",
       "      <td>20170803</td>\n",
       "      <td>8.929066e+17</td>\n",
       "      <td>999999</td>\n",
       "      <td>5558312.0</td>\n",
       "      <td>Congrats to @SenTomCotton's Sand Lizards on th...</td>\n",
       "      <td>AR</td>\n",
       "      <td>Republican</td>\n",
       "      <td>BOOZMAN, John</td>\n",
       "    </tr>\n",
       "    <tr>\n",
       "      <th>2</th>\n",
       "      <td>3</td>\n",
       "      <td>5558312.0</td>\n",
       "      <td>430143</td>\n",
       "      <td>https://twitter.com/60Minutes/status/656077372...</td>\n",
       "      <td>https://twitter.com/60Minutes/status/656077372...</td>\n",
       "      <td>author</td>\n",
       "      <td>quote</td>\n",
       "      <td>20151019</td>\n",
       "      <td>6.560929e+17</td>\n",
       "      <td>0</td>\n",
       "      <td>5558312.0</td>\n",
       "      <td>WATCH: I applaud Northeast #Arkansas residents...</td>\n",
       "      <td>AR</td>\n",
       "      <td>Republican</td>\n",
       "      <td>BOOZMAN, John</td>\n",
       "    </tr>\n",
       "  </tbody>\n",
       "</table>\n",
       "</div>"
      ],
      "text/plain": [
       "   Unnamed: 0    user_id  num_tweets  \\\n",
       "0           1  5558312.0      430143   \n",
       "1           2  5558312.0      430143   \n",
       "2           3  5558312.0      430143   \n",
       "\n",
       "                                             raw_url  \\\n",
       "0                                               none   \n",
       "1                                               none   \n",
       "2  https://twitter.com/60Minutes/status/656077372...   \n",
       "\n",
       "                                                 url url_tweet_part  \\\n",
       "0                                               none           none   \n",
       "1                                               none           none   \n",
       "2  https://twitter.com/60Minutes/status/656077372...         author   \n",
       "\n",
       "  tweet_type      date      tweet_id  retries  text_user_id  \\\n",
       "0   authored  20190319  1.108000e+18   999999     5558312.0   \n",
       "1   authored  20170803  8.929066e+17   999999     5558312.0   \n",
       "2      quote  20151019  6.560929e+17        0     5558312.0   \n",
       "\n",
       "                                                text geography affiliation  \\\n",
       "0  Federal government employees are dedicated pub...        AR  Republican   \n",
       "1  Congrats to @SenTomCotton's Sand Lizards on th...        AR  Republican   \n",
       "2  WATCH: I applaud Northeast #Arkansas residents...        AR  Republican   \n",
       "\n",
       "   nominate_name  \n",
       "0  BOOZMAN, John  \n",
       "1  BOOZMAN, John  \n",
       "2  BOOZMAN, John  "
      ]
     },
     "execution_count": 2,
     "metadata": {},
     "output_type": "execute_result"
    }
   ],
   "source": [
    "#Importing and viewing data\n",
    "tweets = pd.read_csv(\"MOC_Tweets.csv\")\n",
    "tweets.head(3)"
   ]
  },
  {
   "cell_type": "code",
   "execution_count": 3,
   "metadata": {},
   "outputs": [
    {
     "data": {
      "text/plain": [
       "(1615238, 15)"
      ]
     },
     "execution_count": 3,
     "metadata": {},
     "output_type": "execute_result"
    }
   ],
   "source": [
    "#Checking dataset shape\n",
    "tweets.shape"
   ]
  },
  {
   "cell_type": "code",
   "execution_count": 4,
   "metadata": {},
   "outputs": [],
   "source": [
    "#Change date from str object to datetime object\n",
    "tweets['date'] = pd.to_datetime(tweets['date'], format = '%Y%m%d', errors = 'ignore')\n"
   ]
  },
  {
   "cell_type": "code",
   "execution_count": 5,
   "metadata": {},
   "outputs": [
    {
     "data": {
      "text/plain": [
       "(585744, 15)"
      ]
     },
     "execution_count": 5,
     "metadata": {},
     "output_type": "execute_result"
    }
   ],
   "source": [
    "#Subsetting the data to span 2019 and later \n",
    "tweets = tweets.loc[tweets.date > datetime(2018,12,31)]\n",
    "\n",
    "#Checking new dataset shape\n",
    "tweets.shape\n"
   ]
  },
  {
   "cell_type": "code",
   "execution_count": 6,
   "metadata": {},
   "outputs": [
    {
     "data": {
      "text/plain": [
       "(579820, 15)"
      ]
     },
     "execution_count": 6,
     "metadata": {},
     "output_type": "execute_result"
    }
   ],
   "source": [
    "#Removing duplicated tweets \n",
    "tweets = tweets.drop_duplicates(subset = 'tweet_id')\n",
    "\n",
    "#Checking new dataset shape \n",
    "tweets.shape"
   ]
  },
  {
   "cell_type": "code",
   "execution_count": 7,
   "metadata": {},
   "outputs": [],
   "source": [
    "#Redefining dataset to only include useful columns \n",
    "tweets = tweets[['date','text','affiliation','nominate_name']]\n"
   ]
  },
  {
   "cell_type": "code",
   "execution_count": 8,
   "metadata": {},
   "outputs": [
    {
     "name": "stdout",
     "output_type": "stream",
     "text": [
      "SANDERS, Bernard            1512\n",
      "KING, Angus Stanley, Jr.     557\n",
      "Name: nominate_name, dtype: int64\n"
     ]
    }
   ],
   "source": [
    "#Locating politicians marked as 'Independent' affiliation and turning these into Democrats\n",
    "\n",
    "print(tweets.loc[tweets.affiliation == 'Independent']['nominate_name'].value_counts())\n",
    "\n",
    "tweets['affiliation'] = tweets['affiliation'].apply(lambda x: 'Democrat' if x == 'Independent' else x)\n"
   ]
  },
  {
   "cell_type": "code",
   "execution_count": 9,
   "metadata": {},
   "outputs": [
    {
     "name": "stdout",
     "output_type": "stream",
     "text": [
      "Democrat      371662\n",
      "Republican    208158\n",
      "Name: affiliation, dtype: int64\n"
     ]
    }
   ],
   "source": [
    "#Check if all 'Independent' were converted. Looks like it. \n",
    "print(tweets.affiliation.value_counts())"
   ]
  },
  {
   "cell_type": "code",
   "execution_count": 10,
   "metadata": {},
   "outputs": [],
   "source": [
    "#Reusing and tweaking the function for preprocessing from last week to fit specifics of this dataset.\n",
    "\n",
    "def preprocess(text):\n",
    "    \n",
    "    #Lowercasing words\n",
    "    text = text.lower()\n",
    "    \n",
    "    #Removing '&amp' which was found to be common\n",
    "    text = re.sub(r'&amp','', text)\n",
    "    \n",
    "    #Replace other instances of \"&\" with \"and\"\n",
    "    text = re.sub(r'&','and', text)\n",
    "    \n",
    "    #Removing mentions \n",
    "    text = re.sub(r'@\\w+ ', '', text)\n",
    "    \n",
    "    #Removing 'RT' and 'via'\n",
    "    text = re.sub(r'(^rt|^via)((?:\\b\\W*@\\w+)+): ', '', text)\n",
    "    \n",
    "    #Removing punctuation\n",
    "    \n",
    "    my_punctuation = string.punctuation.replace('#','')\n",
    "    my_punctuation = my_punctuation.replace('-','')\n",
    "    \n",
    "    text = text.translate(str.maketrans('', '', my_punctuation))\n",
    "    text = re.sub(r' - ','', text) #removing dash lines bounded by whitespace (and therefore not part of a word)\n",
    "    text = re.sub(r'[’“”—,!]','',text) #removing punctuation that is not captured by string.punctuation\n",
    "    \n",
    "    #Removing odd special characters\n",
    "    text = re.sub(r\"[┻┃━┳┓┏┛┗]\",\"\", text)\n",
    "    text = re.sub(r\"\\u202F|\\u2069|\\u200d|\\u2066\",\"\", text)\n",
    "    \n",
    "    #Removing URLs\n",
    "    text = re.sub(r'http\\S+', '', text)\n",
    "    \n",
    "    #Removing numbers\n",
    "    text = re.sub(r'[0-9]','', text)\n",
    "    \n",
    "    #Removing separators and superfluous whitespace\n",
    "    text = text.strip()\n",
    "    text = re.sub(r' +',' ',text)\n",
    "    \n",
    "    #Tokenizing\n",
    "    tokenizer = TweetTokenizer()\n",
    "    tokens = tokenizer.tokenize(text)\n",
    "    \n",
    "    return tokens\n",
    "    \n",
    "\n",
    "def preprocess_lemma(tokens):\n",
    "    \n",
    "    #Running the preprocess function\n",
    "    tokens = preprocess(tokens)\n",
    "    \n",
    "    #Lemmatizing\n",
    "    tag_map = defaultdict(lambda : nltk.corpus.wordnet.NOUN)      #POS map\n",
    "    tag_map['J'] = nltk.corpus.wordnet.ADJ\n",
    "    tag_map['V'] = nltk.corpus.wordnet.VERB\n",
    "    tag_map['R'] = nltk.corpus.wordnet.ADV    \n",
    "    \n",
    "    lemmatizer = nltk.WordNetLemmatizer()             #Creating lemmatizer.\n",
    "    text_lemmatized = []                              #Empty list to save lemmatized sentence\n",
    "\n",
    "    for word, tag in nltk.pos_tag(tokens):\n",
    "        lemma = lemmatizer.lemmatize(word, tag_map[tag[0]])\n",
    "        text_lemmatized.append(lemma)\n",
    "    \n",
    "    tokens = text_lemmatized\n",
    "\n",
    "    #Removing stopwords\n",
    "    stop_words_list = nltk.corpus.stopwords.words(\"english\")\n",
    "    text = \" \".join([i for i in tokens if i not in stop_words_list])\n",
    "    \n",
    "    return text\n",
    "\n",
    "def preprocess_stem(tokens):\n",
    "    \n",
    "    #Running the preprocess function\n",
    "    tokens = preprocess(tokens)\n",
    "    \n",
    "    #Removing stopwords\n",
    "    stop_words_list = nltk.corpus.stopwords.words(\"english\")\n",
    "    tokens = [i for i in tokens if i not in stop_words_list]\n",
    "    \n",
    "    #Stemming\n",
    "    stemmer = nltk.PorterStemmer()    #Creating stemmer\n",
    "    sent_stemmed = []                 #Empty list to save stemmed sentence\n",
    "    \n",
    "    for word in tokens:\n",
    "        stem = stemmer.stem(word)     #Stemming words\n",
    "        sent_stemmed.append(stem)\n",
    "        \n",
    "    tokens = sent_stemmed\n",
    "    \n",
    "    return \" \".join(tokens)\n"
   ]
  },
  {
   "cell_type": "code",
   "execution_count": 11,
   "metadata": {
    "scrolled": true
   },
   "outputs": [
    {
     "name": "stderr",
     "output_type": "stream",
     "text": [
      "\r",
      "  0%|          | 0/579820 [00:00<?, ?it/s]"
     ]
    },
    {
     "name": "stdout",
     "output_type": "stream",
     "text": [
      "2021-05-02 17:03:27 Preprocessing begun.\n"
     ]
    },
    {
     "name": "stderr",
     "output_type": "stream",
     "text": [
      "100%|██████████| 579820/579820 [11:02<00:00, 875.48it/s] "
     ]
    },
    {
     "name": "stdout",
     "output_type": "stream",
     "text": [
      "2021-05-02 17:14:29 Preprocessing completed.\n"
     ]
    },
    {
     "name": "stderr",
     "output_type": "stream",
     "text": [
      "\n"
     ]
    }
   ],
   "source": [
    "#Preprocessing and lemmatizing (takes approx. 10 mins)\n",
    "\n",
    "print(datetime.now().strftime('%Y-%m-%d %H:%M:%S') + \" Preprocessing begun.\") #Printing start time\n",
    "\n",
    "tqdm.pandas() #Getting a progress bar. Use progress_apply instead of apply.\n",
    "tweets['text_lemma'] = tweets['text'].progress_apply(lambda x: preprocess_lemma(x))\n",
    "\n",
    "print(datetime.now().strftime('%Y-%m-%d %H:%M:%S') + \" Preprocessing completed.\") #Printing end time\n"
   ]
  },
  {
   "cell_type": "code",
   "execution_count": 12,
   "metadata": {
    "scrolled": true
   },
   "outputs": [
    {
     "name": "stderr",
     "output_type": "stream",
     "text": [
      "100%|██████████| 579820/579820 [05:11<00:00, 1860.20it/s]\n"
     ]
    }
   ],
   "source": [
    "#Preprocessing and stemming (takes approx. 5 mins)\n",
    "\n",
    "tweets['text_stemmed'] = tweets['text'].progress_apply(lambda x: preprocess_stem(x))\n"
   ]
  },
  {
   "cell_type": "code",
   "execution_count": 13,
   "metadata": {
    "scrolled": true
   },
   "outputs": [
    {
     "data": {
      "text/html": [
       "<div>\n",
       "<style scoped>\n",
       "    .dataframe tbody tr th:only-of-type {\n",
       "        vertical-align: middle;\n",
       "    }\n",
       "\n",
       "    .dataframe tbody tr th {\n",
       "        vertical-align: top;\n",
       "    }\n",
       "\n",
       "    .dataframe thead th {\n",
       "        text-align: right;\n",
       "    }\n",
       "</style>\n",
       "<table border=\"1\" class=\"dataframe\">\n",
       "  <thead>\n",
       "    <tr style=\"text-align: right;\">\n",
       "      <th></th>\n",
       "      <th>date</th>\n",
       "      <th>text</th>\n",
       "      <th>affiliation</th>\n",
       "      <th>nominate_name</th>\n",
       "      <th>text_lemma</th>\n",
       "      <th>text_stemmed</th>\n",
       "    </tr>\n",
       "  </thead>\n",
       "  <tbody>\n",
       "    <tr>\n",
       "      <th>0</th>\n",
       "      <td>2019-03-19</td>\n",
       "      <td>Federal government employees are dedicated pub...</td>\n",
       "      <td>Republican</td>\n",
       "      <td>BOOZMAN, John</td>\n",
       "      <td>federal government employee dedicate public se...</td>\n",
       "      <td>feder govern employe dedic public servant prov...</td>\n",
       "    </tr>\n",
       "    <tr>\n",
       "      <th>7</th>\n",
       "      <td>2019-09-13</td>\n",
       "      <td>.@DeptVetAffairs recently rolled out a new dig...</td>\n",
       "      <td>Republican</td>\n",
       "      <td>BOOZMAN, John</td>\n",
       "      <td>recently roll new digital memorial platform mi...</td>\n",
       "      <td>recent roll new digit memori platform million ...</td>\n",
       "    </tr>\n",
       "    <tr>\n",
       "      <th>10</th>\n",
       "      <td>2019-09-12</td>\n",
       "      <td>I know the importance of empowering women in t...</td>\n",
       "      <td>Republican</td>\n",
       "      <td>BOOZMAN, John</td>\n",
       "      <td>know importance empower woman global economy s...</td>\n",
       "      <td>know import empow women global economi sponsor...</td>\n",
       "    </tr>\n",
       "    <tr>\n",
       "      <th>17</th>\n",
       "      <td>2019-03-22</td>\n",
       "      <td>It was great to spend some time with leaders i...</td>\n",
       "      <td>Republican</td>\n",
       "      <td>BOOZMAN, John</td>\n",
       "      <td>great spend time leader van buren county talk ...</td>\n",
       "      <td>great spend time leader van buren counti talk ...</td>\n",
       "    </tr>\n",
       "    <tr>\n",
       "      <th>18</th>\n",
       "      <td>2019-09-18</td>\n",
       "      <td>For 72 years, @usairforce has been blazing the...</td>\n",
       "      <td>Republican</td>\n",
       "      <td>BOOZMAN, John</td>\n",
       "      <td>year blaze trail dominance air space cyberspac...</td>\n",
       "      <td>year blaze trail domin air space cyberspac dad...</td>\n",
       "    </tr>\n",
       "  </tbody>\n",
       "</table>\n",
       "</div>"
      ],
      "text/plain": [
       "         date                                               text affiliation  \\\n",
       "0  2019-03-19  Federal government employees are dedicated pub...  Republican   \n",
       "7  2019-09-13  .@DeptVetAffairs recently rolled out a new dig...  Republican   \n",
       "10 2019-09-12  I know the importance of empowering women in t...  Republican   \n",
       "17 2019-03-22  It was great to spend some time with leaders i...  Republican   \n",
       "18 2019-09-18  For 72 years, @usairforce has been blazing the...  Republican   \n",
       "\n",
       "    nominate_name                                         text_lemma  \\\n",
       "0   BOOZMAN, John  federal government employee dedicate public se...   \n",
       "7   BOOZMAN, John  recently roll new digital memorial platform mi...   \n",
       "10  BOOZMAN, John  know importance empower woman global economy s...   \n",
       "17  BOOZMAN, John  great spend time leader van buren county talk ...   \n",
       "18  BOOZMAN, John  year blaze trail dominance air space cyberspac...   \n",
       "\n",
       "                                         text_stemmed  \n",
       "0   feder govern employe dedic public servant prov...  \n",
       "7   recent roll new digit memori platform million ...  \n",
       "10  know import empow women global economi sponsor...  \n",
       "17  great spend time leader van buren counti talk ...  \n",
       "18  year blaze trail domin air space cyberspac dad...  "
      ]
     },
     "execution_count": 13,
     "metadata": {},
     "output_type": "execute_result"
    }
   ],
   "source": [
    "#Viewing the new dataset\n",
    "tweets.head()"
   ]
  },
  {
   "cell_type": "code",
   "execution_count": 14,
   "metadata": {},
   "outputs": [],
   "source": [
    "#Saving the preprocessed dataset\n",
    "tweets.to_csv('MOCTweets_preprocessed.csv.bz2', compression = 'bz2')"
   ]
  },
  {
   "cell_type": "markdown",
   "metadata": {},
   "source": [
    "### 1: Preparing the data for topic modelling\n",
    "\n",
    "The preprocessed data includes columns for date, affiliation, nominate name, tweet text, and two columns of preprocessed tweet text: one stemmed and one lemmatized. We will be using the stemmed text today. \n",
    "\n",
    "1. Import the dataframe\n",
    "2. Convert 'date' from str type object to datetime type \n",
    "3. Similar to last week, replace NaN values with an empty string in the stemmed text. Then use `groupby` and `agg` to group the data by *date* and *affiliation*, and aggregate the stemmed tweet text within each of these categories into one long string. You do not need to save the nominate names. \n",
    "4. For each row, tokenize the stemmed text data into unigrams. Consider using NLTK's `TweetTokenizer`, which is made to handle e.g. hashtags and emojis.\n",
    "5. For each row, use `nltk.bigrams` to create bigrams from the unigrams. This function will return a list of tuples. Connect the two words in each bigram tuple with an underscore to get a list of bigram tokens. E.g.: [(great, news), (news, presid), (presid, signatur)] --> ['great_news', 'news_presid', 'presid_signatur']\n",
    "6. For each row, combine the unigrams and bigrams in one cell to create a list of all unigram and bigram tokens in that row.\n"
   ]
  },
  {
   "cell_type": "code",
   "execution_count": 2,
   "metadata": {},
   "outputs": [],
   "source": [
    "#Importing the data\n",
    "tweets = pd.read_csv('MOCTweets_preprocessed.csv.bz2', compression = 'bz2')"
   ]
  },
  {
   "cell_type": "code",
   "execution_count": 3,
   "metadata": {},
   "outputs": [],
   "source": [
    "#Replacing nan values with empty strings\n",
    "tweets.text_lemma = tweets.text_lemma.apply(lambda x: '' if str(x) == 'nan' else x)\n",
    "tweets.text_stemmed = tweets.text_stemmed.apply(lambda x: '' if str(x) == 'nan' else x)"
   ]
  },
  {
   "cell_type": "code",
   "execution_count": 4,
   "metadata": {
    "scrolled": true
   },
   "outputs": [
    {
     "name": "stdout",
     "output_type": "stream",
     "text": [
      "(864, 5)\n"
     ]
    },
    {
     "data": {
      "text/html": [
       "<div>\n",
       "<style scoped>\n",
       "    .dataframe tbody tr th:only-of-type {\n",
       "        vertical-align: middle;\n",
       "    }\n",
       "\n",
       "    .dataframe tbody tr th {\n",
       "        vertical-align: top;\n",
       "    }\n",
       "\n",
       "    .dataframe thead th {\n",
       "        text-align: right;\n",
       "    }\n",
       "</style>\n",
       "<table border=\"1\" class=\"dataframe\">\n",
       "  <thead>\n",
       "    <tr style=\"text-align: right;\">\n",
       "      <th></th>\n",
       "      <th>date</th>\n",
       "      <th>affiliation</th>\n",
       "      <th>text</th>\n",
       "      <th>text_lemma</th>\n",
       "      <th>text_stemmed</th>\n",
       "    </tr>\n",
       "  </thead>\n",
       "  <tbody>\n",
       "    <tr>\n",
       "      <th>0</th>\n",
       "      <td>2019-01-01</td>\n",
       "      <td>Democrat</td>\n",
       "      <td>Out of a tragedy, some great news: with the Pr...</td>\n",
       "      <td>tragedy great news president signature tonight...</td>\n",
       "      <td>tragedi great news presid signatur tonight #as...</td>\n",
       "    </tr>\n",
       "    <tr>\n",
       "      <th>1</th>\n",
       "      <td>2019-01-01</td>\n",
       "      <td>Republican</td>\n",
       "      <td>Have a happy, healthy and prosperous 2019!  #H...</td>\n",
       "      <td>happy healthy prosperous #happynewyear # k #ne...</td>\n",
       "      <td>happi healthi prosper #happynewyear # k #newye...</td>\n",
       "    </tr>\n",
       "    <tr>\n",
       "      <th>2</th>\n",
       "      <td>2019-01-02</td>\n",
       "      <td>Democrat</td>\n",
       "      <td>Amen. https://t.co/fiM7C8e4lc “My supervisor t...</td>\n",
       "      <td>amen supervisor tell wont get pay bill wont ge...</td>\n",
       "      <td>amen supervisor told wont get paid bill wont g...</td>\n",
       "    </tr>\n",
       "    <tr>\n",
       "      <th>3</th>\n",
       "      <td>2019-01-02</td>\n",
       "      <td>Republican</td>\n",
       "      <td>RT @cdw: I see that Mr. Alright Alright Alrigh...</td>\n",
       "      <td>see mr alright alright alright sideline #hooke...</td>\n",
       "      <td>see mr alright alright alright sidelin #hookem...</td>\n",
       "    </tr>\n",
       "    <tr>\n",
       "      <th>4</th>\n",
       "      <td>2019-01-03</td>\n",
       "      <td>Democrat</td>\n",
       "      <td>Before the shutdown, before the pay freeze, th...</td>\n",
       "      <td>shutdown pay freeze federal government suffer ...</td>\n",
       "      <td>shutdown pay freez feder govern suffer lack le...</td>\n",
       "    </tr>\n",
       "  </tbody>\n",
       "</table>\n",
       "</div>"
      ],
      "text/plain": [
       "         date affiliation                                               text  \\\n",
       "0  2019-01-01    Democrat  Out of a tragedy, some great news: with the Pr...   \n",
       "1  2019-01-01  Republican  Have a happy, healthy and prosperous 2019!  #H...   \n",
       "2  2019-01-02    Democrat  Amen. https://t.co/fiM7C8e4lc “My supervisor t...   \n",
       "3  2019-01-02  Republican  RT @cdw: I see that Mr. Alright Alright Alrigh...   \n",
       "4  2019-01-03    Democrat  Before the shutdown, before the pay freeze, th...   \n",
       "\n",
       "                                          text_lemma  \\\n",
       "0  tragedy great news president signature tonight...   \n",
       "1  happy healthy prosperous #happynewyear # k #ne...   \n",
       "2  amen supervisor tell wont get pay bill wont ge...   \n",
       "3  see mr alright alright alright sideline #hooke...   \n",
       "4  shutdown pay freeze federal government suffer ...   \n",
       "\n",
       "                                        text_stemmed  \n",
       "0  tragedi great news presid signatur tonight #as...  \n",
       "1  happi healthi prosper #happynewyear # k #newye...  \n",
       "2  amen supervisor told wont get paid bill wont g...  \n",
       "3  see mr alright alright alright sidelin #hookem...  \n",
       "4  shutdown pay freez feder govern suffer lack le...  "
      ]
     },
     "execution_count": 4,
     "metadata": {},
     "output_type": "execute_result"
    }
   ],
   "source": [
    "#Aggregating tweet data by dates and affiliation \n",
    "tweets_agg = tweets.groupby(['date', 'affiliation'], as_index = False).agg({'text': ' '.join,\n",
    "                                                                            'text_lemma': ' '.join,\n",
    "                                                                            'text_stemmed': ' '.join})\n",
    "\n",
    "#Checking dimensions of new dataset and viewing the dataset\n",
    "print(tweets_agg.shape)\n",
    "tweets_agg.head()\n"
   ]
  },
  {
   "cell_type": "code",
   "execution_count": 5,
   "metadata": {
    "scrolled": true
   },
   "outputs": [
    {
     "name": "stderr",
     "output_type": "stream",
     "text": [
      "100%|██████████| 864/864 [00:27<00:00, 30.95it/s]\n"
     ]
    }
   ],
   "source": [
    "#Defining NLTK's TweetTokenizer\n",
    "tokenizer = TweetTokenizer()\n",
    "\n",
    "tqdm.pandas() #Creates a progress bar. Use progress_apply instead of apply.\n",
    "\n",
    "#Creating a column of unigrams from the stemmed tweet text\n",
    "tweets_agg['unigrams'] = tweets_agg['text_stemmed'].progress_apply(lambda x: tokenizer.tokenize(x))"
   ]
  },
  {
   "cell_type": "code",
   "execution_count": 6,
   "metadata": {},
   "outputs": [
    {
     "name": "stderr",
     "output_type": "stream",
     "text": [
      "100%|██████████| 864/864 [00:03<00:00, 242.29it/s]\n"
     ]
    }
   ],
   "source": [
    "#Defining a function that will create bigrams \n",
    "def bigrams(doc):\n",
    "    \n",
    "    bigrams = [] #Empty list to save the bigrams\n",
    "    \n",
    "    for bigram in list(nltk.bigrams(doc)):  #Creating bigrams and iterating over them\n",
    "        bigrams.append(\"_\".join(bigram))    #Connecting each bigram pair with an underscore and saving to list\n",
    "    \n",
    "    return bigrams\n",
    "\n",
    "#Creating a column with bigrams\n",
    "tweets_agg['bigrams'] = tweets_agg.unigrams.progress_apply(lambda x: bigrams(x))\n"
   ]
  },
  {
   "cell_type": "code",
   "execution_count": 7,
   "metadata": {},
   "outputs": [],
   "source": [
    "#Combining unigrams and bigrams in one column\n",
    "tweets_agg['tokens'] = tweets_agg.unigrams+tweets_agg.bigrams"
   ]
  },
  {
   "cell_type": "code",
   "execution_count": 8,
   "metadata": {},
   "outputs": [
    {
     "data": {
      "text/html": [
       "<div>\n",
       "<style scoped>\n",
       "    .dataframe tbody tr th:only-of-type {\n",
       "        vertical-align: middle;\n",
       "    }\n",
       "\n",
       "    .dataframe tbody tr th {\n",
       "        vertical-align: top;\n",
       "    }\n",
       "\n",
       "    .dataframe thead th {\n",
       "        text-align: right;\n",
       "    }\n",
       "</style>\n",
       "<table border=\"1\" class=\"dataframe\">\n",
       "  <thead>\n",
       "    <tr style=\"text-align: right;\">\n",
       "      <th></th>\n",
       "      <th>date</th>\n",
       "      <th>affiliation</th>\n",
       "      <th>text</th>\n",
       "      <th>text_lemma</th>\n",
       "      <th>text_stemmed</th>\n",
       "      <th>unigrams</th>\n",
       "      <th>bigrams</th>\n",
       "      <th>tokens</th>\n",
       "    </tr>\n",
       "  </thead>\n",
       "  <tbody>\n",
       "    <tr>\n",
       "      <th>0</th>\n",
       "      <td>2019-01-01</td>\n",
       "      <td>Democrat</td>\n",
       "      <td>Out of a tragedy, some great news: with the Pr...</td>\n",
       "      <td>tragedy great news president signature tonight...</td>\n",
       "      <td>tragedi great news presid signatur tonight #as...</td>\n",
       "      <td>[tragedi, great, news, presid, signatur, tonig...</td>\n",
       "      <td>[tragedi_great, great_news, news_presid, presi...</td>\n",
       "      <td>[tragedi, great, news, presid, signatur, tonig...</td>\n",
       "    </tr>\n",
       "    <tr>\n",
       "      <th>1</th>\n",
       "      <td>2019-01-01</td>\n",
       "      <td>Republican</td>\n",
       "      <td>Have a happy, healthy and prosperous 2019!  #H...</td>\n",
       "      <td>happy healthy prosperous #happynewyear # k #ne...</td>\n",
       "      <td>happi healthi prosper #happynewyear # k #newye...</td>\n",
       "      <td>[happi, healthi, prosper, #happynewyear, #, k,...</td>\n",
       "      <td>[happi_healthi, healthi_prosper, prosper_#happ...</td>\n",
       "      <td>[happi, healthi, prosper, #happynewyear, #, k,...</td>\n",
       "    </tr>\n",
       "    <tr>\n",
       "      <th>2</th>\n",
       "      <td>2019-01-02</td>\n",
       "      <td>Democrat</td>\n",
       "      <td>Amen. https://t.co/fiM7C8e4lc “My supervisor t...</td>\n",
       "      <td>amen supervisor tell wont get pay bill wont ge...</td>\n",
       "      <td>amen supervisor told wont get paid bill wont g...</td>\n",
       "      <td>[amen, supervisor, told, wont, get, paid, bill...</td>\n",
       "      <td>[amen_supervisor, supervisor_told, told_wont, ...</td>\n",
       "      <td>[amen, supervisor, told, wont, get, paid, bill...</td>\n",
       "    </tr>\n",
       "  </tbody>\n",
       "</table>\n",
       "</div>"
      ],
      "text/plain": [
       "         date affiliation                                               text  \\\n",
       "0  2019-01-01    Democrat  Out of a tragedy, some great news: with the Pr...   \n",
       "1  2019-01-01  Republican  Have a happy, healthy and prosperous 2019!  #H...   \n",
       "2  2019-01-02    Democrat  Amen. https://t.co/fiM7C8e4lc “My supervisor t...   \n",
       "\n",
       "                                          text_lemma  \\\n",
       "0  tragedy great news president signature tonight...   \n",
       "1  happy healthy prosperous #happynewyear # k #ne...   \n",
       "2  amen supervisor tell wont get pay bill wont ge...   \n",
       "\n",
       "                                        text_stemmed  \\\n",
       "0  tragedi great news presid signatur tonight #as...   \n",
       "1  happi healthi prosper #happynewyear # k #newye...   \n",
       "2  amen supervisor told wont get paid bill wont g...   \n",
       "\n",
       "                                            unigrams  \\\n",
       "0  [tragedi, great, news, presid, signatur, tonig...   \n",
       "1  [happi, healthi, prosper, #happynewyear, #, k,...   \n",
       "2  [amen, supervisor, told, wont, get, paid, bill...   \n",
       "\n",
       "                                             bigrams  \\\n",
       "0  [tragedi_great, great_news, news_presid, presi...   \n",
       "1  [happi_healthi, healthi_prosper, prosper_#happ...   \n",
       "2  [amen_supervisor, supervisor_told, told_wont, ...   \n",
       "\n",
       "                                              tokens  \n",
       "0  [tragedi, great, news, presid, signatur, tonig...  \n",
       "1  [happi, healthi, prosper, #happynewyear, #, k,...  \n",
       "2  [amen, supervisor, told, wont, get, paid, bill...  "
      ]
     },
     "execution_count": 8,
     "metadata": {},
     "output_type": "execute_result"
    }
   ],
   "source": [
    "#Viewing new dataframe\n",
    "tweets_agg.head(3)"
   ]
  },
  {
   "cell_type": "code",
   "execution_count": 9,
   "metadata": {},
   "outputs": [
    {
     "name": "stdout",
     "output_type": "stream",
     "text": [
      "['tragedi', 'great', 'news', 'presid', 'signatur', 'tonight', '#ashantialert', 'act', 'law', 'land', 'honor', 'work', 'ashanti', 'billi', 'parent', 'hampton', 'road', 'commun', 'pass', 'life-sav', 'legisl', 'wish', 'everyon', 'around', 'commonwealth', 'happi', 'healthi', 'new', 'year', 'wish', 'famili', 'happi', 'healthi', 'new', 'year', '🎉', 'wish', 'everyon', 'happi', 'healthi', 'new', 'year', 'given', 'democrat', 'great', 'opportun', 'show', 'govern', 'respons', 'quickli', 'pass', 'plan', 'end', 'irrespons', '#trumpshutdown', '–', 'first', 'sign', 'thing', 'come', 'new', 'democrat', 'major', 'commit', 'work', '#forthepeopl', 'republican', 'celebr', 'one-year', 'anniversari', 'trump', 'tax', 'cut', 'shouldnt', 'exactli', 'said', 'gop', 'jam', 'ill', 'advis', 'expens', 'unfair', 'tax', 'scam', 'way', 'mean', 'committe', 'famili', 'happi', 'new', 'year', 'im', 'alway', 'proud', 'see', 'everyon', 'celebr', 'time', 'squar', 'new', 'york', 'across', 'countri', 'readi', 'year', 'ahead', 'help', 'us', 'ring', 'new', 'year', 'amaz', 'view', '#ultimathul', 'distant', 'planetari', 'flybi', 'histori', 'congrat', 'everyon', 'nasa', 'partner', 'huge', 'achiev', 'past', 'year', 'ive', 'seen', 'maryland', 'walk', 'life', 'come', 'togeth', 'spread', 'messag', 'timeless', 'urgent', 'one', 'hope', 'decenc', 'uniti', 'let', 'summon', 'human', 'spirit', 'refresh', 'democraci', 'renew', 'countri', 'happi', 'new', 'year', 'maryland', '#happynewyear', 'goodby', '👋', 'readi', 'product', 'posit', 'cant', 'wait', 'get', 'back', 'busi', 'continu', 'fight', 'peopl', 'new', 'jersey', 'wish', 'everyon', 'safe', '#newyearsev', 'happi', 'new', 'year', 'one', 'readi', 'great', '🎉', 'mayb', 'year', 'trump', 'final', 'accept', 'scienc', 'behind', '#climatechang', 'shouldnt', 'partisan', 'issu', 'must', 'address', 'existenti', 'nation', 'secur', 'threat', 'want', 'mitig', 'effect', 'climat', 'chang', 'happi', 'new', 'year', '#nj', 'wish', 'happi', 'healthi', 'enter', 'new', 'year', 'congresss', '#', 'prioriti', 'must', 'end', 'partial', 'govern', 'shutdown', 'wish', 'everyon', 'peac', 'prosper', '#newyear', 'wish', 'happi', 'healthi', 'wish', 'everyon', 'healthi', '#happynewyear', 'resolut', 'fight', 'everi', 'day', 'senat', '#greennewd', '#actonclim', 'discuss', '#greennewd', 'breath', 'new', 'energi', 'movement', 'climat', 'action', 'need', 'har', 'momentum', 'head', 'new', 'congress', 'read', 'interview', 'ourdailyplanet', 'wish', 'everyon', 'happi', 'healthi', 'new', 'year', 'come', 'close', 'remain', 'concern', '#trumpshutdown', 'affect', 'coast', 'guard', 'servic', 'member', 'feder', 'employe', 'contractor', 'public', 'dem-l', 'th', 'congress', 'work', 'reopen', 'govern', 'immedi', 'happi', 'new', 'year', 'everyon', 'wonder', 'time', 'atlanta', 'naacp', 'today', 'jubile', 'day', 'keynot', 'phenomen', '…', 'here', 'happi', 'healthi', 'new', 'year', 'bring', 'new', 'opportun', 'progress', 'american', 'includ', 'better', 'health', 'care', 'environment', 'immigr', 'protect', 'passag', '#eranow', 'combat', 'govern', 'corrupt', 'level', '#happi', '#happynewyear', 'happi', 'new', 'year', 'famili', 'im', 'look', 'forward', 'serv', 'peopl', '#az', 'new', 'congress', 'ensur', 'put', 'polici', 'place', 'help', 'work', 'famili', 'thrive', 'here', 'presid', 'get', 'everyon', 'chant', 'mexico', 'pay', 'wall', 'man', 'shut', 'govern', 'republican', 'alli', 'cheer', '#trumpshutdown', '#publicland', '#nationalpark', 'admin', 'roll', 'back', 'health', 'protect', 'coal', 'plant', 'put', 'potent', 'neurotoxin', 'air', 'children', 'breath', 'futur', 'gener', 'deserv', 'grow', 'healthi', 'happi', 'suppos', 'environment', 'protect', 'agenc', '#trumpshutdown', 'second-longest', 'shutdown', 'decad', 'game', 'shutdown', 'real-world', 'impact', 'affect', 'hundr', 'thousand', 'american', 'must', 'look', 'climat', 'chang', 'devast', 'militari', 'attack', 'unit', 'state', 'entir', 'planet', 'must', 'respond', 'accordingli', 'job', 'pursu', 'bold', 'agenda', 'transform', 'energi', 'system', 'away', 'fossil', 'fuel', 'energi', 'effici', 'sustain', 'energi', 'war', 'climat', 'chang', 'sake', 'kid', 'grandchildren', 'cannot', 'lose', 'happi', 'new', 'year', 'may', 'famili', 'enjoy', 'good', 'health', 'happi', 'year', 'in-n-out', 'burger', 'check', 'local', 'brew', 'check', 'twinki', 'check', 'presidenti', 'wig', 'check', 'new', 'year', 'eve', 'look', 'promis', 'far', 'constitu', 'friend', 'everyon', 'els', 'happi', 'new', 'year', 'coupl', 'reflect', 'resolut', 'put', 'togeth', 'beauti', 'new', 'year', 'day', 'peopl', 'step', 'show', 'like', 'never', 'keep', 'weve', 'got', 'lot', 'work', 'ill', '…', 'swore', 'metuchen', 'mayor', 'jonathan', 'busch', 'well', 'councilwomen', 'sheri-ros', 'rubin', 'councilman', 'jason', 'delia', 'mayor', 'busch', 'mention', 'intern', 'mani', 'year', 'ago', 'washington', 'dc', 'happi', 'new', 'year', 'rememb', 'celebr', 'respons', 'drive', 'safe', 'use', 'design', 'driver', 'need', 'administ', 'oath', 'offic', 'councilwoman', 'lori', 'hohenleitn', 'councilman', 'roy', 'delosso', 'atlant', 'highland', 'borough', 'hall', 'happi', 'new', 'year', 'democrat', 'major', 'hous', 'opportun', 'take', 'action', 'mani', 'import', 'issu', 'includ', 'healthcar', 'environ', 'creat', 'job', 'commun', 'help', 'achiev', 'much', 'congratul', 'keyport', 'new', 'mayor', 'collett', 'kennedi', 'well', 'councilmen', 'denni', 'fotopoulu', 'matthew', 'good', 'sworn', 'today', 'happi', 'here', 'brand', 'new', 'year', 'keep', 'resolut', 'least', 'resolut', 'whatev', 'one', 'best', 'new', 'year', 'eve', 'ever', 'surpris', 'visit', 'wukrainian', 'troop', 'front', 'line', 'middl', 'snowstorm', 'friend', 'john', 'mccain', 'best', 'troop', 'new', 'year', 'new', 'begin', 'also', 'rememb', 'love', 'one', 'new', 'day', 'new', 'year', 'last', 'yeardespit', 'major', 'headwindsw', 'led', 'ticket', 'minnesota', 'victori', 'ballot', 'across', 'state', 'peopl', 'stood', 'countri', 'ideal', 'simpl', 'decenc', 'find', 'common', 'ground', 'got', 'us', 'higher', 'ground', 'im', 'readi', 'let', 'go', 'congratul', 'sarah', 'rasmussen', 'name', 'star', 'tribun', 'artist', 'year', 'role', 'jungl', 'theater', 'artist', 'director', 'help', 'local', 'theater', 'becom', 'hotspot', 'great', 'show', 'happi', 'new', 'year', 'eve', 'tonight', 'abigail', 'time', 'squar', 'watch', 'ball', 'drop', 'still', 'bucket', 'list', 'mom', '🥂', '🎉', 'wish', 'everyon', 'healthi', 'peac', 'deseándol', 'todo', 'un', 'feliz', 'año', 'happi', 'new', 'year', 'happi', 'new', 'year', 'time', 'get', 'work', 'secur', 'pension', 'worker', 'retire', 'protect', 'afford', 'care', 'act', 'put', 'money', 'pocket', 'work', 'famili', 'look', 'forward', 'new', 'year', 'new', 'puppi', 'penni', 'would', 'like', 'wish', 'everyon', '#il', 'happi', '#newyear', 'one', 'look', 'forward', 'great', 'famili', 'friend', 'product', 'th', 'congress', 'new', 'democrat', 'major', 'happi', 'new', 'year', 'wish', 'famili', 'happi', 'healthi', 'democrat', 'offer', 'respons', 'path', 'forward', 'end', '#trumpshutdown', 'reopen', 'govern', 'provid', 'certainti', 'new', 'mexico', 'worker', 'famili', 'economi', 'time', 'gop', 'leader', 'end', 'mad', 'full', 'statement', 'congratul', 'good', 'friend', 'new', 'governor', 'new', 'mexico', 'michel', 'lujan', 'grisham', 'honor', 'jill', 'part', 'swear', 'today', 'vision', 'stronger', 'new', 'mexico', 'inspir', 'cant', 'wait', 'work', 'make', 'realiti', '#aimhigh', 'happi', 'new', 'year', 'jill', 'want', 'wish', 'everyon', 'happi', 'healthi', 'year', 'im', 'renew', 'commit', 'work', 'togeth', 'stand', 'truth', 'fight', 'new', 'mexico', 'valu', 'prioriti', 'senat', 'make', 'berri', 'cobbler', 'bring', 'friend', 'hous', 'new', 'year', 'dinner', 'favorit', 'here', 'usual', 'recip', 'time', 'use', 'tb', 'lemon', 'juic', 'tsp', 'cinnamon', 'cup', 'sugar', 'fill', 'top', 'use', 'gluten', 'free', 'muesli', 'oat', 'honor', 'mark', 'new', 'year', 'help', 'swear', 'new', 'commun', 'leader', 'debbi', 'tsabari', 'jimmi', 'song', 'go', 'outstand', 'councilmemb', '#englewoodcliff', 'happi', 'new', 'jersey', 'bottom', 'heart', 'wish', 'everi', 'one', 'fill', 'prosper', 'well-b', 'success', 'joy', 'happi', 'new', 'year', 'america', '🎆', '🎉', '🎈', '🍾', 'new', 'secretari', 'state', 'go', 'incred', 'thing', 'michigan', 'congratul', 'sworn', 'today', 'heartfelt', 'congratul', 'gilchrist', 'ii', 'get', 'moment', '–', 'michigan', 'lucki', 'new', 'governor', 'lt', 'governor', 'count', 'moment', 'herewelcom', 'everyon', 'wish', 'wonder', 'new', 'year', 'thank', 'fighter', 'michigan', '–', 'warmest', 'congratul', 'sworn', 'new', 'attorney', 'gener', 'mr', 'falwel', 'surrend', 'pretens', 'moral', 'author', 'given', 'evangel', 'anoth', 'black', 'eye', 'form', 'biblic', 'equivoc', 'he', 'anoth', 'polit', 'hack', 'pretend', 'sell', 'religi', 'snake', 'oil', 'farewel', 'sec', 'matti', '-', 'thank', 'remind', 'us', 'men', 'women', 'uniform', 'take', 'oath', 'support', 'defend', 'constitut', '-', 'person', 'even', 'homeland', 'way', 'life', '#happynewyear', 'wish', 'eastern', 'ct', 'famili', 'happi', 'healthi', 'safe', 'alway', 'feel', 'lucki', 'live', 'repres', 'connecticut', 'second', 'district', 'congress', 'look', 'forward', 'anoth', 'year', 'fight', 'hard', 'valu', '#newyear', 'im', 'hit', 'ground', 'run', 'citi', 'deserv', 'better', 'philadelphian', 'ame', '…', 'young', 'peopl', 'countri', 'stood', 'nra', 'advoc', 'advanc', 'common', 'sens', 'gun', 'polici', 'housegvp', 'hous', 'gun', 'violenc', 'prevent', 'task', 'forc', 'colleagu', 'kick', '#newyear', 'introduc', 'gun', 'reform', 'legisl', 'young', 'peopl', 'countri', 'stood', 'nra', 'advoc', 'advanc', 'common', 'sens', 'gun', 'polici', 'housegvp', 'hous', 'gun', 'violenc', 'prevent', 'task', 'forc', 'colleagu', 'kick', '#newyear', 'introduc', 'gun', 'reform', 'legisl', '#newyear', 'im', 'hit', 'ground', 'run', 'citi', 'deserv', 'better', 'philadelphian', 'american', 'deserv', 'govern', 'work', 'address', 'need', 'forward-think', 'polici', '👉', '🏾', 'thread', 'want', 'thank', 'friend', 'famili', 'certainli', 'resid', '#philadelphia', 'afford', '…', 'next', 'day', 'fellow', 'friend', 'democrat', 'colleagu', 'take', 'back', 'hous', 'work', 'push', 'countri', 'forward', 'despit', 'presid', 'trump', 'constant', 'outburst', '#forthepeopl', '✊', '🏿', '✊', '🏾', '✊', '🏽', '✊', '🏼', '✊', '🏻', '👉', '🏾', 'thread', 'want', 'thank', 'friend', 'famili', 'certainli', 'resid', '#philadelphia', 'afford', 'opportun', 'serv', 'repres', 'ideal', 'congress', 'past', 'two', 'year', 'next', 'day', 'fellow', 'friend', 'democrat', 'colleagu', 'take', 'back', 'hous', 'work', 'push', 'countr', '…', 'common-sens', 'gun', 'reform', 'bc', '#enoughisenough', 'fix', 'countri', 'fail', '#infrastructur', 'improv', '#healthcar', 'system', '#raisethewag', 'campaign', 'financ', 'reform', 'much', 'look', 'forward', 'work', 'colleagu', 'hous', 'senat', 'make', 'citi', 'philadelphia', 'stronger', 'bl', '…', 'look', 'forward', 'work', 'colleagu', 'hous', 'senat', 'make', 'citi', 'philadelphia', 'stronger', 'block', 'block', 'help', 'fellow', 'philadelphian', 'way', 'possibl', 'happi', 'new', 'year', 'maryland', 'privileg', 'repres', 'senat', 'past', 'year', 'here', '–', 'may', 'peac', 'hope', 'year', 'famili', '#happynewyear', 'close', 'book', 'one', 'year', 'begin', 'anoth', 'want', 'wish', 'happi', 'healthi', '#newyear', 'happi', 'new', 'year', 'bright', 'light', 'fabul', 'la', 'vega', 'strip', '#onlyindistricton', '#nye', 'becam', 'citizen', 'last', 'year', 'vote', 'st', 'time', 'work', 'whe', 'organ', 'st', 'would', 'becom', 'annual', 'immigr', 'fair', 'thrill', 'see', 'he', 'join', 'public', 'relat', 'commun', 'affair', 'director', 'happi', 'new', 'year', 'trump', 'announc', 'anoth', 'win', 'coal', 'industri', 'trump', 'cook', 'book', 'recalcul', 'impact', 'diseas', 'death', 'regress', 'environment', 'polici', 'produc', 'mani', 'us', 'increasingli', 'busi', 'holiday', 'season', 'need', 'blood', 'donat', 'abat', 'season', 'give', 'especi', 'time', 'rememb', 'give', 'blood', 'help', 'give', 'gift', 'life', '#memphi', 'still', 'barbecueribsfri', 'chickenfri', 'green', 'tomatoesgritsif', 'aint', 'brokedont', 'fix', 'sorri', 'end', 'share', 'repcohen', 'intel', 'judiciari', 'cmte', 'introduc', '#articlesofimpeach', 'au', '…', 'gop', 'rep', 'walter', 'jone', 'suggest', 'trump', 'pay', 'part', 'wall', 'via', 'republican', 'one', 'finest', 'peopl', 'ive', 'seve', '#congress', '#', 'gentleman', 'scholar', 'courag', 'voic', 'reason', 'event', 'year', 'busi', 'work', 'behalf', 'new', 'york', 'work', 'famili', 'senior', 'neighbor', 'im', 'disappoint', 'year', 'end', '#trumpshutdown', 'look', 'forward', 'get', 'work', 'start', 'pass', 'legisl', 'reopen', 'govern', 'happi', 'new', 'year', 'send', 'best', 'wish', 'peac', 'new', 'year', 'happi', 'new', 'year', 'wish', 'everyon', 'happi', 'healthi', 'start', '#newyear', 'today', 'im', 'fli', 'washington', 'rd', 'grade', 'daughter', 'swear', 'us', 'congressman', 'weve', 'got', 'challeng', 'great', 'countri', '#az', 'rd', 'grade', 'parent', 'took', 'famili', 'summer', 'vacat', 'nation', 'capitol', 'learn', 'govern', 'couldnt', 'afford', 'airplan', 'ticket', 'travel', 'cross', 'countri', 'phoenix', 'trailway', 'bu', '-', 'day', 'night', 'way', 'love', 'read', 'full', 'statement', 'new', 'introduc', 'legisl', 'reopen', 'govern', 'end', '#trumpshutdown', 'consid', 'hous', 'jan', 'learn', '→', 'fact', 'housedemocrat', 'bill', 'made', 'commonsens', 'provis', 'alreadi', 'pass', 'senat', 'bipartisan', 'basi', 'end', '#trumpshutdown', 'reopen', 'govern', 'year', 'good', 'friday', 'agreement', 'brexit', 'threaten', 'hard-won', 'peac', 'northern', 'ireland', 'explain', 'congrat', 'friend', 'sworn', 'today', 'inspir', 'accomplish', 'nasa', 'countri', '🇺', '🇸', 'humankind', 'cheer', '🥂', 'brand', 'new', 'year', 'alreadi', 'im', 'look', 'forward', 'presid', 'end', 'shutdown', 'new', 'th', 'congress', 'start', 'year', 'work', 'togeth', 'find', 'solut', 'help', 'everi', 'michigand', 'american', 'midnight', 'violenc', 'women', 'act', 'without', 'fund', 'day', 'year', 'host', 'resourc', 'fair', 'rang', 'help', '#goptaxscam', 'prevent', 'scam', 'target', 'elderli', 'sign', 'get', 'email', 'upcom', 'event', 'neighborhood', 'happi', 'independ', 'day', 'resili', 'peopl', 'haiti', 'celebr', 'year', 'independ', 'franc', 'ayiti', 'cheri', 'begin', 'new', 'year', 'symbol', 'hope', 'chang', 'look', 'forward', 'mani', 'mileston', 'mark', 'journey', 'happi', 'new', 'year', 'everyon', 'here', 'new', 'year', 'bring', 'us', 'light', 'love', 'determin', 'keep', 'fight', 'believ', '🎉', '#happynewyear', 'come', 'close', 'im', 'reflect', 'weve', 'achiev', 'readi', 'continu', 'fight', '#forthepeopl', 'enter', 'wish', 'healthi', 'happi', 'illinoi', 'famili', 'friend', '#happynewyear', 'presid', 'drag', 'nation', 'week', 'two', '#trumpshutdown', 'sit', 'white', 'hous', 'tweet', '…', 'year', 'ago', 'oscar', 'grant', 'tragic', 'senselessli', 'kill', 'polic', 'offic', 'fruitval', 'bart', 'station', 'memori', 'us', 'ensur', 'call', 'black', 'live', 'matter', 'reflect', 'justic', 'system', 'happi', 'new', 'year', 'look', 'forward', 'anoth', 'year', 'repres', 'ca', '-', 'fight', 'everi', 'day', 'american', 'peopl', 'make', 'progress', 'there', 'still', 'long', 'way', 'go', 'one', 'housedemocrat', 'top', 'prioriti', 'rais', 'minimum', 'wage', 'end', 'epidem', 'poverti', 'america', '#forthepeopl', 'take', 'major', 'new', 'congress', 'first', 'prioriti', 'end', '#trumpshutdown', 'pay', 'dedic', 'feder', 'worker', 'fund', 'program', 'american', 'famili', 'reli', 'go', 'get', 'done', '#forthepeopl', 'made', 'lot', 'good', 'troubl', 'year', 'excit', 'build', 'upon', 'work', 'enter', 'new', 'major', 'happi', 'new', 'year', 'im', 'demand', 'answer', 'trump', 'administr', 'saudi', 'involv', 'manslaught', 'suspect', 'escap', 'portland', 'saudi', 'arabia', 'brazen', 'action', 'recent', 'month', 'show', 'clear', 'disregard', 'rule', 'law', 'first', 'day', 'alway', 'deep', 'thank', 'honor', 'serv', 'ct', 'ill', 'work', 'harder', 'ever', 'brighter', 'safer', 'healthier', 'tomorrow', 'wonder', 'new', 'year', 'suicid', 'heartbreakingli', 'preval', 'prevent', 'facebook', 'big', 'brother', 'track', 'black', 'box', 'medicin', 'cri', 'transpar', 'oversight', 'secret', 'algorithm', 'conceal', 'monitor', 'potenti', 'market', 'requir', 'privaci', 'right', 'protect', 'happi', 'new', 'year', 'special', 'moment', 'ring', 'anoth', 'year', 'reflect', 'last', 'day', 'look', 'forward', 'make', 'much', 'real', 'progress', 'nation', 'year', 'new', 'congress', '#forthepeopl', 'one', 'base', 'realiti', 'he', 'tweet', 'well', 'pass', 'legisl', 'reopen', 'govern', 'get', 'work', 'make', 'progress', 'live', 'senior', 'children', 'hard-work', 'american', '#dayon', 'give', 'rest', '#newyearsev', 'wish', 'everyon', 'joy', 'prosper', 'new', 'year', 'enjoy', 'new', 'year', 'eve', 'celebr', 'safe', '🎉', '#newyearsev', '#happynewyear', '\\u2060', 'new', 'year', 'new', 'major', 'new', 'congress', '#forthepeopl', 'happi', 'healthi', 'new', 'year', 'whole', 'team', 'look', 'forward', 'serv', 'citizen', 'maryland', 'second', 'district', 'anoth', 'year', 'wish', 'everyon', 'healthi', 'happi', 'new', 'year', '🎊', '#happynewyear', '\\u2060', '\\u2060', 'congrat', 'alabama', 'state', 'univers', 'mighti', 'march', 'hornet', 'perform', 'today', 'rose', 'bowl', 'parad', 'go', 'hornet', '🐝', '🖤', '💛', 'congratul', 'newli', 'sworn', 'governor', 'new', 'mexico', 'honor', 'nm', 'new', 'year', 'bring', 'new', 'year', 'birthday', 'colleagu', 'reprobinkelli', 'happi', 'new', 'year', '#happynewyear', 'wish', 'happi', 'healthi', 'product', 'remain', 'honor', 'serv', 'peopl', 'kentucki', 'third', 'congression', 'district', 'happi', 'new', 'year', 'wish', 'everyon', 'safe', 'happi', 'new', 'year', 'im', 'look', 'forward', 'continu', 'work', 'behalf', 'strengthen', 'commun', 'countri', 'happi', 'new', 'year', 'lo', 'angel', '#ca', 'hermano', '👊', 'win', 'easi', 'govern', 'harder', 'georg', 'washington', 'hamiltonmus', 'happi', 'new', 'year', '🎊', '🎈', '🎉', 'may', 'god', 'continu', 'bless', 'watch', 'famili', 'unit', 'state', 'america', '🇺', '🇸', '🇺', '🇸', '🇺', '🇸', '🙏', '🏽', '🙏', '🏽', '🙏', '🏽', 'happi', 'new', 'year', 'wish', 'everyon', 'festiv', 'start', 'love', 'see', 'associ', 'amaz', 'let', 'go', 'hop', 'float', 'year', '#roseparad', 'much', 'hard', 'work', 'paid', 'creat', 'beauti', 'entri', '-', '-', 'credit', 'creativ', 'ingenu', 'involv', 'hope', 'new', 'year', 'bring', 'new', 'opportun', 'wonder', 'memori', 'also', 'bring', 'new', 'congress', 'start', 'thursday', '-', '-', 'im', 'excit', 'sworn', 'part', 'new', 'hous', 'major', 'continu', 'work', 'help', 'th', 'district', 'commun', 'trump', 'border', 'wall', 'rip', 'away', 'money', 'critic', 'nation', 'secur', 'prioriti', '-', '-', 'protect', 'america', 'foreign', 'threat', 'hire', 'custom', 'offic', 'speed', 'commerc', 'port', 'fund', 'first', 'respond', 'grant', 'prepar', 'commun', 'respond', 'disast', 'top', 'dem', 'dh', 'appropri', 'great', 'democrat', 'releas', 'bill', 'end', '#trumpshutdown', 'bill', 'fund', 'govt', 'pay', 'feder', 'worker', 'reject', 'donald', 'trump', 'billion', 'demand', 'useless', 'border', 'wall', 'fund', 'trump', 'border', 'wall', 'would', 'keep', 'us', 'fund', 'critic', 'nation', 'secur', 'prioriti', 'includ', 'protect', 'america', 'action', 'nation', 'like', 'russia', 'china', 'exampl', 'must', 'procur', 'new', 'heavi', 'icebreak', 'protect', 'vital', 'arctic', 'secur', 'interest', 'happi', 'new', 'year', 'felt', 'like', 'week', 'worth', 'news', 'happen', 'daili', 'here', 'hope', 'noteworthi', 'lot', '#goodnew', 'climat', 'children', 'senior', 'everyon', 'commun', 'around', 'world', 'project', 'increas', 'inland', 'flood', 'come', 'centuri', 'threaten', 'approxim', 'bridg', 'across', 'us', 'estim', 'result', 'averag', 'annual', 'damag', 'billion', 'year', '#nca', '#climatecrisiscountdown', 'pleas', 'dont', 'stop', 'hope', 'youll', 'also', 'use', 'new', 'major', 'restor', 'fact', 'empiric', 'good', 'faith', 'wallimmigr', 'debat', 'domin', 'concert', 'deepli', 'destruct', 'disinform', 'must', 'look', 'climat', 'chang', 'devast', 'militari', 'attack', 'unit', 'state', 'entir', 'planet', '…', '#happynewyear', '#', 'may', 'better', 'year', 'happi', 'new', 'year', 'may', 'join', 'togeth', 'tackl', 'challeng', 'us', 'endeavor', 'help', 'make', 'world', 'healt', '…', 'take', 'major', 'new', 'congress', 'first', 'prioriti', 'end', '#trumpshutdown', 'pay', 'dedic', 'feder', 'worker', 'fund', 'program', 'american', 'famili', 'reli', 'go', 'get', 'done', '#forthepeopl', 'new', 'hous', 'democrat', 'major', 'swiftli', 'pass', 'legisl', 're-open', 'govern', 'day', 'one', '#forthepeopl', '#happynewyear', 'missouri', 'democrat', 'parti', '‼', '️', 'wish', 'love', 'one', 'year', 'fill', 'opportun', 'bl', '…', 'lincoln', 'declar', 'end', 'slaveri', 'new', 'year', 'day', 'went', 'two', 'year', 'happi', 'new', 'year', '-', '-', '-', 'may', 'hope', 'vision', 'goal', 'accomplish', 'year', 'thank', 'ariaa', 'happi', 'new', 'year', 'kid', 'spend', '#newyearsev', 'cours', 'cameo', 'gang', 'cnn', 'pleas', 'dont', 'disappoint', 'pleas', 'get', 'good', 'stuff', 'zzzzzz', 'year', 'prove', 'democraci', 'work', 'move', 'feet', 'town', 'squar', 'town', 'hall', 'march', 'ballot', 'box', 'voic', 'heard', 'help', 'save', 'america', 'here', 'work', 'ahead', '#happynewyear', 'happi', 'new', 'year', 'peopl', 'massachusett', 'sent', 'home', 'work', 'without', 'pay', '#trumpshutdown', 're-open', 'govern', 'im', 'donat', 'salari', 'hiasrefuge', 'nonprofit', 'help', 'refuge', 'make', 'countri', 'stronger', 'process', 'wish', 'everyon', '#wa', 'around', 'countri', 'happi', 'new', 'year', 'happi', 'birthday', 'repderekkilm', 'great', 'washington', 'deleg', 'work', 'hard', '#wa', 'famili', 'happi', 'new', 'year', 'wish', 'everyon', 'healthi', 'prosper', 'look', 'forward', 'tackl', 'new', 'issu', 'aris', '#il', 'product', 'th', 'congress', 'democrat', 'major', 'here', 'success', 'year', 'ahead', 'happi', 'new', 'year', 'happi', 'new', 'year', 'wish', 'love', 'one', 'wonder', 'fill', 'much', 'prosper', 'happi', 'joyou', 'wish', 'happi', 'new', 'year', 'excit', 'year', 'uniqu', 'opportun', 'make', 'countri', 'better', 'place', 'time', 'get', 'work', 'happi', '#newyear', 'wish', 'love', 'one', 'best', 'happi', 'new', 'year', 'wish', 'everyon', 'peac', 'joyou', 'happi', 'new', 'year', 'wish', 'love', 'one', 'joy', 'healthi', 'new', 'year', 'honor', 'repres', 'im', 'look', 'forward', 'work', 'make', 'progress', 'commun', 'part', 'new', 'hous', 'major', '#happynewyear', 'hudson', 'america', 'river', 'preserv', 'kid', 'grandkidsand', 'mean', 'make', 'sure', 'water', 'safe', 'fought', 'success', 'kill', 'anchorag', 'propos', 'cant', 'let', 'must', 'continu', 'fight', 'protect', 'river', 'next', 'gener', 'cant', 'let', 'washington', 'republican', 'destroy', 'retir', 'secur', 'pay', 'massiv', 'tax', 'bill', 'mani', 'folk', 'count', 'social', 'secur', 'get', 'im', 'work', 'congress', 'initi', 'would', 'ensur', 'keep', 'safeti', 'net', 'work', 'hard', 'build', 'happi', 'new', 'year', 'wisconsin', 'let', 'continu', 'work', 'togeth', 'move', 'state', 'countri', '#forward', 'famili', '–', 'wish', 'happi', 'healthi', '#newyear', 'happi', 'new', 'year', 'look', 'forward', 'continu', 'work', 'arizonan', 'new', 'year', 'happi', 'new', 'year', 'love', 'one', 'may', 'full', 'health', 'happi', 'prosper', '#happynewyear', 'happi', 'new', 'year', 'everyon', 'feel', 'privileg', 'serv', 'past', 'year', 'look', 'forward', 'anoth', 'year', 'fight', 'hardwork', 'peopl', 'across', 'region', 'refresh', 'leadership', 'long', 'overdu', 'happi', 'new', 'year', 'san', 'diego', 'wish', 'everyon', 'happi', 'healthi', 'prosper', 'new', 'year', 'hardwork', 'men', 'women', 'across', 'countri', 'see', 'much', 'need', 'pay', 'rais', 'step', 'right', 'direct', 'need', 'pay', 'worker', 'live', 'wage', '#fightfor', 'continu', '#happynewyear', 'happi', 'birthday', 'ventura', 'counti', 'becam', 'counti', 'day', 'alway', 'tell', 'colleagu', 'beauti', 'district', 'entir', 'countri', 'great', 'honor', 'abl', 'serv', 'repres', 'congress', 'look', 'forward', 'continu', 'serv', 'upcom', 'year', 'wish', 'amaz', '📸', 'great', 'buckey', 'heisman', 'winner', '#gobuck', 'happi', 'new', 'year', 'let', 'go', 'buck', '#rosebowl', '#oh', 'florida', 'new', 'minimum', 'wage', 'today', 'feder', 'minimum', 'wage', 'stuck', 'bc', 'gop', 'block', 'democratic-propos', 'increas', 'year', 'livabl', 'wage', 'let', 'fight', 'rais', 'unconscion', 'low', 'wage', 'dignifi', 'work', 'w', 'real', 'pay', 'wonder', 'year', 'commun', 'grate', 'great', 'work', 'servic', 'done', 'across', 'tampa', 'bay', 'soon', 'share', 'detail', 'new', 'select', 'committe', 'climat', 'crisi', 'new', 'congress', 'meantim', 'happi', 'new', 'year', 'wish', 'everyon', 'safe', '#happynewyear', '\\u2060', 'say', 'goodby', 'past', 'hello', 'new', 'year', 'full', 'faith', 'hope', 'peac', 'love', 'wish', 'full', 'happi', '#happynewyear', '#', 'month', 'children', 'die', 'cbp', 'custodi', 'intern', 'doc', 'said', 'children', 'facil', 'face', 'horrif', 'condit', 'one', 'child', 'diarrhea', 'dri', 'lip', 'fever', 'border', 'agent', 'declin', 'seek', 'medic', 'care', 'close', 'cell', 'door', 'congress', 'must', 'investig', 'say', 'goodby', 'hello', 'want', 'wish', 'happi', 'healthi', 'prosper', 'new', 'year', 'ask', 'exact', 'thing', 'particularli', 'tough', 'year', 'farmer', 'leav', 'futur', 'uncertain', 'trump', 'tariff', 'trade', 'war', 'major', 'problem', 'farm', 'commun', 'work', 'peopl', 'go', 'taken', 'terribl', 'con', 'peopl', 'want', 'deceiv', 'happi', 'new', 'year', 'here', 'good', 'thing', 'wish', 'everyon', 'happi', 'safe', 'rememb', 'ring', 'new', 'year', 'respons', 'even', 'despit', 'occup', 'white', 'hous', 'feder', 'worker', 'rest', 'assur', 'us', 'repres', 'themhav', 'back', 'make', 'sure', 'stoppag', 'pay', 'rectifi', 'letter', 'peopl', 'step', 'show', 'like', 'never', 'keep', 'weve', 'got', 'lot', 'work', 'ill', '…', 'first', 'thing', 'major', 'thursday', 'pass', 'legisl', 'reopen', 'govern', 'senat', 'pass', 'nearli', 'unanim', 'bipartisan', 'support', 'fund', 'wall', 'trump', 'promis', 'mexico', 'would', 'pay', 'trump', 'shutdown', 'must', 'end', 'studi', 'childhood', 'death', 'america', 'due', 'gun', 'hous', 'repres', 'longtim', 'inact', 'gun', 'violenc', 'end', 'signific', 'stori', 'wasnt', 'donald', 'trump', 'robert', 'mueller', 'climat', 'chang', 'ill', 'shortli', 'discuss', 'latest', '#trumpshutdown', 'enter', 'new', 'year', 'ill', 'shortli', 'discuss', 'latest', '#trumpshutdown', 'enter', 'new', 'year', 'im', 'readi', 'vote', 'soon', 'possibl', 'hope', 'presid', 'join', 'us', 'end', 'pointless', 'harm', 'shutdown', 'happi', 'new', 'year', 'excit', 'serv', '#ni', 'wish', 'everyon', 'happi', 'healthi', 'new', 'year', 'head', 'held', 'high', 'ucffootbal', 'accomplish', 'last', 'two', 'season', 'amaz', 'brought', 'pride', 'joy', 'univers', 'central', 'florida', 'commun', 'thank', 'senior', 'alreadi', 'look', 'forward', 'next', 'season', '#chargeon', 'happi', 'new', 'year', 'humbl', 'honor', 'opportun', 'continu', 'serv', 'congressman', 'unit', 'state', 'hous', 'repres', 'thank', 'highlight', 'staff', 'work', 'behalf', 'peopl', 'central', 'coast', 'happi', 'new', 'year', 'nic', 'good', 'morn', 'central', 'florida', 'happi', 'wish', 'safe', 'happi', 'prosper', 'year', 'year', 'chanc', 'make', 'heard', 'never', 'forget', 'power', 'creat', 'chang', 'cant', 'wait', 'work', 'ca', 'wildfir', 'brutal', 'hurrican', 'record-shatt', 'heat', 'world', 'degre', 'algeria', 'give', 'us', 'agenda', 'chang', 'polit', 'climat', 'save', 'place', 'earth', 'im', 'proud', 'weve', 'accomplish', 'nevada', 'secur', 'state', 'futur', 'innov', 'state', 'provid', 'militari', 'law', 'enforc', 'w', 'tool', 'keep', 'us', 'safe', 'ive', 'work', 'across', 'aisl', 'pass', 'legisl', 'put', 'nevadan', 'first', 'next', 'senior', 'senat', 'enter', 'th', 'congress', 'renew', 'energi', 'protect', 'nevadan', 'health', 'care', 'creat', 'good-pay', 'job', 'expand', 'afford', 'hous', 'improv', 'live', 'nevada', 'famili', 'new', 'year', 'mean', 'anoth', 'opportun', 'reflect', 'grate', 'incred', 'honor', 'repres', 'great', 'state', 'nevada', 'look', 'forward', 'renew', 'enthusiasm', 'passion', 'hope', 'famili', 'wish', 'happi', 'prosper', 'new', 'year', 'hope', 'wonder', 'even', 'better', 'wish', 'everyon', 'happi', 'healthi', 'new', 'year', 'thank', 'opportun', 'serv', 'last', 'two', 'year', 'look', 'forward', 'make', 'progress', 'north', 'jersey', 'came', 'congress', 'belief', 'better', 'better', 'continu', 'fight', 'health', 'care', 'equiti', 'justic', 'game', 'day', '🌹', '🏈', 'cours', 'im', 'root', 'uwfootbal', 'go', 'huski', '#purplereign', '#happynewyear', 'pinella', 'honor', 'continu', 'servic', 'commun', 'beyond', 'new', 'democrat', 'hous', 'major', 'stand', 'readi', 'work', 'begin', 'th', 'congress', 'vote', 'immedi', 'end', 'trump', 'govern', 'shutdown', 'suspend', 'pay', 'thousand', 'hardwork', 'american', 'limit', 'feder', 'servic', 'well', 'tool', 'need', 'expos', 'unlimit', 'campaign', 'spend', 'super', 'pac', 'well', 'work', 'end', 'voter', 'suppress', 'hr', 'well', 'also', 'abl', 'provid', 'oversight', 'administr', 'polici', 'includ', 'treatment', 'immigr', 'asylum', 'seeker', 'new', 'congress', 'continu', 'work', 'protect', 'air', 'water', 'attack', 'administr', 'well', 'promot', 'strateg', 'invest', 'address', 'worsen', 'effect', 'climat', 'chang', 'central', 'coast', 'here', 'look', 'back', 'offic', 'abl', 'accomplish', 'first', 'term', 'look', 'forward', 'continu', 'work', 'behalf', 'id', 'like', 'wish', 'everyon', 'central', 'coast', 'wonder', 'new', 'year', 'full', 'joy', 'hope', 'futur', 'past', 'year', 'difficult', 'mani', 'american', 'countri', 'seem', 'grow', 'even', 'divid', 'look', 'forward', 'new', 'year', 'much', 'hope', 'hope', 'love', 'one', 'happi', 'prosper', 'new', 'year', 'look', 'forward', 'fight', 'share', 'valu', 'th', 'congress', '#happynewyear', '#happi', 'happi', 'new', 'year', 'year', 'resolut', 'keep', 'fight', 'medicar', 'minimum', 'wage', 'green', 'new', 'deal', 'polici', 'help', 'work', 'famili', 'grow', 'economi', 'leav', 'world', 'better', 'children', 'found', 'northport', 'va', 'model', 'countri', 'continu', 'push', 'improv', 'incl', 'reopen', 'beacon', 'hous', 'improv', 'physic', 'plant', 'wdemo', 'vacant', 'bldg', 'improv', 'access', 'mental', 'health', 'counsel', 'transit', 'activ', 'duti', 'statu', 'wish', 'love', 'one', 'new', 'year', 'fill', 'purpos', 'courag', 'determin', '#happynewyear', 'accomplish', 'great', 'thing', 'look', 'forward', 'achiev', 'work', 'togeth', 'wish', 'happi', 'healthi', '#happynewyear', '#nye', 'happi', 'new', 'year', 'look', 'forward', 'mani', 'bless', 'new', 'year', 'bring', '#happynewyear', '#congress', 'new', 'year', 'la', 'vega', 'alway', 'beauti', 'sight', 'wish', 'everyon', 'happi', 'healthi', 'wonder', 'happi', 'new', 'year', 'went', 'lot', 'also', 'lot', 'good', 'movement', 'began', 'new', 'face', 'join', 'felt', 'power', 'million', 'peopl', 'ballot', 'box', 'let', 'make', 'even', 'better', 'ill', 'live', 'moment', 'discuss', 'shutdown', 'democrat', 'plan', 'reopen', 'govern', 'presid', 'trump', 'shouldnt', 'hold', 'thousand', 'work', 'famili', 'pay', 'essenti', 'govern', 'servic', 'hostag', 'ineffect', 'wall', 'go', 'move', 'border', 'wall', 'unless', 'part', 'comprehens', 'immigr', 'reform', 'discuss', 'what', 'next', 'partial', 'govern', 'shutdown', 'continu', 'lawmak', 'prepar', 'return', 'dc', 'go', 'talk', 'border', 'secur', 'talk', 'pathway', 'citizenship', 'famili', 'reunif', 'visa', 'lotteri', 'system', 'convers', 'democrat', 'republican', 'want', 'presid', 'clearli', 'doesnt', 'want', 'absurd', 'wall', 'turn', 'calendar', 'extend', 'best', 'wish', '#happynewyear', 'fill', 'good', 'health', 'prosper', 'kick', 'mummer', 'wish', '#happynewyear', 'bring', 'renew', 'commit', 'restor', 'faith', 'democrat', 'institutionsa', 'govern', '#forthepeopl', 'look', 'forward', 'accomplish', 'togeth', 'wish', 'happi', 'healthi', 'new', 'year', 'incom', 'rep', 'joe', 'negus', 'deliv', 'last', 'weekli', 'democrat', 'address', 'honor', 'deliv', 'final', 'democrat', 'address', 'spent', 'career', 'work', 'make', 'elect', 'fairer', 'access', 'excit', 'continu', 'work', 'champion', 'passag', 'hr', '-', '#forthepeopl', 'tragedi_great', 'great_news', 'news_presid', 'presid_signatur', 'signatur_tonight', 'tonight_#ashantialert', '#ashantialert_act', 'act_law', 'law_land', 'land_honor', 'honor_work', 'work_ashanti', 'ashanti_billi', 'billi_parent', 'parent_hampton', 'hampton_road', 'road_commun', 'commun_pass', 'pass_life-sav', 'life-sav_legisl', 'legisl_wish', 'wish_everyon', 'everyon_around', 'around_commonwealth', 'commonwealth_happi', 'happi_healthi', 'healthi_new', 'new_year', 'year_wish', 'wish_famili', 'famili_happi', 'happi_healthi', 'healthi_new', 'new_year', 'year_🎉', '🎉_wish', 'wish_everyon', 'everyon_happi', 'happi_healthi', 'healthi_new', 'new_year', 'year_given', 'given_democrat', 'democrat_great', 'great_opportun', 'opportun_show', 'show_govern', 'govern_respons', 'respons_quickli', 'quickli_pass', 'pass_plan', 'plan_end', 'end_irrespons', 'irrespons_#trumpshutdown', '#trumpshutdown_–', '–_first', 'first_sign', 'sign_thing', 'thing_come', 'come_new', 'new_democrat', 'democrat_major', 'major_commit', 'commit_work', 'work_#forthepeopl', '#forthepeopl_republican', 'republican_celebr', 'celebr_one-year', 'one-year_anniversari', 'anniversari_trump', 'trump_tax', 'tax_cut', 'cut_shouldnt', 'shouldnt_exactli', 'exactli_said', 'said_gop', 'gop_jam', 'jam_ill', 'ill_advis', 'advis_expens', 'expens_unfair', 'unfair_tax', 'tax_scam', 'scam_way', 'way_mean', 'mean_committe', 'committe_famili', 'famili_happi', 'happi_new', 'new_year', 'year_im', 'im_alway', 'alway_proud', 'proud_see', 'see_everyon', 'everyon_celebr', 'celebr_time', 'time_squar', 'squar_new', 'new_york', 'york_across', 'across_countri', 'countri_readi', 'readi_year', 'year_ahead', 'ahead_help', 'help_us', 'us_ring', 'ring_new', 'new_year', 'year_amaz', 'amaz_view', 'view_#ultimathul', '#ultimathul_distant', 'distant_planetari', 'planetari_flybi', 'flybi_histori', 'histori_congrat', 'congrat_everyon', 'everyon_nasa', 'nasa_partner', 'partner_huge', 'huge_achiev', 'achiev_past', 'past_year', 'year_ive', 'ive_seen', 'seen_maryland', 'maryland_walk', 'walk_life', 'life_come', 'come_togeth', 'togeth_spread', 'spread_messag', 'messag_timeless', 'timeless_urgent', 'urgent_one', 'one_hope', 'hope_decenc', 'decenc_uniti', 'uniti_let', 'let_summon', 'summon_human', 'human_spirit', 'spirit_refresh', 'refresh_democraci', 'democraci_renew', 'renew_countri', 'countri_happi', 'happi_new', 'new_year', 'year_maryland', 'maryland_#happynewyear', '#happynewyear_goodby', 'goodby_👋', '👋_readi', 'readi_product', 'product_posit', 'posit_cant', 'cant_wait', 'wait_get', 'get_back', 'back_busi', 'busi_continu', 'continu_fight', 'fight_peopl', 'peopl_new', 'new_jersey', 'jersey_wish', 'wish_everyon', 'everyon_safe', 'safe_#newyearsev', '#newyearsev_happi', 'happi_new', 'new_year', 'year_one', 'one_readi', 'readi_great', 'great_🎉', '🎉_mayb', 'mayb_year', 'year_trump', 'trump_final', 'final_accept', 'accept_scienc', 'scienc_behind', 'behind_#climatechang', '#climatechang_shouldnt', 'shouldnt_partisan', 'partisan_issu', 'issu_must', 'must_address', 'address_existenti', 'existenti_nation', 'nation_secur', 'secur_threat', 'threat_want', 'want_mitig', 'mitig_effect', 'effect_climat', 'climat_chang', 'chang_happi', 'happi_new', 'new_year', 'year_#nj', '#nj_wish', 'wish_happi', 'happi_healthi', 'healthi_enter', 'enter_new', 'new_year', 'year_congresss', 'congresss_#', '#_prioriti', 'prioriti_must', 'must_end', 'end_partial', 'partial_govern', 'govern_shutdown', 'shutdown_wish', 'wish_everyon', 'everyon_peac', 'peac_prosper', 'prosper_#newyear', '#newyear_wish', 'wish_happi', 'happi_healthi', 'healthi_wish', 'wish_everyon', 'everyon_healthi', 'healthi_#happynewyear', '#happynewyear_resolut', 'resolut_fight', 'fight_everi', 'everi_day', 'day_senat', 'senat_#greennewd', '#greennewd_#actonclim', '#actonclim_discuss', 'discuss_#greennewd', '#greennewd_breath', 'breath_new', 'new_energi', 'energi_movement', 'movement_climat', 'climat_action', 'action_need', 'need_har', 'har_momentum', 'momentum_head', 'head_new', 'new_congress', 'congress_read', 'read_interview', 'interview_ourdailyplanet', 'ourdailyplanet_wish', 'wish_everyon', 'everyon_happi', 'happi_healthi', 'healthi_new', 'new_year', 'year_come', 'come_close', 'close_remain', 'remain_concern', 'concern_#trumpshutdown', '#trumpshutdown_affect', 'affect_coast', 'coast_guard', 'guard_servic', 'servic_member', 'member_feder', 'feder_employe', 'employe_contractor', 'contractor_public', 'public_dem-l', 'dem-l_th', 'th_congress', 'congress_work', 'work_reopen', 'reopen_govern', 'govern_immedi', 'immedi_happi', 'happi_new', 'new_year', 'year_everyon', 'everyon_wonder', 'wonder_time', 'time_atlanta', 'atlanta_naacp', 'naacp_today', 'today_jubile', 'jubile_day', 'day_keynot', 'keynot_phenomen', 'phenomen_…', '…_here', 'here_happi', 'happi_healthi', 'healthi_new', 'new_year', 'year_bring', 'bring_new', 'new_opportun', 'opportun_progress', 'progress_american', 'american_includ', 'includ_better', 'better_health', 'health_care', 'care_environment', 'environment_immigr', 'immigr_protect', 'protect_passag', 'passag_#eranow', '#eranow_combat', 'combat_govern', 'govern_corrupt', 'corrupt_level', 'level_#happi', '#happi_#happynewyear', '#happynewyear_happi', 'happi_new', 'new_year', 'year_famili', 'famili_im', 'im_look', 'look_forward', 'forward_serv', 'serv_peopl', 'peopl_#az', '#az_new', 'new_congress', 'congress_ensur', 'ensur_put', 'put_polici', 'polici_place', 'place_help', 'help_work', 'work_famili', 'famili_thrive', 'thrive_here', 'here_presid', 'presid_get', 'get_everyon', 'everyon_chant', 'chant_mexico', 'mexico_pay', 'pay_wall', 'wall_man', 'man_shut', 'shut_govern', 'govern_republican', 'republican_alli', 'alli_cheer', 'cheer_#trumpshutdown', '#trumpshutdown_#publicland', '#publicland_#nationalpark', '#nationalpark_admin', 'admin_roll', 'roll_back', 'back_health', 'health_protect', 'protect_coal', 'coal_plant', 'plant_put', 'put_potent', 'potent_neurotoxin', 'neurotoxin_air', 'air_children', 'children_breath', 'breath_futur', 'futur_gener', 'gener_deserv', 'deserv_grow', 'grow_healthi', 'healthi_happi', 'happi_suppos', 'suppos_environment', 'environment_protect', 'protect_agenc', 'agenc_#trumpshutdown', '#trumpshutdown_second-longest', 'second-longest_shutdown', 'shutdown_decad', 'decad_game', 'game_shutdown', 'shutdown_real-world', 'real-world_impact', 'impact_affect', 'affect_hundr', 'hundr_thousand', 'thousand_american', 'american_must', 'must_look', 'look_climat', 'climat_chang', 'chang_devast', 'devast_militari', 'militari_attack', 'attack_unit', 'unit_state', 'state_entir', 'entir_planet', 'planet_must', 'must_respond', 'respond_accordingli', 'accordingli_job', 'job_pursu', 'pursu_bold', 'bold_agenda', 'agenda_transform', 'transform_energi', 'energi_system', 'system_away', 'away_fossil', 'fossil_fuel', 'fuel_energi', 'energi_effici', 'effici_sustain', 'sustain_energi', 'energi_war', 'war_climat', 'climat_chang', 'chang_sake', 'sake_kid', 'kid_grandchildren', 'grandchildren_cannot', 'cannot_lose', 'lose_happi', 'happi_new', 'new_year', 'year_may', 'may_famili', 'famili_enjoy', 'enjoy_good', 'good_health', 'health_happi', 'happi_year', 'year_in-n-out', 'in-n-out_burger', 'burger_check', 'check_local', 'local_brew', 'brew_check', 'check_twinki', 'twinki_check', 'check_presidenti', 'presidenti_wig', 'wig_check', 'check_new', 'new_year', 'year_eve', 'eve_look', 'look_promis', 'promis_far', 'far_constitu', 'constitu_friend', 'friend_everyon', 'everyon_els', 'els_happi', 'happi_new', 'new_year', 'year_coupl', 'coupl_reflect', 'reflect_resolut', 'resolut_put', 'put_togeth', 'togeth_beauti', 'beauti_new', 'new_year', 'year_day', 'day_peopl', 'peopl_step', 'step_show', 'show_like', 'like_never', 'never_keep', 'keep_weve', 'weve_got', 'got_lot', 'lot_work', 'work_ill', 'ill_…', '…_swore', 'swore_metuchen', 'metuchen_mayor', 'mayor_jonathan', 'jonathan_busch', 'busch_well', 'well_councilwomen', 'councilwomen_sheri-ros', 'sheri-ros_rubin', 'rubin_councilman', 'councilman_jason', 'jason_delia', 'delia_mayor', 'mayor_busch', 'busch_mention', 'mention_intern', 'intern_mani', 'mani_year', 'year_ago', 'ago_washington', 'washington_dc', 'dc_happi', 'happi_new', 'new_year', 'year_rememb', 'rememb_celebr', 'celebr_respons', 'respons_drive', 'drive_safe', 'safe_use', 'use_design', 'design_driver', 'driver_need', 'need_administ', 'administ_oath', 'oath_offic', 'offic_councilwoman', 'councilwoman_lori', 'lori_hohenleitn', 'hohenleitn_councilman', 'councilman_roy', 'roy_delosso', 'delosso_atlant', 'atlant_highland', 'highland_borough', 'borough_hall', 'hall_happi', 'happi_new', 'new_year', 'year_democrat', 'democrat_major', 'major_hous', 'hous_opportun', 'opportun_take', 'take_action', 'action_mani', 'mani_import', 'import_issu', 'issu_includ', 'includ_healthcar', 'healthcar_environ', 'environ_creat', 'creat_job', 'job_commun', 'commun_help', 'help_achiev', 'achiev_much', 'much_congratul', 'congratul_keyport', 'keyport_new', 'new_mayor', 'mayor_collett', 'collett_kennedi', 'kennedi_well', 'well_councilmen', 'councilmen_denni', 'denni_fotopoulu', 'fotopoulu_matthew', 'matthew_good', 'good_sworn', 'sworn_today', 'today_happi', 'happi_here', 'here_brand', 'brand_new', 'new_year', 'year_keep', 'keep_resolut', 'resolut_least', 'least_resolut', 'resolut_whatev', 'whatev_one', 'one_best', 'best_new', 'new_year', 'year_eve', 'eve_ever', 'ever_surpris', 'surpris_visit', 'visit_wukrainian', 'wukrainian_troop', 'troop_front', 'front_line', 'line_middl', 'middl_snowstorm', 'snowstorm_friend', 'friend_john', 'john_mccain', 'mccain_best', 'best_troop', 'troop_new', 'new_year', 'year_new', 'new_begin', 'begin_also', 'also_rememb', 'rememb_love', 'love_one', 'one_new', 'new_day', 'day_new', 'new_year', 'year_last', 'last_yeardespit', 'yeardespit_major', 'major_headwindsw', 'headwindsw_led', 'led_ticket', 'ticket_minnesota', 'minnesota_victori', 'victori_ballot', 'ballot_across', 'across_state', 'state_peopl', 'peopl_stood', 'stood_countri', 'countri_ideal', 'ideal_simpl', 'simpl_decenc', 'decenc_find', 'find_common', 'common_ground', 'ground_got', 'got_us', 'us_higher', 'higher_ground', 'ground_im', 'im_readi', 'readi_let', 'let_go', 'go_congratul', 'congratul_sarah', 'sarah_rasmussen', 'rasmussen_name', 'name_star', 'star_tribun', 'tribun_artist', 'artist_year', 'year_role', 'role_jungl', 'jungl_theater', 'theater_artist', 'artist_director', 'director_help', 'help_local', 'local_theater', 'theater_becom', 'becom_hotspot', 'hotspot_great', 'great_show', 'show_happi', 'happi_new', 'new_year', 'year_eve', 'eve_tonight', 'tonight_abigail', 'abigail_time', 'time_squar', 'squar_watch', 'watch_ball', 'ball_drop', 'drop_still', 'still_bucket', 'bucket_list', 'list_mom', 'mom_🥂', '🥂_🎉', '🎉_wish', 'wish_everyon', 'everyon_healthi', 'healthi_peac', 'peac_deseándol', 'deseándol_todo', 'todo_un', 'un_feliz', 'feliz_año', 'año_happi', 'happi_new', 'new_year', 'year_happi', 'happi_new', 'new_year', 'year_time', 'time_get', 'get_work', 'work_secur', 'secur_pension', 'pension_worker', 'worker_retire', 'retire_protect', 'protect_afford', 'afford_care', 'care_act', 'act_put', 'put_money', 'money_pocket', 'pocket_work', 'work_famili', 'famili_look', 'look_forward', 'forward_new', 'new_year', 'year_new', 'new_puppi', 'puppi_penni', 'penni_would', 'would_like', 'like_wish', 'wish_everyon', 'everyon_#il', '#il_happi', 'happi_#newyear', '#newyear_one', 'one_look', 'look_forward', 'forward_great', 'great_famili', 'famili_friend', 'friend_product', 'product_th', 'th_congress', 'congress_new', 'new_democrat', 'democrat_major', 'major_happi', 'happi_new', 'new_year', 'year_wish', 'wish_famili', 'famili_happi', 'happi_healthi', 'healthi_democrat', 'democrat_offer', 'offer_respons', 'respons_path', 'path_forward', 'forward_end', 'end_#trumpshutdown', '#trumpshutdown_reopen', 'reopen_govern', 'govern_provid', 'provid_certainti', 'certainti_new', 'new_mexico', 'mexico_worker', 'worker_famili', 'famili_economi', 'economi_time', 'time_gop', 'gop_leader', 'leader_end', 'end_mad', 'mad_full', 'full_statement', 'statement_congratul', 'congratul_good', 'good_friend', 'friend_new', 'new_governor', 'governor_new', 'new_mexico', 'mexico_michel', 'michel_lujan', 'lujan_grisham', 'grisham_honor', 'honor_jill', 'jill_part', 'part_swear', 'swear_today', 'today_vision', 'vision_stronger', 'stronger_new', 'new_mexico', 'mexico_inspir', 'inspir_cant', 'cant_wait', 'wait_work', 'work_make', 'make_realiti', 'realiti_#aimhigh', '#aimhigh_happi', 'happi_new', 'new_year', 'year_jill', 'jill_want', 'want_wish', 'wish_everyon', 'everyon_happi', 'happi_healthi', 'healthi_year', 'year_im', 'im_renew', 'renew_commit', 'commit_work', 'work_togeth', 'togeth_stand', 'stand_truth', 'truth_fight', 'fight_new', 'new_mexico', 'mexico_valu', 'valu_prioriti', 'prioriti_senat', 'senat_make', 'make_berri', 'berri_cobbler', 'cobbler_bring', 'bring_friend', 'friend_hous', 'hous_new', 'new_year', 'year_dinner', 'dinner_favorit', 'favorit_here', 'here_usual', 'usual_recip', 'recip_time', 'time_use', 'use_tb', 'tb_lemon', 'lemon_juic', 'juic_tsp', 'tsp_cinnamon', 'cinnamon_cup', 'cup_sugar', 'sugar_fill', 'fill_top', 'top_use', 'use_gluten', 'gluten_free', 'free_muesli', 'muesli_oat', 'oat_honor', 'honor_mark', 'mark_new', 'new_year', 'year_help', 'help_swear', 'swear_new', 'new_commun', 'commun_leader', 'leader_debbi', 'debbi_tsabari', 'tsabari_jimmi', 'jimmi_song', 'song_go', 'go_outstand', 'outstand_councilmemb', 'councilmemb_#englewoodcliff', '#englewoodcliff_happi', 'happi_new', 'new_jersey', 'jersey_bottom', 'bottom_heart', 'heart_wish', 'wish_everi', 'everi_one', 'one_fill', 'fill_prosper', 'prosper_well-b', 'well-b_success', 'success_joy', 'joy_happi', 'happi_new', 'new_year', 'year_america', 'america_🎆', '🎆_🎉', '🎉_🎈', '🎈_🍾', '🍾_new', 'new_secretari', 'secretari_state', 'state_go', 'go_incred', 'incred_thing', 'thing_michigan', 'michigan_congratul', 'congratul_sworn', 'sworn_today', 'today_heartfelt', 'heartfelt_congratul', 'congratul_gilchrist', 'gilchrist_ii', 'ii_get', 'get_moment', 'moment_–', '–_michigan', 'michigan_lucki', 'lucki_new', 'new_governor', 'governor_lt', 'lt_governor', 'governor_count', 'count_moment', 'moment_herewelcom', 'herewelcom_everyon', 'everyon_wish', 'wish_wonder', 'wonder_new', 'new_year', 'year_thank', 'thank_fighter', 'fighter_michigan', 'michigan_–', '–_warmest', 'warmest_congratul', 'congratul_sworn', 'sworn_new', 'new_attorney', 'attorney_gener', 'gener_mr', 'mr_falwel', 'falwel_surrend', 'surrend_pretens', 'pretens_moral', 'moral_author', 'author_given', 'given_evangel', 'evangel_anoth', 'anoth_black', 'black_eye', 'eye_form', 'form_biblic', 'biblic_equivoc', 'equivoc_he', 'he_anoth', 'anoth_polit', 'polit_hack', 'hack_pretend', 'pretend_sell', 'sell_religi', 'religi_snake', 'snake_oil', 'oil_farewel', 'farewel_sec', 'sec_matti', 'matti_-', '-_thank', 'thank_remind', 'remind_us', 'us_men', 'men_women', 'women_uniform', 'uniform_take', 'take_oath', 'oath_support', 'support_defend', 'defend_constitut', 'constitut_-', '-_person', 'person_even', 'even_homeland', 'homeland_way', 'way_life', 'life_#happynewyear', '#happynewyear_wish', 'wish_eastern', 'eastern_ct', 'ct_famili', 'famili_happi', 'happi_healthi', 'healthi_safe', 'safe_alway', 'alway_feel', 'feel_lucki', 'lucki_live', 'live_repres', 'repres_connecticut', 'connecticut_second', 'second_district', 'district_congress', 'congress_look', 'look_forward', 'forward_anoth', 'anoth_year', 'year_fight', 'fight_hard', 'hard_valu', 'valu_#newyear', '#newyear_im', 'im_hit', 'hit_ground', 'ground_run', 'run_citi', 'citi_deserv', 'deserv_better', 'better_philadelphian', 'philadelphian_ame', 'ame_…', '…_young', 'young_peopl', 'peopl_countri', 'countri_stood', 'stood_nra', 'nra_advoc', 'advoc_advanc', 'advanc_common', 'common_sens', 'sens_gun', 'gun_polici', 'polici_housegvp', 'housegvp_hous', 'hous_gun', 'gun_violenc', 'violenc_prevent', 'prevent_task', 'task_forc', 'forc_colleagu', 'colleagu_kick', 'kick_#newyear', '#newyear_introduc', 'introduc_gun', 'gun_reform', 'reform_legisl', 'legisl_young', 'young_peopl', 'peopl_countri', 'countri_stood', 'stood_nra', 'nra_advoc', 'advoc_advanc', 'advanc_common', 'common_sens', 'sens_gun', 'gun_polici', 'polici_housegvp', 'housegvp_hous', 'hous_gun', 'gun_violenc', 'violenc_prevent', 'prevent_task', 'task_forc', 'forc_colleagu', 'colleagu_kick', 'kick_#newyear', '#newyear_introduc', 'introduc_gun', 'gun_reform', 'reform_legisl', 'legisl_#newyear', '#newyear_im', 'im_hit', 'hit_ground', 'ground_run', 'run_citi', 'citi_deserv', 'deserv_better', 'better_philadelphian', 'philadelphian_american', 'american_deserv', 'deserv_govern', 'govern_work', 'work_address', 'address_need', 'need_forward-think', 'forward-think_polici', 'polici_👉', '👉_🏾', '🏾_thread', 'thread_want', 'want_thank', 'thank_friend', 'friend_famili', 'famili_certainli', 'certainli_resid', 'resid_#philadelphia', '#philadelphia_afford', 'afford_…', '…_next', 'next_day', 'day_fellow', 'fellow_friend', 'friend_democrat', 'democrat_colleagu', 'colleagu_take', 'take_back', 'back_hous', 'hous_work', 'work_push', 'push_countri', 'countri_forward', 'forward_despit', 'despit_presid', 'presid_trump', 'trump_constant', 'constant_outburst', 'outburst_#forthepeopl', '#forthepeopl_✊', '✊_🏿', '🏿_✊', '✊_🏾', '🏾_✊', '✊_🏽', '🏽_✊', '✊_🏼', '🏼_✊', '✊_🏻', '🏻_👉', '👉_🏾', '🏾_thread', 'thread_want', 'want_thank', 'thank_friend', 'friend_famili', 'famili_certainli', 'certainli_resid', 'resid_#philadelphia', '#philadelphia_afford', 'afford_opportun', 'opportun_serv', 'serv_repres', 'repres_ideal', 'ideal_congress', 'congress_past', 'past_two', 'two_year', 'year_next', 'next_day', 'day_fellow', 'fellow_friend', 'friend_democrat', 'democrat_colleagu', 'colleagu_take', 'take_back', 'back_hous', 'hous_work', 'work_push', 'push_countr', 'countr_…', '…_common-sens', 'common-sens_gun', 'gun_reform', 'reform_bc', 'bc_#enoughisenough', '#enoughisenough_fix', 'fix_countri', 'countri_fail', 'fail_#infrastructur', '#infrastructur_improv', 'improv_#healthcar', '#healthcar_system', 'system_#raisethewag', '#raisethewag_campaign', 'campaign_financ', 'financ_reform', 'reform_much', 'much_look', 'look_forward', 'forward_work', 'work_colleagu', 'colleagu_hous', 'hous_senat', 'senat_make', 'make_citi', 'citi_philadelphia', 'philadelphia_stronger', 'stronger_bl', 'bl_…', '…_look', 'look_forward', 'forward_work', 'work_colleagu', 'colleagu_hous', 'hous_senat', 'senat_make', 'make_citi', 'citi_philadelphia', 'philadelphia_stronger', 'stronger_block', 'block_block', 'block_help', 'help_fellow', 'fellow_philadelphian', 'philadelphian_way', 'way_possibl', 'possibl_happi', 'happi_new', 'new_year', 'year_maryland', 'maryland_privileg', 'privileg_repres', 'repres_senat', 'senat_past', 'past_year', 'year_here', 'here_–', '–_may', 'may_peac', 'peac_hope', 'hope_year', 'year_famili', 'famili_#happynewyear', '#happynewyear_close', 'close_book', 'book_one', 'one_year', 'year_begin', 'begin_anoth', 'anoth_want', 'want_wish', 'wish_happi', 'happi_healthi', 'healthi_#newyear', '#newyear_happi', 'happi_new', 'new_year', 'year_bright', 'bright_light', 'light_fabul', 'fabul_la', 'la_vega', 'vega_strip', 'strip_#onlyindistricton', '#onlyindistricton_#nye', '#nye_becam', 'becam_citizen', 'citizen_last', 'last_year', 'year_vote', 'vote_st', 'st_time', 'time_work', 'work_whe', 'whe_organ', 'organ_st', 'st_would', 'would_becom', 'becom_annual', 'annual_immigr', 'immigr_fair', 'fair_thrill', 'thrill_see', 'see_he', 'he_join', 'join_public', 'public_relat', 'relat_commun', 'commun_affair', 'affair_director', 'director_happi', 'happi_new', 'new_year', 'year_trump', 'trump_announc', 'announc_anoth', 'anoth_win', 'win_coal', 'coal_industri', 'industri_trump', 'trump_cook', 'cook_book', 'book_recalcul', 'recalcul_impact', 'impact_diseas', 'diseas_death', 'death_regress', 'regress_environment', 'environment_polici', 'polici_produc', 'produc_mani', 'mani_us', 'us_increasingli', 'increasingli_busi', 'busi_holiday', 'holiday_season', 'season_need', 'need_blood', 'blood_donat', 'donat_abat', 'abat_season', 'season_give', 'give_especi', 'especi_time', 'time_rememb', 'rememb_give', 'give_blood', 'blood_help', 'help_give', 'give_gift', 'gift_life', 'life_#memphi', '#memphi_still', 'still_barbecueribsfri', 'barbecueribsfri_chickenfri', 'chickenfri_green', 'green_tomatoesgritsif', 'tomatoesgritsif_aint', 'aint_brokedont', 'brokedont_fix', 'fix_sorri', 'sorri_end', 'end_share', 'share_repcohen', 'repcohen_intel', 'intel_judiciari', 'judiciari_cmte', 'cmte_introduc', 'introduc_#articlesofimpeach', '#articlesofimpeach_au', 'au_…', '…_gop', 'gop_rep', 'rep_walter', 'walter_jone', 'jone_suggest', 'suggest_trump', 'trump_pay', 'pay_part', 'part_wall', 'wall_via', 'via_republican', 'republican_one', 'one_finest', 'finest_peopl', 'peopl_ive', 'ive_seve', 'seve_#congress', '#congress_#', '#_gentleman', 'gentleman_scholar', 'scholar_courag', 'courag_voic', 'voic_reason', 'reason_event', 'event_year', 'year_busi', 'busi_work', 'work_behalf', 'behalf_new', 'new_york', 'york_work', 'work_famili', 'famili_senior', 'senior_neighbor', 'neighbor_im', 'im_disappoint', 'disappoint_year', 'year_end', 'end_#trumpshutdown', '#trumpshutdown_look', 'look_forward', 'forward_get', 'get_work', 'work_start', 'start_pass', 'pass_legisl', 'legisl_reopen', 'reopen_govern', 'govern_happi', 'happi_new', 'new_year', 'year_send', 'send_best', 'best_wish', 'wish_peac', 'peac_new', 'new_year', 'year_happi', 'happi_new', 'new_year', 'year_wish', 'wish_everyon', 'everyon_happi', 'happi_healthi', 'healthi_start', 'start_#newyear', '#newyear_today', 'today_im', 'im_fli', 'fli_washington', 'washington_rd', 'rd_grade', 'grade_daughter', 'daughter_swear', 'swear_us', 'us_congressman', 'congressman_weve', 'weve_got', 'got_challeng', 'challeng_great', 'great_countri', 'countri_#az', '#az_rd', 'rd_grade', 'grade_parent', 'parent_took', 'took_famili', 'famili_summer', 'summer_vacat', 'vacat_nation', 'nation_capitol', 'capitol_learn', 'learn_govern', 'govern_couldnt', 'couldnt_afford', 'afford_airplan', 'airplan_ticket', 'ticket_travel', 'travel_cross', 'cross_countri', 'countri_phoenix', 'phoenix_trailway', 'trailway_bu', 'bu_-', '-_day', 'day_night', 'night_way', 'way_love', 'love_read', 'read_full', 'full_statement', 'statement_new', 'new_introduc', 'introduc_legisl', 'legisl_reopen', 'reopen_govern', 'govern_end', 'end_#trumpshutdown', '#trumpshutdown_consid', 'consid_hous', 'hous_jan', 'jan_learn', 'learn_→', '→_fact', 'fact_housedemocrat', 'housedemocrat_bill', 'bill_made', 'made_commonsens', 'commonsens_provis', 'provis_alreadi', 'alreadi_pass', 'pass_senat', 'senat_bipartisan', 'bipartisan_basi', 'basi_end', 'end_#trumpshutdown', '#trumpshutdown_reopen', 'reopen_govern', 'govern_year', 'year_good', 'good_friday', 'friday_agreement', 'agreement_brexit', 'brexit_threaten', 'threaten_hard-won', 'hard-won_peac', 'peac_northern', 'northern_ireland', 'ireland_explain', 'explain_congrat', 'congrat_friend', 'friend_sworn', 'sworn_today', 'today_inspir', 'inspir_accomplish', 'accomplish_nasa', 'nasa_countri', 'countri_🇺', '🇺_🇸', '🇸_humankind', 'humankind_cheer', 'cheer_🥂', '🥂_brand', 'brand_new', 'new_year', 'year_alreadi', 'alreadi_im', 'im_look', 'look_forward', 'forward_presid', 'presid_end', 'end_shutdown', 'shutdown_new', 'new_th', 'th_congress', 'congress_start', 'start_year', 'year_work', 'work_togeth', 'togeth_find', 'find_solut', 'solut_help', 'help_everi', 'everi_michigand', 'michigand_american', 'american_midnight', 'midnight_violenc', 'violenc_women', 'women_act', 'act_without', 'without_fund', 'fund_day', 'day_year', 'year_host', 'host_resourc', 'resourc_fair', 'fair_rang', 'rang_help', 'help_#goptaxscam', '#goptaxscam_prevent', 'prevent_scam', 'scam_target', 'target_elderli', 'elderli_sign', 'sign_get', 'get_email', 'email_upcom', 'upcom_event', 'event_neighborhood', 'neighborhood_happi', 'happi_independ', 'independ_day', 'day_resili', 'resili_peopl', 'peopl_haiti', 'haiti_celebr', 'celebr_year', 'year_independ', 'independ_franc', 'franc_ayiti', 'ayiti_cheri', 'cheri_begin', 'begin_new', 'new_year', 'year_symbol', 'symbol_hope', 'hope_chang', 'chang_look', 'look_forward', 'forward_mani', 'mani_mileston', 'mileston_mark', 'mark_journey', 'journey_happi', 'happi_new', 'new_year', 'year_everyon', 'everyon_here', 'here_new', 'new_year', 'year_bring', 'bring_us', 'us_light', 'light_love', 'love_determin', 'determin_keep', 'keep_fight', 'fight_believ', 'believ_🎉', '🎉_#happynewyear', '#happynewyear_come', 'come_close', 'close_im', 'im_reflect', 'reflect_weve', 'weve_achiev', 'achiev_readi', 'readi_continu', 'continu_fight', 'fight_#forthepeopl', '#forthepeopl_enter', 'enter_wish', 'wish_healthi', 'healthi_happi', 'happi_illinoi', 'illinoi_famili', 'famili_friend', 'friend_#happynewyear', '#happynewyear_presid', 'presid_drag', 'drag_nation', 'nation_week', 'week_two', 'two_#trumpshutdown', '#trumpshutdown_sit', 'sit_white', 'white_hous', 'hous_tweet', 'tweet_…', '…_year', 'year_ago', 'ago_oscar', 'oscar_grant', 'grant_tragic', 'tragic_senselessli', 'senselessli_kill', 'kill_polic', 'polic_offic', 'offic_fruitval', 'fruitval_bart', 'bart_station', 'station_memori', 'memori_us', 'us_ensur', 'ensur_call', 'call_black', 'black_live', 'live_matter', 'matter_reflect', 'reflect_justic', 'justic_system', 'system_happi', 'happi_new', 'new_year', 'year_look', 'look_forward', 'forward_anoth', 'anoth_year', 'year_repres', 'repres_ca', 'ca_-', '-_fight', 'fight_everi', 'everi_day', 'day_american', 'american_peopl', 'peopl_make', 'make_progress', 'progress_there', 'there_still', 'still_long', 'long_way', 'way_go', 'go_one', 'one_housedemocrat', 'housedemocrat_top', 'top_prioriti', 'prioriti_rais', 'rais_minimum', 'minimum_wage', 'wage_end', 'end_epidem', 'epidem_poverti', 'poverti_america', 'america_#forthepeopl', '#forthepeopl_take', 'take_major', 'major_new', 'new_congress', 'congress_first', 'first_prioriti', 'prioriti_end', 'end_#trumpshutdown', '#trumpshutdown_pay', 'pay_dedic', 'dedic_feder', 'feder_worker', 'worker_fund', 'fund_program', 'program_american', 'american_famili', 'famili_reli', 'reli_go', 'go_get', 'get_done', 'done_#forthepeopl', '#forthepeopl_made', 'made_lot', 'lot_good', 'good_troubl', 'troubl_year', 'year_excit', 'excit_build', 'build_upon', 'upon_work', 'work_enter', 'enter_new', 'new_major', 'major_happi', 'happi_new', 'new_year', 'year_im', 'im_demand', 'demand_answer', 'answer_trump', 'trump_administr', 'administr_saudi', 'saudi_involv', 'involv_manslaught', 'manslaught_suspect', 'suspect_escap', 'escap_portland', 'portland_saudi', 'saudi_arabia', 'arabia_brazen', 'brazen_action', 'action_recent', 'recent_month', 'month_show', 'show_clear', 'clear_disregard', 'disregard_rule', 'rule_law', 'law_first', 'first_day', 'day_alway', 'alway_deep', 'deep_thank', 'thank_honor', 'honor_serv', 'serv_ct', 'ct_ill', 'ill_work', 'work_harder', 'harder_ever', 'ever_brighter', 'brighter_safer', 'safer_healthier', 'healthier_tomorrow', 'tomorrow_wonder', 'wonder_new', 'new_year', 'year_suicid', 'suicid_heartbreakingli', 'heartbreakingli_preval', 'preval_prevent', 'prevent_facebook', 'facebook_big', 'big_brother', 'brother_track', 'track_black', 'black_box', 'box_medicin', 'medicin_cri', 'cri_transpar', 'transpar_oversight', 'oversight_secret', 'secret_algorithm', 'algorithm_conceal', 'conceal_monitor', 'monitor_potenti', 'potenti_market', 'market_requir', 'requir_privaci', 'privaci_right', 'right_protect', 'protect_happi', 'happi_new', 'new_year', 'year_special', 'special_moment', 'moment_ring', 'ring_anoth', 'anoth_year', 'year_reflect', 'reflect_last', 'last_day', 'day_look', 'look_forward', 'forward_make', 'make_much', 'much_real', 'real_progress', 'progress_nation', 'nation_year', 'year_new', 'new_congress', 'congress_#forthepeopl', '#forthepeopl_one', 'one_base', 'base_realiti', 'realiti_he', 'he_tweet', 'tweet_well', 'well_pass', 'pass_legisl', 'legisl_reopen', 'reopen_govern', 'govern_get', 'get_work', 'work_make', 'make_progress', 'progress_live', 'live_senior', 'senior_children', 'children_hard-work', 'hard-work_american', 'american_#dayon', '#dayon_give', 'give_rest', 'rest_#newyearsev', '#newyearsev_wish', 'wish_everyon', 'everyon_joy', 'joy_prosper', 'prosper_new', 'new_year', 'year_enjoy', 'enjoy_new', 'new_year', 'year_eve', 'eve_celebr', 'celebr_safe', 'safe_🎉', '🎉_#newyearsev', '#newyearsev_#happynewyear', '#happynewyear_\\u2060', '\\u2060_new', 'new_year', 'year_new', 'new_major', 'major_new', 'new_congress', 'congress_#forthepeopl', '#forthepeopl_happi', 'happi_healthi', 'healthi_new', 'new_year', 'year_whole', 'whole_team', 'team_look', 'look_forward', 'forward_serv', 'serv_citizen', 'citizen_maryland', 'maryland_second', 'second_district', 'district_anoth', 'anoth_year', 'year_wish', 'wish_everyon', 'everyon_healthi', 'healthi_happi', 'happi_new', 'new_year', 'year_🎊', '🎊_#happynewyear', '#happynewyear_\\u2060', '\\u2060_\\u2060', '\\u2060_congrat', 'congrat_alabama', 'alabama_state', 'state_univers', 'univers_mighti', 'mighti_march', 'march_hornet', 'hornet_perform', 'perform_today', 'today_rose', 'rose_bowl', 'bowl_parad', 'parad_go', 'go_hornet', 'hornet_🐝', '🐝_🖤', '🖤_💛', '💛_congratul', 'congratul_newli', 'newli_sworn', 'sworn_governor', 'governor_new', 'new_mexico', 'mexico_honor', 'honor_nm', 'nm_new', 'new_year', 'year_bring', 'bring_new', 'new_year', 'year_birthday', 'birthday_colleagu', 'colleagu_reprobinkelli', 'reprobinkelli_happi', 'happi_new', 'new_year', 'year_#happynewyear', '#happynewyear_wish', 'wish_happi', 'happi_healthi', 'healthi_product', 'product_remain', 'remain_honor', 'honor_serv', 'serv_peopl', 'peopl_kentucki', 'kentucki_third', 'third_congression', 'congression_district', 'district_happi', 'happi_new', 'new_year', 'year_wish', 'wish_everyon', 'everyon_safe', 'safe_happi', 'happi_new', 'new_year', 'year_im', 'im_look', 'look_forward', 'forward_continu', 'continu_work', 'work_behalf', 'behalf_strengthen', 'strengthen_commun', 'commun_countri', 'countri_happi', 'happi_new', 'new_year', 'year_lo', 'lo_angel', 'angel_#ca', '#ca_hermano', 'hermano_👊', '👊_win', 'win_easi', 'easi_govern', 'govern_harder', 'harder_georg', 'georg_washington', 'washington_hamiltonmus', 'hamiltonmus_happi', 'happi_new', 'new_year', 'year_🎊', '🎊_🎈', '🎈_🎉', '🎉_may', 'may_god', 'god_continu', 'continu_bless', 'bless_watch', 'watch_famili', 'famili_unit', 'unit_state', 'state_america', 'america_🇺', '🇺_🇸', '🇸_🇺', '🇺_🇸', '🇸_🇺', '🇺_🇸', '🇸_🙏', '🙏_🏽', '🏽_🙏', '🙏_🏽', '🏽_🙏', '🙏_🏽', '🏽_happi', 'happi_new', 'new_year', 'year_wish', 'wish_everyon', 'everyon_festiv', 'festiv_start', 'start_love', 'love_see', 'see_associ', 'associ_amaz', 'amaz_let', 'let_go', 'go_hop', 'hop_float', 'float_year', 'year_#roseparad', '#roseparad_much', 'much_hard', 'hard_work', 'work_paid', 'paid_creat', 'creat_beauti', 'beauti_entri', 'entri_-', '-_-', '-_credit', 'credit_creativ', 'creativ_ingenu', 'ingenu_involv', 'involv_hope', 'hope_new', 'new_year', 'year_bring', 'bring_new', 'new_opportun', 'opportun_wonder', 'wonder_memori', 'memori_also', 'also_bring', 'bring_new', 'new_congress', 'congress_start', 'start_thursday', 'thursday_-', '-_-', '-_im', 'im_excit', 'excit_sworn', 'sworn_part', 'part_new', 'new_hous', 'hous_major', 'major_continu', 'continu_work', 'work_help', 'help_th', 'th_district', 'district_commun', 'commun_trump', 'trump_border', 'border_wall', 'wall_rip', 'rip_away', 'away_money', 'money_critic', 'critic_nation', 'nation_secur', 'secur_prioriti', 'prioriti_-', '-_-', '-_protect', 'protect_america', 'america_foreign', 'foreign_threat', 'threat_hire', 'hire_custom', 'custom_offic', 'offic_speed', 'speed_commerc', 'commerc_port', 'port_fund', 'fund_first', 'first_respond', 'respond_grant', 'grant_prepar', 'prepar_commun', 'commun_respond', 'respond_disast', 'disast_top', 'top_dem', 'dem_dh', 'dh_appropri', 'appropri_great', 'great_democrat', 'democrat_releas', 'releas_bill', 'bill_end', 'end_#trumpshutdown', '#trumpshutdown_bill', 'bill_fund', 'fund_govt', 'govt_pay', 'pay_feder', 'feder_worker', 'worker_reject', 'reject_donald', 'donald_trump', 'trump_billion', 'billion_demand', 'demand_useless', 'useless_border', 'border_wall', 'wall_fund', 'fund_trump', 'trump_border', 'border_wall', 'wall_would', 'would_keep', 'keep_us', 'us_fund', 'fund_critic', 'critic_nation', 'nation_secur', 'secur_prioriti', 'prioriti_includ', 'includ_protect', 'protect_america', 'america_action', 'action_nation', 'nation_like', 'like_russia', 'russia_china', 'china_exampl', 'exampl_must', 'must_procur', 'procur_new', 'new_heavi', 'heavi_icebreak', 'icebreak_protect', 'protect_vital', 'vital_arctic', 'arctic_secur', 'secur_interest', 'interest_happi', 'happi_new', 'new_year', 'year_felt', 'felt_like', 'like_week', 'week_worth', 'worth_news', 'news_happen', 'happen_daili', 'daili_here', 'here_hope', 'hope_noteworthi', 'noteworthi_lot', 'lot_#goodnew', '#goodnew_climat', 'climat_children', 'children_senior', 'senior_everyon', 'everyon_commun', 'commun_around', 'around_world', 'world_project', 'project_increas', 'increas_inland', 'inland_flood', 'flood_come', 'come_centuri', 'centuri_threaten', 'threaten_approxim', 'approxim_bridg', 'bridg_across', 'across_us', 'us_estim', 'estim_result', 'result_averag', 'averag_annual', 'annual_damag', 'damag_billion', 'billion_year', 'year_#nca', '#nca_#climatecrisiscountdown', '#climatecrisiscountdown_pleas', 'pleas_dont', 'dont_stop', 'stop_hope', 'hope_youll', 'youll_also', 'also_use', 'use_new', 'new_major', 'major_restor', 'restor_fact', 'fact_empiric', 'empiric_good', 'good_faith', 'faith_wallimmigr', 'wallimmigr_debat', 'debat_domin', 'domin_concert', 'concert_deepli', 'deepli_destruct', 'destruct_disinform', 'disinform_must', 'must_look', 'look_climat', 'climat_chang', 'chang_devast', 'devast_militari', 'militari_attack', 'attack_unit', 'unit_state', 'state_entir', 'entir_planet', 'planet_…', '…_#happynewyear', '#happynewyear_#', '#_may', 'may_better', 'better_year', 'year_happi', 'happi_new', 'new_year', 'year_may', 'may_join', 'join_togeth', 'togeth_tackl', 'tackl_challeng', 'challeng_us', 'us_endeavor', 'endeavor_help', 'help_make', 'make_world', 'world_healt', 'healt_…', '…_take', 'take_major', 'major_new', 'new_congress', 'congress_first', 'first_prioriti', 'prioriti_end', 'end_#trumpshutdown', '#trumpshutdown_pay', 'pay_dedic', 'dedic_feder', 'feder_worker', 'worker_fund', 'fund_program', 'program_american', 'american_famili', 'famili_reli', 'reli_go', 'go_get', 'get_done', 'done_#forthepeopl', '#forthepeopl_new', 'new_hous', 'hous_democrat', 'democrat_major', 'major_swiftli', 'swiftli_pass', 'pass_legisl', 'legisl_re-open', 're-open_govern', 'govern_day', 'day_one', 'one_#forthepeopl', '#forthepeopl_#happynewyear', '#happynewyear_missouri', 'missouri_democrat', 'democrat_parti', 'parti_‼', '‼_️', '️_wish', 'wish_love', 'love_one', 'one_year', 'year_fill', 'fill_opportun', 'opportun_bl', 'bl_…', '…_lincoln', 'lincoln_declar', 'declar_end', 'end_slaveri', 'slaveri_new', 'new_year', 'year_day', 'day_went', 'went_two', 'two_year', 'year_happi', 'happi_new', 'new_year', 'year_-', '-_-', '-_-', '-_may', 'may_hope', 'hope_vision', 'vision_goal', 'goal_accomplish', 'accomplish_year', 'year_thank', 'thank_ariaa', 'ariaa_happi', 'happi_new', 'new_year', 'year_kid', 'kid_spend', 'spend_#newyearsev', '#newyearsev_cours', 'cours_cameo', 'cameo_gang', 'gang_cnn', 'cnn_pleas', 'pleas_dont', 'dont_disappoint', 'disappoint_pleas', 'pleas_get', 'get_good', 'good_stuff', 'stuff_zzzzzz', 'zzzzzz_year', 'year_prove', 'prove_democraci', 'democraci_work', 'work_move', 'move_feet', 'feet_town', 'town_squar', 'squar_town', 'town_hall', 'hall_march', 'march_ballot', 'ballot_box', 'box_voic', 'voic_heard', 'heard_help', 'help_save', 'save_america', 'america_here', 'here_work', 'work_ahead', 'ahead_#happynewyear', '#happynewyear_happi', 'happi_new', 'new_year', 'year_peopl', 'peopl_massachusett', 'massachusett_sent', 'sent_home', 'home_work', 'work_without', 'without_pay', 'pay_#trumpshutdown', '#trumpshutdown_re-open', 're-open_govern', 'govern_im', 'im_donat', 'donat_salari', 'salari_hiasrefuge', 'hiasrefuge_nonprofit', 'nonprofit_help', 'help_refuge', 'refuge_make', 'make_countri', 'countri_stronger', 'stronger_process', 'process_wish', 'wish_everyon', 'everyon_#wa', '#wa_around', 'around_countri', 'countri_happi', 'happi_new', 'new_year', 'year_happi', 'happi_birthday', 'birthday_repderekkilm', 'repderekkilm_great', 'great_washington', 'washington_deleg', 'deleg_work', 'work_hard', 'hard_#wa', '#wa_famili', 'famili_happi', 'happi_new', 'new_year', 'year_wish', 'wish_everyon', 'everyon_healthi', 'healthi_prosper', 'prosper_look', 'look_forward', 'forward_tackl', 'tackl_new', 'new_issu', 'issu_aris', 'aris_#il', '#il_product', 'product_th', 'th_congress', 'congress_democrat', 'democrat_major', 'major_here', 'here_success', 'success_year', 'year_ahead', 'ahead_happi', 'happi_new', 'new_year', 'year_happi', 'happi_new', 'new_year', 'year_wish', 'wish_love', 'love_one', 'one_wonder', 'wonder_fill', 'fill_much', 'much_prosper', 'prosper_happi', 'happi_joyou', 'joyou_wish', 'wish_happi', 'happi_new', 'new_year', 'year_excit', 'excit_year', 'year_uniqu', 'uniqu_opportun', 'opportun_make', 'make_countri', 'countri_better', 'better_place', 'place_time', 'time_get', 'get_work', 'work_happi', 'happi_#newyear', '#newyear_wish', 'wish_love', 'love_one', 'one_best', 'best_happi', 'happi_new', 'new_year', 'year_wish', 'wish_everyon', 'everyon_peac', 'peac_joyou', 'joyou_happi', 'happi_new', 'new_year', 'year_wish', 'wish_love', 'love_one', 'one_joy', 'joy_healthi', 'healthi_new', 'new_year', 'year_honor', 'honor_repres', 'repres_im', 'im_look', 'look_forward', 'forward_work', 'work_make', 'make_progress', 'progress_commun', 'commun_part', 'part_new', 'new_hous', 'hous_major', 'major_#happynewyear', '#happynewyear_hudson', 'hudson_america', 'america_river', 'river_preserv', 'preserv_kid', 'kid_grandkidsand', 'grandkidsand_mean', 'mean_make', 'make_sure', 'sure_water', 'water_safe', 'safe_fought', 'fought_success', 'success_kill', 'kill_anchorag', 'anchorag_propos', 'propos_cant', 'cant_let', 'let_must', 'must_continu', 'continu_fight', 'fight_protect', 'protect_river', 'river_next', 'next_gener', 'gener_cant', 'cant_let', 'let_washington', 'washington_republican', 'republican_destroy', 'destroy_retir', 'retir_secur', 'secur_pay', 'pay_massiv', 'massiv_tax', 'tax_bill', 'bill_mani', 'mani_folk', 'folk_count', 'count_social', 'social_secur', 'secur_get', 'get_im', 'im_work', 'work_congress', 'congress_initi', 'initi_would', 'would_ensur', 'ensur_keep', 'keep_safeti', 'safeti_net', 'net_work', 'work_hard', 'hard_build', 'build_happi', 'happi_new', 'new_year', 'year_wisconsin', 'wisconsin_let', 'let_continu', 'continu_work', 'work_togeth', 'togeth_move', 'move_state', 'state_countri', 'countri_#forward', '#forward_famili', 'famili_–', '–_wish', 'wish_happi', 'happi_healthi', 'healthi_#newyear', '#newyear_happi', 'happi_new', 'new_year', 'year_look', 'look_forward', 'forward_continu', 'continu_work', 'work_arizonan', 'arizonan_new', 'new_year', 'year_happi', 'happi_new', 'new_year', 'year_love', 'love_one', 'one_may', 'may_full', 'full_health', 'health_happi', 'happi_prosper', 'prosper_#happynewyear', '#happynewyear_happi', 'happi_new', 'new_year', 'year_everyon', 'everyon_feel', 'feel_privileg', 'privileg_serv', 'serv_past', 'past_year', 'year_look', 'look_forward', 'forward_anoth', 'anoth_year', 'year_fight', 'fight_hardwork', 'hardwork_peopl', 'peopl_across', 'across_region', 'region_refresh', 'refresh_leadership', 'leadership_long', 'long_overdu', 'overdu_happi', 'happi_new', 'new_year', 'year_san', 'san_diego', 'diego_wish', 'wish_everyon', 'everyon_happi', 'happi_healthi', 'healthi_prosper', 'prosper_new', 'new_year', 'year_hardwork', 'hardwork_men', 'men_women', 'women_across', 'across_countri', 'countri_see', 'see_much', 'much_need', 'need_pay', 'pay_rais', 'rais_step', 'step_right', 'right_direct', 'direct_need', 'need_pay', 'pay_worker', 'worker_live', 'live_wage', 'wage_#fightfor', '#fightfor_continu', 'continu_#happynewyear', '#happynewyear_happi', 'happi_birthday', 'birthday_ventura', 'ventura_counti', 'counti_becam', 'becam_counti', 'counti_day', 'day_alway', 'alway_tell', 'tell_colleagu', 'colleagu_beauti', 'beauti_district', 'district_entir', 'entir_countri', 'countri_great', 'great_honor', 'honor_abl', 'abl_serv', 'serv_repres', 'repres_congress', 'congress_look', 'look_forward', 'forward_continu', 'continu_serv', 'serv_upcom', 'upcom_year', 'year_wish', 'wish_amaz', 'amaz_📸', '📸_great', 'great_buckey', 'buckey_heisman', 'heisman_winner', 'winner_#gobuck', '#gobuck_happi', 'happi_new', 'new_year', 'year_let', 'let_go', 'go_buck', 'buck_#rosebowl', '#rosebowl_#oh', '#oh_florida', 'florida_new', 'new_minimum', 'minimum_wage', 'wage_today', 'today_feder', 'feder_minimum', 'minimum_wage', 'wage_stuck', 'stuck_bc', 'bc_gop', 'gop_block', 'block_democratic-propos', 'democratic-propos_increas', 'increas_year', 'year_livabl', 'livabl_wage', 'wage_let', 'let_fight', 'fight_rais', 'rais_unconscion', 'unconscion_low', 'low_wage', 'wage_dignifi', 'dignifi_work', 'work_w', 'w_real', 'real_pay', 'pay_wonder', 'wonder_year', 'year_commun', 'commun_grate', 'grate_great', 'great_work', 'work_servic', 'servic_done', 'done_across', 'across_tampa', 'tampa_bay', 'bay_soon', 'soon_share', 'share_detail', 'detail_new', 'new_select', 'select_committe', 'committe_climat', 'climat_crisi', 'crisi_new', 'new_congress', 'congress_meantim', 'meantim_happi', 'happi_new', 'new_year', 'year_wish', 'wish_everyon', 'everyon_safe', 'safe_#happynewyear', '#happynewyear_\\u2060', '\\u2060_say', 'say_goodby', 'goodby_past', 'past_hello', 'hello_new', 'new_year', 'year_full', 'full_faith', 'faith_hope', 'hope_peac', 'peac_love', 'love_wish', 'wish_full', 'full_happi', 'happi_#happynewyear', '#happynewyear_#', '#_month', 'month_children', 'children_die', 'die_cbp', 'cbp_custodi', 'custodi_intern', 'intern_doc', 'doc_said', 'said_children', 'children_facil', 'facil_face', 'face_horrif', 'horrif_condit', 'condit_one', 'one_child', 'child_diarrhea', 'diarrhea_dri', 'dri_lip', 'lip_fever', 'fever_border', 'border_agent', 'agent_declin', 'declin_seek', 'seek_medic', 'medic_care', 'care_close', 'close_cell', 'cell_door', 'door_congress', 'congress_must', 'must_investig', 'investig_say', 'say_goodby', 'goodby_hello', 'hello_want', 'want_wish', 'wish_happi', 'happi_healthi', 'healthi_prosper', 'prosper_new', 'new_year', 'year_ask', 'ask_exact', 'exact_thing', 'thing_particularli', 'particularli_tough', 'tough_year', 'year_farmer', 'farmer_leav', 'leav_futur', 'futur_uncertain', 'uncertain_trump', 'trump_tariff', 'tariff_trade', 'trade_war', 'war_major', 'major_problem', 'problem_farm', 'farm_commun', 'commun_work', 'work_peopl', 'peopl_go', 'go_taken', 'taken_terribl', 'terribl_con', 'con_peopl', 'peopl_want', 'want_deceiv', 'deceiv_happi', 'happi_new', 'new_year', 'year_here', 'here_good', 'good_thing', 'thing_wish', 'wish_everyon', 'everyon_happi', 'happi_safe', 'safe_rememb', 'rememb_ring', 'ring_new', 'new_year', 'year_respons', 'respons_even', 'even_despit', 'despit_occup', 'occup_white', 'white_hous', 'hous_feder', 'feder_worker', 'worker_rest', 'rest_assur', 'assur_us', 'us_repres', 'repres_themhav', 'themhav_back', 'back_make', 'make_sure', 'sure_stoppag', 'stoppag_pay', 'pay_rectifi', 'rectifi_letter', 'letter_peopl', 'peopl_step', 'step_show', 'show_like', 'like_never', 'never_keep', 'keep_weve', 'weve_got', 'got_lot', 'lot_work', 'work_ill', 'ill_…', '…_first', 'first_thing', 'thing_major', 'major_thursday', 'thursday_pass', 'pass_legisl', 'legisl_reopen', 'reopen_govern', 'govern_senat', 'senat_pass', 'pass_nearli', 'nearli_unanim', 'unanim_bipartisan', 'bipartisan_support', 'support_fund', 'fund_wall', 'wall_trump', 'trump_promis', 'promis_mexico', 'mexico_would', 'would_pay', 'pay_trump', 'trump_shutdown', 'shutdown_must', 'must_end', 'end_studi', 'studi_childhood', 'childhood_death', 'death_america', 'america_due', 'due_gun', 'gun_hous', 'hous_repres', 'repres_longtim', 'longtim_inact', 'inact_gun', 'gun_violenc', 'violenc_end', 'end_signific', 'signific_stori', 'stori_wasnt', 'wasnt_donald', 'donald_trump', 'trump_robert', 'robert_mueller', 'mueller_climat', 'climat_chang', 'chang_ill', 'ill_shortli', 'shortli_discuss', 'discuss_latest', 'latest_#trumpshutdown', '#trumpshutdown_enter', 'enter_new', 'new_year', 'year_ill', 'ill_shortli', 'shortli_discuss', 'discuss_latest', 'latest_#trumpshutdown', '#trumpshutdown_enter', 'enter_new', 'new_year', 'year_im', 'im_readi', 'readi_vote', 'vote_soon', 'soon_possibl', 'possibl_hope', 'hope_presid', 'presid_join', 'join_us', 'us_end', 'end_pointless', 'pointless_harm', 'harm_shutdown', 'shutdown_happi', 'happi_new', 'new_year', 'year_excit', 'excit_serv', 'serv_#ni', '#ni_wish', 'wish_everyon', 'everyon_happi', 'happi_healthi', 'healthi_new', 'new_year', 'year_head', 'head_held', 'held_high', 'high_ucffootbal', 'ucffootbal_accomplish', 'accomplish_last', 'last_two', 'two_season', 'season_amaz', 'amaz_brought', 'brought_pride', 'pride_joy', 'joy_univers', 'univers_central', 'central_florida', 'florida_commun', 'commun_thank', 'thank_senior', 'senior_alreadi', 'alreadi_look', 'look_forward', 'forward_next', 'next_season', 'season_#chargeon', '#chargeon_happi', 'happi_new', 'new_year', 'year_humbl', 'humbl_honor', 'honor_opportun', 'opportun_continu', 'continu_serv', 'serv_congressman', 'congressman_unit', 'unit_state', 'state_hous', 'hous_repres', 'repres_thank', 'thank_highlight', 'highlight_staff', 'staff_work', 'work_behalf', 'behalf_peopl', 'peopl_central', 'central_coast', 'coast_happi', 'happi_new', 'new_year', 'year_nic', 'nic_good', 'good_morn', 'morn_central', 'central_florida', 'florida_happi', 'happi_wish', 'wish_safe', 'safe_happi', 'happi_prosper', 'prosper_year', 'year_year', 'year_chanc', 'chanc_make', 'make_heard', 'heard_never', 'never_forget', 'forget_power', 'power_creat', 'creat_chang', 'chang_cant', 'cant_wait', 'wait_work', 'work_ca', 'ca_wildfir', 'wildfir_brutal', 'brutal_hurrican', 'hurrican_record-shatt', 'record-shatt_heat', 'heat_world', 'world_degre', 'degre_algeria', 'algeria_give', 'give_us', 'us_agenda', 'agenda_chang', 'chang_polit', 'polit_climat', 'climat_save', 'save_place', 'place_earth', 'earth_im', 'im_proud', 'proud_weve', 'weve_accomplish', 'accomplish_nevada', 'nevada_secur', 'secur_state', 'state_futur', 'futur_innov', 'innov_state', 'state_provid', 'provid_militari', 'militari_law', 'law_enforc', 'enforc_w', 'w_tool', 'tool_keep', 'keep_us', 'us_safe', 'safe_ive', 'ive_work', 'work_across', 'across_aisl', 'aisl_pass', 'pass_legisl', 'legisl_put', 'put_nevadan', 'nevadan_first', 'first_next', 'next_senior', 'senior_senat', 'senat_enter', 'enter_th', 'th_congress', 'congress_renew', 'renew_energi', 'energi_protect', 'protect_nevadan', 'nevadan_health', 'health_care', 'care_creat', 'creat_good-pay', 'good-pay_job', 'job_expand', 'expand_afford', 'afford_hous', 'hous_improv', 'improv_live', 'live_nevada', 'nevada_famili', 'famili_new', 'new_year', 'year_mean', 'mean_anoth', 'anoth_opportun', 'opportun_reflect', 'reflect_grate', 'grate_incred', 'incred_honor', 'honor_repres', 'repres_great', 'great_state', 'state_nevada', 'nevada_look', 'look_forward', 'forward_renew', 'renew_enthusiasm', 'enthusiasm_passion', 'passion_hope', 'hope_famili', 'famili_wish', 'wish_happi', 'happi_prosper', 'prosper_new', 'new_year', 'year_hope', 'hope_wonder', 'wonder_even', 'even_better', 'better_wish', 'wish_everyon', 'everyon_happi', 'happi_healthi', 'healthi_new', 'new_year', 'year_thank', 'thank_opportun', 'opportun_serv', 'serv_last', 'last_two', 'two_year', 'year_look', 'look_forward', 'forward_make', 'make_progress', 'progress_north', 'north_jersey', 'jersey_came', 'came_congress', 'congress_belief', 'belief_better', 'better_better', 'better_continu', 'continu_fight', 'fight_health', 'health_care', 'care_equiti', 'equiti_justic', 'justic_game', 'game_day', 'day_🌹', '🌹_🏈', '🏈_cours', 'cours_im', 'im_root', 'root_uwfootbal', 'uwfootbal_go', 'go_huski', 'huski_#purplereign', '#purplereign_#happynewyear', '#happynewyear_pinella', 'pinella_honor', 'honor_continu', 'continu_servic', 'servic_commun', 'commun_beyond', 'beyond_new', 'new_democrat', 'democrat_hous', 'hous_major', 'major_stand', 'stand_readi', 'readi_work', 'work_begin', 'begin_th', 'th_congress', 'congress_vote', 'vote_immedi', 'immedi_end', 'end_trump', 'trump_govern', 'govern_shutdown', 'shutdown_suspend', 'suspend_pay', 'pay_thousand', 'thousand_hardwork', 'hardwork_american', 'american_limit', 'limit_feder', 'feder_servic', 'servic_well', 'well_tool', 'tool_need', 'need_expos', 'expos_unlimit', 'unlimit_campaign', 'campaign_spend', 'spend_super', 'super_pac', 'pac_well', 'well_work', 'work_end', 'end_voter', 'voter_suppress', 'suppress_hr', 'hr_well', 'well_also', 'also_abl', 'abl_provid', 'provid_oversight', 'oversight_administr', 'administr_polici', 'polici_includ', 'includ_treatment', 'treatment_immigr', 'immigr_asylum', 'asylum_seeker', 'seeker_new', 'new_congress', 'congress_continu', 'continu_work', 'work_protect', 'protect_air', 'air_water', 'water_attack', 'attack_administr', 'administr_well', 'well_promot', 'promot_strateg', 'strateg_invest', 'invest_address', 'address_worsen', 'worsen_effect', 'effect_climat', 'climat_chang', 'chang_central', 'central_coast', 'coast_here', 'here_look', 'look_back', 'back_offic', 'offic_abl', 'abl_accomplish', 'accomplish_first', 'first_term', 'term_look', 'look_forward', 'forward_continu', 'continu_work', 'work_behalf', 'behalf_id', 'id_like', 'like_wish', 'wish_everyon', 'everyon_central', 'central_coast', 'coast_wonder', 'wonder_new', 'new_year', 'year_full', 'full_joy', 'joy_hope', 'hope_futur', 'futur_past', 'past_year', 'year_difficult', 'difficult_mani', 'mani_american', 'american_countri', 'countri_seem', 'seem_grow', 'grow_even', 'even_divid', 'divid_look', 'look_forward', 'forward_new', 'new_year', 'year_much', 'much_hope', 'hope_hope', 'hope_love', 'love_one', 'one_happi', 'happi_prosper', 'prosper_new', 'new_year', 'year_look', 'look_forward', 'forward_fight', 'fight_share', 'share_valu', 'valu_th', 'th_congress', 'congress_#happynewyear', '#happynewyear_#happi', '#happi_happi', 'happi_new', 'new_year', 'year_year', 'year_resolut', 'resolut_keep', 'keep_fight', 'fight_medicar', 'medicar_minimum', 'minimum_wage', 'wage_green', 'green_new', 'new_deal', 'deal_polici', 'polici_help', 'help_work', 'work_famili', 'famili_grow', 'grow_economi', 'economi_leav', 'leav_world', 'world_better', 'better_children', 'children_found', 'found_northport', 'northport_va', 'va_model', 'model_countri', 'countri_continu', 'continu_push', 'push_improv', 'improv_incl', 'incl_reopen', 'reopen_beacon', 'beacon_hous', 'hous_improv', 'improv_physic', 'physic_plant', 'plant_wdemo', 'wdemo_vacant', 'vacant_bldg', 'bldg_improv', 'improv_access', 'access_mental', 'mental_health', 'health_counsel', 'counsel_transit', 'transit_activ', 'activ_duti', 'duti_statu', 'statu_wish', 'wish_love', 'love_one', 'one_new', 'new_year', 'year_fill', 'fill_purpos', 'purpos_courag', 'courag_determin', 'determin_#happynewyear', '#happynewyear_accomplish', 'accomplish_great', 'great_thing', 'thing_look', 'look_forward', 'forward_achiev', 'achiev_work', 'work_togeth', 'togeth_wish', 'wish_happi', 'happi_healthi', 'healthi_#happynewyear', '#happynewyear_#nye', '#nye_happi', 'happi_new', 'new_year', 'year_look', 'look_forward', 'forward_mani', 'mani_bless', 'bless_new', 'new_year', 'year_bring', 'bring_#happynewyear', '#happynewyear_#congress', '#congress_new', 'new_year', 'year_la', 'la_vega', 'vega_alway', 'alway_beauti', 'beauti_sight', 'sight_wish', 'wish_everyon', 'everyon_happi', 'happi_healthi', 'healthi_wonder', 'wonder_happi', 'happi_new', 'new_year', 'year_went', 'went_lot', 'lot_also', 'also_lot', 'lot_good', 'good_movement', 'movement_began', 'began_new', 'new_face', 'face_join', 'join_felt', 'felt_power', 'power_million', 'million_peopl', 'peopl_ballot', 'ballot_box', 'box_let', 'let_make', 'make_even', 'even_better', 'better_ill', 'ill_live', 'live_moment', 'moment_discuss', 'discuss_shutdown', 'shutdown_democrat', 'democrat_plan', 'plan_reopen', 'reopen_govern', 'govern_presid', 'presid_trump', 'trump_shouldnt', 'shouldnt_hold', 'hold_thousand', 'thousand_work', 'work_famili', 'famili_pay', 'pay_essenti', 'essenti_govern', 'govern_servic', 'servic_hostag', 'hostag_ineffect', 'ineffect_wall', 'wall_go', 'go_move', 'move_border', 'border_wall', 'wall_unless', 'unless_part', 'part_comprehens', 'comprehens_immigr', 'immigr_reform', 'reform_discuss', 'discuss_what', 'what_next', 'next_partial', 'partial_govern', 'govern_shutdown', 'shutdown_continu', 'continu_lawmak', 'lawmak_prepar', 'prepar_return', 'return_dc', 'dc_go', 'go_talk', 'talk_border', 'border_secur', 'secur_talk', 'talk_pathway', 'pathway_citizenship', 'citizenship_famili', 'famili_reunif', 'reunif_visa', 'visa_lotteri', 'lotteri_system', 'system_convers', 'convers_democrat', 'democrat_republican', 'republican_want', 'want_presid', 'presid_clearli', 'clearli_doesnt', 'doesnt_want', 'want_absurd', 'absurd_wall', 'wall_turn', 'turn_calendar', 'calendar_extend', 'extend_best', 'best_wish', 'wish_#happynewyear', '#happynewyear_fill', 'fill_good', 'good_health', 'health_prosper', 'prosper_kick', 'kick_mummer', 'mummer_wish', 'wish_#happynewyear', '#happynewyear_bring', 'bring_renew', 'renew_commit', 'commit_restor', 'restor_faith', 'faith_democrat', 'democrat_institutionsa', 'institutionsa_govern', 'govern_#forthepeopl', '#forthepeopl_look', 'look_forward', 'forward_accomplish', 'accomplish_togeth', 'togeth_wish', 'wish_happi', 'happi_healthi', 'healthi_new', 'new_year', 'year_incom', 'incom_rep', 'rep_joe', 'joe_negus', 'negus_deliv', 'deliv_last', 'last_weekli', 'weekli_democrat', 'democrat_address', 'address_honor', 'honor_deliv', 'deliv_final', 'final_democrat', 'democrat_address', 'address_spent', 'spent_career', 'career_work', 'work_make', 'make_elect', 'elect_fairer', 'fairer_access', 'access_excit', 'excit_continu', 'continu_work', 'work_champion', 'champion_passag', 'passag_hr', 'hr_-', '-_#forthepeopl']\n"
     ]
    }
   ],
   "source": [
    "#Viewing the tokens in the first row\n",
    "print(tweets_agg.tokens[0])"
   ]
  },
  {
   "cell_type": "markdown",
   "metadata": {},
   "source": [
    "### 2: Creating a corpus object\n",
    "\n",
    "We will be using the `gensim` module to create a corpus object and filter very frequent and in-frequent words. Read the documentation here: https://radimrehurek.com/gensim/corpora/dictionary.html \n",
    "\n",
    "1. Create a dictionary mapping between words and their ids. This code is provided for you. This can take a couple of seconds.  \n",
    "2. Use `filter_extremes` to remove very frequent (those that appear in more than 99.9% of the documents) and very infrequent words (those that appear in less than 10 documents).\n",
    "3. You can inspect the vocabulary using either `id2token` or `token2id`. \n",
    "4. Create a corpus object. Essentially, use `doc2bow` in a list comprehension to create a list containing a bag of words for each document (aka for each row in the dataframe). Each bag of words should be a list containing tuples with 1) an index indicating the word and 2) the frequency of that word. The code will look like: `corpus = [id2word.doc2bow(doc) for doc in df['tokens']]`.\n"
   ]
  },
  {
   "cell_type": "code",
   "execution_count": 10,
   "metadata": {
    "scrolled": false
   },
   "outputs": [
    {
     "name": "stdout",
     "output_type": "stream",
     "text": [
      "2972279\n"
     ]
    }
   ],
   "source": [
    "#Create a id2word dictionary\n",
    "\n",
    "#Insert the column where you saved unigram and bigram tokens between the parentheses\n",
    "id2word = Dictionary(tweets_agg['tokens']) \n",
    "\n",
    "#Viewing how many words are in our vocabulary\n",
    "print(len(id2word))"
   ]
  },
  {
   "cell_type": "code",
   "execution_count": 11,
   "metadata": {
    "scrolled": true
   },
   "outputs": [
    {
     "name": "stdout",
     "output_type": "stream",
     "text": [
      "126300\n"
     ]
    }
   ],
   "source": [
    "#Removing very frequent and infrequent words\n",
    "id2word.filter_extremes(no_below=10, no_above=.999, keep_n = None)\n",
    "print(len(id2word))\n"
   ]
  },
  {
   "cell_type": "code",
   "execution_count": 12,
   "metadata": {},
   "outputs": [],
   "source": [
    "#Uncomment to see the full vocabulary\n",
    "\n",
    "#for i, token in enumerate(id2word.token2id.keys()):\n",
    "#    print (i,token)"
   ]
  },
  {
   "cell_type": "code",
   "execution_count": 13,
   "metadata": {},
   "outputs": [],
   "source": [
    "#Creating a corpus object \n",
    "\n",
    "corpus = [id2word.doc2bow(doc) for doc in tweets_agg['tokens']]\n"
   ]
  },
  {
   "cell_type": "markdown",
   "metadata": {},
   "source": [
    "### 3: Topic modelling\n",
    "\n",
    "We will run topic modelling using an LDA implementation from the `gensim` module. You can find the documentation here: https://radimrehurek.com/gensim/models/ldamulticore.html \n",
    "\n",
    "We will investigate the results of a model with 50 topics. However, like last week, this takes several hours to run. Therefore, first try the LDA algorithm with approx. 10 topics and then download the pre-trained model to investigate the 50-topic results.\n",
    "\n",
    "1. Run the LDA algorithm with the provided code\n",
    "2. The typical way to get a sense of what each topic actually is means looking at the tokens that are most predictive for each topic. Use `print_topics` to see the 10 (or more) most predictive tokens for each topic. Optional: When using `print_topics`, the model weights are included. If you want to clean this, you can use regex to filter out everything but the words.\n",
    "\n",
    "\n",
    "**A note on setting parameters:**\n",
    "\n",
    "- Passes and iterations: As this is just a test run, passes and iterations are set quite low. If you want to use topic modelling in your project, you should make sure to set passes and iterations high enough for the model to converge. In the pre-trained model, passes = 100 and iterations = 1000. \n",
    "- Minimum_probability: This filters out all probabilities less than the given number. In the pre-trained model, minimum_probability = 0.000001\n",
    "\n",
    "\n",
    "**A note on choosing the number of topics:**\n",
    "Choosing the number of topics is not straightforward. Both Barberá (2019) and Munger (2019) use 10-fold cross-validation for the log-likelihood and perplexity. If you want to implement these models in your own work and want to learn how to do this, read about hyperparameter tuning [here](https://towardsdatascience.com/twitter-topic-modeling-e0e3315b12e2) or contact Greg who can guide you in R. \n",
    "\n",
    "At the same time, there is no statistic that can tell you how many topics you want: \"There is often a negative relationship between the best-fitting model and the substantive information provided\" (Grimmer and Stewart 2013). So in the end it is a judgment call on the side of the researcher, which can be guided by statistics.\n",
    "\n",
    "If topics repeat themselves, this may suggest that we chose too many topics for the dataset. \n"
   ]
  },
  {
   "cell_type": "code",
   "execution_count": 14,
   "metadata": {},
   "outputs": [
    {
     "name": "stderr",
     "output_type": "stream",
     "text": [
      "2021-05-02 22:00:18,681 : INFO : using symmetric alpha at 0.1\n",
      "2021-05-02 22:00:18,683 : INFO : using symmetric eta at 0.1\n",
      "2021-05-02 22:00:18,697 : INFO : using serial LDA version on this node\n",
      "2021-05-02 22:00:18,790 : INFO : running online LDA training, 10 topics, 1 passes over the supplied corpus of 864 documents, updating every 14000 documents, evaluating every ~864 documents, iterating 50x with a convergence threshold of 0.001000\n",
      "2021-05-02 22:00:18,790 : WARNING : too few updates, training might not converge; consider increasing the number of passes or iterations to improve accuracy\n",
      "2021-05-02 22:00:18,794 : INFO : training LDA model using 7 processes\n",
      "2021-05-02 22:00:33,571 : INFO : PROGRESS: pass 0, dispatched chunk #0 = documents up to #864/864, outstanding queue size 1\n",
      "2021-05-02 22:00:43,410 : INFO : topic #9 (0.100): 0.004*\"presid\" + 0.004*\"hous\" + 0.003*\"peopl\" + 0.003*\"trump\" + 0.003*\"im\" + 0.003*\"act\" + 0.003*\"nation\" + 0.003*\"famili\" + 0.003*\"commun\" + 0.003*\"protect\"\n",
      "2021-05-02 22:00:43,414 : INFO : topic #4 (0.100): 0.003*\"trump\" + 0.003*\"presid\" + 0.003*\"commun\" + 0.003*\"need\" + 0.003*\"peopl\" + 0.003*\"famili\" + 0.003*\"im\" + 0.003*\"hous\" + 0.003*\"act\" + 0.003*\"day\"\n",
      "2021-05-02 22:00:43,423 : INFO : topic #2 (0.100): 0.004*\"nation\" + 0.004*\"trump\" + 0.003*\"hous\" + 0.003*\"bill\" + 0.003*\"act\" + 0.003*\"congress\" + 0.003*\"im\" + 0.003*\"pass\" + 0.003*\"peopl\" + 0.002*\"support\"\n",
      "2021-05-02 22:00:43,426 : INFO : topic #0 (0.100): 0.004*\"act\" + 0.004*\"commun\" + 0.003*\"presid\" + 0.003*\"hous\" + 0.003*\"trump\" + 0.003*\"im\" + 0.003*\"famili\" + 0.003*\"bill\" + 0.003*\"vote\" + 0.003*\"protect\"\n",
      "2021-05-02 22:00:43,427 : INFO : topic #1 (0.100): 0.004*\"trump\" + 0.004*\"presid\" + 0.003*\"need\" + 0.003*\"hous\" + 0.003*\"act\" + 0.003*\"nation\" + 0.003*\"congress\" + 0.003*\"bill\" + 0.003*\"peopl\" + 0.003*\"famili\"\n",
      "2021-05-02 22:00:43,430 : INFO : topic diff=1.324480, rho=1.000000\n",
      "2021-05-02 22:00:57,504 : INFO : -9.741 per-word bound, 855.5 perplexity estimate based on a held-out corpus of 864 documents with 13016537 words\n",
      "2021-05-02 22:00:57,557 : INFO : LdaMulticore lifecycle event {'msg': 'trained LdaModel(num_terms=126300, num_topics=10, decay=0.5, chunksize=2000) in 38.77s', 'datetime': '2021-05-02T22:00:57.556961', 'gensim': '4.0.1', 'python': '3.8.5 (default, Sep  4 2020, 02:22:02) \\n[Clang 10.0.0 ]', 'platform': 'macOS-10.16-x86_64-i386-64bit', 'event': 'created'}\n"
     ]
    }
   ],
   "source": [
    "#Instantiating a logger to get information on the progress of the LDA\n",
    "logging.basicConfig(format='%(asctime)s : %(levelname)s : %(message)s', level=logging.INFO)\n",
    "\n",
    "#Running the LDA with 10 topics \n",
    "lda_model = LdaMulticore(corpus=corpus, num_topics=10, id2word=id2word, passes = 1, iterations = 50)\n"
   ]
  },
  {
   "cell_type": "code",
   "execution_count": 15,
   "metadata": {},
   "outputs": [],
   "source": [
    "#Disabling logging again\n",
    "logging.disable(sys.maxsize)"
   ]
  },
  {
   "cell_type": "code",
   "execution_count": 16,
   "metadata": {},
   "outputs": [],
   "source": [
    "#Finding the 10 most predictive tokens for each topic\n",
    "\n",
    "#Using regex to filter the words from the weights \n",
    "words = [re.findall(r'\"([^\"]*)\"',t[1]) for t in lda_model.print_topics(10,10)]\n"
   ]
  },
  {
   "cell_type": "code",
   "execution_count": 17,
   "metadata": {
    "scrolled": true
   },
   "outputs": [
    {
     "name": "stdout",
     "output_type": "stream",
     "text": [
      "------ Topic 0 ------\n",
      "act commun presid hous trump im famili bill vote protect\n",
      "\n",
      "------ Topic 1 ------\n",
      "trump presid need hous act nation congress bill peopl famili\n",
      "\n",
      "------ Topic 2 ------\n",
      "nation trump hous bill act congress im pass peopl support\n",
      "\n",
      "------ Topic 3 ------\n",
      "trump presid need commun hous im peopl support care nation\n",
      "\n",
      "------ Topic 4 ------\n",
      "trump presid commun need peopl famili im hous act day\n",
      "\n",
      "------ Topic 5 ------\n",
      "presid peopl trump bill need support nation act famili countri\n",
      "\n",
      "------ Topic 6 ------\n",
      "trump hous protect need presid nation famili commun peopl bill\n",
      "\n",
      "------ Topic 7 ------\n",
      "presid nation act peopl hous pass support commun need bill\n",
      "\n",
      "------ Topic 8 ------\n",
      "hous presid trump peopl act famili commun need support nation\n",
      "\n",
      "------ Topic 9 ------\n",
      "presid hous peopl trump im act nation famili commun protect\n",
      "\n"
     ]
    }
   ],
   "source": [
    "# Printing the topics in a nice format\n",
    "for id, t in enumerate(words): \n",
    "    print(f\"------ Topic {id} ------\")\n",
    "    print(' '.join(t), end=\"\\n\\n\")\n",
    "    "
   ]
  },
  {
   "cell_type": "code",
   "execution_count": 18,
   "metadata": {},
   "outputs": [],
   "source": [
    "#Code for saving the models\n",
    "\n",
    "#path = #to the folder in which you want the models saved\n",
    "\n",
    "#pickle.dump(base_model, open(path+'ldamodel.sav', 'wb'))\n",
    "#pickle.dump(corpus, open(path+'corpus.sav', 'wb'))\n",
    "#pickle.dump(id2word, open(path+'id2word.sav', 'wb'))"
   ]
  },
  {
   "cell_type": "markdown",
   "metadata": {},
   "source": [
    "### 4.1: Investigating results: beta parameters\n",
    "\n",
    "To investigate the results, load the pre-trained models with the provided code. \n",
    "\n",
    "Retrieve the estimated **beta parameters** from the model. There is a beta per token per topic. A beta indicates how predictive a token is of a document being assigned to a specific topic. \n",
    "\n",
    "1. Beta values can be accessed using either `get_topic_terms` (where you input the topic and number of most predictive tokens you want returned) or `get_topics` (which returns the full matrix of beta values). \n",
    "2. Pick two or three topics (in the solution code the topics 1, 8, 16, 27, 28, 29, 31, 41, 47, 48 were chosen for visualization). Get the 10 highest beta values and plot these in a horizontal barchart with `sns.barplot`, where x is the beta probability and y is the token. \n",
    "\n",
    "Hint: Create a dataframe from the matrix generated by `get_topics` with token names as the column names. Tokens can be retrieved with the `id2word.token2id`. Once you have the dataframe, `nlargest` can be used on a specific row to get the columns with the *n* largest values in that row. \n",
    "\n",
    "Intended take-away: The \"top terms\" for each topic are just the tokens that have the largest beta. \n"
   ]
  },
  {
   "cell_type": "code",
   "execution_count": 19,
   "metadata": {},
   "outputs": [],
   "source": [
    "#Importing the pre-trained models\n",
    "\n",
    "path = '/Users/fzv545/Documents/SODAS/ASDS2/Topic modelling/'\n",
    "\n",
    "lda_model=pickle.load(open(path+'ldamodel_50t100p1000i000001minprob.sav', 'rb'))\n",
    "corpus=pickle.load(open(path+'corpus_50t100p1000i000001minprob.sav', 'rb'))\n",
    "id2word=pickle.load(open(path+'id2word_50t100p1000i000001minprob.sav', 'rb'))\n"
   ]
  },
  {
   "cell_type": "code",
   "execution_count": 20,
   "metadata": {},
   "outputs": [],
   "source": [
    "#Uncomment to inspect the vocabulary \n",
    "\n",
    "#id2word.id2token"
   ]
  },
  {
   "cell_type": "code",
   "execution_count": 21,
   "metadata": {
    "scrolled": false
   },
   "outputs": [
    {
     "data": {
      "text/plain": [
       "[(126204, 0.018707033),\n",
       " (126217, 0.012971616),\n",
       " (869, 0.008170186),\n",
       " (1017, 0.0070352694),\n",
       " (126279, 0.0060018497),\n",
       " (1563, 0.00573291),\n",
       " (3977, 0.005709222),\n",
       " (1807, 0.0053544473),\n",
       " (48, 0.0052366825),\n",
       " (1970, 0.0051983683)]"
      ]
     },
     "execution_count": 21,
     "metadata": {},
     "output_type": "execute_result"
    }
   ],
   "source": [
    "#In the following solution, get_topics() was used to find and visualize beta values \n",
    "#get_topic_terms is an alternative that could also have been used.\n",
    "\n",
    "#Returns (Word ID, probability) pairs for the most relevant words generated by the topic\n",
    "\n",
    "lda_model.get_topic_terms(41,10) #This returns the 10 words that are most significant for topic 41\n"
   ]
  },
  {
   "cell_type": "code",
   "execution_count": 22,
   "metadata": {
    "scrolled": true
   },
   "outputs": [
    {
     "data": {
      "text/plain": [
       "(50, 126300)"
      ]
     },
     "execution_count": 22,
     "metadata": {},
     "output_type": "execute_result"
    }
   ],
   "source": [
    "#Viewing the shape of base_model.get_topics() to verify that the shape is (topics, tokens)\n",
    "\n",
    "lda_model.get_topics().shape \n"
   ]
  },
  {
   "cell_type": "code",
   "execution_count": 23,
   "metadata": {
    "scrolled": true
   },
   "outputs": [],
   "source": [
    "#Creating a dataframe with tokens as columns and topics as rows \n",
    "\n",
    "#token2id gets all tokens and their associated id. list(id2word.token2id.keys()) creates a list of just the tokens. \n",
    "\n",
    "beta_df = pd.DataFrame(lda_model.get_topics(), columns = list(id2word.token2id.keys()))\n"
   ]
  },
  {
   "cell_type": "code",
   "execution_count": 24,
   "metadata": {
    "scrolled": false
   },
   "outputs": [
    {
     "data": {
      "text/html": [
       "<div>\n",
       "<style scoped>\n",
       "    .dataframe tbody tr th:only-of-type {\n",
       "        vertical-align: middle;\n",
       "    }\n",
       "\n",
       "    .dataframe tbody tr th {\n",
       "        vertical-align: top;\n",
       "    }\n",
       "\n",
       "    .dataframe thead th {\n",
       "        text-align: right;\n",
       "    }\n",
       "</style>\n",
       "<table border=\"1\" class=\"dataframe\">\n",
       "  <thead>\n",
       "    <tr style=\"text-align: right;\">\n",
       "      <th></th>\n",
       "      <th>#</th>\n",
       "      <th>#_prioriti</th>\n",
       "      <th>#actonclim</th>\n",
       "      <th>#articlesofimpeach</th>\n",
       "      <th>#ashantialert</th>\n",
       "      <th>#az</th>\n",
       "      <th>#ca</th>\n",
       "      <th>#climatechang</th>\n",
       "      <th>#congress</th>\n",
       "      <th>#enoughisenough</th>\n",
       "      <th>...</th>\n",
       "      <th>#covidー</th>\n",
       "      <th>coronaviru_fund</th>\n",
       "      <th>spread_#covid</th>\n",
       "      <th>#coronaviru_fund</th>\n",
       "      <th>#covid_-</th>\n",
       "      <th>coronaviru_covid</th>\n",
       "      <th>emerg_#coronaviru</th>\n",
       "      <th>often_soap</th>\n",
       "      <th>#coronaviru_#covid</th>\n",
       "      <th>avoid_touch</th>\n",
       "    </tr>\n",
       "  </thead>\n",
       "  <tbody>\n",
       "    <tr>\n",
       "      <th>0</th>\n",
       "      <td>0.000008</td>\n",
       "      <td>7.917657e-06</td>\n",
       "      <td>7.917657e-06</td>\n",
       "      <td>7.917657e-06</td>\n",
       "      <td>7.917657e-06</td>\n",
       "      <td>0.000008</td>\n",
       "      <td>7.917657e-06</td>\n",
       "      <td>7.917657e-06</td>\n",
       "      <td>7.917657e-06</td>\n",
       "      <td>7.917657e-06</td>\n",
       "      <td>...</td>\n",
       "      <td>7.917657e-06</td>\n",
       "      <td>7.917657e-06</td>\n",
       "      <td>7.917657e-06</td>\n",
       "      <td>7.917657e-06</td>\n",
       "      <td>7.917657e-06</td>\n",
       "      <td>7.917657e-06</td>\n",
       "      <td>7.917657e-06</td>\n",
       "      <td>7.917657e-06</td>\n",
       "      <td>7.917657e-06</td>\n",
       "      <td>7.917657e-06</td>\n",
       "    </tr>\n",
       "    <tr>\n",
       "      <th>1</th>\n",
       "      <td>0.000081</td>\n",
       "      <td>3.124541e-07</td>\n",
       "      <td>1.986390e-05</td>\n",
       "      <td>3.124541e-07</td>\n",
       "      <td>3.124541e-07</td>\n",
       "      <td>0.000031</td>\n",
       "      <td>3.124551e-07</td>\n",
       "      <td>1.091940e-04</td>\n",
       "      <td>3.124541e-07</td>\n",
       "      <td>3.124545e-07</td>\n",
       "      <td>...</td>\n",
       "      <td>3.124541e-07</td>\n",
       "      <td>3.124541e-07</td>\n",
       "      <td>3.124541e-07</td>\n",
       "      <td>3.124541e-07</td>\n",
       "      <td>3.124541e-07</td>\n",
       "      <td>3.124541e-07</td>\n",
       "      <td>3.124541e-07</td>\n",
       "      <td>3.124541e-07</td>\n",
       "      <td>3.124541e-07</td>\n",
       "      <td>3.124541e-07</td>\n",
       "    </tr>\n",
       "    <tr>\n",
       "      <th>2</th>\n",
       "      <td>0.000008</td>\n",
       "      <td>7.917656e-06</td>\n",
       "      <td>7.917670e-06</td>\n",
       "      <td>7.917656e-06</td>\n",
       "      <td>7.917656e-06</td>\n",
       "      <td>0.000008</td>\n",
       "      <td>7.917670e-06</td>\n",
       "      <td>7.917670e-06</td>\n",
       "      <td>7.917657e-06</td>\n",
       "      <td>7.917663e-06</td>\n",
       "      <td>...</td>\n",
       "      <td>7.917656e-06</td>\n",
       "      <td>7.917656e-06</td>\n",
       "      <td>7.917656e-06</td>\n",
       "      <td>7.917656e-06</td>\n",
       "      <td>7.917656e-06</td>\n",
       "      <td>7.917656e-06</td>\n",
       "      <td>7.917656e-06</td>\n",
       "      <td>7.917656e-06</td>\n",
       "      <td>7.917656e-06</td>\n",
       "      <td>7.917656e-06</td>\n",
       "    </tr>\n",
       "    <tr>\n",
       "      <th>3</th>\n",
       "      <td>0.000322</td>\n",
       "      <td>5.986412e-08</td>\n",
       "      <td>5.986441e-08</td>\n",
       "      <td>5.986413e-08</td>\n",
       "      <td>5.986412e-08</td>\n",
       "      <td>0.000220</td>\n",
       "      <td>1.445711e-05</td>\n",
       "      <td>5.986446e-08</td>\n",
       "      <td>9.232468e-05</td>\n",
       "      <td>5.986414e-08</td>\n",
       "      <td>...</td>\n",
       "      <td>5.986412e-08</td>\n",
       "      <td>5.986411e-08</td>\n",
       "      <td>5.986412e-08</td>\n",
       "      <td>5.986411e-08</td>\n",
       "      <td>5.986411e-08</td>\n",
       "      <td>5.986411e-08</td>\n",
       "      <td>5.986411e-08</td>\n",
       "      <td>5.986411e-08</td>\n",
       "      <td>5.986411e-08</td>\n",
       "      <td>5.986411e-08</td>\n",
       "    </tr>\n",
       "    <tr>\n",
       "      <th>4</th>\n",
       "      <td>0.000008</td>\n",
       "      <td>7.917657e-06</td>\n",
       "      <td>7.917664e-06</td>\n",
       "      <td>7.917657e-06</td>\n",
       "      <td>7.917657e-06</td>\n",
       "      <td>0.000008</td>\n",
       "      <td>7.917659e-06</td>\n",
       "      <td>7.917662e-06</td>\n",
       "      <td>7.917658e-06</td>\n",
       "      <td>7.917659e-06</td>\n",
       "      <td>...</td>\n",
       "      <td>7.917657e-06</td>\n",
       "      <td>7.917657e-06</td>\n",
       "      <td>7.917657e-06</td>\n",
       "      <td>7.917657e-06</td>\n",
       "      <td>7.917657e-06</td>\n",
       "      <td>7.917657e-06</td>\n",
       "      <td>7.917657e-06</td>\n",
       "      <td>7.917657e-06</td>\n",
       "      <td>7.917657e-06</td>\n",
       "      <td>7.917657e-06</td>\n",
       "    </tr>\n",
       "  </tbody>\n",
       "</table>\n",
       "<p>5 rows × 126300 columns</p>\n",
       "</div>"
      ],
      "text/plain": [
       "          #    #_prioriti    #actonclim  #articlesofimpeach  #ashantialert  \\\n",
       "0  0.000008  7.917657e-06  7.917657e-06        7.917657e-06   7.917657e-06   \n",
       "1  0.000081  3.124541e-07  1.986390e-05        3.124541e-07   3.124541e-07   \n",
       "2  0.000008  7.917656e-06  7.917670e-06        7.917656e-06   7.917656e-06   \n",
       "3  0.000322  5.986412e-08  5.986441e-08        5.986413e-08   5.986412e-08   \n",
       "4  0.000008  7.917657e-06  7.917664e-06        7.917657e-06   7.917657e-06   \n",
       "\n",
       "        #az           #ca  #climatechang     #congress  #enoughisenough  ...  \\\n",
       "0  0.000008  7.917657e-06   7.917657e-06  7.917657e-06     7.917657e-06  ...   \n",
       "1  0.000031  3.124551e-07   1.091940e-04  3.124541e-07     3.124545e-07  ...   \n",
       "2  0.000008  7.917670e-06   7.917670e-06  7.917657e-06     7.917663e-06  ...   \n",
       "3  0.000220  1.445711e-05   5.986446e-08  9.232468e-05     5.986414e-08  ...   \n",
       "4  0.000008  7.917659e-06   7.917662e-06  7.917658e-06     7.917659e-06  ...   \n",
       "\n",
       "        #covidー  coronaviru_fund  spread_#covid  #coronaviru_fund  \\\n",
       "0  7.917657e-06     7.917657e-06   7.917657e-06      7.917657e-06   \n",
       "1  3.124541e-07     3.124541e-07   3.124541e-07      3.124541e-07   \n",
       "2  7.917656e-06     7.917656e-06   7.917656e-06      7.917656e-06   \n",
       "3  5.986412e-08     5.986411e-08   5.986412e-08      5.986411e-08   \n",
       "4  7.917657e-06     7.917657e-06   7.917657e-06      7.917657e-06   \n",
       "\n",
       "       #covid_-  coronaviru_covid  emerg_#coronaviru    often_soap  \\\n",
       "0  7.917657e-06      7.917657e-06       7.917657e-06  7.917657e-06   \n",
       "1  3.124541e-07      3.124541e-07       3.124541e-07  3.124541e-07   \n",
       "2  7.917656e-06      7.917656e-06       7.917656e-06  7.917656e-06   \n",
       "3  5.986411e-08      5.986411e-08       5.986411e-08  5.986411e-08   \n",
       "4  7.917657e-06      7.917657e-06       7.917657e-06  7.917657e-06   \n",
       "\n",
       "   #coronaviru_#covid   avoid_touch  \n",
       "0        7.917657e-06  7.917657e-06  \n",
       "1        3.124541e-07  3.124541e-07  \n",
       "2        7.917656e-06  7.917656e-06  \n",
       "3        5.986411e-08  5.986411e-08  \n",
       "4        7.917657e-06  7.917657e-06  \n",
       "\n",
       "[5 rows x 126300 columns]"
      ]
     },
     "execution_count": 24,
     "metadata": {},
     "output_type": "execute_result"
    }
   ],
   "source": [
    "#Viewing the dataframe\n",
    "\n",
    "beta_df.head()"
   ]
  },
  {
   "cell_type": "code",
   "execution_count": 42,
   "metadata": {},
   "outputs": [],
   "source": [
    "#Uncomment to see the 10 words with the largest beta values for each topic \n",
    "\n",
    "#for i in range(50): \n",
    "#    print(beta_df.iloc[i].nlargest(10),\"\\n___\\n\")\n",
    "\n",
    "#A note on the results: You may notice that some topics have an even distributions of probabilities for all terms. \n",
    "#This may be because the `minimum_probability` parameter is not low enough, \n",
    "#    because we do not have enough `passes` and `iterations` and the algorithm has thus not converged properly, \n",
    "#    or because we have set the number of topics too high for the data. \n",
    "#    For your own projects, experiment with the parameters. \n"
   ]
  },
  {
   "cell_type": "code",
   "execution_count": 26,
   "metadata": {
    "scrolled": true
   },
   "outputs": [
    {
     "data": {
      "image/png": "[encoded data removed]",
      "text/plain": [
       "<Figure size 864x576 with 1 Axes>"
      ]
     },
     "metadata": {
      "needs_background": "light"
     },
     "output_type": "display_data"
    }
   ],
   "source": [
    "#Visualizing topic 41\n",
    "\n",
    "#beta_df.iloc[41].nlargest(10) locates the 10 largest values in row 41. \n",
    "# .values returns the beta values\n",
    "# .index returns the words\n",
    "\n",
    "plt.figure(figsize = (12,8))\n",
    "\n",
    "ax = sns.barplot(x = beta_df.iloc[41].nlargest(10).values, \n",
    "                 y = beta_df.iloc[41].nlargest(10).index, \n",
    "                 orient = 'h')\n",
    "\n",
    "plt.title('10 largest beta values for topic 41', fontsize = 14)\n",
    "plt.show()"
   ]
  },
  {
   "cell_type": "code",
   "execution_count": 27,
   "metadata": {
    "scrolled": true
   },
   "outputs": [
    {
     "name": "stderr",
     "output_type": "stream",
     "text": [
      "/opt/anaconda3/lib/python3.8/site-packages/matplotlib/backends/backend_agg.py:238: RuntimeWarning: Glyph 127482 missing from current font.\n",
      "  font.set_text(s, 0.0, flags=flags)\n",
      "/opt/anaconda3/lib/python3.8/site-packages/matplotlib/backends/backend_agg.py:238: RuntimeWarning: Glyph 127480 missing from current font.\n",
      "  font.set_text(s, 0.0, flags=flags)\n",
      "/opt/anaconda3/lib/python3.8/site-packages/matplotlib/backends/backend_agg.py:201: RuntimeWarning: Glyph 127482 missing from current font.\n",
      "  font.set_text(s, 0, flags=flags)\n",
      "/opt/anaconda3/lib/python3.8/site-packages/matplotlib/backends/backend_agg.py:201: RuntimeWarning: Glyph 127480 missing from current font.\n",
      "  font.set_text(s, 0, flags=flags)\n"
     ]
    },
    {
     "data": {
      "image/png": "[encoded data removed]",
      "text/plain": [
       "<Figure size 1152x2160 with 10 Axes>"
      ]
     },
     "metadata": {
      "needs_background": "light"
     },
     "output_type": "display_data"
    }
   ],
   "source": [
    "#Picking 10 topics to visualize\n",
    "topics = [1, 8, 16, 27, 28, 29, 31, 41, 47, 48]\n",
    "\n",
    "fig, axes = plt.subplots(ncols=2, nrows=5, figsize = (16,30)) #Setting 10 subplots and determining figure size\n",
    "fig.tight_layout(pad=8.0) #This ensure space between the subplots so the text can more easily be read\n",
    "    \n",
    "for ax, topic in zip(axes.flatten(), topics): #Iterates through the axes and the topics\n",
    "    \n",
    "    #Creates 10 barplots with x as the beta values and y as the words\n",
    "    sns.barplot(ax = ax, \n",
    "                x = beta_df.iloc[topic].nlargest(10).values, \n",
    "                y = beta_df.iloc[topic].nlargest(10).index, \n",
    "                orient = 'h')\n",
    "    \n",
    "    ax.set(title='Topic {}'.format(topic), xlabel='beta')\n",
    "\n",
    "plt.show()\n",
    "\n",
    "#Warnings are because matplotlib and seaborn can't interpret emojis correctly\n"
   ]
  },
  {
   "cell_type": "markdown",
   "metadata": {},
   "source": [
    "### 4.2: Investigating results: gamma parameters\n",
    "\n",
    "Retrieve the estimated **gamma parameters** from the model. For each document, you will get a list of topics with an associated gamma. The gammas indicate the probability (or amount) that a document is about a specific topic.\n",
    "\n",
    "1. Use `get_document_topics` with the full corpus to get lists of probabilities for each document.\n",
    "2. Save the probabilities in the original dataframe. You can find inspiration for how to do this in the pseudo-code:\n",
    "\n",
    "**Pseudo-code to save the probabilities in the original dataframe:**\n",
    "\n",
    "Use list comprehension to create a list of 50 topic names (e.g. topic_1, topic_2 etc.)\n",
    "\n",
    "Create a dataframe filled with zeros of the shape (number of documents - 864, number of topics - 50) and with columns = the list of 50 topic names. \n",
    "\n",
    "For each index, document in the list of gamma probabilities: <br>\n",
    "<font color=white>0000</font>for each topic-probability pair in the document: <br>\n",
    "<font color=white>00000000</font>locate index and column with that topic name and save the probability\n",
    "\n",
    "Concatenate this dataframe with the original dataframe over axis 1.\n",
    "\n"
   ]
  },
  {
   "cell_type": "code",
   "execution_count": 28,
   "metadata": {},
   "outputs": [],
   "source": [
    "#Insert the corpus of documents in bag of word format and get a list of (topic, probability) per document. \n",
    "\n",
    "document_topics = list(lda_model.get_document_topics(corpus)) \n"
   ]
  },
  {
   "cell_type": "code",
   "execution_count": 40,
   "metadata": {
    "scrolled": true
   },
   "outputs": [],
   "source": [
    "#Uncomment to view the document topics\n",
    "\n",
    "#document_topics"
   ]
  },
  {
   "cell_type": "code",
   "execution_count": 30,
   "metadata": {},
   "outputs": [],
   "source": [
    "#Creating a list of names for all 50 topics\n",
    "topics = ['topic_{}'.format(t) for t in range(0,50)]\n",
    "\n",
    "#Creating a dataframe of gamma probabilities \n",
    "gamma_probs = pd.DataFrame(np.zeros((len(document_topics),50)), columns = topics)\n",
    "\n",
    "for i, doc in enumerate(document_topics): \n",
    "    for pair in doc: \n",
    "        gamma_probs.loc[i,'topic_{}'.format(pair[0])] = pair[1]\n"
   ]
  },
  {
   "cell_type": "code",
   "execution_count": 31,
   "metadata": {},
   "outputs": [
    {
     "data": {
      "text/html": [
       "<div>\n",
       "<style scoped>\n",
       "    .dataframe tbody tr th:only-of-type {\n",
       "        vertical-align: middle;\n",
       "    }\n",
       "\n",
       "    .dataframe tbody tr th {\n",
       "        vertical-align: top;\n",
       "    }\n",
       "\n",
       "    .dataframe thead th {\n",
       "        text-align: right;\n",
       "    }\n",
       "</style>\n",
       "<table border=\"1\" class=\"dataframe\">\n",
       "  <thead>\n",
       "    <tr style=\"text-align: right;\">\n",
       "      <th></th>\n",
       "      <th>date</th>\n",
       "      <th>affiliation</th>\n",
       "      <th>text</th>\n",
       "      <th>text_lemma</th>\n",
       "      <th>text_stemmed</th>\n",
       "      <th>unigrams</th>\n",
       "      <th>bigrams</th>\n",
       "      <th>tokens</th>\n",
       "      <th>topic_0</th>\n",
       "      <th>topic_1</th>\n",
       "      <th>...</th>\n",
       "      <th>topic_40</th>\n",
       "      <th>topic_41</th>\n",
       "      <th>topic_42</th>\n",
       "      <th>topic_43</th>\n",
       "      <th>topic_44</th>\n",
       "      <th>topic_45</th>\n",
       "      <th>topic_46</th>\n",
       "      <th>topic_47</th>\n",
       "      <th>topic_48</th>\n",
       "      <th>topic_49</th>\n",
       "    </tr>\n",
       "  </thead>\n",
       "  <tbody>\n",
       "    <tr>\n",
       "      <th>0</th>\n",
       "      <td>2019-01-01</td>\n",
       "      <td>Democrat</td>\n",
       "      <td>Out of a tragedy, some great news: with the Pr...</td>\n",
       "      <td>tragedy great news president signature tonight...</td>\n",
       "      <td>tragedi great news presid signatur tonight #as...</td>\n",
       "      <td>[tragedi, great, news, presid, signatur, tonig...</td>\n",
       "      <td>[tragedi_great, great_news, news_presid, presi...</td>\n",
       "      <td>[tragedi, great, news, presid, signatur, tonig...</td>\n",
       "      <td>0.000004</td>\n",
       "      <td>0.000004</td>\n",
       "      <td>...</td>\n",
       "      <td>0.000004</td>\n",
       "      <td>0.000004</td>\n",
       "      <td>0.000004</td>\n",
       "      <td>0.000004</td>\n",
       "      <td>0.116614</td>\n",
       "      <td>0.000004</td>\n",
       "      <td>0.000004</td>\n",
       "      <td>0.000004</td>\n",
       "      <td>0.000004</td>\n",
       "      <td>0.000004</td>\n",
       "    </tr>\n",
       "    <tr>\n",
       "      <th>1</th>\n",
       "      <td>2019-01-01</td>\n",
       "      <td>Republican</td>\n",
       "      <td>Have a happy, healthy and prosperous 2019!  #H...</td>\n",
       "      <td>happy healthy prosperous #happynewyear # k #ne...</td>\n",
       "      <td>happi healthi prosper #happynewyear # k #newye...</td>\n",
       "      <td>[happi, healthi, prosper, #happynewyear, #, k,...</td>\n",
       "      <td>[happi_healthi, healthi_prosper, prosper_#happ...</td>\n",
       "      <td>[happi, healthi, prosper, #happynewyear, #, k,...</td>\n",
       "      <td>0.000010</td>\n",
       "      <td>0.000010</td>\n",
       "      <td>...</td>\n",
       "      <td>0.000010</td>\n",
       "      <td>0.000010</td>\n",
       "      <td>0.000010</td>\n",
       "      <td>0.000010</td>\n",
       "      <td>0.207758</td>\n",
       "      <td>0.000010</td>\n",
       "      <td>0.000010</td>\n",
       "      <td>0.000010</td>\n",
       "      <td>0.000010</td>\n",
       "      <td>0.000010</td>\n",
       "    </tr>\n",
       "    <tr>\n",
       "      <th>2</th>\n",
       "      <td>2019-01-02</td>\n",
       "      <td>Democrat</td>\n",
       "      <td>Amen. https://t.co/fiM7C8e4lc “My supervisor t...</td>\n",
       "      <td>amen supervisor tell wont get pay bill wont ge...</td>\n",
       "      <td>amen supervisor told wont get paid bill wont g...</td>\n",
       "      <td>[amen, supervisor, told, wont, get, paid, bill...</td>\n",
       "      <td>[amen_supervisor, supervisor_told, told_wont, ...</td>\n",
       "      <td>[amen, supervisor, told, wont, get, paid, bill...</td>\n",
       "      <td>0.000002</td>\n",
       "      <td>0.000002</td>\n",
       "      <td>...</td>\n",
       "      <td>0.000002</td>\n",
       "      <td>0.000002</td>\n",
       "      <td>0.000002</td>\n",
       "      <td>0.000002</td>\n",
       "      <td>0.001989</td>\n",
       "      <td>0.000002</td>\n",
       "      <td>0.000002</td>\n",
       "      <td>0.000002</td>\n",
       "      <td>0.000002</td>\n",
       "      <td>0.000002</td>\n",
       "    </tr>\n",
       "    <tr>\n",
       "      <th>3</th>\n",
       "      <td>2019-01-02</td>\n",
       "      <td>Republican</td>\n",
       "      <td>RT @cdw: I see that Mr. Alright Alright Alrigh...</td>\n",
       "      <td>see mr alright alright alright sideline #hooke...</td>\n",
       "      <td>see mr alright alright alright sidelin #hookem...</td>\n",
       "      <td>[see, mr, alright, alright, alright, sidelin, ...</td>\n",
       "      <td>[see_mr, mr_alright, alright_alright, alright_...</td>\n",
       "      <td>[see, mr, alright, alright, alright, sidelin, ...</td>\n",
       "      <td>0.000005</td>\n",
       "      <td>0.000005</td>\n",
       "      <td>...</td>\n",
       "      <td>0.000005</td>\n",
       "      <td>0.000005</td>\n",
       "      <td>0.000005</td>\n",
       "      <td>0.000005</td>\n",
       "      <td>0.003443</td>\n",
       "      <td>0.000005</td>\n",
       "      <td>0.000005</td>\n",
       "      <td>0.000005</td>\n",
       "      <td>0.000005</td>\n",
       "      <td>0.558798</td>\n",
       "    </tr>\n",
       "    <tr>\n",
       "      <th>4</th>\n",
       "      <td>2019-01-03</td>\n",
       "      <td>Democrat</td>\n",
       "      <td>Before the shutdown, before the pay freeze, th...</td>\n",
       "      <td>shutdown pay freeze federal government suffer ...</td>\n",
       "      <td>shutdown pay freez feder govern suffer lack le...</td>\n",
       "      <td>[shutdown, pay, freez, feder, govern, suffer, ...</td>\n",
       "      <td>[shutdown_pay, pay_freez, freez_feder, feder_g...</td>\n",
       "      <td>[shutdown, pay, freez, feder, govern, suffer, ...</td>\n",
       "      <td>0.000000</td>\n",
       "      <td>0.000000</td>\n",
       "      <td>...</td>\n",
       "      <td>0.162080</td>\n",
       "      <td>0.000000</td>\n",
       "      <td>0.000000</td>\n",
       "      <td>0.000000</td>\n",
       "      <td>0.000888</td>\n",
       "      <td>0.000000</td>\n",
       "      <td>0.000000</td>\n",
       "      <td>0.000000</td>\n",
       "      <td>0.000000</td>\n",
       "      <td>0.000000</td>\n",
       "    </tr>\n",
       "  </tbody>\n",
       "</table>\n",
       "<p>5 rows × 58 columns</p>\n",
       "</div>"
      ],
      "text/plain": [
       "         date affiliation                                               text  \\\n",
       "0  2019-01-01    Democrat  Out of a tragedy, some great news: with the Pr...   \n",
       "1  2019-01-01  Republican  Have a happy, healthy and prosperous 2019!  #H...   \n",
       "2  2019-01-02    Democrat  Amen. https://t.co/fiM7C8e4lc “My supervisor t...   \n",
       "3  2019-01-02  Republican  RT @cdw: I see that Mr. Alright Alright Alrigh...   \n",
       "4  2019-01-03    Democrat  Before the shutdown, before the pay freeze, th...   \n",
       "\n",
       "                                          text_lemma  \\\n",
       "0  tragedy great news president signature tonight...   \n",
       "1  happy healthy prosperous #happynewyear # k #ne...   \n",
       "2  amen supervisor tell wont get pay bill wont ge...   \n",
       "3  see mr alright alright alright sideline #hooke...   \n",
       "4  shutdown pay freeze federal government suffer ...   \n",
       "\n",
       "                                        text_stemmed  \\\n",
       "0  tragedi great news presid signatur tonight #as...   \n",
       "1  happi healthi prosper #happynewyear # k #newye...   \n",
       "2  amen supervisor told wont get paid bill wont g...   \n",
       "3  see mr alright alright alright sidelin #hookem...   \n",
       "4  shutdown pay freez feder govern suffer lack le...   \n",
       "\n",
       "                                            unigrams  \\\n",
       "0  [tragedi, great, news, presid, signatur, tonig...   \n",
       "1  [happi, healthi, prosper, #happynewyear, #, k,...   \n",
       "2  [amen, supervisor, told, wont, get, paid, bill...   \n",
       "3  [see, mr, alright, alright, alright, sidelin, ...   \n",
       "4  [shutdown, pay, freez, feder, govern, suffer, ...   \n",
       "\n",
       "                                             bigrams  \\\n",
       "0  [tragedi_great, great_news, news_presid, presi...   \n",
       "1  [happi_healthi, healthi_prosper, prosper_#happ...   \n",
       "2  [amen_supervisor, supervisor_told, told_wont, ...   \n",
       "3  [see_mr, mr_alright, alright_alright, alright_...   \n",
       "4  [shutdown_pay, pay_freez, freez_feder, feder_g...   \n",
       "\n",
       "                                              tokens   topic_0   topic_1  ...  \\\n",
       "0  [tragedi, great, news, presid, signatur, tonig...  0.000004  0.000004  ...   \n",
       "1  [happi, healthi, prosper, #happynewyear, #, k,...  0.000010  0.000010  ...   \n",
       "2  [amen, supervisor, told, wont, get, paid, bill...  0.000002  0.000002  ...   \n",
       "3  [see, mr, alright, alright, alright, sidelin, ...  0.000005  0.000005  ...   \n",
       "4  [shutdown, pay, freez, feder, govern, suffer, ...  0.000000  0.000000  ...   \n",
       "\n",
       "   topic_40  topic_41  topic_42  topic_43  topic_44  topic_45  topic_46  \\\n",
       "0  0.000004  0.000004  0.000004  0.000004  0.116614  0.000004  0.000004   \n",
       "1  0.000010  0.000010  0.000010  0.000010  0.207758  0.000010  0.000010   \n",
       "2  0.000002  0.000002  0.000002  0.000002  0.001989  0.000002  0.000002   \n",
       "3  0.000005  0.000005  0.000005  0.000005  0.003443  0.000005  0.000005   \n",
       "4  0.162080  0.000000  0.000000  0.000000  0.000888  0.000000  0.000000   \n",
       "\n",
       "   topic_47  topic_48  topic_49  \n",
       "0  0.000004  0.000004  0.000004  \n",
       "1  0.000010  0.000010  0.000010  \n",
       "2  0.000002  0.000002  0.000002  \n",
       "3  0.000005  0.000005  0.558798  \n",
       "4  0.000000  0.000000  0.000000  \n",
       "\n",
       "[5 rows x 58 columns]"
      ]
     },
     "execution_count": 31,
     "metadata": {},
     "output_type": "execute_result"
    }
   ],
   "source": [
    "#Merging with the original dataframe \n",
    "gamma_df = pd.concat((tweets_agg,gamma_probs), axis = 1)\n",
    "\n",
    "#Viewing the concatenated dataframe\n",
    "gamma_df.head()"
   ]
  },
  {
   "cell_type": "markdown",
   "metadata": {},
   "source": [
    "### 5: Visualizing the development of the coronavirus related topic \n",
    "\n",
    "Getting back to the original question: How has the topic of coronavirus progressed on Twitter among Members of Congress over time? \n",
    "\n",
    "1. Use `print_topics` to look through the 10 most relevant words of each topic and identify the topic related to coronavirus. \n",
    "2. If it is not already, convert the date column from string type to datetime type\n",
    "3. Graph the development of the coronavirus topic over time. Create a plot where x = date, y = the covid topic, and hue = affiliation. \n",
    "4. Do the same with a subset of the dataset only including 2020. \n",
    "\n",
    "Can you see which party was quicker to set the agenda around COVID-19? \n"
   ]
  },
  {
   "cell_type": "code",
   "execution_count": 32,
   "metadata": {},
   "outputs": [
    {
     "name": "stdout",
     "output_type": "stream",
     "text": [
      "------ Topic 0 ------\n",
      "internet_open introduc_war intermediate-rang_nuclear intern_agreement internet_continu internet_free interest_attend intimid_us invit_help invest_act\n",
      "\n",
      "------ Topic 1 ------\n",
      "cut budget #trumpbudget trump presid medicar propos medicaid women program\n",
      "\n",
      "------ Topic 2 ------\n",
      "trump protect im need famili health commun vote act hous\n",
      "\n",
      "------ Topic 3 ------\n",
      "border secur democrat job nation govern - congress presid continu\n",
      "\n",
      "------ Topic 4 ------\n",
      "hous trump presid fight need women vote protect support act\n",
      "\n",
      "------ Topic 5 ------\n",
      "labor worker #laborday labor_day #dorian famili day union right wage\n",
      "\n",
      "------ Topic 6 ------\n",
      "new tax new_year job happi_new famili peopl wage first -\n",
      "\n",
      "------ Topic 7 ------\n",
      "vote war right act iran congress hous pass trump must\n",
      "\n",
      "------ Topic 8 ------\n",
      "wish celebr famili christma holiday merri peac merri_christma love may\n",
      "\n",
      "------ Topic 9 ------\n",
      "constitut happi lewandowski birthday nd usairforc nd_birthday happi_nd document air\n",
      "\n",
      "------ Topic 10 ------\n",
      "impeach democrat process schiff inquiri hous impeach_inquiri vote resolut peopl\n",
      "\n",
      "------ Topic 11 ------\n",
      "presid trump act hous bill pass protect vote hear need\n",
      "\n",
      "------ Topic 12 ------\n",
      "schiff censur adam_schiff adam condemn motion condemn_censur censur_adam lie vote\n",
      "\n",
      "------ Topic 13 ------\n",
      "veteran sacrific day servic nation serv men women countri freedom\n",
      "\n",
      "------ Topic 14 ------\n",
      "trump vote presid nation congress hous bill act famili im\n",
      "\n",
      "------ Topic 15 ------\n",
      "valeri lose_power live_citi popul_state #weeklyrundown_video chang_condit w_better prioriti_region aftermath_hurrican divers_district\n",
      "\n",
      "------ Topic 16 ------\n",
      "mueller report peopl nation investig democrat mueller_report collus presid -\n",
      "\n",
      "------ Topic 17 ------\n",
      "act violenc vote women hous support internet protect #vawa hear\n",
      "\n",
      "------ Topic 18 ------\n",
      "happi day birthday mother celebr happi_birthday mom th happi_th th_birthday\n",
      "\n",
      "------ Topic 19 ------\n",
      "bill hous presid trump act pass famili health vote drug\n",
      "\n",
      "------ Topic 20 ------\n",
      "rememb live lost day never holocaust #neverforget million ago year_ago\n",
      "\n",
      "------ Topic 21 ------\n",
      "commun trump need famili peopl im act protect health must\n",
      "\n",
      "------ Topic 22 ------\n",
      "iran soleimani attack presid iranian kill terrorist iraq trump war\n",
      "\n",
      "------ Topic 23 ------\n",
      "🇸 🇺_🇸 🇺 world cup world_cup congratul 🇸_🇺 women win\n",
      "\n",
      "------ Topic 24 ------\n",
      "nation hous violenc - proud trump support need #vawa impeach\n",
      "\n",
      "------ Topic 25 ------\n",
      "visit commun counti tour discuss - local meet busi new\n",
      "\n",
      "------ Topic 26 ------\n",
      "de la nation_assembl #venezuela enter retir maduro #maduroregim assembl guaido\n",
      "\n",
      "------ Topic 27 ------\n",
      "busi small small_busi local support commun economi #smallbusinesssaturday #shopsmal backbon\n",
      "\n",
      "------ Topic 28 ------\n",
      "#sotu presid 🇺_🇸 🇺 🇸 realdonaldtrump trump tonight america presid_trump\n",
      "\n",
      "------ Topic 29 ------\n",
      "shutdown govern feder #trumpshutdown worker presid trump pay reopen end\n",
      "\n",
      "------ Topic 30 ------\n",
      "care health protect condit pre-exist health_care peopl trump pre-exist_condit act\n",
      "\n",
      "------ Topic 31 ------\n",
      "equal women act pay pass proud hous discrimin #equalityact #equalpay\n",
      "\n",
      "------ Topic 32 ------\n",
      "gun violenc gun_violenc commun must shoot act pass live background\n",
      "\n",
      "------ Topic 33 ------\n",
      "king dr luther martin_luther luther_king martin jr king_jr dr_martin life\n",
      "\n",
      "------ Topic 34 ------\n",
      "father happi day vote dad right father_day act pass im\n",
      "\n",
      "------ Topic 35 ------\n",
      "congress hous govern peopl vote new get bill #forthepeopl senat\n",
      "\n",
      "------ Topic 36 ------\n",
      "trump presid mueller report peopl congress hous special counsel must\n",
      "\n",
      "------ Topic 37 ------\n",
      "trump commun presid nation - student day peopl power syria\n",
      "\n",
      "------ Topic 38 ------\n",
      "nation week easter decis govern feder fight commun famili im\n",
      "\n",
      "------ Topic 39 ------\n",
      "father dad father_day day happi life love greatest grandfath children\n",
      "\n",
      "------ Topic 40 ------\n",
      "#sotu presid tonight trump hear countri congress guest cum peopl\n",
      "\n",
      "------ Topic 41 ------\n",
      "coronaviru #coronaviru fund health #covid pass emerg respons - spread\n",
      "\n",
      "------ Topic 42 ------\n",
      "women right vote hous pass th amend ago year_ago women_right\n",
      "\n",
      "------ Topic 43 ------\n",
      "presid trump impeach constitut power abus abus_power presid_trump vote #defendourdemocraci\n",
      "\n",
      "------ Topic 44 ------\n",
      "happi wish famili celebr everyon thanksgiv safe day wish_everyon friend\n",
      "\n",
      "------ Topic 45 ------\n",
      "world normandi #dday beach easter day ago d-day #earthday year_ago\n",
      "\n",
      "------ Topic 46 ------\n",
      "impeach democrat presid hous vote senat trump #usmca peopl schiff\n",
      "\n",
      "------ Topic 47 ------\n",
      "protect abort vote act hous democrat support bill born babi\n",
      "\n",
      "------ Topic 48 ------\n",
      "trump …_today …_thank presid hous senat …_great th im week\n",
      "\n",
      "------ Topic 49 ------\n",
      "nation support bill - week act democrat need hous discuss\n",
      "\n"
     ]
    }
   ],
   "source": [
    "#Using regex to find all words and filter them from the weights\n",
    "words = [re.findall(r'\"([^\"]*)\"',t[1]) for t in lda_model.print_topics(50,10)]\n",
    "\n",
    "# Printing the topics in a nice format\n",
    "for id, t in enumerate(words): \n",
    "    print(f\"------ Topic {id} ------\")\n",
    "    print(' '.join(t), end=\"\\n\\n\")\n",
    "    \n",
    "#Topic 41 is coronavirus\n"
   ]
  },
  {
   "cell_type": "code",
   "execution_count": 33,
   "metadata": {},
   "outputs": [],
   "source": [
    "#Converting date from str type to datetime type\n",
    "gamma_df['date'] = pd.to_datetime(gamma_df['date'])"
   ]
  },
  {
   "cell_type": "code",
   "execution_count": 38,
   "metadata": {},
   "outputs": [],
   "source": [
    "#Uncomment to see all probabilities for the covid topic \n",
    "\n",
    "#for prob in gamma_df['topic_41']:\n",
    "#    print(prob)"
   ]
  },
  {
   "cell_type": "code",
   "execution_count": 35,
   "metadata": {
    "scrolled": false
   },
   "outputs": [
    {
     "data": {
      "image/png": "[encoded data removed]",
      "text/plain": [
       "<Figure size 1008x576 with 1 Axes>"
      ]
     },
     "metadata": {},
     "output_type": "display_data"
    }
   ],
   "source": [
    "#Setting a theme\n",
    "sns.set_theme(style=\"darkgrid\")\n",
    "\n",
    "#Plotting a figure and setting figure size\n",
    "plt.figure(figsize = (14,8))\n",
    "\n",
    "#Choosing colors\n",
    "palette = ['blue','red'] \n",
    "\n",
    "#Plotting the covid topic for the full dataset\n",
    "sns.lineplot(x = 'date', y = 'topic_41', hue = 'affiliation', data = gamma_df, palette = palette)\n",
    "\n",
    "plt.title('Topic of COVID-19 over time (Topic 41)', fontsize = 16)\n",
    "plt.ylabel('Topic prevalence')\n",
    "plt.xlabel('Date')\n",
    "\n",
    "plt.show()"
   ]
  },
  {
   "cell_type": "code",
   "execution_count": 36,
   "metadata": {
    "scrolled": true
   },
   "outputs": [
    {
     "data": {
      "image/png": "[encoded data removed]",
      "text/plain": [
       "<Figure size 1008x576 with 1 Axes>"
      ]
     },
     "metadata": {},
     "output_type": "display_data"
    }
   ],
   "source": [
    "#Plotting the development of the covid topic for a 2020 subset of the dataset \n",
    "\n",
    "plt.figure(figsize = (14,8))\n",
    "palette = ['blue','red']\n",
    "\n",
    "sns.lineplot(x = 'date', y = 'topic_41', hue = 'affiliation', data = gamma_df.loc[gamma_df.date > datetime(2019,12,31)], palette = palette)\n",
    "\n",
    "plt.title('Topic of COVID-19 over time 2020 (Topic 41)', fontsize = 16)\n",
    "plt.ylabel('Topic prevalence')\n",
    "plt.xlabel('Date')\n",
    "\n",
    "plt.savefig('corona_topic_over_time2020_100topics_2.jpg')\n",
    "plt.show()"
   ]
  }
 ],
 "metadata": {
  "kernelspec": {
   "display_name": "Python 3",
   "language": "python",
   "name": "python3"
  },
  "language_info": {
   "codemirror_mode": {
    "name": "ipython",
    "version": 3
   },
   "file_extension": ".py",
   "mimetype": "text/x-python",
   "name": "python",
   "nbconvert_exporter": "python",
   "pygments_lexer": "ipython3",
   "version": "3.8.3"
  }
 },
 "nbformat": 4,
 "nbformat_minor": 4
}
