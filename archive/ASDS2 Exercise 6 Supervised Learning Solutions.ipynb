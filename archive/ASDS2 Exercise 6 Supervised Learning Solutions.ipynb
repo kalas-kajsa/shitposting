{
 "cells": [
  {
   "cell_type": "code",
   "execution_count": 143,
   "metadata": {},
   "outputs": [],
   "source": [
    "#Importing relevant packages\n",
    "import numpy as np \n",
    "import pandas as pd\n",
    "from tqdm import tqdm #to create a progress bar\n",
    "\n",
    "#Packages for NLP\n",
    "import nltk\n",
    "from nltk.tokenize import TweetTokenizer\n",
    "\n",
    "#Machine learning packages\n",
    "from sklearn.ensemble import RandomForestClassifier\n",
    "from sklearn.linear_model import LogisticRegression\n",
    "\n",
    "#Packages to create DFM\n",
    "from sklearn.feature_extraction.text import CountVectorizer\n",
    "from sklearn.feature_extraction.text import TfidfTransformer\n",
    "\n",
    "#Packages for cross-validation and parameter tuning\n",
    "from sklearn.model_selection import StratifiedKFold\n",
    "from sklearn.model_selection import GridSearchCV\n",
    "from sklearn.pipeline import Pipeline\n",
    "\n",
    "#Packages for getting model performance metrics\n",
    "from sklearn.metrics import plot_confusion_matrix\n",
    "from sklearn.metrics import classification_report\n",
    "from sklearn.metrics import roc_curve, auc\n",
    "from sklearn.metrics import roc_auc_score\n",
    "\n",
    "#Packages for visualization\n",
    "import matplotlib.pyplot as plt\n",
    "import seaborn as sns\n"
   ]
  },
  {
   "cell_type": "markdown",
   "metadata": {},
   "source": [
    "# Supervised learning \n",
    "\n",
    "For this exercise lab, the goal is to apply supervised machine learning to predict which tweets are from Republicans and from Democrats on Twitter. \n",
    "\n",
    "The dataset is the same as the one we used Monday and last week, containing tweets from US Members of Congress. The preprocessed version is also the same as the one used on Monday. \n",
    "\n",
    "We will be applying two supervised machine learning algorithms - random forest and lasso - and comparing which method performs best when predicting party affiliation from tweet text. \n",
    "\n",
    "\n",
    "### 1.1: Preparing the data for analysis \n",
    "\n",
    "1. Import the dataframe\n",
    "2. Similar to last week, replace NaN values with an empty string in the stemmed text. Then use `groupby` and `agg` to group the data by politician (nominate_name), and aggregate the stemmed tweet text for each politician into one long string. \n",
    "3. Create a column with a binary label to show party affiliation. 0 if Republican, 1 if Democrat. \n"
   ]
  },
  {
   "cell_type": "code",
   "execution_count": 2,
   "metadata": {},
   "outputs": [],
   "source": [
    "#Importing data \n",
    "tweets = pd.read_csv('MOCTweets_preprocessed.csv.bz2', compression = 'bz2')\n",
    "\n",
    "#Removing unnamed columns\n",
    "tweets = tweets.drop(labels=\"Unnamed: 0\", axis = 1)"
   ]
  },
  {
   "cell_type": "code",
   "execution_count": 3,
   "metadata": {
    "scrolled": false
   },
   "outputs": [
    {
     "data": {
      "text/html": [
       "<div>\n",
       "<style scoped>\n",
       "    .dataframe tbody tr th:only-of-type {\n",
       "        vertical-align: middle;\n",
       "    }\n",
       "\n",
       "    .dataframe tbody tr th {\n",
       "        vertical-align: top;\n",
       "    }\n",
       "\n",
       "    .dataframe thead th {\n",
       "        text-align: right;\n",
       "    }\n",
       "</style>\n",
       "<table border=\"1\" class=\"dataframe\">\n",
       "  <thead>\n",
       "    <tr style=\"text-align: right;\">\n",
       "      <th></th>\n",
       "      <th>date</th>\n",
       "      <th>text</th>\n",
       "      <th>affiliation</th>\n",
       "      <th>nominate_name</th>\n",
       "      <th>text_lemma</th>\n",
       "      <th>text_stemmed</th>\n",
       "    </tr>\n",
       "  </thead>\n",
       "  <tbody>\n",
       "    <tr>\n",
       "      <th>0</th>\n",
       "      <td>2019-03-19</td>\n",
       "      <td>Federal government employees are dedicated pub...</td>\n",
       "      <td>Republican</td>\n",
       "      <td>BOOZMAN, John</td>\n",
       "      <td>federal government employee dedicate public se...</td>\n",
       "      <td>feder govern employe dedic public servant prov...</td>\n",
       "    </tr>\n",
       "    <tr>\n",
       "      <th>1</th>\n",
       "      <td>2019-09-13</td>\n",
       "      <td>.@DeptVetAffairs recently rolled out a new dig...</td>\n",
       "      <td>Republican</td>\n",
       "      <td>BOOZMAN, John</td>\n",
       "      <td>recently roll new digital memorial platform mi...</td>\n",
       "      <td>recent roll new digit memori platform million ...</td>\n",
       "    </tr>\n",
       "    <tr>\n",
       "      <th>2</th>\n",
       "      <td>2019-09-12</td>\n",
       "      <td>I know the importance of empowering women in t...</td>\n",
       "      <td>Republican</td>\n",
       "      <td>BOOZMAN, John</td>\n",
       "      <td>know importance empower woman global economy s...</td>\n",
       "      <td>know import empow women global economi sponsor...</td>\n",
       "    </tr>\n",
       "    <tr>\n",
       "      <th>3</th>\n",
       "      <td>2019-03-22</td>\n",
       "      <td>It was great to spend some time with leaders i...</td>\n",
       "      <td>Republican</td>\n",
       "      <td>BOOZMAN, John</td>\n",
       "      <td>great spend time leader van buren county talk ...</td>\n",
       "      <td>great spend time leader van buren counti talk ...</td>\n",
       "    </tr>\n",
       "    <tr>\n",
       "      <th>4</th>\n",
       "      <td>2019-09-18</td>\n",
       "      <td>For 72 years, @usairforce has been blazing the...</td>\n",
       "      <td>Republican</td>\n",
       "      <td>BOOZMAN, John</td>\n",
       "      <td>year blaze trail dominance air space cyberspac...</td>\n",
       "      <td>year blaze trail domin air space cyberspac dad...</td>\n",
       "    </tr>\n",
       "  </tbody>\n",
       "</table>\n",
       "</div>"
      ],
      "text/plain": [
       "         date                                               text affiliation  \\\n",
       "0  2019-03-19  Federal government employees are dedicated pub...  Republican   \n",
       "1  2019-09-13  .@DeptVetAffairs recently rolled out a new dig...  Republican   \n",
       "2  2019-09-12  I know the importance of empowering women in t...  Republican   \n",
       "3  2019-03-22  It was great to spend some time with leaders i...  Republican   \n",
       "4  2019-09-18  For 72 years, @usairforce has been blazing the...  Republican   \n",
       "\n",
       "   nominate_name                                         text_lemma  \\\n",
       "0  BOOZMAN, John  federal government employee dedicate public se...   \n",
       "1  BOOZMAN, John  recently roll new digital memorial platform mi...   \n",
       "2  BOOZMAN, John  know importance empower woman global economy s...   \n",
       "3  BOOZMAN, John  great spend time leader van buren county talk ...   \n",
       "4  BOOZMAN, John  year blaze trail dominance air space cyberspac...   \n",
       "\n",
       "                                        text_stemmed  \n",
       "0  feder govern employe dedic public servant prov...  \n",
       "1  recent roll new digit memori platform million ...  \n",
       "2  know import empow women global economi sponsor...  \n",
       "3  great spend time leader van buren counti talk ...  \n",
       "4  year blaze trail domin air space cyberspac dad...  "
      ]
     },
     "execution_count": 3,
     "metadata": {},
     "output_type": "execute_result"
    }
   ],
   "source": [
    "#Viewing dataframe\n",
    "tweets.head()"
   ]
  },
  {
   "cell_type": "code",
   "execution_count": 4,
   "metadata": {},
   "outputs": [],
   "source": [
    "#Replacing nan values with empty strings\n",
    "tweets.text_lemma = tweets.text_lemma.apply(lambda x: '' if str(x) == 'nan' else x)\n",
    "tweets.text_stemmed = tweets.text_stemmed.apply(lambda x: '' if str(x) == 'nan' else x)"
   ]
  },
  {
   "cell_type": "code",
   "execution_count": 5,
   "metadata": {},
   "outputs": [],
   "source": [
    "#Aggregating text for each politician \n",
    "\n",
    "tweets_agg = tweets.groupby(['nominate_name','affiliation'], as_index = False).agg({'text': ' '.join,\n",
    "                                                                                    'text_lemma': ' '.join,\n",
    "                                                                                    'text_stemmed': ' '.join})\n"
   ]
  },
  {
   "cell_type": "code",
   "execution_count": 6,
   "metadata": {},
   "outputs": [],
   "source": [
    "#Creating column with label \n",
    "tweets_agg['democrat'] = tweets_agg.affiliation.apply(lambda x: 1 if x == 'Democrat' else 0)\n"
   ]
  },
  {
   "cell_type": "markdown",
   "metadata": {},
   "source": [
    "### 2: Creating a validation set and splitting features (X) and labels (y)\n",
    "\n",
    "We'll pretend that we only know for 300 of the politicians whether they are Republicans or Democrats. For the remaining politicians, we therefore don't know the author's partisanship. Our goal then, is to use machine learning models to predict whether a user is a Republican or Democrat using the 218 labeled observations in our training set. Then we'll use a machine learning model that we have fit to the training data to predict the label for the unlabeled politicians.\n",
    "\n",
    "1. Split the dataset into two: one labeled and one unlabeled. You can use `sample` on the aggregated dataframe to get a random sample of 300 politicians for the unlabeled dataset. The labeled dataset should be the remaining 218 politicians. \n",
    "3. Create a training set by splitting the labeled data into: X (the stemmed text) and y (the newly created binary label column). "
   ]
  },
  {
   "cell_type": "code",
   "execution_count": 7,
   "metadata": {},
   "outputs": [
    {
     "name": "stdout",
     "output_type": "stream",
     "text": [
      "Shape of labeled dataset: (218, 6) \n",
      "Shape of unlabeled dataset: (300, 6)\n"
     ]
    }
   ],
   "source": [
    "#Creating hold-out dataset of 300 unlabelled politicians\n",
    "unlabeled = tweets_agg.sample(n = 300, axis = 0)\n",
    "\n",
    "#Creating the labeled dataset by dropping all index values in the unlabeled dataset from the full dataset\n",
    "labeled = tweets_agg\n",
    "labeled = labeled.drop(unlabeled.index, axis=0)\n",
    "\n",
    "print('Shape of labeled dataset:',labeled.shape,\n",
    "      '\\nShape of unlabeled dataset:',unlabeled.shape)\n"
   ]
  },
  {
   "cell_type": "code",
   "execution_count": 8,
   "metadata": {},
   "outputs": [],
   "source": [
    "#Splitting features into X and y\n",
    "X = labeled['text_stemmed']\n",
    "y = labeled['democrat'].values"
   ]
  },
  {
   "cell_type": "markdown",
   "metadata": {},
   "source": [
    "### 4.1: RandomForest: Hyperparameter tuning\n",
    "\n",
    "Now we begin with the supervised learning. First, we will train and tune a RandomForest classifier. Find the documentation for RandomForest here: https://scikit-learn.org/stable/modules/generated/sklearn.ensemble.RandomForestClassifier.html \n",
    "\n",
    "To use text data for prediction, we need to convert the data into a document-feature matrix. We will be comparing two methods of vectorization: a vectorizer using term frequencies and a transformation of those into tf-idf frequencies. \n",
    "\n",
    "\n",
    "Create a **pipeline** containing: \n",
    "\n",
    "1. `CountVectorizer`: \n",
    "    - Like Monday, we want to include both unigrams and bigrams. `CountVectorizer` can do this for us with the parameter `ngram_range`. \n",
    "    - Use the parameters `max_df` and `min_df` to remove very frequent (those that appear in more than 99.9% of the documents) and very infrequent words (those that appear in less than 10.0% documents).\n",
    "    - CountVectorizer has a build-in tokenizer. However, if you want to use the `TweetTokenizer` we used on Monday, you can override the default tokenization with your own defined function, like so: `vectorizer = CountVectorizer(tokenizer=your_tokenizer.tokenize)`. <br>\n",
    "\n",
    "\n",
    "2. `TfidfTransformer()` <br>\n",
    "\n",
    "\n",
    "3. `RandomForestClassifier()`\n",
    "\n",
    "\n",
    "Create a **parameter-grid** containing: \n",
    "\n",
    "1. To easily test the use of either term frequencies or tf-idf frequencies as part of your hyperparameter-tuning, use the parameter `use_idf` in the `TfidfTransformer()` in the pipeline.\n",
    "2. Experiment with the `max_features` parameter (the number of features to consider when splitting branches). To get a model that runs (fairly) quickly, try: [260,300,340]. Other parameters that could also be experimented with, but only if you have a lot of time, are `n_estimators` (number of trees) and `max_depth` (size of the trees).\n",
    "\n",
    "\n",
    "Use `StratifiedKFold` with 5 folds for **cross-validation**. This creates balanced distributions across the folds. \n",
    "\n",
    "Use `GridSearchCV` to **find the best RandomForest classifier**. Save the best performing model and compute the accuracy.\n",
    "\n",
    "Investigate the results. Does the count vectorized data or the tf-idf vectorized data perform better? \n",
    "\n",
    "\n",
    "Note: `TfidfVectorizer` is the same as using `CountVectorizer` followed by `TfidfTransformer`. If you at a later point, e.g. for your exam, know that you want to use the tf-idf frequencies rather than the plain term frequencies, this is an option. \n"
   ]
  },
  {
   "cell_type": "code",
   "execution_count": 11,
   "metadata": {},
   "outputs": [],
   "source": [
    "#Initializing the tokenizer I want to use\n",
    "tweet_tokenizer = TweetTokenizer()\n",
    "\n",
    "#Initializing the pipeline\n",
    "pipeline = Pipeline([\n",
    "    ('vect', CountVectorizer(ngram_range = (1,2), max_df = 0.999, min_df = 0.10, tokenizer = tweet_tokenizer.tokenize)),\n",
    "    ('tfidf', TfidfTransformer()),\n",
    "    ('rf', RandomForestClassifier()),\n",
    "])\n",
    "\n",
    "#Setting the parameter grid \n",
    "parameter_grid = {\n",
    "    'tfidf__use_idf': [True, False],\n",
    "    'rf__max_features' :[10, 260, 300, 340, 1000, 3000]}\n",
    "\n",
    "#Initializing a kfold with 5 folds\n",
    "cv = StratifiedKFold(n_splits=5)\n",
    "\n",
    "#Initializing the GridSearchCV\n",
    "search = GridSearchCV(pipeline, parameter_grid, cv=cv, verbose=10)"
   ]
  },
  {
   "cell_type": "code",
   "execution_count": 12,
   "metadata": {
    "scrolled": false
   },
   "outputs": [
    {
     "name": "stdout",
     "output_type": "stream",
     "text": [
      "Fitting 5 folds for each of 12 candidates, totalling 60 fits\n",
      "[CV] rf__max_features=10, tfidf__use_idf=True ........................\n"
     ]
    },
    {
     "name": "stderr",
     "output_type": "stream",
     "text": [
      "[Parallel(n_jobs=1)]: Using backend SequentialBackend with 1 concurrent workers.\n"
     ]
    },
    {
     "name": "stdout",
     "output_type": "stream",
     "text": [
      "[CV]  rf__max_features=10, tfidf__use_idf=True, score=1.000, total=  16.3s\n",
      "[CV] rf__max_features=10, tfidf__use_idf=True ........................\n"
     ]
    },
    {
     "name": "stderr",
     "output_type": "stream",
     "text": [
      "[Parallel(n_jobs=1)]: Done   1 out of   1 | elapsed:   16.3s remaining:    0.0s\n"
     ]
    },
    {
     "name": "stdout",
     "output_type": "stream",
     "text": [
      "[CV]  rf__max_features=10, tfidf__use_idf=True, score=0.932, total=  16.4s\n",
      "[CV] rf__max_features=10, tfidf__use_idf=True ........................\n"
     ]
    },
    {
     "name": "stderr",
     "output_type": "stream",
     "text": [
      "[Parallel(n_jobs=1)]: Done   2 out of   2 | elapsed:   32.8s remaining:    0.0s\n"
     ]
    },
    {
     "name": "stdout",
     "output_type": "stream",
     "text": [
      "[CV]  rf__max_features=10, tfidf__use_idf=True, score=0.932, total=  16.9s\n",
      "[CV] rf__max_features=10, tfidf__use_idf=True ........................\n"
     ]
    },
    {
     "name": "stderr",
     "output_type": "stream",
     "text": [
      "[Parallel(n_jobs=1)]: Done   3 out of   3 | elapsed:   49.8s remaining:    0.0s\n"
     ]
    },
    {
     "name": "stdout",
     "output_type": "stream",
     "text": [
      "[CV]  rf__max_features=10, tfidf__use_idf=True, score=0.953, total=  16.7s\n",
      "[CV] rf__max_features=10, tfidf__use_idf=True ........................\n"
     ]
    },
    {
     "name": "stderr",
     "output_type": "stream",
     "text": [
      "[Parallel(n_jobs=1)]: Done   4 out of   4 | elapsed:  1.1min remaining:    0.0s\n"
     ]
    },
    {
     "name": "stdout",
     "output_type": "stream",
     "text": [
      "[CV]  rf__max_features=10, tfidf__use_idf=True, score=1.000, total=  16.7s\n",
      "[CV] rf__max_features=10, tfidf__use_idf=False .......................\n"
     ]
    },
    {
     "name": "stderr",
     "output_type": "stream",
     "text": [
      "[Parallel(n_jobs=1)]: Done   5 out of   5 | elapsed:  1.4min remaining:    0.0s\n"
     ]
    },
    {
     "name": "stdout",
     "output_type": "stream",
     "text": [
      "[CV]  rf__max_features=10, tfidf__use_idf=False, score=0.977, total=  16.5s\n",
      "[CV] rf__max_features=10, tfidf__use_idf=False .......................\n"
     ]
    },
    {
     "name": "stderr",
     "output_type": "stream",
     "text": [
      "[Parallel(n_jobs=1)]: Done   6 out of   6 | elapsed:  1.7min remaining:    0.0s\n"
     ]
    },
    {
     "name": "stdout",
     "output_type": "stream",
     "text": [
      "[CV]  rf__max_features=10, tfidf__use_idf=False, score=0.909, total=  16.5s\n",
      "[CV] rf__max_features=10, tfidf__use_idf=False .......................\n"
     ]
    },
    {
     "name": "stderr",
     "output_type": "stream",
     "text": [
      "[Parallel(n_jobs=1)]: Done   7 out of   7 | elapsed:  1.9min remaining:    0.0s\n"
     ]
    },
    {
     "name": "stdout",
     "output_type": "stream",
     "text": [
      "[CV]  rf__max_features=10, tfidf__use_idf=False, score=0.932, total=  16.8s\n",
      "[CV] rf__max_features=10, tfidf__use_idf=False .......................\n"
     ]
    },
    {
     "name": "stderr",
     "output_type": "stream",
     "text": [
      "[Parallel(n_jobs=1)]: Done   8 out of   8 | elapsed:  2.2min remaining:    0.0s\n"
     ]
    },
    {
     "name": "stdout",
     "output_type": "stream",
     "text": [
      "[CV]  rf__max_features=10, tfidf__use_idf=False, score=0.977, total=  16.7s\n",
      "[CV] rf__max_features=10, tfidf__use_idf=False .......................\n"
     ]
    },
    {
     "name": "stderr",
     "output_type": "stream",
     "text": [
      "[Parallel(n_jobs=1)]: Done   9 out of   9 | elapsed:  2.5min remaining:    0.0s\n"
     ]
    },
    {
     "name": "stdout",
     "output_type": "stream",
     "text": [
      "[CV]  rf__max_features=10, tfidf__use_idf=False, score=0.930, total=  16.6s\n",
      "[CV] rf__max_features=260, tfidf__use_idf=True .......................\n",
      "[CV]  rf__max_features=260, tfidf__use_idf=True, score=1.000, total=  16.6s\n",
      "[CV] rf__max_features=260, tfidf__use_idf=True .......................\n",
      "[CV]  rf__max_features=260, tfidf__use_idf=True, score=0.955, total=  16.7s\n",
      "[CV] rf__max_features=260, tfidf__use_idf=True .......................\n",
      "[CV]  rf__max_features=260, tfidf__use_idf=True, score=0.955, total=  16.9s\n",
      "[CV] rf__max_features=260, tfidf__use_idf=True .......................\n",
      "[CV]  rf__max_features=260, tfidf__use_idf=True, score=0.953, total=  17.0s\n",
      "[CV] rf__max_features=260, tfidf__use_idf=True .......................\n",
      "[CV]  rf__max_features=260, tfidf__use_idf=True, score=1.000, total=  16.8s\n",
      "[CV] rf__max_features=260, tfidf__use_idf=False ......................\n",
      "[CV]  rf__max_features=260, tfidf__use_idf=False, score=1.000, total=  16.6s\n",
      "[CV] rf__max_features=260, tfidf__use_idf=False ......................\n",
      "[CV]  rf__max_features=260, tfidf__use_idf=False, score=0.932, total=  16.7s\n",
      "[CV] rf__max_features=260, tfidf__use_idf=False ......................\n",
      "[CV]  rf__max_features=260, tfidf__use_idf=False, score=0.955, total=  17.0s\n",
      "[CV] rf__max_features=260, tfidf__use_idf=False ......................\n",
      "[CV]  rf__max_features=260, tfidf__use_idf=False, score=0.953, total=  17.0s\n",
      "[CV] rf__max_features=260, tfidf__use_idf=False ......................\n",
      "[CV]  rf__max_features=260, tfidf__use_idf=False, score=1.000, total=  16.8s\n",
      "[CV] rf__max_features=300, tfidf__use_idf=True .......................\n",
      "[CV]  rf__max_features=300, tfidf__use_idf=True, score=0.977, total=  16.8s\n",
      "[CV] rf__max_features=300, tfidf__use_idf=True .......................\n",
      "[CV]  rf__max_features=300, tfidf__use_idf=True, score=0.977, total=  16.7s\n",
      "[CV] rf__max_features=300, tfidf__use_idf=True .......................\n",
      "[CV]  rf__max_features=300, tfidf__use_idf=True, score=0.977, total=  17.0s\n",
      "[CV] rf__max_features=300, tfidf__use_idf=True .......................\n",
      "[CV]  rf__max_features=300, tfidf__use_idf=True, score=1.000, total=  17.0s\n",
      "[CV] rf__max_features=300, tfidf__use_idf=True .......................\n",
      "[CV]  rf__max_features=300, tfidf__use_idf=True, score=1.000, total=  16.8s\n",
      "[CV] rf__max_features=300, tfidf__use_idf=False ......................\n",
      "[CV]  rf__max_features=300, tfidf__use_idf=False, score=1.000, total=  16.7s\n",
      "[CV] rf__max_features=300, tfidf__use_idf=False ......................\n",
      "[CV]  rf__max_features=300, tfidf__use_idf=False, score=0.955, total=  17.0s\n",
      "[CV] rf__max_features=300, tfidf__use_idf=False ......................\n",
      "[CV]  rf__max_features=300, tfidf__use_idf=False, score=0.977, total=  17.1s\n",
      "[CV] rf__max_features=300, tfidf__use_idf=False ......................\n",
      "[CV]  rf__max_features=300, tfidf__use_idf=False, score=1.000, total=  17.0s\n",
      "[CV] rf__max_features=300, tfidf__use_idf=False ......................\n",
      "[CV]  rf__max_features=300, tfidf__use_idf=False, score=1.000, total=  16.8s\n",
      "[CV] rf__max_features=340, tfidf__use_idf=True .......................\n",
      "[CV]  rf__max_features=340, tfidf__use_idf=True, score=1.000, total=  16.8s\n",
      "[CV] rf__max_features=340, tfidf__use_idf=True .......................\n",
      "[CV]  rf__max_features=340, tfidf__use_idf=True, score=0.955, total=  16.8s\n",
      "[CV] rf__max_features=340, tfidf__use_idf=True .......................\n",
      "[CV]  rf__max_features=340, tfidf__use_idf=True, score=0.955, total=  17.1s\n",
      "[CV] rf__max_features=340, tfidf__use_idf=True .......................\n",
      "[CV]  rf__max_features=340, tfidf__use_idf=True, score=0.953, total=  17.0s\n",
      "[CV] rf__max_features=340, tfidf__use_idf=True .......................\n",
      "[CV]  rf__max_features=340, tfidf__use_idf=True, score=1.000, total=  16.8s\n",
      "[CV] rf__max_features=340, tfidf__use_idf=False ......................\n",
      "[CV]  rf__max_features=340, tfidf__use_idf=False, score=1.000, total=  16.7s\n",
      "[CV] rf__max_features=340, tfidf__use_idf=False ......................\n",
      "[CV]  rf__max_features=340, tfidf__use_idf=False, score=0.955, total=  16.7s\n",
      "[CV] rf__max_features=340, tfidf__use_idf=False ......................\n",
      "[CV]  rf__max_features=340, tfidf__use_idf=False, score=0.977, total=  17.0s\n",
      "[CV] rf__max_features=340, tfidf__use_idf=False ......................\n",
      "[CV]  rf__max_features=340, tfidf__use_idf=False, score=0.977, total=  16.9s\n",
      "[CV] rf__max_features=340, tfidf__use_idf=False ......................\n",
      "[CV]  rf__max_features=340, tfidf__use_idf=False, score=1.000, total=  16.9s\n",
      "[CV] rf__max_features=1000, tfidf__use_idf=True ......................\n",
      "[CV]  rf__max_features=1000, tfidf__use_idf=True, score=0.955, total=  17.1s\n",
      "[CV] rf__max_features=1000, tfidf__use_idf=True ......................\n",
      "[CV]  rf__max_features=1000, tfidf__use_idf=True, score=0.955, total=  17.0s\n",
      "[CV] rf__max_features=1000, tfidf__use_idf=True ......................\n",
      "[CV]  rf__max_features=1000, tfidf__use_idf=True, score=1.000, total=  17.4s\n",
      "[CV] rf__max_features=1000, tfidf__use_idf=True ......................\n",
      "[CV]  rf__max_features=1000, tfidf__use_idf=True, score=0.953, total=  17.4s\n",
      "[CV] rf__max_features=1000, tfidf__use_idf=True ......................\n",
      "[CV]  rf__max_features=1000, tfidf__use_idf=True, score=1.000, total=  17.2s\n",
      "[CV] rf__max_features=1000, tfidf__use_idf=False .....................\n",
      "[CV]  rf__max_features=1000, tfidf__use_idf=False, score=0.955, total=  17.1s\n",
      "[CV] rf__max_features=1000, tfidf__use_idf=False .....................\n",
      "[CV]  rf__max_features=1000, tfidf__use_idf=False, score=0.955, total=  17.0s\n",
      "[CV] rf__max_features=1000, tfidf__use_idf=False .....................\n",
      "[CV]  rf__max_features=1000, tfidf__use_idf=False, score=0.977, total=  17.3s\n",
      "[CV] rf__max_features=1000, tfidf__use_idf=False .....................\n",
      "[CV]  rf__max_features=1000, tfidf__use_idf=False, score=0.977, total=  17.5s\n",
      "[CV] rf__max_features=1000, tfidf__use_idf=False .....................\n",
      "[CV]  rf__max_features=1000, tfidf__use_idf=False, score=1.000, total=  17.2s\n",
      "[CV] rf__max_features=3000, tfidf__use_idf=True ......................\n",
      "[CV]  rf__max_features=3000, tfidf__use_idf=True, score=0.932, total=  18.0s\n",
      "[CV] rf__max_features=3000, tfidf__use_idf=True ......................\n",
      "[CV]  rf__max_features=3000, tfidf__use_idf=True, score=0.955, total=  17.9s\n",
      "[CV] rf__max_features=3000, tfidf__use_idf=True ......................\n",
      "[CV]  rf__max_features=3000, tfidf__use_idf=True, score=0.977, total=  18.4s\n",
      "[CV] rf__max_features=3000, tfidf__use_idf=True ......................\n",
      "[CV]  rf__max_features=3000, tfidf__use_idf=True, score=0.953, total=  18.4s\n",
      "[CV] rf__max_features=3000, tfidf__use_idf=True ......................\n",
      "[CV]  rf__max_features=3000, tfidf__use_idf=True, score=1.000, total=  18.3s\n",
      "[CV] rf__max_features=3000, tfidf__use_idf=False .....................\n",
      "[CV]  rf__max_features=3000, tfidf__use_idf=False, score=0.955, total=  17.9s\n",
      "[CV] rf__max_features=3000, tfidf__use_idf=False .....................\n",
      "[CV]  rf__max_features=3000, tfidf__use_idf=False, score=0.955, total=  18.0s\n",
      "[CV] rf__max_features=3000, tfidf__use_idf=False .....................\n",
      "[CV]  rf__max_features=3000, tfidf__use_idf=False, score=1.000, total=  18.4s\n",
      "[CV] rf__max_features=3000, tfidf__use_idf=False .....................\n",
      "[CV]  rf__max_features=3000, tfidf__use_idf=False, score=0.953, total=  18.4s\n",
      "[CV] rf__max_features=3000, tfidf__use_idf=False .....................\n",
      "[CV]  rf__max_features=3000, tfidf__use_idf=False, score=1.000, total=  18.2s\n"
     ]
    },
    {
     "name": "stderr",
     "output_type": "stream",
     "text": [
      "[Parallel(n_jobs=1)]: Done  60 out of  60 | elapsed: 17.2min finished\n"
     ]
    }
   ],
   "source": [
    "#Running the GridSearchCV\n",
    "\n",
    "#As I experimented with more parameter values, this takes approx. 17 mins to run\n",
    "\n",
    "result = search.fit(X, y)"
   ]
  },
  {
   "cell_type": "code",
   "execution_count": 13,
   "metadata": {},
   "outputs": [
    {
     "name": "stdout",
     "output_type": "stream",
     "text": [
      "Parameters of the best RandomForest classifier: {'rf__max_features': 300, 'tfidf__use_idf': True} \n",
      "Avg. accuracy score of the best performing model: 0.9863636363636363\n"
     ]
    }
   ],
   "source": [
    "#Finding the best performing model and saving it \n",
    "bestforest = result.best_estimator_\n",
    "\n",
    "#Viewing the parameters and accuracy of the best performing model \n",
    "print('Parameters of the best RandomForest classifier:',result.best_params_,\n",
    "      '\\nAvg. accuracy score of the best performing model:',result.best_score_)\n"
   ]
  },
  {
   "cell_type": "code",
   "execution_count": 104,
   "metadata": {},
   "outputs": [
    {
     "name": "stdout",
     "output_type": "stream",
     "text": [
      "Result of best model with tf-idf vectorizing:\t [0.98636364]\n",
      "Result of best model with count vectorizing:\t [0.98636364]\n"
     ]
    }
   ],
   "source": [
    "#Investigate the difference between using plain frequencies and tf-idf\n",
    "\n",
    "#Saving the results of all parameters in a dataframe\n",
    "result_df = pd.DataFrame(result.cv_results_)\n",
    "\n",
    "#Locating and printing the accuracy results of the two vectorizers \n",
    "print('Result of best model with tf-idf vectorizing:\\t',\n",
    "      result_df.loc[(result_df.param_tfidf__use_idf == True) \n",
    "                    & (result_df.param_rf__max_features == 300)]['mean_test_score'].values)\n",
    "\n",
    "print('Result of best model with count vectorizing:\\t',\n",
    "      result_df.loc[(result_df.param_tfidf__use_idf == False) \n",
    "                    & (result_df.param_rf__max_features == 300)]['mean_test_score'].values)\n",
    "\n",
    "\n",
    "#No real difference to be spotted here. \n",
    "#The model seems to perform so well generally that the difference between using a count vectorizer \n",
    "#     and a tf-idf vectorizer are minimal\n"
   ]
  },
  {
   "cell_type": "markdown",
   "metadata": {},
   "source": [
    "### 4.2: Lasso: Supervised learning and hyperparameter tuning\n",
    "\n",
    "Repeat the above steps to find the best performing lasso regression model. \n",
    "\n",
    "To implement lasso regression, we will use scikit-learn's `LogisticRegression` with `penalty = 'l1'`, `solver = 'saga'`, and bumping up `max_iter = 1000`. \n",
    "\n",
    "The parameter to cross-validate will be `C`, the inverse of regularization strength (1/λ). Experiment with the parameter values [0.5, 1, 5].\n"
   ]
  },
  {
   "cell_type": "code",
   "execution_count": 20,
   "metadata": {},
   "outputs": [],
   "source": [
    "#Initializing the tokenizer I want to use\n",
    "tweet_tokenizer = TweetTokenizer()\n",
    "\n",
    "#Initializing the pipeline\n",
    "pipeline = Pipeline([\n",
    "    ('vect', CountVectorizer(ngram_range = (1,2), max_df = 0.999, min_df = 0.10, tokenizer = tweet_tokenizer.tokenize)),\n",
    "    ('tfidf', TfidfTransformer()),\n",
    "    ('lasso', LogisticRegression(penalty = 'l1', solver = 'saga', max_iter = 1000)),\n",
    "])\n",
    "\n",
    "#Setting the parameter grid \n",
    "parameter_grid = {\n",
    "    'tfidf__use_idf': [True, False],\n",
    "    'lasso__C': [0.05, 0.1, 0.5, 1, 5]}\n",
    "\n",
    "#Initializing a kfold with 5 folds\n",
    "cv = StratifiedKFold(n_splits=5)\n",
    "\n",
    "lasso_search = GridSearchCV(pipeline, parameter_grid, cv=cv, verbose=10)\n"
   ]
  },
  {
   "cell_type": "code",
   "execution_count": 21,
   "metadata": {
    "scrolled": true
   },
   "outputs": [
    {
     "name": "stdout",
     "output_type": "stream",
     "text": [
      "Fitting 5 folds for each of 10 candidates, totalling 50 fits\n",
      "[CV] lasso__C=0.05, tfidf__use_idf=True ..............................\n"
     ]
    },
    {
     "name": "stderr",
     "output_type": "stream",
     "text": [
      "[Parallel(n_jobs=1)]: Using backend SequentialBackend with 1 concurrent workers.\n"
     ]
    },
    {
     "name": "stdout",
     "output_type": "stream",
     "text": [
      "[CV] .. lasso__C=0.05, tfidf__use_idf=True, score=0.545, total=  16.6s\n",
      "[CV] lasso__C=0.05, tfidf__use_idf=True ..............................\n"
     ]
    },
    {
     "name": "stderr",
     "output_type": "stream",
     "text": [
      "[Parallel(n_jobs=1)]: Done   1 out of   1 | elapsed:   16.6s remaining:    0.0s\n"
     ]
    },
    {
     "name": "stdout",
     "output_type": "stream",
     "text": [
      "[CV] .. lasso__C=0.05, tfidf__use_idf=True, score=0.545, total=  16.7s\n",
      "[CV] lasso__C=0.05, tfidf__use_idf=True ..............................\n"
     ]
    },
    {
     "name": "stderr",
     "output_type": "stream",
     "text": [
      "[Parallel(n_jobs=1)]: Done   2 out of   2 | elapsed:   33.4s remaining:    0.0s\n"
     ]
    },
    {
     "name": "stdout",
     "output_type": "stream",
     "text": [
      "[CV] .. lasso__C=0.05, tfidf__use_idf=True, score=0.455, total=  17.1s\n",
      "[CV] lasso__C=0.05, tfidf__use_idf=True ..............................\n"
     ]
    },
    {
     "name": "stderr",
     "output_type": "stream",
     "text": [
      "[Parallel(n_jobs=1)]: Done   3 out of   3 | elapsed:   50.6s remaining:    0.0s\n"
     ]
    },
    {
     "name": "stdout",
     "output_type": "stream",
     "text": [
      "[CV] .. lasso__C=0.05, tfidf__use_idf=True, score=0.558, total=  17.0s\n",
      "[CV] lasso__C=0.05, tfidf__use_idf=True ..............................\n"
     ]
    },
    {
     "name": "stderr",
     "output_type": "stream",
     "text": [
      "[Parallel(n_jobs=1)]: Done   4 out of   4 | elapsed:  1.1min remaining:    0.0s\n"
     ]
    },
    {
     "name": "stdout",
     "output_type": "stream",
     "text": [
      "[CV] .. lasso__C=0.05, tfidf__use_idf=True, score=0.535, total=  16.8s\n",
      "[CV] lasso__C=0.05, tfidf__use_idf=False .............................\n"
     ]
    },
    {
     "name": "stderr",
     "output_type": "stream",
     "text": [
      "[Parallel(n_jobs=1)]: Done   5 out of   5 | elapsed:  1.4min remaining:    0.0s\n"
     ]
    },
    {
     "name": "stdout",
     "output_type": "stream",
     "text": [
      "[CV] . lasso__C=0.05, tfidf__use_idf=False, score=0.545, total=  16.6s\n",
      "[CV] lasso__C=0.05, tfidf__use_idf=False .............................\n"
     ]
    },
    {
     "name": "stderr",
     "output_type": "stream",
     "text": [
      "[Parallel(n_jobs=1)]: Done   6 out of   6 | elapsed:  1.7min remaining:    0.0s\n"
     ]
    },
    {
     "name": "stdout",
     "output_type": "stream",
     "text": [
      "[CV] . lasso__C=0.05, tfidf__use_idf=False, score=0.545, total=  16.8s\n",
      "[CV] lasso__C=0.05, tfidf__use_idf=False .............................\n"
     ]
    },
    {
     "name": "stderr",
     "output_type": "stream",
     "text": [
      "[Parallel(n_jobs=1)]: Done   7 out of   7 | elapsed:  2.0min remaining:    0.0s\n"
     ]
    },
    {
     "name": "stdout",
     "output_type": "stream",
     "text": [
      "[CV] . lasso__C=0.05, tfidf__use_idf=False, score=0.545, total=  17.4s\n",
      "[CV] lasso__C=0.05, tfidf__use_idf=False .............................\n"
     ]
    },
    {
     "name": "stderr",
     "output_type": "stream",
     "text": [
      "[Parallel(n_jobs=1)]: Done   8 out of   8 | elapsed:  2.3min remaining:    0.0s\n"
     ]
    },
    {
     "name": "stdout",
     "output_type": "stream",
     "text": [
      "[CV] . lasso__C=0.05, tfidf__use_idf=False, score=0.558, total=  16.9s\n",
      "[CV] lasso__C=0.05, tfidf__use_idf=False .............................\n"
     ]
    },
    {
     "name": "stderr",
     "output_type": "stream",
     "text": [
      "[Parallel(n_jobs=1)]: Done   9 out of   9 | elapsed:  2.5min remaining:    0.0s\n"
     ]
    },
    {
     "name": "stdout",
     "output_type": "stream",
     "text": [
      "[CV] . lasso__C=0.05, tfidf__use_idf=False, score=0.535, total=  16.8s\n",
      "[CV] lasso__C=0.1, tfidf__use_idf=True ...............................\n",
      "[CV] ... lasso__C=0.1, tfidf__use_idf=True, score=0.545, total=  16.7s\n",
      "[CV] lasso__C=0.1, tfidf__use_idf=True ...............................\n",
      "[CV] ... lasso__C=0.1, tfidf__use_idf=True, score=0.545, total=  16.7s\n",
      "[CV] lasso__C=0.1, tfidf__use_idf=True ...............................\n",
      "[CV] ... lasso__C=0.1, tfidf__use_idf=True, score=0.545, total=  17.0s\n",
      "[CV] lasso__C=0.1, tfidf__use_idf=True ...............................\n",
      "[CV] ... lasso__C=0.1, tfidf__use_idf=True, score=0.558, total=  17.0s\n",
      "[CV] lasso__C=0.1, tfidf__use_idf=True ...............................\n",
      "[CV] ... lasso__C=0.1, tfidf__use_idf=True, score=0.465, total=  16.9s\n",
      "[CV] lasso__C=0.1, tfidf__use_idf=False ..............................\n",
      "[CV] .. lasso__C=0.1, tfidf__use_idf=False, score=0.545, total=  16.8s\n",
      "[CV] lasso__C=0.1, tfidf__use_idf=False ..............................\n",
      "[CV] .. lasso__C=0.1, tfidf__use_idf=False, score=0.545, total=  16.8s\n",
      "[CV] lasso__C=0.1, tfidf__use_idf=False ..............................\n",
      "[CV] .. lasso__C=0.1, tfidf__use_idf=False, score=0.545, total=  17.0s\n",
      "[CV] lasso__C=0.1, tfidf__use_idf=False ..............................\n",
      "[CV] .. lasso__C=0.1, tfidf__use_idf=False, score=0.558, total=  17.0s\n",
      "[CV] lasso__C=0.1, tfidf__use_idf=False ..............................\n",
      "[CV] .. lasso__C=0.1, tfidf__use_idf=False, score=0.465, total=  16.9s\n",
      "[CV] lasso__C=0.5, tfidf__use_idf=True ...............................\n",
      "[CV] ... lasso__C=0.5, tfidf__use_idf=True, score=0.727, total=  17.6s\n",
      "[CV] lasso__C=0.5, tfidf__use_idf=True ...............................\n",
      "[CV] ... lasso__C=0.5, tfidf__use_idf=True, score=0.795, total=  17.0s\n",
      "[CV] lasso__C=0.5, tfidf__use_idf=True ...............................\n",
      "[CV] ... lasso__C=0.5, tfidf__use_idf=True, score=0.818, total=  17.4s\n",
      "[CV] lasso__C=0.5, tfidf__use_idf=True ...............................\n",
      "[CV] ... lasso__C=0.5, tfidf__use_idf=True, score=0.767, total=  17.5s\n",
      "[CV] lasso__C=0.5, tfidf__use_idf=True ...............................\n",
      "[CV] ... lasso__C=0.5, tfidf__use_idf=True, score=0.860, total=  17.3s\n",
      "[CV] lasso__C=0.5, tfidf__use_idf=False ..............................\n",
      "[CV] .. lasso__C=0.5, tfidf__use_idf=False, score=0.818, total=  16.9s\n",
      "[CV] lasso__C=0.5, tfidf__use_idf=False ..............................\n",
      "[CV] .. lasso__C=0.5, tfidf__use_idf=False, score=0.864, total=  17.4s\n",
      "[CV] lasso__C=0.5, tfidf__use_idf=False ..............................\n",
      "[CV] .. lasso__C=0.5, tfidf__use_idf=False, score=0.773, total=  18.0s\n",
      "[CV] lasso__C=0.5, tfidf__use_idf=False ..............................\n",
      "[CV] .. lasso__C=0.5, tfidf__use_idf=False, score=0.744, total=  17.2s\n",
      "[CV] lasso__C=0.5, tfidf__use_idf=False ..............................\n",
      "[CV] .. lasso__C=0.5, tfidf__use_idf=False, score=0.860, total=  17.3s\n",
      "[CV] lasso__C=1, tfidf__use_idf=True .................................\n",
      "[CV] ..... lasso__C=1, tfidf__use_idf=True, score=0.841, total=  17.9s\n",
      "[CV] lasso__C=1, tfidf__use_idf=True .................................\n",
      "[CV] ..... lasso__C=1, tfidf__use_idf=True, score=0.886, total=  17.9s\n",
      "[CV] lasso__C=1, tfidf__use_idf=True .................................\n",
      "[CV] ..... lasso__C=1, tfidf__use_idf=True, score=0.864, total=  18.1s\n",
      "[CV] lasso__C=1, tfidf__use_idf=True .................................\n",
      "[CV] ..... lasso__C=1, tfidf__use_idf=True, score=0.884, total=  17.6s\n",
      "[CV] lasso__C=1, tfidf__use_idf=True .................................\n",
      "[CV] ..... lasso__C=1, tfidf__use_idf=True, score=0.953, total=  18.3s\n",
      "[CV] lasso__C=1, tfidf__use_idf=False ................................\n",
      "[CV] .... lasso__C=1, tfidf__use_idf=False, score=0.864, total=  18.2s\n",
      "[CV] lasso__C=1, tfidf__use_idf=False ................................\n",
      "[CV] .... lasso__C=1, tfidf__use_idf=False, score=0.886, total=  17.8s\n",
      "[CV] lasso__C=1, tfidf__use_idf=False ................................\n",
      "[CV] .... lasso__C=1, tfidf__use_idf=False, score=0.864, total=  18.3s\n",
      "[CV] lasso__C=1, tfidf__use_idf=False ................................\n",
      "[CV] .... lasso__C=1, tfidf__use_idf=False, score=0.860, total=  17.4s\n",
      "[CV] lasso__C=1, tfidf__use_idf=False ................................\n",
      "[CV] .... lasso__C=1, tfidf__use_idf=False, score=0.884, total=  17.6s\n",
      "[CV] lasso__C=5, tfidf__use_idf=True .................................\n",
      "[CV] ..... lasso__C=5, tfidf__use_idf=True, score=0.932, total=  21.4s\n",
      "[CV] lasso__C=5, tfidf__use_idf=True .................................\n",
      "[CV] ..... lasso__C=5, tfidf__use_idf=True, score=0.932, total=  21.9s\n",
      "[CV] lasso__C=5, tfidf__use_idf=True .................................\n",
      "[CV] ..... lasso__C=5, tfidf__use_idf=True, score=0.955, total=  21.7s\n",
      "[CV] lasso__C=5, tfidf__use_idf=True .................................\n"
     ]
    },
    {
     "name": "stderr",
     "output_type": "stream",
     "text": [
      "/opt/anaconda3/lib/python3.8/site-packages/sklearn/linear_model/_sag.py:329: ConvergenceWarning: The max_iter was reached which means the coef_ did not converge\n",
      "  warnings.warn(\"The max_iter was reached which means \"\n"
     ]
    },
    {
     "name": "stdout",
     "output_type": "stream",
     "text": [
      "[CV] ..... lasso__C=5, tfidf__use_idf=True, score=0.884, total=  22.5s\n",
      "[CV] lasso__C=5, tfidf__use_idf=True .................................\n",
      "[CV] ..... lasso__C=5, tfidf__use_idf=True, score=1.000, total=  20.3s\n",
      "[CV] lasso__C=5, tfidf__use_idf=False ................................\n",
      "[CV] .... lasso__C=5, tfidf__use_idf=False, score=0.932, total=  20.9s\n",
      "[CV] lasso__C=5, tfidf__use_idf=False ................................\n",
      "[CV] .... lasso__C=5, tfidf__use_idf=False, score=0.932, total=  21.6s\n",
      "[CV] lasso__C=5, tfidf__use_idf=False ................................\n",
      "[CV] .... lasso__C=5, tfidf__use_idf=False, score=0.932, total=  21.0s\n",
      "[CV] lasso__C=5, tfidf__use_idf=False ................................\n",
      "[CV] .... lasso__C=5, tfidf__use_idf=False, score=0.884, total=  21.5s\n",
      "[CV] lasso__C=5, tfidf__use_idf=False ................................\n",
      "[CV] .... lasso__C=5, tfidf__use_idf=False, score=1.000, total=  19.2s\n"
     ]
    },
    {
     "name": "stderr",
     "output_type": "stream",
     "text": [
      "[Parallel(n_jobs=1)]: Done  50 out of  50 | elapsed: 15.1min finished\n"
     ]
    }
   ],
   "source": [
    "#As I experimented with more parameter values, this takes approx. 15 mins to run\n",
    "\n",
    "lasso_result = lasso_search.fit(X, y)"
   ]
  },
  {
   "cell_type": "code",
   "execution_count": 22,
   "metadata": {},
   "outputs": [
    {
     "name": "stdout",
     "output_type": "stream",
     "text": [
      "Parameters of the best Lasso model: {'lasso__C': 5, 'tfidf__use_idf': True} \n",
      "Avg. accuracy score of the best performing model: 0.9403805496828752\n"
     ]
    }
   ],
   "source": [
    "#Finding the best performing model and saving it \n",
    "bestlasso = lasso_result.best_estimator_\n",
    "\n",
    "print('Parameters of the best Lasso model:',lasso_result.best_params_,\n",
    "      '\\nAvg. accuracy score of the best performing model:',lasso_result.best_score_)\n"
   ]
  },
  {
   "cell_type": "code",
   "execution_count": 105,
   "metadata": {},
   "outputs": [
    {
     "name": "stdout",
     "output_type": "stream",
     "text": [
      "Result of best model with tf-idf vectorizing:\t [0.94038055]\n",
      "Result of best model with count vectorizing:\t [0.9358351]\n"
     ]
    }
   ],
   "source": [
    "#Investigate the difference between using plain frequencies and tf-idf\n",
    "\n",
    "#Saving the results of all parameters in a dataframe\n",
    "lasso_result_df = pd.DataFrame(lasso_result.cv_results_)\n",
    "\n",
    "#Locating and printing the accuracy results of the two vectorizers with the optimal C parameter value\n",
    "print('Result of best model with tf-idf vectorizing:\\t',\n",
    "      lasso_result_df.loc[(lasso_result_df.param_tfidf__use_idf == True)\n",
    "                          & (lasso_result_df.param_lasso__C == 5)]['mean_test_score'].values)\n",
    "\n",
    "print('Result of best model with count vectorizing:\\t',\n",
    "      lasso_result_df.loc[(lasso_result_df.param_tfidf__use_idf == False)\n",
    "                    & (lasso_result_df.param_lasso__C == 5)]['mean_test_score'].values)\n",
    "\n",
    "\n",
    "#Here we see that the tf-idf vectorizing performs better than the count vectorizer. \n"
   ]
  },
  {
   "cell_type": "markdown",
   "metadata": {},
   "source": [
    "### 5. Performance evaluation\n",
    "\n",
    "Now that we have our two best performing models, let's try them on data the models have never seen. Normally we couldn't \"check\" to see how well we labeled our unlabeled data, because they are... unlabeled. But for this example we actually can do that because in all of our data we know who actually is a Democrat or Republican. Split the unlabeled dataset into X_test and y_test. \n",
    "\n",
    "Fit the best models with the labeled data.\n",
    "\n",
    "1. Plot a confusion-matrix for the best performing RandomForest and the best performing Lasso. Scikit-learn's `plot_confusion_matrix` can do this for you. \n",
    "2. Compute accuracy, precision, recall, and f1 for each best performing model. Compute predicted y and then use `classification_report` to get the performance scores. \n",
    "3. Compute the AUC-score (area-under-the-curve) and plot the ROC-curve for each model. Code is provided. \n",
    "\n",
    "Which method performs best?\n"
   ]
  },
  {
   "cell_type": "code",
   "execution_count": 111,
   "metadata": {},
   "outputs": [],
   "source": [
    "sns.set_style(\"white\")"
   ]
  },
  {
   "cell_type": "code",
   "execution_count": 112,
   "metadata": {},
   "outputs": [],
   "source": [
    "#Splitting unlabeled features into X and y\n",
    "Xnew = unlabeled['text_stemmed']\n",
    "ynew = unlabeled['democrat'].values\n"
   ]
  },
  {
   "cell_type": "markdown",
   "metadata": {},
   "source": [
    "#### Confusion matrices"
   ]
  },
  {
   "cell_type": "code",
   "execution_count": 113,
   "metadata": {},
   "outputs": [
    {
     "name": "stdout",
     "output_type": "stream",
     "text": [
      "Accuracy and confusion matrix for best RandomForestClassifier\n",
      "0.9633333333333334\n"
     ]
    },
    {
     "data": {
      "image/png": "[encoded data removed]",
      "text/plain": [
       "<Figure size 432x288 with 2 Axes>"
      ]
     },
     "metadata": {},
     "output_type": "display_data"
    }
   ],
   "source": [
    "print('Accuracy and confusion matrix for best RandomForestClassifier')\n",
    "\n",
    "#Fitting the best model with the labeled dataset\n",
    "bestforest.fit(X, y)\n",
    "\n",
    "#Getting the accuracy score\n",
    "print(bestforest.score(Xnew, ynew))\n",
    "\n",
    "#Confusion matrix RandomForest \n",
    "plot_confusion_matrix(bestforest, Xnew, ynew)  \n",
    "plt.show()"
   ]
  },
  {
   "cell_type": "code",
   "execution_count": 114,
   "metadata": {},
   "outputs": [
    {
     "name": "stdout",
     "output_type": "stream",
     "text": [
      "Accuracy and confusion matrix for best Lasso\n",
      "0.9133333333333333\n"
     ]
    },
    {
     "data": {
      "image/png": "[encoded data removed]",
      "text/plain": [
       "<Figure size 432x288 with 2 Axes>"
      ]
     },
     "metadata": {},
     "output_type": "display_data"
    }
   ],
   "source": [
    "print('Accuracy and confusion matrix for best Lasso')\n",
    "\n",
    "#Fitting the best model with the labeled dataset\n",
    "bestlasso.fit(X, y)\n",
    "\n",
    "#Getting the accuracy score\n",
    "print(bestlasso.score(Xnew, ynew))\n",
    "\n",
    "#Confusion matrix Lasso \n",
    "plot_confusion_matrix(bestlasso, Xnew, ynew)  \n",
    "plt.show()"
   ]
  },
  {
   "cell_type": "markdown",
   "metadata": {},
   "source": [
    "#### Accuracy, precision, recall, and f1-score"
   ]
  },
  {
   "cell_type": "code",
   "execution_count": 115,
   "metadata": {},
   "outputs": [
    {
     "name": "stdout",
     "output_type": "stream",
     "text": [
      "              precision    recall  f1-score   support\n",
      "\n",
      "           0       0.99      0.94      0.96       154\n",
      "           1       0.94      0.99      0.96       146\n",
      "\n",
      "    accuracy                           0.96       300\n",
      "   macro avg       0.96      0.96      0.96       300\n",
      "weighted avg       0.97      0.96      0.96       300\n",
      "\n"
     ]
    }
   ],
   "source": [
    "#Getting predicted values with RandomForest\n",
    "ypred = bestforest.predict(Xnew)\n",
    "\n",
    "#Getting classification report for RandomForest\n",
    "print(classification_report(ypred,ynew))"
   ]
  },
  {
   "cell_type": "code",
   "execution_count": 116,
   "metadata": {},
   "outputs": [
    {
     "name": "stdout",
     "output_type": "stream",
     "text": [
      "              precision    recall  f1-score   support\n",
      "\n",
      "           0       0.91      0.91      0.91       145\n",
      "           1       0.92      0.92      0.92       155\n",
      "\n",
      "    accuracy                           0.91       300\n",
      "   macro avg       0.91      0.91      0.91       300\n",
      "weighted avg       0.91      0.91      0.91       300\n",
      "\n"
     ]
    }
   ],
   "source": [
    "#Getting predicted values with Lasso\n",
    "ypred = bestlasso.predict(Xnew)\n",
    "\n",
    "#Getting classification report for Lasso\n",
    "print(classification_report(ypred,ynew))"
   ]
  },
  {
   "cell_type": "markdown",
   "metadata": {},
   "source": [
    "#### AUC-score and ROC curve\n",
    "\n",
    "For this, we are borrowing code from the documentation: https://scikit-learn.org/stable/auto_examples/model_selection/plot_roc.html \n",
    "\n",
    "Just fill in the blanks. "
   ]
  },
  {
   "cell_type": "code",
   "execution_count": 136,
   "metadata": {},
   "outputs": [],
   "source": [
    "#We have a binary classification - therefore, 2 classes\n",
    "n_classes = 2\n",
    "\n",
    "#Defining dictionaries to save scores for each class\n",
    "fpr = dict() #Increasing false positive rates\n",
    "tpr = dict() #Increasing true positive rates\n",
    "roc_auc = dict() #AUC-score\n",
    "\n",
    "#The predicted probabilities based on the unseen data - fill in here.\n",
    "probs = bestforest.predict_proba(Xnew)\n",
    "\n",
    "#For each class, fill in dictionaries with values\n",
    "for i in range(n_classes):\n",
    "    fpr[i], tpr[i], threshold = roc_curve(ynew, probs[:, i]) #Using scikit-learn's roc_curve function to get values\n",
    "    roc_auc[i] = auc(fpr[i], tpr[i]) #Using scikit-learn's auc function to get the auc-score\n"
   ]
  },
  {
   "cell_type": "code",
   "execution_count": 137,
   "metadata": {},
   "outputs": [
    {
     "data": {
      "image/png": "[encoded data removed]",
      "text/plain": [
       "<Figure size 432x288 with 1 Axes>"
      ]
     },
     "metadata": {},
     "output_type": "display_data"
    }
   ],
   "source": [
    "plt.figure()\n",
    "\n",
    "#Setting linewidth\n",
    "lw = 2\n",
    "\n",
    "#Plotting the ROC-curve for class 1 (aka prediction of Democrat) with AUC-score as the legend\n",
    "plt.plot(fpr[1], tpr[1], color='darkorange', lw=lw, label='ROC curve (area = %0.5f)' % roc_auc[1])\n",
    "\n",
    "#Plotting the 'no skill' line, i.e. the line predicting 0 and 1 equally\n",
    "plt.plot([0, 1], [0, 1], color='navy', lw=lw, linestyle='--')\n",
    "\n",
    "#Adding embellishments ;) \n",
    "plt.title('ROC-curve for RandomForestClassifier')\n",
    "plt.xlabel('False Positive Rate')\n",
    "plt.ylabel('True Positive Rate')\n",
    "\n",
    "#Plotting AUC-score as legend\n",
    "plt.legend(loc=\"lower right\")\n",
    "\n",
    "plt.show()\n"
   ]
  },
  {
   "cell_type": "code",
   "execution_count": 133,
   "metadata": {},
   "outputs": [],
   "source": [
    "#Repeating above steps for Lasso \n",
    "\n",
    "n_classes = 2\n",
    "\n",
    "fpr = dict()\n",
    "tpr = dict()\n",
    "roc_auc = dict()\n",
    "\n",
    "probs = bestlasso.predict_proba(Xnew)\n",
    "\n",
    "for i in range(n_classes):\n",
    "    fpr[i], tpr[i], threshold = roc_curve(ynew, probs[:, i])\n",
    "    roc_auc[i] = auc(fpr[i], tpr[i])\n",
    "    "
   ]
  },
  {
   "cell_type": "code",
   "execution_count": 134,
   "metadata": {},
   "outputs": [
    {
     "data": {
      "image/png": "[encoded data removed]",
      "text/plain": [
       "<Figure size 432x288 with 1 Axes>"
      ]
     },
     "metadata": {},
     "output_type": "display_data"
    }
   ],
   "source": [
    "#Plotting the ROC-curve and AUC-score for Lasso\n",
    "\n",
    "plt.figure()\n",
    "\n",
    "lw = 2\n",
    "\n",
    "plt.plot(fpr[1], tpr[1], color='darkorange', lw=lw, label='ROC curve (area = %0.5f)' % roc_auc[1])\n",
    "\n",
    "plt.plot([0, 1], [0, 1], color='navy', lw=lw, linestyle='--')\n",
    "\n",
    "plt.title('ROC-curve for Lasso')\n",
    "plt.xlabel('False Positive Rate')\n",
    "plt.ylabel('True Positive Rate')\n",
    "\n",
    "plt.legend(loc=\"lower right\")\n",
    "\n",
    "plt.show()"
   ]
  },
  {
   "cell_type": "markdown",
   "metadata": {},
   "source": [
    "### Interpreting feature important for prediction\n",
    "\n",
    "Hooray, RandomForestClassifier is the best model! \n",
    "\n",
    "To see which features were important for prediction, extract the feature importances from the best performing model using `model.named_steps['insert pipeline step'].feature_importances_`. \n",
    "\n",
    "Combining these with `model.named_steps['insert pipeline step'].get_feature_names()` from the vectorizer, find the 20 most important words for prediction. \n",
    "\n",
    "Does it qualitatively make sense to you that these are the most important words to predict Democrats vs. Republicans from tweet text? \n",
    "\n",
    "If you have time, plot the 10 largest feature importances with `sns.barplot`. \n",
    "\n",
    "Hint: This can be solved similarly to the way the largest beta values and associated words were extracted in the topic modelling exercise. \n",
    "\n",
    "Optional: The most impactful coefficients can also be extracted from Lasso, in a similar way. Just remember to extract the 20 largest coefficients in *absolute* value. "
   ]
  },
  {
   "cell_type": "markdown",
   "metadata": {},
   "source": [
    "#### Extracting feature importances from RandomForest classifier"
   ]
  },
  {
   "cell_type": "code",
   "execution_count": 138,
   "metadata": {},
   "outputs": [
    {
     "data": {
      "text/plain": [
       "(18422,)"
      ]
     },
     "execution_count": 138,
     "metadata": {},
     "output_type": "execute_result"
    }
   ],
   "source": [
    "#Getting the feature names \n",
    "feature_names = np.array(bestforest.named_steps[\"vect\"].get_feature_names())\n",
    "feature_names.shape\n"
   ]
  },
  {
   "cell_type": "code",
   "execution_count": 140,
   "metadata": {},
   "outputs": [
    {
     "data": {
      "text/plain": [
       "(18422,)"
      ]
     },
     "execution_count": 140,
     "metadata": {},
     "output_type": "execute_result"
    }
   ],
   "source": [
    "#Getting the feature importances\n",
    "feat_importances = bestforest.named_steps['rf'].feature_importances_\n",
    "feat_importances.shape\n"
   ]
  },
  {
   "cell_type": "code",
   "execution_count": 141,
   "metadata": {},
   "outputs": [],
   "source": [
    "#Creating a dataframe of feature names and importances \n",
    "\n",
    "#np.vstack stacks to arrays vertically on top of each other. \n",
    "#.T transposes the 2D array so feature names and importances become columns\n",
    "\n",
    "feature_importance = pd.DataFrame(np.vstack((feature_names, feat_importances)).T, \n",
    "                                  columns = ['feat_name', 'feat_importance'])\n"
   ]
  },
  {
   "cell_type": "code",
   "execution_count": 142,
   "metadata": {},
   "outputs": [],
   "source": [
    "#feat_importance are strings. Converting to float. \n",
    "feature_importance['feat_importance'] = feature_importance['feat_importance'].astype(float)"
   ]
  },
  {
   "cell_type": "code",
   "execution_count": 144,
   "metadata": {},
   "outputs": [
    {
     "data": {
      "text/html": [
       "<div>\n",
       "<style scoped>\n",
       "    .dataframe tbody tr th:only-of-type {\n",
       "        vertical-align: middle;\n",
       "    }\n",
       "\n",
       "    .dataframe tbody tr th {\n",
       "        vertical-align: top;\n",
       "    }\n",
       "\n",
       "    .dataframe thead th {\n",
       "        text-align: right;\n",
       "    }\n",
       "</style>\n",
       "<table border=\"1\" class=\"dataframe\">\n",
       "  <thead>\n",
       "    <tr style=\"text-align: right;\">\n",
       "      <th></th>\n",
       "      <th>feat_name</th>\n",
       "      <th>feat_importance</th>\n",
       "    </tr>\n",
       "  </thead>\n",
       "  <tbody>\n",
       "    <tr>\n",
       "      <th>243</th>\n",
       "      <td>#protectourcar</td>\n",
       "      <td>0.036095</td>\n",
       "    </tr>\n",
       "    <tr>\n",
       "      <th>6895</th>\n",
       "      <td>gun</td>\n",
       "      <td>0.032788</td>\n",
       "    </tr>\n",
       "    <tr>\n",
       "      <th>16746</th>\n",
       "      <td>violenc</td>\n",
       "      <td>0.029689</td>\n",
       "    </tr>\n",
       "    <tr>\n",
       "      <th>9802</th>\n",
       "      <td>mcconnel</td>\n",
       "      <td>0.028258</td>\n",
       "    </tr>\n",
       "    <tr>\n",
       "      <th>2885</th>\n",
       "      <td>climat</td>\n",
       "      <td>0.026657</td>\n",
       "    </tr>\n",
       "    <tr>\n",
       "      <th>9188</th>\n",
       "      <td>lgbtq</td>\n",
       "      <td>0.024325</td>\n",
       "    </tr>\n",
       "    <tr>\n",
       "      <th>6906</th>\n",
       "      <td>gun violenc</td>\n",
       "      <td>0.022052</td>\n",
       "    </tr>\n",
       "    <tr>\n",
       "      <th>344</th>\n",
       "      <td>#vawa</td>\n",
       "      <td>0.019982</td>\n",
       "    </tr>\n",
       "    <tr>\n",
       "      <th>71</th>\n",
       "      <td>#endgunviol</td>\n",
       "      <td>0.018973</td>\n",
       "    </tr>\n",
       "    <tr>\n",
       "      <th>5260</th>\n",
       "      <td>equal</td>\n",
       "      <td>0.017902</td>\n",
       "    </tr>\n",
       "    <tr>\n",
       "      <th>261</th>\n",
       "      <td>#raisethewag</td>\n",
       "      <td>0.017131</td>\n",
       "    </tr>\n",
       "    <tr>\n",
       "      <th>78</th>\n",
       "      <td>#equalityact</td>\n",
       "      <td>0.016860</td>\n",
       "    </tr>\n",
       "    <tr>\n",
       "      <th>16365</th>\n",
       "      <td>univers background</td>\n",
       "      <td>0.013665</td>\n",
       "    </tr>\n",
       "    <tr>\n",
       "      <th>1991</th>\n",
       "      <td>bipartisan background</td>\n",
       "      <td>0.013172</td>\n",
       "    </tr>\n",
       "    <tr>\n",
       "      <th>2129</th>\n",
       "      <td>born aliv</td>\n",
       "      <td>0.012280</td>\n",
       "    </tr>\n",
       "    <tr>\n",
       "      <th>1642</th>\n",
       "      <td>background check</td>\n",
       "      <td>0.011905</td>\n",
       "    </tr>\n",
       "    <tr>\n",
       "      <th>31</th>\n",
       "      <td>#climateactionnow</td>\n",
       "      <td>0.011299</td>\n",
       "    </tr>\n",
       "    <tr>\n",
       "      <th>824</th>\n",
       "      <td>afford</td>\n",
       "      <td>0.010054</td>\n",
       "    </tr>\n",
       "    <tr>\n",
       "      <th>13563</th>\n",
       "      <td>schiff</td>\n",
       "      <td>0.008550</td>\n",
       "    </tr>\n",
       "    <tr>\n",
       "      <th>44</th>\n",
       "      <td>#daca</td>\n",
       "      <td>0.008380</td>\n",
       "    </tr>\n",
       "  </tbody>\n",
       "</table>\n",
       "</div>"
      ],
      "text/plain": [
       "                   feat_name  feat_importance\n",
       "243           #protectourcar         0.036095\n",
       "6895                     gun         0.032788\n",
       "16746                violenc         0.029689\n",
       "9802                mcconnel         0.028258\n",
       "2885                  climat         0.026657\n",
       "9188                   lgbtq         0.024325\n",
       "6906             gun violenc         0.022052\n",
       "344                    #vawa         0.019982\n",
       "71               #endgunviol         0.018973\n",
       "5260                   equal         0.017902\n",
       "261             #raisethewag         0.017131\n",
       "78              #equalityact         0.016860\n",
       "16365     univers background         0.013665\n",
       "1991   bipartisan background         0.013172\n",
       "2129               born aliv         0.012280\n",
       "1642        background check         0.011905\n",
       "31         #climateactionnow         0.011299\n",
       "824                   afford         0.010054\n",
       "13563                 schiff         0.008550\n",
       "44                     #daca         0.008380"
      ]
     },
     "execution_count": 144,
     "metadata": {},
     "output_type": "execute_result"
    }
   ],
   "source": [
    "#Viewing the top 20 features \n",
    "feature_importance.nlargest(20, 'feat_importance')\n"
   ]
  },
  {
   "cell_type": "code",
   "execution_count": 88,
   "metadata": {},
   "outputs": [
    {
     "data": {
      "image/png": "[encoded data removed]",
      "text/plain": [
       "<Figure size 720x432 with 1 Axes>"
      ]
     },
     "metadata": {
      "needs_background": "light"
     },
     "output_type": "display_data"
    }
   ],
   "source": [
    "#Plotting the top 20 features in a barplot\n",
    "\n",
    "plt.figure(figsize = (10,6))\n",
    "\n",
    "sns.barplot(x = 'feat_importance',\n",
    "            y = 'feat_name',\n",
    "            data = feature_importance.nlargest(20, 'feat_importance'))\n",
    "\n",
    "plt.title('Top 20 features for prediction in RandomForest', fontsize = 14);\n"
   ]
  },
  {
   "cell_type": "markdown",
   "metadata": {},
   "source": [
    "#### Extracting coefficients from Lasso"
   ]
  },
  {
   "cell_type": "code",
   "execution_count": 70,
   "metadata": {},
   "outputs": [],
   "source": [
    "#Creating a dataframe with lasso coefficients (similar to above)\n",
    "lasso_coefs = pd.DataFrame(np.vstack((feature_names, bestlasso.named_steps['lasso'].coef_)).T, \n",
    "                                  columns = ['feat_name', 'coef'])\n"
   ]
  },
  {
   "cell_type": "code",
   "execution_count": 74,
   "metadata": {},
   "outputs": [],
   "source": [
    "#Converting column values from string type to float\n",
    "lasso_coefs['coef'] = lasso_coefs['coef'].astype(float)"
   ]
  },
  {
   "cell_type": "code",
   "execution_count": 89,
   "metadata": {},
   "outputs": [],
   "source": [
    "#Sort the features by the absolute value of their coefficient\n",
    "\n",
    "#Creating a column for absolute values\n",
    "lasso_coefs[\"abs_value\"] = lasso_coefs[\"coef\"].apply(lambda x: abs(x))\n",
    "\n",
    "#Creating a column of colors, based on whether the coefficient is positive or negative \n",
    "#(This step is not necessary - just for nice visualization)\n",
    "lasso_coefs[\"colors\"] = lasso_coefs[\"coef\"].apply(lambda x: \"green\" if x > 0 else \"red\")\n",
    "\n",
    "#Sorting the dataframe based on the absolute value column\n",
    "lasso_coefs = lasso_coefs.sort_values(\"abs_value\", ascending=False)\n"
   ]
  },
  {
   "cell_type": "code",
   "execution_count": 91,
   "metadata": {},
   "outputs": [
    {
     "data": {
      "text/html": [
       "<div>\n",
       "<style scoped>\n",
       "    .dataframe tbody tr th:only-of-type {\n",
       "        vertical-align: middle;\n",
       "    }\n",
       "\n",
       "    .dataframe tbody tr th {\n",
       "        vertical-align: top;\n",
       "    }\n",
       "\n",
       "    .dataframe thead th {\n",
       "        text-align: right;\n",
       "    }\n",
       "</style>\n",
       "<table border=\"1\" class=\"dataframe\">\n",
       "  <thead>\n",
       "    <tr style=\"text-align: right;\">\n",
       "      <th></th>\n",
       "      <th>feat_name</th>\n",
       "      <th>coef</th>\n",
       "      <th>abs_value</th>\n",
       "      <th>colors</th>\n",
       "    </tr>\n",
       "  </thead>\n",
       "  <tbody>\n",
       "    <tr>\n",
       "      <th>4301</th>\n",
       "      <td>democrat</td>\n",
       "      <td>-22.749740</td>\n",
       "      <td>22.749740</td>\n",
       "      <td>red</td>\n",
       "    </tr>\n",
       "    <tr>\n",
       "      <th>6895</th>\n",
       "      <td>gun</td>\n",
       "      <td>21.898168</td>\n",
       "      <td>21.898168</td>\n",
       "      <td>green</td>\n",
       "    </tr>\n",
       "    <tr>\n",
       "      <th>16099</th>\n",
       "      <td>trump</td>\n",
       "      <td>15.707776</td>\n",
       "      <td>15.707776</td>\n",
       "      <td>green</td>\n",
       "    </tr>\n",
       "    <tr>\n",
       "      <th>16827</th>\n",
       "      <td>vote</td>\n",
       "      <td>12.077867</td>\n",
       "      <td>12.077867</td>\n",
       "      <td>green</td>\n",
       "    </tr>\n",
       "    <tr>\n",
       "      <th>6760</th>\n",
       "      <td>great</td>\n",
       "      <td>-11.450645</td>\n",
       "      <td>11.450645</td>\n",
       "      <td>red</td>\n",
       "    </tr>\n",
       "    <tr>\n",
       "      <th>17447</th>\n",
       "      <td>work</td>\n",
       "      <td>8.838976</td>\n",
       "      <td>8.838976</td>\n",
       "      <td>green</td>\n",
       "    </tr>\n",
       "    <tr>\n",
       "      <th>11241</th>\n",
       "      <td>pass</td>\n",
       "      <td>8.443103</td>\n",
       "      <td>8.443103</td>\n",
       "      <td>green</td>\n",
       "    </tr>\n",
       "    <tr>\n",
       "      <th>550</th>\n",
       "      <td>act</td>\n",
       "      <td>5.277163</td>\n",
       "      <td>5.277163</td>\n",
       "      <td>green</td>\n",
       "    </tr>\n",
       "    <tr>\n",
       "      <th>13183</th>\n",
       "      <td>right</td>\n",
       "      <td>4.464885</td>\n",
       "      <td>4.464885</td>\n",
       "      <td>green</td>\n",
       "    </tr>\n",
       "    <tr>\n",
       "      <th>18333</th>\n",
       "      <td>️</td>\n",
       "      <td>-4.067177</td>\n",
       "      <td>4.067177</td>\n",
       "      <td>red</td>\n",
       "    </tr>\n",
       "    <tr>\n",
       "      <th>14492</th>\n",
       "      <td>state</td>\n",
       "      <td>-3.464467</td>\n",
       "      <td>3.464467</td>\n",
       "      <td>red</td>\n",
       "    </tr>\n",
       "    <tr>\n",
       "      <th>3126</th>\n",
       "      <td>commun</td>\n",
       "      <td>3.377018</td>\n",
       "      <td>3.377018</td>\n",
       "      <td>green</td>\n",
       "    </tr>\n",
       "    <tr>\n",
       "      <th>824</th>\n",
       "      <td>afford</td>\n",
       "      <td>3.198989</td>\n",
       "      <td>3.198989</td>\n",
       "      <td>green</td>\n",
       "    </tr>\n",
       "    <tr>\n",
       "      <th>16643</th>\n",
       "      <td>valley</td>\n",
       "      <td>-2.703312</td>\n",
       "      <td>2.703312</td>\n",
       "      <td>red</td>\n",
       "    </tr>\n",
       "    <tr>\n",
       "      <th>8349</th>\n",
       "      <td>iowa</td>\n",
       "      <td>2.591589</td>\n",
       "      <td>2.591589</td>\n",
       "      <td>green</td>\n",
       "    </tr>\n",
       "    <tr>\n",
       "      <th>8483</th>\n",
       "      <td>job</td>\n",
       "      <td>-2.567474</td>\n",
       "      <td>2.567474</td>\n",
       "      <td>red</td>\n",
       "    </tr>\n",
       "    <tr>\n",
       "      <th>7053</th>\n",
       "      <td>hawaii</td>\n",
       "      <td>2.264874</td>\n",
       "      <td>2.264874</td>\n",
       "      <td>green</td>\n",
       "    </tr>\n",
       "    <tr>\n",
       "      <th>8099</th>\n",
       "      <td>indiana</td>\n",
       "      <td>-2.260833</td>\n",
       "      <td>2.260833</td>\n",
       "      <td>red</td>\n",
       "    </tr>\n",
       "    <tr>\n",
       "      <th>7073</th>\n",
       "      <td>health</td>\n",
       "      <td>2.009028</td>\n",
       "      <td>2.009028</td>\n",
       "      <td>green</td>\n",
       "    </tr>\n",
       "    <tr>\n",
       "      <th>5597</th>\n",
       "      <td>famili</td>\n",
       "      <td>1.989315</td>\n",
       "      <td>1.989315</td>\n",
       "      <td>green</td>\n",
       "    </tr>\n",
       "  </tbody>\n",
       "</table>\n",
       "</div>"
      ],
      "text/plain": [
       "      feat_name       coef  abs_value colors\n",
       "4301   democrat -22.749740  22.749740    red\n",
       "6895        gun  21.898168  21.898168  green\n",
       "16099     trump  15.707776  15.707776  green\n",
       "16827      vote  12.077867  12.077867  green\n",
       "6760      great -11.450645  11.450645    red\n",
       "17447      work   8.838976   8.838976  green\n",
       "11241      pass   8.443103   8.443103  green\n",
       "550         act   5.277163   5.277163  green\n",
       "13183     right   4.464885   4.464885  green\n",
       "18333         ️  -4.067177   4.067177    red\n",
       "14492     state  -3.464467   3.464467    red\n",
       "3126     commun   3.377018   3.377018  green\n",
       "824      afford   3.198989   3.198989  green\n",
       "16643    valley  -2.703312   2.703312    red\n",
       "8349       iowa   2.591589   2.591589  green\n",
       "8483        job  -2.567474   2.567474    red\n",
       "7053     hawaii   2.264874   2.264874  green\n",
       "8099    indiana  -2.260833   2.260833    red\n",
       "7073     health   2.009028   2.009028  green\n",
       "5597     famili   1.989315   1.989315  green"
      ]
     },
     "execution_count": 91,
     "metadata": {},
     "output_type": "execute_result"
    }
   ],
   "source": [
    "#Viewing the top 20 most impactful coefficients\n",
    "lasso_coefs[:20]"
   ]
  },
  {
   "cell_type": "code",
   "execution_count": 146,
   "metadata": {},
   "outputs": [
    {
     "name": "stderr",
     "output_type": "stream",
     "text": [
      "/opt/anaconda3/lib/python3.8/site-packages/matplotlib/backends/backend_agg.py:238: RuntimeWarning: Glyph 65039 missing from current font.\n",
      "  font.set_text(s, 0.0, flags=flags)\n",
      "/opt/anaconda3/lib/python3.8/site-packages/matplotlib/backends/backend_agg.py:201: RuntimeWarning: Glyph 65039 missing from current font.\n",
      "  font.set_text(s, 0, flags=flags)\n"
     ]
    },
    {
     "data": {
      "image/png": "[encoded data removed]",
      "text/plain": [
       "<Figure size 720x432 with 1 Axes>"
      ]
     },
     "metadata": {},
     "output_type": "display_data"
    }
   ],
   "source": [
    "sns.set_style('whitegrid')\n",
    "\n",
    "#Plotting the top 20 most impactful coefficients \n",
    "plt.figure(figsize = (10,6))\n",
    "\n",
    "sns.barplot(x = 'coef',y = 'feat_name', data = lasso_coefs[:20], palette = lasso_coefs[:20].colors)\n",
    "plt.title('Top 20 coefficients in Lasso regression', fontsize = 14);\n"
   ]
  },
  {
   "cell_type": "code",
   "execution_count": null,
   "metadata": {},
   "outputs": [],
   "source": []
  }
 ],
 "metadata": {
  "kernelspec": {
   "display_name": "Python 3",
   "language": "python",
   "name": "python3"
  },
  "language_info": {
   "codemirror_mode": {
    "name": "ipython",
    "version": 3
   },
   "file_extension": ".py",
   "mimetype": "text/x-python",
   "name": "python",
   "nbconvert_exporter": "python",
   "pygments_lexer": "ipython3",
   "version": "3.8.3"
  }
 },
 "nbformat": 4,
 "nbformat_minor": 4
}
